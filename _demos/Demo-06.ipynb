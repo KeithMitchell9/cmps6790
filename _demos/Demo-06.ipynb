{
 "cells": [
  {
   "cell_type": "markdown",
   "metadata": {
    "id": "LrWe-YgVjbHZ"
   },
   "source": [
    "# Demo 06 - Merge, Join, and SQL\n",
    "\n",
    "In this demo we will first see how to do merges and joins in Pandas and then try them with an instance of SQLite"
   ]
  },
  {
   "cell_type": "code",
   "execution_count": null,
   "metadata": {},
   "outputs": [],
   "source": [
    "# Only run in COLAB!\n",
    "# clone the course repository, change to right directory, and import libraries.\n",
    "%cd /content\n",
    "!git clone https://github.com/nmattei/cmps6790.git\n",
    "%cd /content/cmps6790/_demos"
   ]
  },
  {
   "cell_type": "code",
   "execution_count": null,
   "metadata": {
    "colab": {
     "base_uri": "https://localhost:8080/"
    },
    "executionInfo": {
     "elapsed": 9258,
     "status": "ok",
     "timestamp": 1691183738921,
     "user": {
      "displayName": "Aron C",
      "userId": "07834910496055545653"
     },
     "user_tz": 300
    },
    "id": "5abxGMmZjbHc",
    "outputId": "9a83ba5c-e018-4eba-a527-bcfa541c50a5"
   },
   "outputs": [],
   "source": [
    "import pandas as pd\n",
    "import numpy as np\n",
    "import matplotlib.pyplot as plt\n",
    "import seaborn as sns\n",
    "plt.style.use('fivethirtyeight')\n",
    "# Make the fonts a little bigger in our graphs.\n",
    "font = {'size'   : 20}\n",
    "plt.rc('font', **font)\n",
    "plt.rcParams['mathtext.fontset'] = 'cm'\n",
    "plt.rcParams['pdf.fonttype'] = 42"
   ]
  },
  {
   "cell_type": "markdown",
   "metadata": {
    "id": "YEFDZkaJjbHh"
   },
   "source": [
    "## Joins in Pandas\n",
    "\n",
    "Let's see a few [joins in Pandas](https://pandas.pydata.org/pandas-docs/stable/reference/api/pandas.DataFrame.join.html) and how to execute them.\n",
    "\n",
    "**Note:** We can also use the [merge command in pandas](https://pandas.pydata.org/pandas-docs/stable/reference/api/pandas.DataFrame.merge.html) to joins as well.  We'll explore this more fully in the lab.  The key idea is that merge let's us pick columns to do the merge/join while join will always join on the index."
   ]
  },
  {
   "cell_type": "code",
   "execution_count": null,
   "metadata": {
    "colab": {
     "base_uri": "https://localhost:8080/",
     "height": 394
    },
    "executionInfo": {
     "elapsed": 15,
     "status": "ok",
     "timestamp": 1691183738922,
     "user": {
      "displayName": "Aron C",
      "userId": "07834910496055545653"
     },
     "user_tz": 300
    },
    "id": "8kupc9x1jbHi",
    "outputId": "e6fe11fc-b4d1-446d-a2da-893318af9382"
   },
   "outputs": [],
   "source": [
    "# Careful here! We have to set the index!\n",
    "\n",
    "df1 = pd.DataFrame([(1, 'foo', 3),\n",
    "                    (2, 'bar', 2),\n",
    "                    (3, 'foo', 4),\n",
    "                    (4, 'foo', 3)],\n",
    "                  columns=['ID','A', 'B'])\n",
    "df1.set_index('ID', inplace=True)\n",
    "display(df1)\n",
    "\n",
    "df2 = pd.DataFrame([(1, 1.2), (2, 2.5), (3, 2.3), (5, 8.0)],\n",
    "                   columns=['ID','C'])\n",
    "df2.set_index('ID', inplace=True)\n",
    "display(df2)"
   ]
  },
  {
   "cell_type": "code",
   "execution_count": null,
   "metadata": {
    "colab": {
     "base_uri": "https://localhost:8080/",
     "height": 174
    },
    "executionInfo": {
     "elapsed": 11,
     "status": "ok",
     "timestamp": 1691183738923,
     "user": {
      "displayName": "Aron C",
      "userId": "07834910496055545653"
     },
     "user_tz": 300
    },
    "id": "edUC07r6jbHj",
    "outputId": "8917cf7d-0bda-4372-9af0-645047353fb1"
   },
   "outputs": [],
   "source": [
    "# Inner join\n",
    "df1.join(df2, how='inner')"
   ]
  },
  {
   "cell_type": "code",
   "execution_count": null,
   "metadata": {
    "colab": {
     "base_uri": "https://localhost:8080/",
     "height": 206
    },
    "executionInfo": {
     "elapsed": 295,
     "status": "ok",
     "timestamp": 1691183739210,
     "user": {
      "displayName": "Aron C",
      "userId": "07834910496055545653"
     },
     "user_tz": 300
    },
    "id": "ZKYcOx03jbHk",
    "outputId": "a7b28adc-1521-4d37-aec5-78037ed47759"
   },
   "outputs": [],
   "source": [
    "# Can do inner, outer, left, right.\n",
    "df1.join(df2, how='right')"
   ]
  },
  {
   "cell_type": "markdown",
   "metadata": {
    "id": "WRCUHskgjbHl"
   },
   "source": [
    "If we don't have the same column names we can tell Pandas that we want to join on a specific column."
   ]
  },
  {
   "cell_type": "code",
   "execution_count": null,
   "metadata": {
    "colab": {
     "base_uri": "https://localhost:8080/",
     "height": 363
    },
    "executionInfo": {
     "elapsed": 23,
     "status": "ok",
     "timestamp": 1691183739211,
     "user": {
      "displayName": "Aron C",
      "userId": "07834910496055545653"
     },
     "user_tz": 300
    },
    "id": "VFinH0u0jbHl",
    "outputId": "12e232b4-3de2-4013-d3c2-cb948001d1df"
   },
   "outputs": [],
   "source": [
    "df1 = pd.DataFrame([(1, 'foo', 3), (2, 'bar', 2), (3, 'foo', 4), (4, 'foo', 3)],\n",
    "                  columns=['leftid','A', 'B'])\n",
    "display(df1)\n",
    "\n",
    "df2 = pd.DataFrame([(1, 1.2), (2, 2.5), (3, 2.3), (5, 8.0)],\n",
    "                   columns=['rightid','C'])\n",
    "df2.set_index('rightid', inplace=True)\n",
    "display(df2)"
   ]
  },
  {
   "cell_type": "code",
   "execution_count": null,
   "metadata": {
    "colab": {
     "base_uri": "https://localhost:8080/",
     "height": 143
    },
    "executionInfo": {
     "elapsed": 20,
     "status": "ok",
     "timestamp": 1691183739212,
     "user": {
      "displayName": "Aron C",
      "userId": "07834910496055545653"
     },
     "user_tz": 300
    },
    "id": "dqM6-F4sjbHn",
    "outputId": "e5ad3a97-1f47-4c0e-fdae-31d5c0ceb1f4"
   },
   "outputs": [],
   "source": [
    "# Inner join\n",
    "df1.join(df2, how='inner')\n",
    "# Is this what we wanted?!?!"
   ]
  },
  {
   "cell_type": "code",
   "execution_count": null,
   "metadata": {
    "colab": {
     "base_uri": "https://localhost:8080/",
     "height": 143
    },
    "executionInfo": {
     "elapsed": 19,
     "status": "ok",
     "timestamp": 1691183739213,
     "user": {
      "displayName": "Aron C",
      "userId": "07834910496055545653"
     },
     "user_tz": 300
    },
    "id": "eIxtsRTujbHn",
    "outputId": "9cb366cb-e33e-4cca-f416-47e294f937f5"
   },
   "outputs": [],
   "source": [
    "# We could have set the index but we can also tell Pandas to do it for us.\n",
    "df1.join(df2, how='inner', on='leftid')"
   ]
  },
  {
   "cell_type": "markdown",
   "metadata": {
    "id": "6dgFDz3zjbHo"
   },
   "source": [
    "## Pandas Merge\n",
    "\n",
    "Or we can skip all this foolishness by using the [pandas merge](https://pandas.pydata.org/pandas-docs/stable/reference/api/pandas.DataFrame.merge.html) command..."
   ]
  },
  {
   "cell_type": "code",
   "execution_count": null,
   "metadata": {
    "colab": {
     "base_uri": "https://localhost:8080/",
     "height": 332
    },
    "executionInfo": {
     "elapsed": 228,
     "status": "ok",
     "timestamp": 1691183739425,
     "user": {
      "displayName": "Aron C",
      "userId": "07834910496055545653"
     },
     "user_tz": 300
    },
    "id": "X1yBGX7rjbHo",
    "outputId": "45131d69-ccf9-434b-83f1-c35f1e627590"
   },
   "outputs": [],
   "source": [
    "df1 = pd.DataFrame([(1, 'foo', 3), (2, 'bar', 2), (3, 'foo', 4), (4, 'foo', 3)],\n",
    "                  columns=['ID','A', 'B'])\n",
    "display(df1)\n",
    "\n",
    "df2 = pd.DataFrame([(1, 1.2), (2, 2.5), (3, 2.3), (5, 8.0)],\n",
    "                   columns=['ID','C'])\n",
    "display(df2)"
   ]
  },
  {
   "cell_type": "code",
   "execution_count": null,
   "metadata": {
    "colab": {
     "base_uri": "https://localhost:8080/",
     "height": 143
    },
    "executionInfo": {
     "elapsed": 14,
     "status": "ok",
     "timestamp": 1691183739426,
     "user": {
      "displayName": "Aron C",
      "userId": "07834910496055545653"
     },
     "user_tz": 300
    },
    "id": "3wy6yEI6jbHp",
    "outputId": "da597344-cd5d-473c-f57b-8f43deab3b7b"
   },
   "outputs": [],
   "source": [
    "df1.merge(df2, left_on=\"ID\", right_on=\"ID\", how='inner')"
   ]
  },
  {
   "cell_type": "code",
   "execution_count": null,
   "metadata": {
    "colab": {
     "base_uri": "https://localhost:8080/",
     "height": 206
    },
    "executionInfo": {
     "elapsed": 13,
     "status": "ok",
     "timestamp": 1691183739427,
     "user": {
      "displayName": "Aron C",
      "userId": "07834910496055545653"
     },
     "user_tz": 300
    },
    "id": "3PZd-O4AjbHq",
    "outputId": "fbeb8f9b-a6d9-49c5-bc37-9a0067d6d9db"
   },
   "outputs": [],
   "source": [
    "df1.merge(df2, left_on=\"ID\", right_on=\"ID\", how='outer')"
   ]
  },
  {
   "cell_type": "code",
   "execution_count": null,
   "metadata": {
    "colab": {
     "base_uri": "https://localhost:8080/",
     "height": 174
    },
    "executionInfo": {
     "elapsed": 12,
     "status": "ok",
     "timestamp": 1691183739427,
     "user": {
      "displayName": "Aron C",
      "userId": "07834910496055545653"
     },
     "user_tz": 300
    },
    "id": "HvIiYWOSzDHO",
    "outputId": "ce9df39a-cb08-4c17-ee8b-cf1648cd8548"
   },
   "outputs": [],
   "source": [
    "df1.merge(df2, left_on=\"ID\", right_on=\"ID\", how='left')"
   ]
  },
  {
   "cell_type": "code",
   "execution_count": null,
   "metadata": {
    "colab": {
     "base_uri": "https://localhost:8080/",
     "height": 174
    },
    "executionInfo": {
     "elapsed": 244,
     "status": "ok",
     "timestamp": 1691183739660,
     "user": {
      "displayName": "Aron C",
      "userId": "07834910496055545653"
     },
     "user_tz": 300
    },
    "id": "0g54eVtQzFvr",
    "outputId": "1a1c5e56-4446-41ff-8cbf-09fcb322f287"
   },
   "outputs": [],
   "source": [
    "df1.merge(df2, left_on=\"ID\", right_on=\"ID\", how='right')"
   ]
  },
  {
   "cell_type": "markdown",
   "metadata": {
    "id": "1KgEVEoMjbHq"
   },
   "source": [
    "## Using SQL with SQLite!\n",
    "\n",
    "Helpful here is the [SQLite Cheat Sheet](https://www.sqlitetutorial.net/sqlite-cheat-sheet/) and [Python library](https://docs.python.org/3/library/sqlite3.html) documentation."
   ]
  },
  {
   "cell_type": "code",
   "execution_count": null,
   "metadata": {
    "executionInfo": {
     "elapsed": 6,
     "status": "ok",
     "timestamp": 1691183739661,
     "user": {
      "displayName": "Aron C",
      "userId": "07834910496055545653"
     },
     "user_tz": 300
    },
    "id": "eTnCkQUjjbHr"
   },
   "outputs": [],
   "source": [
    "import pandas as pd\n",
    "import sqlite3"
   ]
  },
  {
   "cell_type": "code",
   "execution_count": null,
   "metadata": {
    "colab": {
     "base_uri": "https://localhost:8080/"
    },
    "executionInfo": {
     "elapsed": 330,
     "status": "ok",
     "timestamp": 1691183739986,
     "user": {
      "displayName": "Aron C",
      "userId": "07834910496055545653"
     },
     "user_tz": 300
    },
    "id": "aRb5cBIYzgKs",
    "outputId": "34a38ccb-a95f-44db-98a0-0521bc30b6ab"
   },
   "outputs": [],
   "source": [
    "!pwd"
   ]
  },
  {
   "cell_type": "code",
   "execution_count": null,
   "metadata": {
    "executionInfo": {
     "elapsed": 8,
     "status": "ok",
     "timestamp": 1691183739986,
     "user": {
      "displayName": "Aron C",
      "userId": "07834910496055545653"
     },
     "user_tz": 300
    },
    "id": "G57tamrsjbHr"
   },
   "outputs": [],
   "source": [
    "# Create a DB and connect to it.\n",
    "# These creates a new file to store the database.\n",
    "conn = sqlite3.connect(\"lec09-n.db\")\n",
    "cursor = conn.cursor()"
   ]
  },
  {
   "cell_type": "code",
   "execution_count": null,
   "metadata": {
    "colab": {
     "base_uri": "https://localhost:8080/"
    },
    "executionInfo": {
     "elapsed": 8,
     "status": "ok",
     "timestamp": 1691183739987,
     "user": {
      "displayName": "Aron C",
      "userId": "07834910496055545653"
     },
     "user_tz": 300
    },
    "id": "6eLfugA2jbHr",
    "outputId": "de64b451-fc17-4704-bd3f-3a52915941d5"
   },
   "outputs": [],
   "source": [
    "cursor.execute('''\n",
    "CREATE TABLE cats (\n",
    "    cat_id INTEGER PRIMARY KEY,\n",
    "    name TEXT\n",
    ")''')\n"
   ]
  },
  {
   "cell_type": "code",
   "execution_count": null,
   "metadata": {
    "executionInfo": {
     "elapsed": 228,
     "status": "ok",
     "timestamp": 1691183740210,
     "user": {
      "displayName": "Aron C",
      "userId": "07834910496055545653"
     },
     "user_tz": 300
    },
    "id": "flPV69qCjbHr"
   },
   "outputs": [],
   "source": [
    "# Insert into the table\n",
    "cursor.execute('''INSERT INTO cats VALUES (1, \"Megabyte\")''')\n",
    "cursor.execute('''INSERT INTO cats VALUES (2, \"Meowly Cyrus\")''')\n",
    "cursor.execute('''INSERT INTO cats VALUES (3, \"Fuzz Aldrin\")''')\n",
    "cursor.execute('''INSERT INTO cats VALUES (4, \"Chairman Meow\")''')\n",
    "cursor.execute('''INSERT INTO cats VALUES (5, \"Anderson Pooper\")''')\n",
    "cursor.execute('''INSERT INTO cats VALUES (6, \"Gigabyte\")''')\n",
    "# Commit will update the database on disk with a set of changes.\n",
    "conn.commit()\n"
   ]
  },
  {
   "cell_type": "code",
   "execution_count": null,
   "metadata": {
    "colab": {
     "base_uri": "https://localhost:8080/"
    },
    "executionInfo": {
     "elapsed": 27,
     "status": "ok",
     "timestamp": 1691183740211,
     "user": {
      "displayName": "Aron C",
      "userId": "07834910496055545653"
     },
     "user_tz": 300
    },
    "id": "KCfxYXrKjbHs",
    "outputId": "3c865e01-c483-4816-e6f9-a7628b38133f"
   },
   "outputs": [],
   "source": [
    "# What if we run an SQL Command?\n",
    "cursor.execute('''SELECT * FROM cats''')"
   ]
  },
  {
   "cell_type": "code",
   "execution_count": null,
   "metadata": {
    "colab": {
     "base_uri": "https://localhost:8080/"
    },
    "executionInfo": {
     "elapsed": 26,
     "status": "ok",
     "timestamp": 1691183740212,
     "user": {
      "displayName": "Aron C",
      "userId": "07834910496055545653"
     },
     "user_tz": 300
    },
    "id": "ycWqBCzMjbHs",
    "outputId": "546c054e-8958-48f7-b218-9e09e6d7555a"
   },
   "outputs": [],
   "source": [
    "# We need to iterate over the object we get back...\n",
    "for row in cursor.execute('''SELECT * FROM cats'''):\n",
    "    print(row)"
   ]
  },
  {
   "cell_type": "code",
   "execution_count": null,
   "metadata": {
    "colab": {
     "base_uri": "https://localhost:8080/",
     "height": 268
    },
    "executionInfo": {
     "elapsed": 24,
     "status": "ok",
     "timestamp": 1691183740213,
     "user": {
      "displayName": "Aron C",
      "userId": "07834910496055545653"
     },
     "user_tz": 300
    },
    "id": "_n6PYMu4jbHs",
    "outputId": "e7d227cf-aa70-494d-c349-795c56771a21"
   },
   "outputs": [],
   "source": [
    "# Or we can just go to Pandas from here...\n",
    "# note that we can tell Pandas what to do for an index here.\n",
    "pd.read_sql_query(\"SELECT * FROM cats\", conn, index_col=\"cat_id\")"
   ]
  },
  {
   "cell_type": "code",
   "execution_count": null,
   "metadata": {
    "colab": {
     "base_uri": "https://localhost:8080/",
     "height": 237
    },
    "executionInfo": {
     "elapsed": 22,
     "status": "ok",
     "timestamp": 1691183740213,
     "user": {
      "displayName": "Aron C",
      "userId": "07834910496055545653"
     },
     "user_tz": 300
    },
    "id": "xnhPXcFw0OOP",
    "outputId": "63ef6995-c95f-4864-deb8-0c5864f878d0"
   },
   "outputs": [],
   "source": [
    "# This is a full up DB so we can delete stuff too..\n",
    "cursor.execute('''DELETE FROM cats WHERE cat_id == 4''')\n",
    "conn.commit()\n",
    "pd.read_sql_query(\"SELECT * FROM cats\", conn, index_col=\"cat_id\")"
   ]
  },
  {
   "cell_type": "code",
   "execution_count": null,
   "metadata": {
    "colab": {
     "base_uri": "https://localhost:8080/"
    },
    "executionInfo": {
     "elapsed": 22,
     "status": "ok",
     "timestamp": 1691183740214,
     "user": {
      "displayName": "Aron C",
      "userId": "07834910496055545653"
     },
     "user_tz": 300
    },
    "id": "9ehTQ_qNjbHs",
    "outputId": "34d89dc4-92ff-40a4-87d4-921f53e00ea0"
   },
   "outputs": [],
   "source": [
    "# Let's make another table for joins.\n",
    "cursor.execute('''\n",
    "CREATE TABLE visits (\n",
    "    visit_id INTEGER PRIMARY KEY,\n",
    "    date DATE,\n",
    "    cat_id INTEGER,\n",
    "    FOREIGN KEY(cat_id) REFERENCES cats(cat_id)\n",
    ")''')"
   ]
  },
  {
   "cell_type": "code",
   "execution_count": null,
   "metadata": {
    "executionInfo": {
     "elapsed": 19,
     "status": "ok",
     "timestamp": 1691183740215,
     "user": {
      "displayName": "Aron C",
      "userId": "07834910496055545653"
     },
     "user_tz": 300
    },
    "id": "m7w8B11pjbHt"
   },
   "outputs": [],
   "source": [
    "cursor.execute('''INSERT INTO visits VALUES (1, \"02-16-2017\", 1)''')\n",
    "cursor.execute('''INSERT INTO visits VALUES (2, \"02-14-2017\", 1)''')\n",
    "cursor.execute('''INSERT INTO visits VALUES (5, \"02-03-2017\", 2)''')\n",
    "conn.commit()"
   ]
  },
  {
   "cell_type": "code",
   "execution_count": null,
   "metadata": {
    "colab": {
     "base_uri": "https://localhost:8080/",
     "height": 174
    },
    "executionInfo": {
     "elapsed": 18,
     "status": "ok",
     "timestamp": 1691183740215,
     "user": {
      "displayName": "Aron C",
      "userId": "07834910496055545653"
     },
     "user_tz": 300
    },
    "id": "zWkoaGT-jbHt",
    "outputId": "355561d0-834d-4d74-fa87-d6a40a39948b"
   },
   "outputs": [],
   "source": [
    "# Check what we did...\n",
    "pd.read_sql_query(\"SELECT * FROM visits\", conn, index_col=\"visit_id\")"
   ]
  },
  {
   "cell_type": "markdown",
   "metadata": {
    "id": "2yHmSof7jbHt"
   },
   "source": [
    "# Joins in SQL\n",
    "\n",
    "Note that the SELECT command can give us an inner join by default and we don't have to use the keyword INNER JOIN."
   ]
  },
  {
   "cell_type": "code",
   "execution_count": null,
   "metadata": {
    "colab": {
     "base_uri": "https://localhost:8080/",
     "height": 332
    },
    "executionInfo": {
     "elapsed": 18,
     "status": "ok",
     "timestamp": 1691183740216,
     "user": {
      "displayName": "Aron C",
      "userId": "07834910496055545653"
     },
     "user_tz": 300
    },
    "id": "0cd9dCDmjbHt",
    "outputId": "3036c1c9-f7be-465a-8bcd-b605dec839c3"
   },
   "outputs": [],
   "source": [
    "# We can do our join in Pandas\n",
    "df_cats = pd.read_sql_query('''SELECT * from cats''', conn)\n",
    "display(df_cats)\n",
    "df_visits = pd.read_sql_query('''SELECT * from visits''', conn)\n",
    "display(df_visits)"
   ]
  },
  {
   "cell_type": "code",
   "execution_count": null,
   "metadata": {
    "colab": {
     "base_uri": "https://localhost:8080/",
     "height": 143
    },
    "executionInfo": {
     "elapsed": 230,
     "status": "ok",
     "timestamp": 1691183740430,
     "user": {
      "displayName": "Aron C",
      "userId": "07834910496055545653"
     },
     "user_tz": 300
    },
    "id": "gCeo0j04jbHt",
    "outputId": "e5f28845-8e4e-4437-bcfd-a3d24640e821"
   },
   "outputs": [],
   "source": [
    "# Here we bring down all the data then do our join..\n",
    "df_cats.merge(df_visits, how = \"inner\",\n",
    "              left_on = \"cat_id\", right_on = \"cat_id\")"
   ]
  },
  {
   "cell_type": "code",
   "execution_count": null,
   "metadata": {
    "colab": {
     "base_uri": "https://localhost:8080/"
    },
    "executionInfo": {
     "elapsed": 15,
     "status": "ok",
     "timestamp": 1691183740431,
     "user": {
      "displayName": "Aron C",
      "userId": "07834910496055545653"
     },
     "user_tz": 300
    },
    "id": "HJwyVkd7jbHt",
    "outputId": "32474068-02ec-4472-b52b-23d1e31e02b7"
   },
   "outputs": [],
   "source": [
    "# Or we can directly run them on the system\n",
    "\n",
    "result = cursor.execute('''\n",
    "               SELECT\n",
    "                   *\n",
    "               FROM\n",
    "                   cats, visits\n",
    "               WHERE\n",
    "                   cats.cat_id == visits.cat_id\n",
    "               ''')\n",
    "for i in result:\n",
    "    print(i)\n"
   ]
  },
  {
   "cell_type": "code",
   "execution_count": null,
   "metadata": {
    "colab": {
     "base_uri": "https://localhost:8080/"
    },
    "executionInfo": {
     "elapsed": 10,
     "status": "ok",
     "timestamp": 1691183740431,
     "user": {
      "displayName": "Aron C",
      "userId": "07834910496055545653"
     },
     "user_tz": 300
    },
    "id": "nRb1eguKjbHt",
    "outputId": "9ae0efc0-fcd0-40b2-d56f-b1dfa564d0b7"
   },
   "outputs": [],
   "source": [
    "# We can also use union to combine rows, even if it doesn't make sense.\n",
    "result = cursor.execute('''\n",
    "               SELECT\n",
    "                   *\n",
    "               FROM\n",
    "                   cats\n",
    "               UNION\n",
    "               SELECT\n",
    "                   cat_id, date\n",
    "               FROM\n",
    "                   visits\n",
    "               ''')\n",
    "for i in result:\n",
    "    print(i)"
   ]
  },
  {
   "cell_type": "code",
   "execution_count": null,
   "metadata": {
    "colab": {
     "base_uri": "https://localhost:8080/",
     "height": 237
    },
    "executionInfo": {
     "elapsed": 192,
     "status": "ok",
     "timestamp": 1691183740616,
     "user": {
      "displayName": "Aron C",
      "userId": "07834910496055545653"
     },
     "user_tz": 300
    },
    "id": "KO2YEbYNjbHu",
    "outputId": "c297b194-bed0-4cb2-b228-12765e61719a"
   },
   "outputs": [],
   "source": [
    "# What if we want a different join?\n",
    "df_cats.merge(df_visits, how = \"left\",\n",
    "              left_on = \"cat_id\", right_on = \"cat_id\")\n",
    "\n"
   ]
  },
  {
   "cell_type": "code",
   "execution_count": null,
   "metadata": {
    "colab": {
     "base_uri": "https://localhost:8080/"
    },
    "executionInfo": {
     "elapsed": 11,
     "status": "ok",
     "timestamp": 1691183740617,
     "user": {
      "displayName": "Aron C",
      "userId": "07834910496055545653"
     },
     "user_tz": 300
    },
    "id": "C3KSPG4vjbHu",
    "outputId": "0656e4d0-d069-48a6-b782-cf8c9b5f9f14"
   },
   "outputs": [],
   "source": [
    "result = cursor.execute('''SELECT * FROM\n",
    "                                cats\n",
    "                           LEFT JOIN\n",
    "                               visits\n",
    "                           ON\n",
    "                               cats.cat_id == visits.cat_id''')\n",
    "for i in result:\n",
    "    print(i)"
   ]
  },
  {
   "cell_type": "code",
   "execution_count": null,
   "metadata": {
    "colab": {
     "base_uri": "https://localhost:8080/",
     "height": 237
    },
    "executionInfo": {
     "elapsed": 7,
     "status": "ok",
     "timestamp": 1691183740617,
     "user": {
      "displayName": "Aron C",
      "userId": "07834910496055545653"
     },
     "user_tz": 300
    },
    "id": "tdYyqrj0jbHu",
    "outputId": "0fadf7f5-0d35-4614-9716-9652572b7a10"
   },
   "outputs": [],
   "source": [
    "# What if we want a different join?\n",
    "df_cats.merge(df_visits, how = \"outer\",\n",
    "              left_on = \"cat_id\", right_on = \"cat_id\")\n",
    "\n"
   ]
  },
  {
   "cell_type": "code",
   "execution_count": null,
   "metadata": {
    "colab": {
     "base_uri": "https://localhost:8080/",
     "height": 252
    },
    "executionInfo": {
     "elapsed": 337,
     "status": "error",
     "timestamp": 1691183740948,
     "user": {
      "displayName": "Aron C",
      "userId": "07834910496055545653"
     },
     "user_tz": 300
    },
    "id": "-X5JanuqjbHu",
    "outputId": "387144c9-a212-48be-98ed-3b57d5bb9d18"
   },
   "outputs": [],
   "source": [
    "# Let's do an Outer Join!\n",
    "\n",
    "result = cursor.execute('''SELECT * FROM cats FULL OUTER JOIN visits\n",
    "                    ON cats.cat_id == visits.cat_id''')\n",
    "for i in result:\n",
    "    print(i)"
   ]
  },
  {
   "cell_type": "markdown",
   "metadata": {
    "id": "itBrGQ2MjbHu"
   },
   "source": [
    "So we have to be careful as SQLite has some limitations... but you get the idea.\n"
   ]
  },
  {
   "cell_type": "markdown",
   "metadata": {
    "id": "_AWX2g9tjbHu"
   },
   "source": [
    "## GroupBy and Aggregate in SQL.\n"
   ]
  },
  {
   "cell_type": "code",
   "execution_count": null,
   "metadata": {
    "colab": {
     "base_uri": "https://localhost:8080/"
    },
    "executionInfo": {
     "elapsed": 203,
     "status": "ok",
     "timestamp": 1691183750767,
     "user": {
      "displayName": "Aron C",
      "userId": "07834910496055545653"
     },
     "user_tz": 300
    },
    "id": "vMNG6baijbHu",
    "outputId": "070a4d2f-25f0-4da6-9a41-966bbe2200a2"
   },
   "outputs": [],
   "source": [
    "# Make a new Table...\n",
    "cursor.execute('''\n",
    "CREATE TABLE persons (\n",
    "    id INTEGER PRIMARY KEY,\n",
    "    age FLOAT,\n",
    "    wgt_kg FLOAT,\n",
    "    hgt_cm FLOAT,\n",
    "    nat_id INTEGER\n",
    "\n",
    ")''')"
   ]
  },
  {
   "cell_type": "code",
   "execution_count": null,
   "metadata": {
    "executionInfo": {
     "elapsed": 8,
     "status": "ok",
     "timestamp": 1691183751008,
     "user": {
      "displayName": "Aron C",
      "userId": "07834910496055545653"
     },
     "user_tz": 300
    },
    "id": "DIvVBTeUjbHv"
   },
   "outputs": [],
   "source": [
    "# Insert into the table\n",
    "cursor.execute('''INSERT INTO persons VALUES (1, 12.2, 42.3, 145.1, 1)''')\n",
    "cursor.execute('''INSERT INTO persons VALUES (2, 11.0, 40.8, 143.8, 1)''')\n",
    "cursor.execute('''INSERT INTO persons VALUES (3, 15.6, 65.3, 165.3, 2)''')\n",
    "cursor.execute('''INSERT INTO persons VALUES (4, 35.1, 84.2, 185.8, 1)''')\n",
    "cursor.execute('''INSERT INTO persons VALUES (5, 18.1, 62.2, 176.2, 3)''')\n",
    "cursor.execute('''INSERT INTO persons VALUES (6, 19.6, 82.1, 180.1, 1)''')\n",
    "conn.commit()"
   ]
  },
  {
   "cell_type": "code",
   "execution_count": null,
   "metadata": {
    "colab": {
     "base_uri": "https://localhost:8080/"
    },
    "executionInfo": {
     "elapsed": 8,
     "status": "ok",
     "timestamp": 1691183751009,
     "user": {
      "displayName": "Aron C",
      "userId": "07834910496055545653"
     },
     "user_tz": 300
    },
    "id": "_G28iODkjbHv",
    "outputId": "b76ae54a-5d70-4c36-a35e-fd7a4957b7a1"
   },
   "outputs": [],
   "source": [
    "ret = cursor.execute('''SELECT * FROM persons''')\n",
    "for row in ret:\n",
    "    print(row)"
   ]
  },
  {
   "cell_type": "code",
   "execution_count": null,
   "metadata": {
    "colab": {
     "base_uri": "https://localhost:8080/"
    },
    "executionInfo": {
     "elapsed": 8,
     "status": "ok",
     "timestamp": 1691183751010,
     "user": {
      "displayName": "Aron C",
      "userId": "07834910496055545653"
     },
     "user_tz": 300
    },
    "id": "Pn7JJqbmjbHv",
    "outputId": "18aec0dd-a052-46c0-f861-6f67984931a3"
   },
   "outputs": [],
   "source": [
    "ret = cursor.execute('''SELECT nat_id, wgt_kg, AVG(age) as average_age\n",
    "                        FROM persons\n",
    "                        GROUP BY nat_id''')\n",
    "for row in ret:\n",
    "    print(row)"
   ]
  },
  {
   "cell_type": "markdown",
   "metadata": {
    "id": "hbOYg3IajbHv"
   },
   "source": [
    "### Make sure you close your connection or things go badly!!\n",
    "\n",
    "- Writes all the changes to the database."
   ]
  },
  {
   "cell_type": "code",
   "execution_count": null,
   "metadata": {
    "executionInfo": {
     "elapsed": 4,
     "status": "ok",
     "timestamp": 1691183751010,
     "user": {
      "displayName": "Aron C",
      "userId": "07834910496055545653"
     },
     "user_tz": 300
    },
    "id": "ZIyL6brtjbHv"
   },
   "outputs": [],
   "source": [
    "conn.close()"
   ]
  },
  {
   "cell_type": "markdown",
   "metadata": {
    "id": "WFXCQLXGjbHw"
   },
   "source": [
    "### More practice in SQL\n",
    "\n",
    "That about does it for the SQL for this class -- You can do the [SQL murder mystery!](http://mystery.knightlab.com/walkthrough.html)"
   ]
  },
  {
   "cell_type": "code",
   "execution_count": null,
   "metadata": {},
   "outputs": [],
   "source": []
  }
 ],
 "metadata": {
  "colab": {
   "provenance": []
  },
  "kernelspec": {
   "display_name": "Python 3 (ipykernel)",
   "language": "python",
   "name": "python3"
  },
  "language_info": {
   "codemirror_mode": {
    "name": "ipython",
    "version": 3
   },
   "file_extension": ".py",
   "mimetype": "text/x-python",
   "name": "python",
   "nbconvert_exporter": "python",
   "pygments_lexer": "ipython3",
   "version": "3.11.5"
  },
  "vscode": {
   "interpreter": {
    "hash": "aee8b7b246df8f9039afb4144a1f6fd8d2ca17a180786b69acc140d282b71a49"
   }
  }
 },
 "nbformat": 4,
 "nbformat_minor": 4
}
