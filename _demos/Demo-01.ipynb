{
 "cells": [
  {
   "cell_type": "markdown",
   "metadata": {
    "id": "p7E1oXxBxey8"
   },
   "source": [
    "# Demo 1: Basics of Notebooks and Python Review!\n",
    "\n",
    "In this demo we will get started with: \n",
    "1. Jupyter Notebooks\n",
    "2. How Jupyter Local Handles the Command Line\n",
    "3. How Google CoLab (Skippable if working Local)\n",
    "4. Git\n",
    "5. Python \n",
    "\n",
    "These are all the basic ingreediants for our data science course!\n",
    "\n"
   ]
  },
  {
   "cell_type": "markdown",
   "metadata": {
    "id": "asPn9bMr3UJ7"
   },
   "source": [
    "Let's start today by going over what notebooks are, and the final project we'll be doing for this course"
   ]
  },
  {
   "cell_type": "markdown",
   "metadata": {
    "id": "5i1-Td6O3UJ9"
   },
   "source": [
    "# Welcome to Notebooks!\n",
    "\n",
    "There are a lot of useful keyboard shortcuts you can use -- Check out the Help >> Keyboard Shortcuts menu.."
   ]
  },
  {
   "cell_type": "markdown",
   "metadata": {
    "id": "YLkAV9HE3UJ_"
   },
   "source": [
    "We can designate cells as markdown -- which lets us do some cools stuff...  A few quick and useful things.\n",
    "\n",
    "[Note: Examples Taken from Adam-p Markdown Cheat Sheet](https://github.com/adam-p/markdown-here/wiki/Markdown-Cheatsheet)\n",
    "\n",
    "First let's look at some headings..\n",
    "\n",
    "# H1\n",
    "## H2\n",
    "### H3\n",
    "#### H4\n",
    "##### H5\n",
    "###### H6\n",
    "\n",
    "---\n",
    "\n",
    "We can also section break things...\n"
   ]
  },
  {
   "cell_type": "markdown",
   "metadata": {
    "id": "7RE9tPbG3UKA"
   },
   "source": [
    "## Next is how to add emphsis to some text..\n",
    "\n",
    "Emphasis, aka italics, with *asterisks* or _underscores_.\n",
    "\n",
    "Strong emphasis, aka bold, with **asterisks** or __underscores__.\n",
    "\n",
    "Combined emphasis with **asterisks and _underscores_**.\n",
    "\n",
    "Strikethrough uses two tildes. ~~Scratch this.~~"
   ]
  },
  {
   "cell_type": "markdown",
   "metadata": {
    "id": "wGepUMQn3UKB"
   },
   "source": [
    "## Let's also see how to do lists and alignment...\n",
    "\n",
    "1. First ordered list item\n",
    "2. Another item\n",
    " * Unordered sub-list.\n",
    "1. Actual numbers don't matter, just that it's a number\n",
    " 1. Ordered sub-list\n",
    "4. And another item.\n",
    "\n",
    "   You can have properly indented paragraphs within list items. Notice the blank line above, and the leading spaces (you need three spaces).\n",
    "\n",
    "\n",
    "* Unordered list can use asterisks\n",
    "- Or minuses\n",
    "+ Or pluses\n",
    "* add another element\n",
    "* add another **fancy element**"
   ]
  },
  {
   "cell_type": "markdown",
   "metadata": {
    "id": "FasOWOpV3UKD"
   },
   "source": [
    "## Links are really important ... code blocks...\n",
    "\n",
    "[I'm an inline-style link](https://www.google.com)\n",
    "\n",
    "URLs and URLs in angle brackets will automatically get turned into links.\n",
    "http://www.example.com or <http://www.example.com> and sometimes\n",
    "example.com (but not on Github, for example).\n",
    "\n",
    "Inline `code has backticks` around it.\n",
    "\n",
    "```\n",
    "You can also do blocks of code.\n",
    "```\n",
    "\n",
    "\n",
    "You can also tell markdown what type of code you are using...\n",
    "\n",
    "```javascript\n",
    "var s = \"JavaScript syntax highlighting\";\n",
    "alert(s);\n",
    "```\n",
    "\n",
    "```python\n",
    "s = \"Python syntax highlighting\"\n",
    "print s\n",
    "```\n",
    "\n",
    "```\n",
    "No language indicated, so no syntax highlighting.\n",
    "But let's throw in a <b>tag</b>.\n",
    "```\n"
   ]
  },
  {
   "cell_type": "markdown",
   "metadata": {
    "id": "pksrnses3UKE"
   },
   "source": [
    "## Finally, tables are a bit cumbersome...\n",
    "\n",
    "Markdown | Less | Pretty\n",
    "--- | --- | ---\n",
    "*Still* | `renders` | **nicely**\n",
    "1 | 2 | 3\n",
    "\n",
    "---"
   ]
  },
  {
   "cell_type": "markdown",
   "metadata": {
    "id": "bQ0l0FXU3UKE"
   },
   "source": [
    "Let's go back to the slides and learn a little bit more about Git!"
   ]
  },
  {
   "cell_type": "markdown",
   "metadata": {
    "id": "excZ4zQB3UKG"
   },
   "source": [
    "## A Little About Directories, Git, Commands, and CoLab\n",
    "\n",
    "**Note: If you are not using COLAB you can skip this section! For 6720 we'll be using our local machine!**\n",
    "\n",
    "\n",
    "What Colab does is create a [virtual machine](https://en.wikipedia.org/wiki/Virtual_machine), which is like a fresh install of an operating system made just for you.\n",
    "\n",
    "This means that in addition to running Python code in this notebook, you can also interact with the command-line as if you were using a terminal to navigate a computer. If you have never used the command-line before, it is worth reading through [this tutorial](https://computers.tutsplus.com/tutorials/navigating-the-terminal-a-gentle-introduction--mac-3855).\n",
    "\n",
    "Notebooks also allow you to run shell commands by preceding the command with a `!`."
   ]
  },
  {
   "cell_type": "code",
   "execution_count": null,
   "metadata": {
    "colab": {
     "base_uri": "https://localhost:8080/"
    },
    "executionInfo": {
     "elapsed": 250,
     "status": "ok",
     "timestamp": 1691182597529,
     "user": {
      "displayName": "Aron C",
      "userId": "07834910496055545653"
     },
     "user_tz": 300
    },
    "id": "vHvxEtFQ3UKG",
    "outputId": "0efb4f79-d076-4480-9665-043433bdc66b"
   },
   "outputs": [],
   "source": [
    "!pwd"
   ]
  },
  {
   "cell_type": "code",
   "execution_count": null,
   "metadata": {
    "colab": {
     "base_uri": "https://localhost:8080/"
    },
    "executionInfo": {
     "elapsed": 20,
     "status": "ok",
     "timestamp": 1691182597530,
     "user": {
      "displayName": "Aron C",
      "userId": "07834910496055545653"
     },
     "user_tz": 300
    },
    "id": "VN9G41vQ3UKH",
    "outputId": "65ecb113-903a-43fc-e99c-7b1624bef79e"
   },
   "outputs": [],
   "source": [
    "!ls"
   ]
  },
  {
   "cell_type": "markdown",
   "metadata": {
    "id": "RtXCo0wxTFaG"
   },
   "source": [
    "### Cloning a Git Repository\n",
    "\n",
    "For many labs and demos, you will need to access data that is stored in the class GitHub repository, which is here:\n",
    "\n",
    "https://github.com/nmattei/cmps3160/\n",
    "\n",
    "If you have never used GitHub before, git is one of the most widely used version control management systems today, and invaluable when working in a team. GitHub is a web-based hosting service built around git that supports hosting git repositories, user management, etc. There are other similar services, e.g., BitBucket and GitLab.\n",
    "\n",
    "Our use of git/github for the class will be minimal; however, we encourage you to use it for collaboration for your class project, or for other classes, or for anything because it's great. To learn more about GitHub, see [this tutorial](https://docs.github.com/en/get-started/quickstart/hello-world). Note -- you don't need to do that tutorial to complete this notebook.\n",
    "\n",
    "The main thing we want to do is clone the course files into this Colab virtual machine. To do so, we will issue a `git clone` command. This will copy all the files from the course Github to our virtual machine:"
   ]
  },
  {
   "cell_type": "code",
   "execution_count": null,
   "metadata": {
    "colab": {
     "base_uri": "https://localhost:8080/"
    },
    "executionInfo": {
     "elapsed": 6006,
     "status": "ok",
     "timestamp": 1691182604758,
     "user": {
      "displayName": "Aron C",
      "userId": "07834910496055545653"
     },
     "user_tz": 300
    },
    "id": "ewqbLStsS1oi",
    "outputId": "49932db9-c29e-413a-c6e2-e1775251105c"
   },
   "outputs": [],
   "source": [
    "# clone the course repository\n",
    "!git clone https://github.com/nmattei/cmps6790.git"
   ]
  },
  {
   "cell_type": "markdown",
   "metadata": {
    "id": "fELwwlotTUAV"
   },
   "source": [
    "We can now see the files in our virtual machine:"
   ]
  },
  {
   "cell_type": "code",
   "execution_count": null,
   "metadata": {
    "colab": {
     "base_uri": "https://localhost:8080/"
    },
    "executionInfo": {
     "elapsed": 214,
     "status": "ok",
     "timestamp": 1691182604969,
     "user": {
      "displayName": "Aron C",
      "userId": "07834910496055545653"
     },
     "user_tz": 300
    },
    "id": "Mppef9oSTYmo",
    "outputId": "6b1c6135-7899-453e-bfab-b931d0883871"
   },
   "outputs": [],
   "source": [
    "!ls"
   ]
  },
  {
   "cell_type": "code",
   "execution_count": null,
   "metadata": {
    "colab": {
     "base_uri": "https://localhost:8080/"
    },
    "executionInfo": {
     "elapsed": 204,
     "status": "ok",
     "timestamp": 1691182606780,
     "user": {
      "displayName": "Aron C",
      "userId": "07834910496055545653"
     },
     "user_tz": 300
    },
    "id": "BXjPebvUTbV2",
    "outputId": "0cc4c42b-0b2d-430a-b7ed-b9a062f71011"
   },
   "outputs": [],
   "source": [
    "!ls cmps6790"
   ]
  },
  {
   "cell_type": "markdown",
   "metadata": {
    "id": "sjAMbCIcT0bU"
   },
   "source": [
    "You'll see a `git clone` command at the top of each assignment. This ensures that you have the latest version of the data before you start your work."
   ]
  },
  {
   "cell_type": "markdown",
   "metadata": {
    "id": "X0eWgdm3UeBP"
   },
   "source": [
    "To change the current working directory, we will use the `cd` command. Note that we need to prefix this with a % symbol, to ensure the directory change will persist to the next cells."
   ]
  },
  {
   "cell_type": "code",
   "execution_count": null,
   "metadata": {
    "colab": {
     "base_uri": "https://localhost:8080/"
    },
    "executionInfo": {
     "elapsed": 170,
     "status": "ok",
     "timestamp": 1691182609207,
     "user": {
      "displayName": "Aron C",
      "userId": "07834910496055545653"
     },
     "user_tz": 300
    },
    "id": "hXKEy5lFUglv",
    "outputId": "3b8053a6-4f30-4660-9727-bc6be798ead1"
   },
   "outputs": [],
   "source": [
    "%cd cmps6790/_labs"
   ]
  },
  {
   "cell_type": "code",
   "execution_count": null,
   "metadata": {
    "colab": {
     "base_uri": "https://localhost:8080/"
    },
    "executionInfo": {
     "elapsed": 167,
     "status": "ok",
     "timestamp": 1691182610988,
     "user": {
      "displayName": "Aron C",
      "userId": "07834910496055545653"
     },
     "user_tz": 300
    },
    "id": "nc8Ifb53Uh-L",
    "outputId": "f06fce9b-b557-41fd-c20d-61566eb55fe5"
   },
   "outputs": [],
   "source": [
    "!pwd"
   ]
  },
  {
   "cell_type": "code",
   "execution_count": null,
   "metadata": {
    "colab": {
     "base_uri": "https://localhost:8080/"
    },
    "executionInfo": {
     "elapsed": 181,
     "status": "ok",
     "timestamp": 1691182612655,
     "user": {
      "displayName": "Aron C",
      "userId": "07834910496055545653"
     },
     "user_tz": 300
    },
    "id": "qvU0F_F0UjRf",
    "outputId": "41e6c27c-8e7c-4c6f-be4f-8bae9df4e067"
   },
   "outputs": [],
   "source": [
    "!ls"
   ]
  },
  {
   "cell_type": "markdown",
   "metadata": {
    "id": "WBCYE1ZCUrsJ"
   },
   "source": [
    "Since we cloned the course repository, we now have access to the data in the `cmps3160/_labs/data` folder:"
   ]
  },
  {
   "cell_type": "code",
   "execution_count": null,
   "metadata": {
    "colab": {
     "base_uri": "https://localhost:8080/"
    },
    "executionInfo": {
     "elapsed": 222,
     "status": "ok",
     "timestamp": 1691182614703,
     "user": {
      "displayName": "Aron C",
      "userId": "07834910496055545653"
     },
     "user_tz": 300
    },
    "id": "nT-nAU0nUysA",
    "outputId": "deda3549-b3d2-44d3-b93a-f49529ebc1a4"
   },
   "outputs": [],
   "source": [
    "!ls data"
   ]
  },
  {
   "cell_type": "code",
   "execution_count": null,
   "metadata": {
    "colab": {
     "base_uri": "https://localhost:8080/"
    },
    "executionInfo": {
     "elapsed": 602,
     "status": "ok",
     "timestamp": 1691182616975,
     "user": {
      "displayName": "Aron C",
      "userId": "07834910496055545653"
     },
     "user_tz": 300
    },
    "id": "0Bl_ftLOU1S0",
    "outputId": "58e39756-eca5-4893-9a08-1a32d737286f"
   },
   "outputs": [],
   "source": [
    "# look at the top of the titanic.csv file\n",
    "!cat data/titanic.csv\n",
    "# this is equivalent to the file on GitHub:\n",
    "# https://github.com/nmattei/cmps3160/blob/master/_labs/data/titanic.csv"
   ]
  },
  {
   "cell_type": "markdown",
   "metadata": {
    "id": "pGHN9t1mT9wb"
   },
   "source": [
    "## Working on assignments\n",
    "\n",
    "To ensure you have everything configured properly for each assignment, you should do the following:\n",
    "\n",
    "- Click the corresponding `Open in Colab` link in the `_labs` or `_demos` folder.\n",
    "- Immediately click `File->Save` (Command/Ctrl S), then \"Save a Copy in Drive\"\n",
    "- This will create a new copy in the `Colab Notebooks` folder of your personal Google Drive for whichever Google account you are signed into at the time.\n",
    "- Save the file regularly as you complete the assignment.\n",
    "- When you're ready to submit your work:\n",
    "  + Go to File->Download .ipynb\n",
    "  + Upload the .ipynb file to the appropriate assignment in [Canvas](https://tulane.instructure.com/)"
   ]
  },
  {
   "cell_type": "markdown",
   "metadata": {
    "id": "Vi_fYio9VECF"
   },
   "source": [
    "## Non-persistence of Colab Virtual Machines\n",
    "\n",
    "An important thing to note about Colab is that files you create during the session will not persist once the runtime shuts down. Google creates these temporary virtual environments to host your notebook, but it shuts them down so the resource can be reallocated to other notebooks. The runtime will shutdown automatically if not used for a few hours, so be careful about files that are created during the session.\n",
    "\n",
    "This means that the `cmps3160` folder that we just created will disappear if we restart the session. You can test this by clicking on `Runtime->Disconnect and delete Runtime`. If you do so, you'll notice `cmps3160` is gone:"
   ]
  },
  {
   "cell_type": "markdown",
   "metadata": {
    "id": "WjW0LWDSVHiz"
   },
   "source": [
    "## Mounting Your Google Drive\n",
    "\n",
    "On some occasions, you may want to create data that will persist. For example, when working on your course project, you don't want to re-collect any data you need for your analysis.\n",
    "\n",
    "One way to make this data persist is to write directly to your Google Drive, rather than to this virual machine. To do so, we can use a Python command to \"mount\" the Google Drive. This will pop up a screen asking you to give this Colab notebook access to your Google Drive. **If you have multiple Google accounts, please be sure to use the same one consistently throughout the course.**:"
   ]
  },
  {
   "cell_type": "code",
   "execution_count": null,
   "metadata": {
    "colab": {
     "base_uri": "https://localhost:8080/"
    },
    "executionInfo": {
     "elapsed": 17001,
     "status": "ok",
     "timestamp": 1691182686598,
     "user": {
      "displayName": "Aron C",
      "userId": "07834910496055545653"
     },
     "user_tz": 300
    },
    "id": "5jd3m01_3UKH",
    "outputId": "2b967068-d2a5-4efa-ffe6-f5d49f41b44d"
   },
   "outputs": [],
   "source": [
    "# Mount our personal google drive. This will pop up a\n",
    "# confirmation screen giving this notebook access to your Google drive.\n",
    "# You will first need a gmail account for this to work.\n",
    "from google.colab import drive\n",
    "drive.mount('/content/drive')"
   ]
  },
  {
   "cell_type": "markdown",
   "metadata": {
    "id": "O_iYzaRj3UKI"
   },
   "source": [
    "You should now see the contents of your Google drive by navigating to the folder icon in the left panel. It is viewable at `/content/drive/MyDrive`.\n",
    "\n",
    "To list the contents of a folder, you can use the `ls` command. This should list the contents of the root folder of your Google drive."
   ]
  },
  {
   "cell_type": "code",
   "execution_count": null,
   "metadata": {
    "id": "HTCUWR123UKI"
   },
   "outputs": [],
   "source": [
    "!ls /content/drive/MyDrive"
   ]
  },
  {
   "cell_type": "markdown",
   "metadata": {
    "id": "n8tFRcl73UKI"
   },
   "source": [
    "We'll look more at this in the lab this week."
   ]
  },
  {
   "cell_type": "markdown",
   "metadata": {
    "id": "z6lfSKRx3UKL"
   },
   "source": [
    "Let's go back to the slides and see a few more things about Python and why it's the best!"
   ]
  },
  {
   "cell_type": "markdown",
   "metadata": {},
   "source": [
    "# Working With Local Files\n",
    "\n",
    "For CMPS 6720 we'll be working in our local directories and using the command line. You should have started docker as we did in class and used the command line. You can still see where you are here!"
   ]
  },
  {
   "cell_type": "code",
   "execution_count": null,
   "metadata": {},
   "outputs": [],
   "source": [
    "!pwd"
   ]
  },
  {
   "cell_type": "code",
   "execution_count": null,
   "metadata": {},
   "outputs": [],
   "source": [
    "!ls"
   ]
  },
  {
   "cell_type": "code",
   "execution_count": null,
   "metadata": {},
   "outputs": [],
   "source": [
    "%cd ./data"
   ]
  },
  {
   "cell_type": "code",
   "execution_count": null,
   "metadata": {},
   "outputs": [],
   "source": [
    "!ls"
   ]
  },
  {
   "cell_type": "code",
   "execution_count": null,
   "metadata": {},
   "outputs": [],
   "source": [
    "!head adult.csv"
   ]
  },
  {
   "cell_type": "markdown",
   "metadata": {
    "id": "5OLuF16p3UKL"
   },
   "source": [
    "# Let's do some Code!\n",
    "\n",
    "The cell below loads up a few libraries and does some initialization."
   ]
  },
  {
   "cell_type": "code",
   "execution_count": null,
   "metadata": {
    "executionInfo": {
     "elapsed": 1688,
     "status": "ok",
     "timestamp": 1691182704378,
     "user": {
      "displayName": "Aron C",
      "userId": "07834910496055545653"
     },
     "user_tz": 300
    },
    "id": "6ddi0xv53UKM"
   },
   "outputs": [],
   "source": [
    "### Import commonly used libraries.\n",
    "\n",
    "# Load Numpy\n",
    "import numpy as np\n",
    "# Load MatPlotLib\n",
    "import matplotlib.pyplot as plt\n",
    "# Load Pandas\n",
    "import pandas as pd\n",
    "\n",
    "# A style for our plots\n",
    "plt.style.use('fivethirtyeight')\n",
    "# Seaborn is a plotting package for Pandas that we'll try out...\n",
    "import seaborn as sns"
   ]
  },
  {
   "cell_type": "markdown",
   "metadata": {
    "id": "kCb16JUV3UKM"
   },
   "source": [
    "### First let's go over the examples from the slides here and make sure we understand them."
   ]
  },
  {
   "cell_type": "code",
   "execution_count": null,
   "metadata": {
    "executionInfo": {
     "elapsed": 5,
     "status": "ok",
     "timestamp": 1691182714973,
     "user": {
      "displayName": "Aron C",
      "userId": "07834910496055545653"
     },
     "user_tz": 300
    },
    "id": "-YtCR5A83UKM"
   },
   "outputs": [],
   "source": [
    "# Define a simple function.\n",
    "\n",
    "def my_func(x, y):\n",
    "    if x > y:\n",
    "        return x\n",
    "    else:\n",
    "        return y"
   ]
  },
  {
   "cell_type": "code",
   "execution_count": null,
   "metadata": {
    "colab": {
     "base_uri": "https://localhost:8080/"
    },
    "executionInfo": {
     "elapsed": 3,
     "status": "ok",
     "timestamp": 1691182718042,
     "user": {
      "displayName": "Aron C",
      "userId": "07834910496055545653"
     },
     "user_tz": 300
    },
    "id": "1YM9gnF83UKM",
    "outputId": "4bd0d291-3c4e-45ce-975a-9503a399d60c"
   },
   "outputs": [],
   "source": [
    "my_func(1,2)"
   ]
  },
  {
   "cell_type": "code",
   "execution_count": null,
   "metadata": {
    "executionInfo": {
     "elapsed": 2,
     "status": "ok",
     "timestamp": 1691182718831,
     "user": {
      "displayName": "Aron C",
      "userId": "07834910496055545653"
     },
     "user_tz": 300
    },
    "id": "yJvUGh_q3UKM"
   },
   "outputs": [],
   "source": [
    "def my_func(x, y):\n",
    "    return (x-1, y+2)\n"
   ]
  },
  {
   "cell_type": "markdown",
   "metadata": {
    "id": "Q8B7U9y73UKM"
   },
   "source": [
    "Be careful with notebooks... we can have scope problems if we run cells out of order!"
   ]
  },
  {
   "cell_type": "code",
   "execution_count": null,
   "metadata": {
    "executionInfo": {
     "elapsed": 621,
     "status": "ok",
     "timestamp": 1691182721004,
     "user": {
      "displayName": "Aron C",
      "userId": "07834910496055545653"
     },
     "user_tz": 300
    },
    "id": "1ccaOMTF3UKM"
   },
   "outputs": [],
   "source": [
    "# What is in scope here?\n",
    "(a, b) = my_func(1, 2)"
   ]
  },
  {
   "cell_type": "code",
   "execution_count": null,
   "metadata": {
    "colab": {
     "base_uri": "https://localhost:8080/"
    },
    "executionInfo": {
     "elapsed": 4,
     "status": "ok",
     "timestamp": 1691182721785,
     "user": {
      "displayName": "Aron C",
      "userId": "07834910496055545653"
     },
     "user_tz": 300
    },
    "id": "J7GNKyqU3UKN",
    "outputId": "81e09aab-0b3b-4a85-d147-2138e98c2504"
   },
   "outputs": [],
   "source": [
    "print(a)"
   ]
  },
  {
   "cell_type": "code",
   "execution_count": null,
   "metadata": {
    "colab": {
     "base_uri": "https://localhost:8080/"
    },
    "executionInfo": {
     "elapsed": 3,
     "status": "ok",
     "timestamp": 1691182722045,
     "user": {
      "displayName": "Aron C",
      "userId": "07834910496055545653"
     },
     "user_tz": 300
    },
    "id": "vQiv7X9E3UKN",
    "outputId": "7eb232b6-6b62-4108-ea44-fb97cf2b36ec"
   },
   "outputs": [],
   "source": [
    "print(b)"
   ]
  },
  {
   "cell_type": "markdown",
   "metadata": {
    "id": "qrawXb813UKN"
   },
   "source": [
    "Let's look at some simple lists and data structures."
   ]
  },
  {
   "cell_type": "code",
   "execution_count": null,
   "metadata": {
    "colab": {
     "base_uri": "https://localhost:8080/"
    },
    "executionInfo": {
     "elapsed": 590,
     "status": "ok",
     "timestamp": 1691182739349,
     "user": {
      "displayName": "Aron C",
      "userId": "07834910496055545653"
     },
     "user_tz": 300
    },
    "id": "lyN-Me4k3UKN",
    "outputId": "23ffcff9-70aa-440e-c7e6-037c639519c0"
   },
   "outputs": [],
   "source": [
    "a = [1, 2, 4, 'a']\n",
    "a"
   ]
  },
  {
   "cell_type": "code",
   "execution_count": null,
   "metadata": {
    "colab": {
     "base_uri": "https://localhost:8080/"
    },
    "executionInfo": {
     "elapsed": 3,
     "status": "ok",
     "timestamp": 1691182739630,
     "user": {
      "displayName": "Aron C",
      "userId": "07834910496055545653"
     },
     "user_tz": 300
    },
    "id": "3x6o5YpW3UKN",
    "outputId": "1d5191a6-92e8-41e7-c826-aebd6e34bd35"
   },
   "outputs": [],
   "source": [
    "# len: returns the number of items of an enumerable object\n",
    "len(['c', 'm', 's', 'c', 3, 2, 0])\n"
   ]
  },
  {
   "cell_type": "code",
   "execution_count": null,
   "metadata": {
    "colab": {
     "base_uri": "https://localhost:8080/"
    },
    "executionInfo": {
     "elapsed": 3,
     "status": "ok",
     "timestamp": 1691182740958,
     "user": {
      "displayName": "Aron C",
      "userId": "07834910496055545653"
     },
     "user_tz": 300
    },
    "id": "zXsiGXu73UKN",
    "outputId": "045879c1-0108-4068-eb1e-628404486530"
   },
   "outputs": [],
   "source": [
    "# range: returns an iterable object\n",
    "list(range(10))\n"
   ]
  },
  {
   "cell_type": "code",
   "execution_count": null,
   "metadata": {
    "colab": {
     "base_uri": "https://localhost:8080/"
    },
    "executionInfo": {
     "elapsed": 162,
     "status": "ok",
     "timestamp": 1691182742960,
     "user": {
      "displayName": "Aron C",
      "userId": "07834910496055545653"
     },
     "user_tz": 300
    },
    "id": "kZFPTnw23UKN",
    "outputId": "6cb38f20-0649-4f9c-d9dc-b54f07139307"
   },
   "outputs": [],
   "source": [
    "# enumerate: returns iterable tuple (index, element) of a list\n",
    "a = enumerate( ['311', '320', '330'] )\n",
    "print(a)"
   ]
  },
  {
   "cell_type": "code",
   "execution_count": null,
   "metadata": {
    "colab": {
     "base_uri": "https://localhost:8080/"
    },
    "executionInfo": {
     "elapsed": 138,
     "status": "ok",
     "timestamp": 1691182747128,
     "user": {
      "displayName": "Aron C",
      "userId": "07834910496055545653"
     },
     "user_tz": 300
    },
    "id": "IiHJlPie3UKN",
    "outputId": "e5a764d2-1da8-43bb-d123-c419c7d8c0fc"
   },
   "outputs": [],
   "source": [
    "# Recall here that Python3 does lazy evaluation for these iterators.  We have to manually expand it.\n",
    "list(a)"
   ]
  },
  {
   "cell_type": "code",
   "execution_count": null,
   "metadata": {
    "colab": {
     "base_uri": "https://localhost:8080/"
    },
    "executionInfo": {
     "elapsed": 175,
     "status": "ok",
     "timestamp": 1691182749772,
     "user": {
      "displayName": "Aron C",
      "userId": "07834910496055545653"
     },
     "user_tz": 300
    },
    "id": "RVx2KfNM3UKO",
    "outputId": "a0302431-8ac9-4e6f-ff8d-f74d53d7dc86"
   },
   "outputs": [],
   "source": [
    "a = ['311', '320', '330']\n",
    "for i,j in enumerate(a):\n",
    "    print(i,j)"
   ]
  },
  {
   "cell_type": "code",
   "execution_count": null,
   "metadata": {
    "executionInfo": {
     "elapsed": 228,
     "status": "ok",
     "timestamp": 1691182751863,
     "user": {
      "displayName": "Aron C",
      "userId": "07834910496055545653"
     },
     "user_tz": 300
    },
    "id": "oLoYNLlS3UKO"
   },
   "outputs": [],
   "source": [
    "def squared(x):\n",
    "    return x**2"
   ]
  },
  {
   "cell_type": "code",
   "execution_count": null,
   "metadata": {
    "colab": {
     "base_uri": "https://localhost:8080/"
    },
    "executionInfo": {
     "elapsed": 140,
     "status": "ok",
     "timestamp": 1691182753688,
     "user": {
      "displayName": "Aron C",
      "userId": "07834910496055545653"
     },
     "user_tz": 300
    },
    "id": "-K9nr4H23UKO",
    "outputId": "1cb5d612-9ff8-4e67-deb5-541610154c83"
   },
   "outputs": [],
   "source": [
    "## Map and Filter\n",
    "\n",
    "# map: apply a function to a sequence or iterable\n",
    "\n",
    "arr = [1, 2, 3, 4, 5]\n",
    "out = map(squared, arr)\n",
    "print(list(out))\n",
    "print(arr)"
   ]
  },
  {
   "cell_type": "code",
   "execution_count": null,
   "metadata": {
    "executionInfo": {
     "elapsed": 2,
     "status": "ok",
     "timestamp": 1691182755668,
     "user": {
      "displayName": "Aron C",
      "userId": "07834910496055545653"
     },
     "user_tz": 300
    },
    "id": "1pOylWCD3UKO"
   },
   "outputs": [],
   "source": [
    "new_arr = [x**3 for x in arr if x <= 3]"
   ]
  },
  {
   "cell_type": "code",
   "execution_count": null,
   "metadata": {
    "colab": {
     "base_uri": "https://localhost:8080/"
    },
    "executionInfo": {
     "elapsed": 5,
     "status": "ok",
     "timestamp": 1691182756611,
     "user": {
      "displayName": "Aron C",
      "userId": "07834910496055545653"
     },
     "user_tz": 300
    },
    "id": "iFNr2jsB3UKO",
    "outputId": "9da5d166-e64c-4c99-f063-0e9550a801f8"
   },
   "outputs": [],
   "source": [
    "new_arr"
   ]
  },
  {
   "cell_type": "code",
   "execution_count": null,
   "metadata": {
    "colab": {
     "base_uri": "https://localhost:8080/"
    },
    "executionInfo": {
     "elapsed": 3,
     "status": "ok",
     "timestamp": 1691182757866,
     "user": {
      "displayName": "Aron C",
      "userId": "07834910496055545653"
     },
     "user_tz": 300
    },
    "id": "6Y91-vzE3UKO",
    "outputId": "c67cea95-c5b6-44c0-fb6a-a2f7c8df6584"
   },
   "outputs": [],
   "source": [
    "# What happened here??\n",
    "arr = [1, 2, 3, 4, 5]\n",
    "out = map(lambda x: x**2, arr)\n",
    "print(out)\n",
    "\n",
    "\n",
    "# Remember again lazy evaluation!\n",
    "print(list(out))"
   ]
  },
  {
   "cell_type": "code",
   "execution_count": null,
   "metadata": {
    "colab": {
     "base_uri": "https://localhost:8080/"
    },
    "executionInfo": {
     "elapsed": 167,
     "status": "ok",
     "timestamp": 1691182759929,
     "user": {
      "displayName": "Aron C",
      "userId": "07834910496055545653"
     },
     "user_tz": 300
    },
    "id": "A8U4krW73UKO",
    "outputId": "cfc8b78a-fe7b-4192-e4e1-7ade1696496b"
   },
   "outputs": [],
   "source": [
    "# filter: returns a list of elements for which a predicate is true\n",
    "\n",
    "arr = [1, 2, 3, 4, 5, 6, 7]\n",
    "out = filter(lambda x: x % 2 == 0, arr)\n",
    "print(out)\n",
    "\n",
    "# Remember again that we have to explicitly evaluate the iterator.\n",
    "print(list(out))"
   ]
  },
  {
   "cell_type": "code",
   "execution_count": null,
   "metadata": {
    "colab": {
     "base_uri": "https://localhost:8080/"
    },
    "executionInfo": {
     "elapsed": 3,
     "status": "ok",
     "timestamp": 1691182762342,
     "user": {
      "displayName": "Aron C",
      "userId": "07834910496055545653"
     },
     "user_tz": 300
    },
    "id": "uA1O28HB3UKO",
    "outputId": "7717fddb-4816-4d0e-a966-cbb4cc80c86c"
   },
   "outputs": [],
   "source": [
    "# A more pythonic way: list comprehension...\n",
    "x = [i for i in arr if i % 2 == 0]\n",
    "x"
   ]
  },
  {
   "cell_type": "code",
   "execution_count": null,
   "metadata": {
    "colab": {
     "base_uri": "https://localhost:8080/"
    },
    "executionInfo": {
     "elapsed": 4,
     "status": "ok",
     "timestamp": 1691182764887,
     "user": {
      "displayName": "Aron C",
      "userId": "07834910496055545653"
     },
     "user_tz": 300
    },
    "id": "-3MCWhnK3UKO",
    "outputId": "5fb54846-4e5a-4942-d5a5-6b49f6c77b15"
   },
   "outputs": [],
   "source": [
    "# List comprehensions are the best!\n",
    "P = [ 2**x for x in range(17) ]\n",
    "P"
   ]
  },
  {
   "cell_type": "code",
   "execution_count": null,
   "metadata": {
    "executionInfo": {
     "elapsed": 2,
     "status": "ok",
     "timestamp": 1691182765853,
     "user": {
      "displayName": "Aron C",
      "userId": "07834910496055545653"
     },
     "user_tz": 300
    },
    "id": "7Ngm8Lz13UKP"
   },
   "outputs": [],
   "source": [
    "# Can also do dictionaries...\n",
    "D = {x:['no'] for x in range(10)}"
   ]
  },
  {
   "cell_type": "code",
   "execution_count": null,
   "metadata": {
    "colab": {
     "base_uri": "https://localhost:8080/"
    },
    "executionInfo": {
     "elapsed": 163,
     "status": "ok",
     "timestamp": 1691182767603,
     "user": {
      "displayName": "Aron C",
      "userId": "07834910496055545653"
     },
     "user_tz": 300
    },
    "id": "07RdrD8r3UKP",
    "outputId": "011dce4c-8873-4243-a371-02718d2996bd"
   },
   "outputs": [],
   "source": [
    "D"
   ]
  }
 ],
 "metadata": {
  "colab": {
   "provenance": []
  },
  "kernelspec": {
   "display_name": "Python 3 (ipykernel)",
   "language": "python",
   "name": "python3"
  },
  "language_info": {
   "codemirror_mode": {
    "name": "ipython",
    "version": 3
   },
   "file_extension": ".py",
   "mimetype": "text/x-python",
   "name": "python",
   "nbconvert_exporter": "python",
   "pygments_lexer": "ipython3",
   "version": "3.11.5"
  },
  "vscode": {
   "interpreter": {
    "hash": "aee8b7b246df8f9039afb4144a1f6fd8d2ca17a180786b69acc140d282b71a49"
   }
  }
 },
 "nbformat": 4,
 "nbformat_minor": 4
}
