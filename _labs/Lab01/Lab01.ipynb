{
 "cells": [
  {
   "cell_type": "markdown",
   "metadata": {
    "id": "OgRbAZj42bXE"
   },
   "source": [
    "# Lab 01: Getting Started\n",
    "\n",
    "In this lab, we will walk through configuring Google Colab so that you can download the starter code for each lab, run and edit code, and then save and submit it.\n",
    "\n",
    "Colab is a cloud-based solution that allows you to run Python and Jupyter notebooks from your browser, without having to configure anything on your personal computer.\n",
    "\n",
    "Before continuing with this notebook, please first complete this brief tutorial: [Overview of Colab](https://colab.research.google.com/notebooks/basic_features_overview.ipynb)\n"
   ]
  },
  {
   "cell_type": "markdown",
   "metadata": {
    "id": "vqvARlqY6fn0"
   },
   "source": [
    "<hr>\n",
    "\n",
    "## Command-line\n",
    "\n",
    "Welcome back!\n",
    "\n",
    "What Colab does is create a [virtual machine](https://en.wikipedia.org/wiki/Virtual_machine), which is like a fresh install of an operating system made just for you.\n",
    "\n",
    "This means that in addition to running Python code in this notebook, you can also interact with the command-line as if you were using a terminal to navigate a computer. If you have never used the command-line before, it is worth reading through [this tutorial](https://computers.tutsplus.com/tutorials/navigating-the-terminal-a-gentle-introduction--mac-3855).\n",
    "\n",
    "Notebooks also allow you to run shell commands by preceding the command with a `!`.\n",
    "\n",
    "For example, the command below will list the current working directory where this notebook is running.\n"
   ]
  },
  {
   "cell_type": "code",
   "execution_count": null,
   "metadata": {
    "colab": {
     "base_uri": "https://localhost:8080/"
    },
    "executionInfo": {
     "elapsed": 597,
     "status": "ok",
     "timestamp": 1691180781700,
     "user": {
      "displayName": "Aron C",
      "userId": "07834910496055545653"
     },
     "user_tz": 300
    },
    "id": "Zfh7PMlQ16_U",
    "outputId": "ed7f2d05-a296-49fa-c3a9-a8f2c51182c1"
   },
   "outputs": [],
   "source": [
    "!pwd"
   ]
  },
  {
   "cell_type": "markdown",
   "metadata": {
    "id": "fpjJEUhQ72km"
   },
   "source": [
    "This tells us that we are running Ubuntu, a Linux distribution, and also says what version we're running.\n",
    "\n",
    "To list the contents of a folder, you can use the `ls` command. This will list the contents of the current working directory:\n",
    "\n"
   ]
  },
  {
   "cell_type": "code",
   "execution_count": null,
   "metadata": {
    "colab": {
     "base_uri": "https://localhost:8080/"
    },
    "executionInfo": {
     "elapsed": 190,
     "status": "ok",
     "timestamp": 1691180782079,
     "user": {
      "displayName": "Aron C",
      "userId": "07834910496055545653"
     },
     "user_tz": 300
    },
    "id": "uTNmVCUkINb1",
    "outputId": "021bf8b2-8a33-4fec-cf70-b054d95ca26e"
   },
   "outputs": [],
   "source": [
    "!ls"
   ]
  },
  {
   "cell_type": "markdown",
   "metadata": {
    "id": "jq4ZPCm0IPXj"
   },
   "source": [
    "We can see the contents of the `sample_data` directory like this:"
   ]
  },
  {
   "cell_type": "code",
   "execution_count": null,
   "metadata": {
    "colab": {
     "base_uri": "https://localhost:8080/"
    },
    "executionInfo": {
     "elapsed": 779,
     "status": "ok",
     "timestamp": 1691180788043,
     "user": {
      "displayName": "Aron C",
      "userId": "07834910496055545653"
     },
     "user_tz": 300
    },
    "id": "l4JnFfCzIT5w",
    "outputId": "5a58b524-2f01-4422-e0d6-db0eba313bbd"
   },
   "outputs": [],
   "source": [
    "!ls sample_data"
   ]
  },
  {
   "cell_type": "markdown",
   "metadata": {
    "id": "yGoSDa3QItWS"
   },
   "source": [
    "If expand the left sidebar in Colab, you should see a folder icon. This will show the typical file navigation menu, and you should see the `sample_data` folder there as well."
   ]
  },
  {
   "cell_type": "markdown",
   "metadata": {
    "id": "2QY0FG5C7hul"
   },
   "source": [
    "And the following command will list information about the operating system that this notebook is running on. Note that the `cat` command prints the contents of a file. So, this is printing the contents of all files in the `/etc/` folder that end in the word `release,` which is where Linux distributions store OS information."
   ]
  },
  {
   "cell_type": "code",
   "execution_count": null,
   "metadata": {
    "colab": {
     "base_uri": "https://localhost:8080/"
    },
    "executionInfo": {
     "elapsed": 143,
     "status": "ok",
     "timestamp": 1691180795393,
     "user": {
      "displayName": "Aron C",
      "userId": "07834910496055545653"
     },
     "user_tz": 300
    },
    "id": "qMwA25g46QmC",
    "outputId": "d83ec9ab-a444-4edd-82f2-9af7aaa0d73d"
   },
   "outputs": [],
   "source": [
    "!cat /etc/*release"
   ]
  },
  {
   "cell_type": "markdown",
   "metadata": {
    "id": "YsjiVwI0Ionk"
   },
   "source": [
    "## Cloning the course repository\n",
    "\n",
    "For many labs and demos, you will need to access data that is stored in the class GitHub repository, which is here:\n",
    "\n",
    "https://github.com/nmattei/cmps3160/\n",
    "\n",
    "If you have never used GitHub before, git is one of the most widely used version control management systems today, and invaluable when working in a team. GitHub is a web-based hosting service built around git that supports hosting git repositories, user management, etc. There are other similar services, e.g., BitBucket and GitLab.\n",
    "\n",
    "Our use of git/github for the class will be minimal; however, we encourage you to use it for collaboration for your class project, or for other classes, or for anything because it's great. To learn more about GitHub, see [this tutorial](https://docs.github.com/en/get-started/quickstart/hello-world). Note -- you don't need to do that tutorial to complete this notebook.\n",
    "\n",
    "The main thing we want to do is clone the course files into this Colab virtual machine. To do so, we will issue a `git clone` command. This will copy all the files from the course Github to our virtual machine:"
   ]
  },
  {
   "cell_type": "code",
   "execution_count": null,
   "metadata": {
    "colab": {
     "base_uri": "https://localhost:8080/"
    },
    "executionInfo": {
     "elapsed": 6688,
     "status": "ok",
     "timestamp": 1691180885719,
     "user": {
      "displayName": "Aron C",
      "userId": "07834910496055545653"
     },
     "user_tz": 300
    },
    "id": "caTyqGy6JMj3",
    "outputId": "3a3f442d-47d1-4d7b-b8c6-d05e84166e2c"
   },
   "outputs": [],
   "source": [
    "!git clone https://github.com/nmattei/cmps6790.git"
   ]
  },
  {
   "cell_type": "markdown",
   "metadata": {
    "id": "Agf-RAeLJWv1"
   },
   "source": [
    "We should now see a folder called `cmps3160`, which contains a copy of the GitHub repository:"
   ]
  },
  {
   "cell_type": "code",
   "execution_count": null,
   "metadata": {
    "colab": {
     "base_uri": "https://localhost:8080/"
    },
    "executionInfo": {
     "elapsed": 16,
     "status": "ok",
     "timestamp": 1691180830190,
     "user": {
      "displayName": "Aron C",
      "userId": "07834910496055545653"
     },
     "user_tz": 300
    },
    "id": "CRGUMRylJd-5",
    "outputId": "540bdd03-a82e-4307-b630-bdbf8d64f366"
   },
   "outputs": [],
   "source": [
    "!ls"
   ]
  },
  {
   "cell_type": "code",
   "execution_count": null,
   "metadata": {
    "colab": {
     "base_uri": "https://localhost:8080/"
    },
    "executionInfo": {
     "elapsed": 261,
     "status": "ok",
     "timestamp": 1691180831845,
     "user": {
      "displayName": "Aron C",
      "userId": "07834910496055545653"
     },
     "user_tz": 300
    },
    "id": "fw4TzJmwJfkJ",
    "outputId": "b09bd619-c7ac-4a52-dc02-a325f106babd"
   },
   "outputs": [],
   "source": [
    "!ls cmps6790"
   ]
  },
  {
   "cell_type": "markdown",
   "metadata": {
    "id": "tz8KN7QQLh7T"
   },
   "source": [
    "## Changing Directories"
   ]
  },
  {
   "cell_type": "markdown",
   "metadata": {
    "id": "VTSJ3l-WLklg"
   },
   "source": [
    "To change the current working directory, we will use the `cd` command. Note that we need to prefix this with a % symbol, to ensure the directory change will persist to the next cells."
   ]
  },
  {
   "cell_type": "code",
   "execution_count": null,
   "metadata": {
    "colab": {
     "base_uri": "https://localhost:8080/"
    },
    "executionInfo": {
     "elapsed": 119,
     "status": "ok",
     "timestamp": 1691180837079,
     "user": {
      "displayName": "Aron C",
      "userId": "07834910496055545653"
     },
     "user_tz": 300
    },
    "id": "hI50VmlmLvN5",
    "outputId": "67ff7676-5dc0-4b4a-8d47-954f14ee560b"
   },
   "outputs": [],
   "source": [
    "%cd cmps6790/_labs"
   ]
  },
  {
   "cell_type": "code",
   "execution_count": null,
   "metadata": {
    "colab": {
     "base_uri": "https://localhost:8080/"
    },
    "executionInfo": {
     "elapsed": 18,
     "status": "ok",
     "timestamp": 1691180838109,
     "user": {
      "displayName": "Aron C",
      "userId": "07834910496055545653"
     },
     "user_tz": 300
    },
    "id": "753vRkToLxRY",
    "outputId": "c6458207-0699-4e96-a6cf-9b1e6e3ee7da"
   },
   "outputs": [],
   "source": [
    "!pwd"
   ]
  },
  {
   "cell_type": "code",
   "execution_count": null,
   "metadata": {
    "colab": {
     "base_uri": "https://localhost:8080/"
    },
    "executionInfo": {
     "elapsed": 147,
     "status": "ok",
     "timestamp": 1691180840475,
     "user": {
      "displayName": "Aron C",
      "userId": "07834910496055545653"
     },
     "user_tz": 300
    },
    "id": "Cr-8JD82L95C",
    "outputId": "bf2da6ed-81cf-4669-ea4f-9347b372db4b"
   },
   "outputs": [],
   "source": [
    "# Now, we can list the contents of the `_labs` folder.\n",
    "!ls"
   ]
  },
  {
   "cell_type": "code",
   "execution_count": null,
   "metadata": {
    "colab": {
     "base_uri": "https://localhost:8080/"
    },
    "executionInfo": {
     "elapsed": 184,
     "status": "ok",
     "timestamp": 1691180843572,
     "user": {
      "displayName": "Aron C",
      "userId": "07834910496055545653"
     },
     "user_tz": 300
    },
    "id": "3jC4lsTeMG4h",
    "outputId": "ea3728b0-ffac-47b8-edb8-82e0df7edf40"
   },
   "outputs": [],
   "source": [
    "# change back the working directory to /content\n",
    "%cd /content\n",
    "!ls"
   ]
  },
  {
   "cell_type": "markdown",
   "metadata": {
    "id": "R7LYduoJJh1H"
   },
   "source": [
    "## Non-persistence of Colab Virtual Machines\n",
    "\n",
    "An important thing to note about Colab is that files you create during the session will not persist once the runtime shuts down. Google creates these temporary virtual environments to host your notebook, but it shuts them down so the resource can be reallocated to other notebooks. The runtime will shutdown automatically if not used for a few hours, so be careful about files that are created during the session.\n",
    "\n",
    "This means that the `cmps6790` folder that we just created will disappear if we restart the session. You can test this by clicking on `Runtime->Disconnect and delete Runtime`. If you do so, you'll notice `cmps6790` is gone:"
   ]
  },
  {
   "cell_type": "code",
   "execution_count": null,
   "metadata": {
    "colab": {
     "base_uri": "https://localhost:8080/"
    },
    "executionInfo": {
     "elapsed": 261,
     "status": "ok",
     "timestamp": 1691180872173,
     "user": {
      "displayName": "Aron C",
      "userId": "07834910496055545653"
     },
     "user_tz": 300
    },
    "id": "Nqin2Jd3KFi5",
    "outputId": "1d2e596b-1cb4-4c38-cfd7-6e4d3c9336b2"
   },
   "outputs": [],
   "source": [
    "!ls"
   ]
  },
  {
   "cell_type": "markdown",
   "metadata": {
    "id": "feWVZyKiKP1M"
   },
   "source": [
    "To get it back, you'll have to issue the `git clone` command above again.\n",
    "\n",
    "\n",
    "While these newly created files will disappear, note that the code you write in this notebook should be fine. It should be saved in the `Colab Notebooks` folder in the root of your Google Drive. Please be sure to save frequently as you are working on assignments."
   ]
  },
  {
   "cell_type": "markdown",
   "metadata": {
    "id": "3q3GKbw6KrC7"
   },
   "source": [
    "## Mounting Your Google Drive\n",
    "\n",
    "On some occasions, you may want to create data that will persist. For example, when working on your course project, you don't want to re-collect any data you need for your analysis.\n",
    "\n",
    "One way to make this data persist is to write directly to your Google Drive, rather than to this virual machine. To do so, we can use a Python command to \"mount\" the Google Drive. This will pop up a screen asking you to give this Colab notebook access to your Google Drive. **If you have multiple Google accounts, please be sure to use the same one consistently throughout the course.**:"
   ]
  },
  {
   "cell_type": "code",
   "execution_count": null,
   "metadata": {
    "colab": {
     "base_uri": "https://localhost:8080/"
    },
    "executionInfo": {
     "elapsed": 17453,
     "status": "ok",
     "timestamp": 1691180916130,
     "user": {
      "displayName": "Aron C",
      "userId": "07834910496055545653"
     },
     "user_tz": 300
    },
    "id": "WN-VhFhMLI1R",
    "outputId": "753ffda2-605e-4f45-9d2a-12f94a55f6b0"
   },
   "outputs": [],
   "source": [
    "# Mount our personal google drive. This will pop up a\n",
    "# confirmation screen giving this notebook access to your Google drive.\n",
    "# You will first need a gmail account for this to work.\n",
    "from google.colab import drive\n",
    "drive.mount('/content/drive')"
   ]
  },
  {
   "cell_type": "markdown",
   "metadata": {
    "id": "LCHIXfGS02xa"
   },
   "source": [
    "You should now see the contents of your Google drive by navigating to the folder icon in the left panel. It is viewable at `/content/drive/MyDrive`.\n",
    "\n",
    "You can also use the `ls` command to list the contents of your Google Drive:"
   ]
  },
  {
   "cell_type": "code",
   "execution_count": null,
   "metadata": {
    "id": "0aW9AGXI9GBG"
   },
   "outputs": [],
   "source": [
    "!ls /content/drive/MyDrive"
   ]
  },
  {
   "cell_type": "markdown",
   "metadata": {
    "id": "1gg8RMZQ2DM5"
   },
   "source": [
    "To change the current working directory to be the location of your Google drive, we will issue a `cd` command preceded by the % symbol. The difference between ! and % is that % will actually have a persistent effect on the notebook."
   ]
  },
  {
   "cell_type": "code",
   "execution_count": null,
   "metadata": {
    "colab": {
     "base_uri": "https://localhost:8080/"
    },
    "executionInfo": {
     "elapsed": 154,
     "status": "ok",
     "timestamp": 1691180958618,
     "user": {
      "displayName": "Aron C",
      "userId": "07834910496055545653"
     },
     "user_tz": 300
    },
    "id": "6KhZtg8jJEln",
    "outputId": "a545d0cf-455a-417c-8b40-3e7402d75610"
   },
   "outputs": [],
   "source": [
    "%cd /content/drive/My Drive"
   ]
  },
  {
   "cell_type": "code",
   "execution_count": null,
   "metadata": {
    "colab": {
     "base_uri": "https://localhost:8080/"
    },
    "executionInfo": {
     "elapsed": 182,
     "status": "ok",
     "timestamp": 1691180961876,
     "user": {
      "displayName": "Aron C",
      "userId": "07834910496055545653"
     },
     "user_tz": 300
    },
    "id": "W-gcPuCT2Xnl",
    "outputId": "c96c9a27-225a-4cc6-bcd0-c47deba4814b"
   },
   "outputs": [],
   "source": [
    "!pwd"
   ]
  },
  {
   "cell_type": "markdown",
   "metadata": {
    "id": "b_t9_qO0NRR2"
   },
   "source": [
    "To test that this works, we will create a text file and write a sentence to it."
   ]
  },
  {
   "cell_type": "code",
   "execution_count": null,
   "metadata": {
    "id": "YWM4V4pGNVly"
   },
   "outputs": [],
   "source": [
    "outf = open('test_file.txt', 'wt')\n",
    "outf.write('Hello from Colab!')\n",
    "outf.close()"
   ]
  },
  {
   "cell_type": "markdown",
   "metadata": {
    "id": "IOEuST9wNlVk"
   },
   "source": [
    "We can see that this file exists by printing its contents here:"
   ]
  },
  {
   "cell_type": "code",
   "execution_count": null,
   "metadata": {
    "colab": {
     "base_uri": "https://localhost:8080/"
    },
    "executionInfo": {
     "elapsed": 277,
     "status": "ok",
     "timestamp": 1691180983852,
     "user": {
      "displayName": "Aron C",
      "userId": "07834910496055545653"
     },
     "user_tz": 300
    },
    "id": "Tk66xlETNbFx",
    "outputId": "11f003b6-2753-49e4-906f-c7b8411d16ca"
   },
   "outputs": [],
   "source": [
    "!cat test_file.txt"
   ]
  },
  {
   "cell_type": "markdown",
   "metadata": {
    "id": "3yBrzo_WNrQ2"
   },
   "source": [
    "You should also see this file when you navigate to your Google Drive separately in your browser.\n",
    "\n",
    "This file will remain here even if you shutdown the runtime of this notebook."
   ]
  },
  {
   "cell_type": "markdown",
   "metadata": {
    "id": "5FRwaYMkN3e3"
   },
   "source": [
    "## Data for Labs\n",
    "\n",
    "The data used in the labs is in the `_labs/data` folder of the course repository.\n",
    "\n",
    "Since we already cloned the repository, let's naviage to the `_labs` folder:"
   ]
  },
  {
   "cell_type": "code",
   "execution_count": null,
   "metadata": {
    "colab": {
     "base_uri": "https://localhost:8080/"
    },
    "executionInfo": {
     "elapsed": 181,
     "status": "ok",
     "timestamp": 1691181000545,
     "user": {
      "displayName": "Aron C",
      "userId": "07834910496055545653"
     },
     "user_tz": 300
    },
    "id": "Y6BZ1XieOCEq",
    "outputId": "296c6b8b-7f33-4957-f6dc-42636f3c27cc"
   },
   "outputs": [],
   "source": [
    "%cd /content/cmps3160/_labs/\n",
    "!ls"
   ]
  },
  {
   "cell_type": "markdown",
   "metadata": {
    "id": "iKYXQYqH4TRM"
   },
   "source": [
    "The `data` folder contains all the data used for the labs."
   ]
  },
  {
   "cell_type": "code",
   "execution_count": null,
   "metadata": {
    "colab": {
     "base_uri": "https://localhost:8080/"
    },
    "executionInfo": {
     "elapsed": 209,
     "status": "ok",
     "timestamp": 1691181005820,
     "user": {
      "displayName": "Aron C",
      "userId": "07834910496055545653"
     },
     "user_tz": 300
    },
    "id": "d-NkpimW4jpA",
    "outputId": "06a28590-ca63-47e8-e6a1-17a6ab628617"
   },
   "outputs": [],
   "source": [
    "!ls data"
   ]
  },
  {
   "cell_type": "markdown",
   "metadata": {
    "id": "00tmjw-w4eYq"
   },
   "source": [
    "The next lab will work with the file `titanic.csv`, which contains information on passengers of the ill-fated Titanic passenger ship. You can use the command `head` to see the first ten lines of this file."
   ]
  },
  {
   "cell_type": "code",
   "execution_count": null,
   "metadata": {
    "colab": {
     "base_uri": "https://localhost:8080/"
    },
    "executionInfo": {
     "elapsed": 180,
     "status": "ok",
     "timestamp": 1691181009307,
     "user": {
      "displayName": "Aron C",
      "userId": "07834910496055545653"
     },
     "user_tz": 300
    },
    "id": "FWaiyCOv0Cw5",
    "outputId": "1e45fd25-813a-4e20-9f15-f645be471a6d"
   },
   "outputs": [],
   "source": [
    "!head data/titanic.csv"
   ]
  },
  {
   "cell_type": "markdown",
   "metadata": {
    "id": "U6-zRO0CDmKi"
   },
   "source": [
    "We can see that this is a comma-separated file, where each row contains information on a ship passenger."
   ]
  },
  {
   "cell_type": "markdown",
   "metadata": {
    "id": "lt7vmxhLDGof"
   },
   "source": [
    "## Pandas\n",
    "\n",
    "Pandas is a Python library that we will be using extensively to store and analyze data. You can find a brief overview of Pandas [here](https://pandas.pydata.org/docs/user_guide/10min.html).\n",
    "\n",
    "The key data structure in Pandas is the [DataFrame](https://pandas.pydata.org/pandas-docs/stable/reference/api/pandas.DataFrame.html), which is conceptually similar to an Excel spreadsheet.\n",
    "\n",
    "Below, we import the `pandas` library and read `titanic.csv` into a new DataFrame object called `df`.\n",
    "\n",
    "Note that the path we enter here will depend on the current working directory. Here, we assume we are already in the `/content/cmps3160/_labs` folder, so we use the **relative path** `data/titanic.csv` in order to read in the file. This path is relative to the current working directory.\n",
    "\n",
    "We can print the first five rows of the DataFrame using the `.head()` command."
   ]
  },
  {
   "cell_type": "code",
   "execution_count": null,
   "metadata": {
    "colab": {
     "base_uri": "https://localhost:8080/",
     "height": 206
    },
    "executionInfo": {
     "elapsed": 806,
     "status": "ok",
     "timestamp": 1691181017217,
     "user": {
      "displayName": "Aron C",
      "userId": "07834910496055545653"
     },
     "user_tz": 300
    },
    "id": "G6bKHXluQY7J",
    "outputId": "480db7b4-37b4-4235-933f-02862a473093"
   },
   "outputs": [],
   "source": [
    "import pandas as pd\n",
    "df = pd.read_csv('data/titanic.csv')\n",
    "df.head()"
   ]
  },
  {
   "cell_type": "code",
   "execution_count": null,
   "metadata": {
    "colab": {
     "base_uri": "https://localhost:8080/"
    },
    "executionInfo": {
     "elapsed": 163,
     "status": "ok",
     "timestamp": 1691181020514,
     "user": {
      "displayName": "Aron C",
      "userId": "07834910496055545653"
     },
     "user_tz": 300
    },
    "id": "n48pVTmMCPF5",
    "outputId": "515818c2-d29b-4895-88b1-1b96a58138e2"
   },
   "outputs": [],
   "source": [
    "# How many rows are there?\n",
    "len(df)"
   ]
  },
  {
   "cell_type": "markdown",
   "metadata": {
    "id": "nvJeLkUhTweD"
   },
   "source": [
    "In the next labs, will work with DataFrames in more detail. For now, please complete the short exercises below and submit your notebook to Canvas,"
   ]
  },
  {
   "cell_type": "markdown",
   "metadata": {
    "id": "xpV26Ov8Hmes"
   },
   "source": [
    "## Exercises\n",
    "\n",
    "**1. Change the current working directory to the folder in `cmps3160/_demos/data/`.**"
   ]
  },
  {
   "cell_type": "code",
   "execution_count": null,
   "metadata": {
    "id": "vu2Xo2CbIveU"
   },
   "outputs": [],
   "source": [
    "# TODO: your code here"
   ]
  },
  {
   "cell_type": "markdown",
   "metadata": {
    "id": "K696Nd0vJcgw"
   },
   "source": [
    "Expected output:\n",
    "\n",
    "```\n",
    "/content/cmps3160/_demos/data\n",
    "```"
   ]
  },
  {
   "cell_type": "markdown",
   "metadata": {
    "id": "eYygrdVGJShy"
   },
   "source": [
    "**2. List the contents of this directory.**"
   ]
  },
  {
   "cell_type": "code",
   "execution_count": null,
   "metadata": {
    "id": "taIsgHBcJU4F"
   },
   "outputs": [],
   "source": [
    "# TODO: your code here"
   ]
  },
  {
   "cell_type": "markdown",
   "metadata": {
    "id": "Z4yfDGI-JiLy"
   },
   "source": [
    "Expected output:\n",
    "\n",
    "```\n",
    "adult.csv      boundry.png  nba_salaries.csv  review_polarity.zip\n",
    "billboard.csv  iris.csv     nba_stats.csv     titanic.csv\n",
    "bodyfat.csv    iris.png     religon.csv\n",
    "```"
   ]
  },
  {
   "cell_type": "markdown",
   "metadata": {
    "id": "rORN2pB6K9Op"
   },
   "source": [
    "**3. Oh look, there's another `titanic.csv` file in here. Read it into a new DataFrame called `df2` and print the first row.**"
   ]
  },
  {
   "cell_type": "code",
   "execution_count": null,
   "metadata": {
    "id": "wLL7sfzHHorb"
   },
   "outputs": [],
   "source": [
    "# TODO: your code here"
   ]
  },
  {
   "cell_type": "markdown",
   "metadata": {
    "id": "3ff_E3hlImwM"
   },
   "source": [
    "**4. DataFrame objects have a  `.describe()` method that summarizing the data. Run it below:**"
   ]
  },
  {
   "cell_type": "code",
   "execution_count": null,
   "metadata": {
    "id": "yk365pTXRVUL"
   },
   "outputs": [],
   "source": [
    "# TODO: your code here"
   ]
  },
  {
   "cell_type": "markdown",
   "metadata": {
    "id": "f4rLBeYcRb8F"
   },
   "source": [
    "Expected output:\n",
    "\n",
    "\n",
    "|       |      pclass |    survived |       age |       sibsp |       parch |      fare |     body |\n",
    "|:------|------------:|------------:|----------:|------------:|------------:|----------:|---------:|\n",
    "| count | 1309        | 1309        | 1046      | 1309        | 1309        | 1308      | 121      |\n",
    "| mean  |    2.29488  |    0.381971 |   29.8811 |    0.498854 |    0.385027 |   33.2955 | 160.81   |\n",
    "| std   |    0.837836 |    0.486055 |   14.4135 |    1.04166  |    0.86556  |   51.7587 |  97.6969 |\n",
    "| min   |    1        |    0        |    0.1667 |    0        |    0        |    0      |   1      |\n",
    "| 25%   |    2        |    0        |   21      |    0        |    0        |    7.8958 |  72      |\n",
    "| 50%   |    3        |    0        |   28      |    0        |    0        |   14.4542 | 155      |\n",
    "| 75%   |    3        |    1        |   39      |    1        |    0        |   31.275  | 256      |\n",
    "| max   |    3        |    1        |   80      |    8        |    9        |  512.329  | 328      |\n"
   ]
  },
  {
   "cell_type": "markdown",
   "metadata": {
    "id": "wv9ZRCspIXVZ"
   },
   "source": [
    "5. By looking at the output and reading the [method documentation](https://pandas.pydata.org/docs/reference/api/pandas.DataFrame.describe.html) answer the following questions:\n",
    "\n",
    "**5a. What fraction of passengers survived (rounded to two decimal places)?**"
   ]
  },
  {
   "cell_type": "markdown",
   "metadata": {
    "id": "F41NSd76Ryqc"
   },
   "source": [
    "**TODO: Enter a number here.**"
   ]
  },
  {
   "cell_type": "markdown",
   "metadata": {
    "id": "neqZ4JDSR4D3"
   },
   "source": [
    "**5b. What was the median fare (rounded to the nearest dollar)?**"
   ]
  },
  {
   "cell_type": "markdown",
   "metadata": {
    "id": "UKy0CbbPR-KR"
   },
   "source": [
    "**TODO: Enter a number here.**"
   ]
  },
  {
   "cell_type": "markdown",
   "metadata": {
    "id": "XKzkw6CMSRIN"
   },
   "source": [
    "**5c. Were there more 1st class passengers or 3rd class passengers?**"
   ]
  },
  {
   "cell_type": "markdown",
   "metadata": {
    "id": "pPBLYwyeSd_9"
   },
   "source": [
    "**TODO: Enter 1st or 3rd here**"
   ]
  },
  {
   "cell_type": "markdown",
   "metadata": {
    "id": "0qLzN7CdSl57"
   },
   "source": [
    "**To submit:**\n",
    "\n",
    "1. File->Download .ipynb\n",
    "2. Upload the .ipynb file to the appropriate assignment in [Canvas](https://tulane.instructure.com/)"
   ]
  }
 ],
 "metadata": {
  "colab": {
   "provenance": []
  },
  "kernelspec": {
   "display_name": "Python 3 (ipykernel)",
   "language": "python",
   "name": "python3"
  },
  "language_info": {
   "codemirror_mode": {
    "name": "ipython",
    "version": 3
   },
   "file_extension": ".py",
   "mimetype": "text/x-python",
   "name": "python",
   "nbconvert_exporter": "python",
   "pygments_lexer": "ipython3",
   "version": "3.11.5"
  },
  "vscode": {
   "interpreter": {
    "hash": "aee8b7b246df8f9039afb4144a1f6fd8d2ca17a180786b69acc140d282b71a49"
   }
  }
 },
 "nbformat": 4,
 "nbformat_minor": 4
}
