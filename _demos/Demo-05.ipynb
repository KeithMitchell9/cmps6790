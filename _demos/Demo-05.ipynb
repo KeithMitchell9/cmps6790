{
 "cells": [
  {
   "cell_type": "markdown",
   "metadata": {
    "id": "VtYfPdFuR7Xa"
   },
   "source": [
    "# Demo 05 - Pandas, Data Tables, and Tidy Data\n",
    "\n",
    "In this demo we will go over some of the basics of Pandas, so that you have examples of the basic functionality for reference. We then move into working with those data tables, a deep dive on the GroupBy command and how it works, and finish with another deep dive on Melting data and the concepts of Tidy Data."
   ]
  },
  {
   "cell_type": "code",
   "execution_count": null,
   "metadata": {},
   "outputs": [],
   "source": [
    "# clone the course repository, change to right directory, and import libraries.\n",
    "%cd /content\n",
    "!git clone https://github.com/nmattei/cmps6790.git\n",
    "%cd /content/cmps6790/_demos"
   ]
  },
  {
   "cell_type": "code",
   "execution_count": null,
   "metadata": {
    "colab": {
     "base_uri": "https://localhost:8080/"
    },
    "executionInfo": {
     "elapsed": 9035,
     "status": "ok",
     "timestamp": 1691183215430,
     "user": {
      "displayName": "Aron C",
      "userId": "07834910496055545653"
     },
     "user_tz": 300
    },
    "id": "uaG4gik6R7Xf",
    "outputId": "b9216e78-a8c3-4b8e-b83f-95d88ddfbfc2"
   },
   "outputs": [],
   "source": [
    "import pandas as pd\n",
    "import numpy as np\n",
    "import matplotlib.pyplot as plt\n",
    "import seaborn as sns\n",
    "plt.style.use('fivethirtyeight')\n",
    "# Make the fonts a little bigger in our graphs.\n",
    "font = {'size'   : 20}\n",
    "plt.rc('font', **font)\n",
    "plt.rcParams['mathtext.fontset'] = 'cm'\n",
    "plt.rcParams['pdf.fonttype'] = 42"
   ]
  },
  {
   "cell_type": "markdown",
   "metadata": {
    "id": "wTLj_3KrR7Xi"
   },
   "source": [
    "## Basic Pandas Functionality\n",
    "\n",
    "### Creating Tables\n",
    "\n",
    "First, let's take a look at some basic Pandas functionality. These are small examples to show the ideas of creating, selecting from, and working with data tables."
   ]
  },
  {
   "cell_type": "code",
   "execution_count": null,
   "metadata": {
    "colab": {
     "base_uri": "https://localhost:8080/",
     "height": 206
    },
    "executionInfo": {
     "elapsed": 42,
     "status": "ok",
     "timestamp": 1691183215431,
     "user": {
      "displayName": "Aron C",
      "userId": "07834910496055545653"
     },
     "user_tz": 300
    },
    "id": "Va8nHZtkR7Xj",
    "outputId": "1c17caec-937c-42a6-afb0-fcb37001522b"
   },
   "outputs": [],
   "source": [
    "s1 = pd.DataFrame([0.3, 0.8, 0.1, 4.0, 1.2],\n",
    "                  index = ['a', 'c', 'd', 'e', 'f'],\n",
    "                  columns=['data'])\n",
    "\n",
    "display(s1)"
   ]
  },
  {
   "cell_type": "code",
   "execution_count": null,
   "metadata": {
    "colab": {
     "base_uri": "https://localhost:8080/",
     "height": 174
    },
    "executionInfo": {
     "elapsed": 40,
     "status": "ok",
     "timestamp": 1691183215432,
     "user": {
      "displayName": "Aron C",
      "userId": "07834910496055545653"
     },
     "user_tz": 300
    },
    "id": "GE2RZmR7R7Xk",
    "outputId": "a367641c-664b-4539-ce60-9b7dcd7b5aa2"
   },
   "outputs": [],
   "source": [
    "s2 = pd.DataFrame([0.9, 0.1, 4.8, 0.3],\n",
    "                  index = ['b', 'c', 'd', 'g'],\n",
    "                  columns=['data'])\n",
    "display(s2)"
   ]
  },
  {
   "cell_type": "markdown",
   "metadata": {
    "id": "kAE3TKI7R7Xk"
   },
   "source": [
    "Re-index can get used to do some funky things or make bigger frames.. this is not common usage but you use reindex to make new entries in an already existing table.  [Doc Page](https://pandas.pydata.org/pandas-docs/stable/reference/api/pandas.DataFrame.reindex.html)\n",
    "\n",
    "```Places NA/NaN in locations having no value in the previous index. A new object is produced unless the new index is equivalent to the current one and copy=False.```"
   ]
  },
  {
   "cell_type": "code",
   "execution_count": null,
   "metadata": {
    "colab": {
     "base_uri": "https://localhost:8080/",
     "height": 708
    },
    "executionInfo": {
     "elapsed": 38,
     "status": "ok",
     "timestamp": 1691183215432,
     "user": {
      "displayName": "Aron C",
      "userId": "07834910496055545653"
     },
     "user_tz": 300
    },
    "id": "Ou55r3PaR7Xl",
    "outputId": "90054948-ea12-4ce3-e0f4-bfd651d441d1"
   },
   "outputs": [],
   "source": [
    "# We can use re-index to fill in some gaps if we want..\n",
    "import string\n",
    "\n",
    "display(s1.reindex(list(string.ascii_lowercase)[:10]))\n",
    "\n",
    "# We can also use the 'ffill' method to fill the missing data with the closest data.\n",
    "display(s1.reindex(list(string.ascii_lowercase)[:10], method='ffill'))"
   ]
  },
  {
   "cell_type": "markdown",
   "metadata": {
    "id": "Gbuur3DBR7Xl"
   },
   "source": [
    "Note that the above operation did not happen in place! so that our s1 table is preserved!"
   ]
  },
  {
   "cell_type": "code",
   "execution_count": null,
   "metadata": {
    "colab": {
     "base_uri": "https://localhost:8080/",
     "height": 206
    },
    "executionInfo": {
     "elapsed": 38,
     "status": "ok",
     "timestamp": 1691183215433,
     "user": {
      "displayName": "Aron C",
      "userId": "07834910496055545653"
     },
     "user_tz": 300
    },
    "id": "GouMnYf2R7Xm",
    "outputId": "30c19256-2de8-4e8e-cbb2-8d123b42a659"
   },
   "outputs": [],
   "source": [
    "display(s1)"
   ]
  },
  {
   "cell_type": "markdown",
   "metadata": {
    "id": "qur_-2T4R7Xm"
   },
   "source": [
    "### Filtering, Selecting, and Setting Data.\n",
    "\n",
    "The first question we might have is how do we get at data in our dataframe? The easiest way is to get a location by it's `index` or `label`. To do this we use the `.loc` command. We can use this command to slice by the index as well!\n",
    "\n",
    "For more on the difference between loc and iloc see the [10 Mins to Pandas](https://pandas.pydata.org/docs/user_guide/10min.html) documentation."
   ]
  },
  {
   "cell_type": "code",
   "execution_count": null,
   "metadata": {
    "colab": {
     "base_uri": "https://localhost:8080/"
    },
    "executionInfo": {
     "elapsed": 36,
     "status": "ok",
     "timestamp": 1691183215433,
     "user": {
      "displayName": "Aron C",
      "userId": "07834910496055545653"
     },
     "user_tz": 300
    },
    "id": "WRI0jscTR7Xn",
    "outputId": "b89955f5-27b9-4643-9197-c932c9b2bb6e"
   },
   "outputs": [],
   "source": [
    "# Selection by location or loc\n",
    "\n",
    "s1.loc['f']"
   ]
  },
  {
   "cell_type": "code",
   "execution_count": null,
   "metadata": {
    "colab": {
     "base_uri": "https://localhost:8080/",
     "height": 143
    },
    "executionInfo": {
     "elapsed": 30,
     "status": "ok",
     "timestamp": 1691183215434,
     "user": {
      "displayName": "Aron C",
      "userId": "07834910496055545653"
     },
     "user_tz": 300
    },
    "id": "tA6vNtwwR7Xn",
    "outputId": "5a3b048f-c11c-4aa7-ee17-e7a3bc5a726d"
   },
   "outputs": [],
   "source": [
    "s1.loc['a':'d']"
   ]
  },
  {
   "cell_type": "code",
   "execution_count": null,
   "metadata": {
    "colab": {
     "base_uri": "https://localhost:8080/"
    },
    "executionInfo": {
     "elapsed": 30,
     "status": "ok",
     "timestamp": 1691183215435,
     "user": {
      "displayName": "Aron C",
      "userId": "07834910496055545653"
     },
     "user_tz": 300
    },
    "id": "_La8ZMZQR7Xn",
    "outputId": "aed2f2ec-14d1-4afd-f621-4afac85bb189"
   },
   "outputs": [],
   "source": [
    "s2.loc['b']"
   ]
  },
  {
   "cell_type": "markdown",
   "metadata": {
    "id": "BGc6FU9uR7Xo"
   },
   "source": [
    "We can also use the `iloc` command to get a row by it's **interger position**."
   ]
  },
  {
   "cell_type": "code",
   "execution_count": null,
   "metadata": {
    "colab": {
     "base_uri": "https://localhost:8080/"
    },
    "executionInfo": {
     "elapsed": 28,
     "status": "ok",
     "timestamp": 1691183215436,
     "user": {
      "displayName": "Aron C",
      "userId": "07834910496055545653"
     },
     "user_tz": 300
    },
    "id": "a9ORhsV0R7Xo",
    "outputId": "933420e7-2aba-4eff-cc28-7d52e29d4dc8"
   },
   "outputs": [],
   "source": [
    "# Selection by position, iloc\n",
    "s2.iloc[0]"
   ]
  },
  {
   "cell_type": "code",
   "execution_count": null,
   "metadata": {
    "colab": {
     "base_uri": "https://localhost:8080/",
     "height": 143
    },
    "executionInfo": {
     "elapsed": 26,
     "status": "ok",
     "timestamp": 1691183215437,
     "user": {
      "displayName": "Aron C",
      "userId": "07834910496055545653"
     },
     "user_tz": 300
    },
    "id": "c2Ei-9DDR7Xo",
    "outputId": "dac71cfd-4ade-431d-f8b8-a3f4296793f9"
   },
   "outputs": [],
   "source": [
    "display(s1.iloc[0:3])"
   ]
  },
  {
   "cell_type": "markdown",
   "metadata": {
    "id": "koL_FxAYR7Xp"
   },
   "source": [
    "**Gotcha Warning!** Note that loc is inclusive while iloc is not inclusive at the end of the range -- just like indexing into an array!"
   ]
  },
  {
   "cell_type": "code",
   "execution_count": null,
   "metadata": {
    "colab": {
     "base_uri": "https://localhost:8080/",
     "height": 332
    },
    "executionInfo": {
     "elapsed": 805,
     "status": "ok",
     "timestamp": 1691183216217,
     "user": {
      "displayName": "Aron C",
      "userId": "07834910496055545653"
     },
     "user_tz": 300
    },
    "id": "ehUyrUZuR7Xp",
    "outputId": "69fefa23-06f5-4dad-fa74-6e3e01f79fb8"
   },
   "outputs": [],
   "source": [
    "display(s1)\n",
    "display(s1.iloc[1:4])\n"
   ]
  },
  {
   "cell_type": "markdown",
   "metadata": {
    "id": "RmCS2HLRR7Xp"
   },
   "source": [
    "We can use set data in a data frame by using the `at` and `iat` commands."
   ]
  },
  {
   "cell_type": "code",
   "execution_count": null,
   "metadata": {
    "colab": {
     "base_uri": "https://localhost:8080/",
     "height": 394
    },
    "executionInfo": {
     "elapsed": 80,
     "status": "ok",
     "timestamp": 1691183216217,
     "user": {
      "displayName": "Aron C",
      "userId": "07834910496055545653"
     },
     "user_tz": 300
    },
    "id": "Ms6_4hGPR7Xp",
    "outputId": "7a76c7eb-31f3-4e87-826f-00b81a65694b"
   },
   "outputs": [],
   "source": [
    "display(s1)\n",
    "s1.at['a','data'] = 0\n",
    "display(s1)"
   ]
  },
  {
   "cell_type": "code",
   "execution_count": null,
   "metadata": {
    "colab": {
     "base_uri": "https://localhost:8080/",
     "height": 394
    },
    "executionInfo": {
     "elapsed": 79,
     "status": "ok",
     "timestamp": 1691183216218,
     "user": {
      "displayName": "Aron C",
      "userId": "07834910496055545653"
     },
     "user_tz": 300
    },
    "id": "v15JVhM7R7Xq",
    "outputId": "43a1fa0a-d51a-4475-d89f-83c6d7999bec"
   },
   "outputs": [],
   "source": [
    "display(s1)\n",
    "s1.iat[2,0] = 0\n",
    "display(s1)"
   ]
  },
  {
   "cell_type": "markdown",
   "metadata": {
    "id": "JLiFum2RR7Xq"
   },
   "source": [
    "Note that both of the above operations happened inplace!! **Why?**"
   ]
  },
  {
   "cell_type": "code",
   "execution_count": null,
   "metadata": {
    "executionInfo": {
     "elapsed": 78,
     "status": "ok",
     "timestamp": 1691183216219,
     "user": {
      "displayName": "Aron C",
      "userId": "07834910496055545653"
     },
     "user_tz": 300
    },
    "id": "fJVOq5NQR7Xr"
   },
   "outputs": [],
   "source": [
    "# Let's reset our data frames since we messed them up!\n",
    "\n",
    "s1 = pd.DataFrame([0.3, 0.8, 0.1, 4.0, 1.2],\n",
    "                  index = ['a', 'c', 'd', 'e', 'f'],\n",
    "                  columns=['data'])\n",
    "\n",
    "s2 = pd.DataFrame([0.9, 0.1, 4.8, 0.3],\n",
    "                  index = ['b', 'c', 'd', 'g'],\n",
    "                  columns=['data'])"
   ]
  },
  {
   "cell_type": "code",
   "execution_count": null,
   "metadata": {
    "colab": {
     "base_uri": "https://localhost:8080/"
    },
    "executionInfo": {
     "elapsed": 77,
     "status": "ok",
     "timestamp": 1691183216219,
     "user": {
      "displayName": "Aron C",
      "userId": "07834910496055545653"
     },
     "user_tz": 300
    },
    "id": "wCLytKq8R7Xr",
    "outputId": "30817fc1-3c84-4e73-98e4-8ea539bf4bc7"
   },
   "outputs": [],
   "source": [
    "# Recall we can also use aggregation operators over the columns\n",
    "\n",
    "s2['data'].sum()"
   ]
  },
  {
   "cell_type": "markdown",
   "metadata": {
    "id": "HAh9Bq71R7Xr"
   },
   "source": [
    "As we have seen we can use boolean operations to filter and select data. Recall that these operations return a **view** of the data and not a copy of the dataframe."
   ]
  },
  {
   "cell_type": "code",
   "execution_count": null,
   "metadata": {
    "colab": {
     "base_uri": "https://localhost:8080/",
     "height": 80
    },
    "executionInfo": {
     "elapsed": 71,
     "status": "ok",
     "timestamp": 1691183216220,
     "user": {
      "displayName": "Aron C",
      "userId": "07834910496055545653"
     },
     "user_tz": 300
    },
    "id": "c21AP25FR7Xr",
    "outputId": "9fff988f-e8e6-4458-9e9b-b04a71e2073f"
   },
   "outputs": [],
   "source": [
    "s2[s2['data'] > 3]"
   ]
  },
  {
   "cell_type": "code",
   "execution_count": null,
   "metadata": {
    "colab": {
     "base_uri": "https://localhost:8080/",
     "height": 49
    },
    "executionInfo": {
     "elapsed": 70,
     "status": "ok",
     "timestamp": 1691183216221,
     "user": {
      "displayName": "Aron C",
      "userId": "07834910496055545653"
     },
     "user_tz": 300
    },
    "id": "gP01C8pcR7Xr",
    "outputId": "49b39e6d-982b-40f2-cb25-1496d22b02ff"
   },
   "outputs": [],
   "source": [
    "s1[ (s1['data'] < 1.0) & (s1['data'] > 3.0) ]"
   ]
  },
  {
   "cell_type": "code",
   "execution_count": null,
   "metadata": {
    "colab": {
     "base_uri": "https://localhost:8080/",
     "height": 206
    },
    "executionInfo": {
     "elapsed": 69,
     "status": "ok",
     "timestamp": 1691183216221,
     "user": {
      "displayName": "Aron C",
      "userId": "07834910496055545653"
     },
     "user_tz": 300
    },
    "id": "JFMnPISHR7Xs",
    "outputId": "41a02d14-5978-47ff-aa9d-d2cdbbac51ed"
   },
   "outputs": [],
   "source": [
    "s1"
   ]
  },
  {
   "cell_type": "markdown",
   "metadata": {
    "id": "H3l6F-ZuR7Xs"
   },
   "source": [
    "### Operations on Data Tables - Broadcasting\n",
    "\n",
    "When we add constants to a table we get something called **broadcasting** where the operation happens to every element of a table (or column!) You can read more about this essential basic functionality at the [Pandas Documentation Website](https://pandas.pydata.org/docs/user_guide/basics.html)"
   ]
  },
  {
   "cell_type": "code",
   "execution_count": null,
   "metadata": {
    "colab": {
     "base_uri": "https://localhost:8080/",
     "height": 206
    },
    "executionInfo": {
     "elapsed": 68,
     "status": "ok",
     "timestamp": 1691183216221,
     "user": {
      "displayName": "Aron C",
      "userId": "07834910496055545653"
     },
     "user_tz": 300
    },
    "id": "xggk1qxuR7Xs",
    "outputId": "e16ceb53-d11c-4b8a-faac-91c61b8adedc"
   },
   "outputs": [],
   "source": [
    "s1 + 0.5"
   ]
  },
  {
   "cell_type": "code",
   "execution_count": null,
   "metadata": {
    "colab": {
     "base_uri": "https://localhost:8080/",
     "height": 174
    },
    "executionInfo": {
     "elapsed": 68,
     "status": "ok",
     "timestamp": 1691183216222,
     "user": {
      "displayName": "Aron C",
      "userId": "07834910496055545653"
     },
     "user_tz": 300
    },
    "id": "tjBaQPKHR7Xs",
    "outputId": "481fedae-ca10-41a5-9804-dbdee5928aad"
   },
   "outputs": [],
   "source": [
    "s2"
   ]
  },
  {
   "cell_type": "markdown",
   "metadata": {
    "id": "SXtU4AjWR7Xs"
   },
   "source": [
    "Note that the above operations did not happen **inplace** so that our tables remain the same as when we declared them! When you manipulate a datatable you must always tell pandas to either save that as a new variable or table, or to do the operation in place.\n",
    "\n",
    "**Question:** What happens if we add two tables together?"
   ]
  },
  {
   "cell_type": "code",
   "execution_count": null,
   "metadata": {
    "colab": {
     "base_uri": "https://localhost:8080/",
     "height": 363
    },
    "executionInfo": {
     "elapsed": 68,
     "status": "ok",
     "timestamp": 1691183216223,
     "user": {
      "displayName": "Aron C",
      "userId": "07834910496055545653"
     },
     "user_tz": 300
    },
    "id": "z1yAr_eJR7Xs",
    "outputId": "4ee5a421-4abd-401f-a8ed-730a493467bc"
   },
   "outputs": [],
   "source": [
    "# Note again that these operations did not happen in place!\n",
    "display(s1)\n",
    "display(s2)"
   ]
  },
  {
   "cell_type": "code",
   "execution_count": null,
   "metadata": {
    "colab": {
     "base_uri": "https://localhost:8080/",
     "height": 268
    },
    "executionInfo": {
     "elapsed": 67,
     "status": "ok",
     "timestamp": 1691183216223,
     "user": {
      "displayName": "Aron C",
      "userId": "07834910496055545653"
     },
     "user_tz": 300
    },
    "id": "gJgC43SoR7Xs",
    "outputId": "4d061a1a-a3d6-4a1b-cfff-1e7374602abb"
   },
   "outputs": [],
   "source": [
    "s1 + s2"
   ]
  },
  {
   "cell_type": "code",
   "execution_count": null,
   "metadata": {
    "colab": {
     "base_uri": "https://localhost:8080/",
     "height": 268
    },
    "executionInfo": {
     "elapsed": 66,
     "status": "ok",
     "timestamp": 1691183216224,
     "user": {
      "displayName": "Aron C",
      "userId": "07834910496055545653"
     },
     "user_tz": 300
    },
    "id": "TymhuoDxR7Xs",
    "outputId": "990333c0-47f4-4a83-90c4-29b8526b674b"
   },
   "outputs": [],
   "source": [
    "s1 - s2"
   ]
  },
  {
   "cell_type": "markdown",
   "metadata": {
    "id": "Ybyspa0mR7Xs"
   },
   "source": [
    "Note that + is like what we'll learn is an inner join soon but it also adds the numbers together!"
   ]
  },
  {
   "cell_type": "markdown",
   "metadata": {
    "id": "wb_cv_86R7Xt"
   },
   "source": [
    "You can also apply functions across and down and with lambdas..."
   ]
  },
  {
   "cell_type": "code",
   "execution_count": null,
   "metadata": {
    "colab": {
     "base_uri": "https://localhost:8080/",
     "height": 174
    },
    "executionInfo": {
     "elapsed": 65,
     "status": "ok",
     "timestamp": 1691183216224,
     "user": {
      "displayName": "Aron C",
      "userId": "07834910496055545653"
     },
     "user_tz": 300
    },
    "id": "-8J_yZQWR7Xt",
    "outputId": "6e300e2b-2df9-413c-a695-dd226568ee18"
   },
   "outputs": [],
   "source": [
    "frame = pd.DataFrame(np.random.randn(4,3), columns=list('abc'),\n",
    "                 index=['Utah', 'Ohio', 'Texas','Oregon'])\n",
    "display(frame)"
   ]
  },
  {
   "cell_type": "code",
   "execution_count": null,
   "metadata": {
    "colab": {
     "base_uri": "https://localhost:8080/",
     "height": 174
    },
    "executionInfo": {
     "elapsed": 65,
     "status": "ok",
     "timestamp": 1691183216225,
     "user": {
      "displayName": "Aron C",
      "userId": "07834910496055545653"
     },
     "user_tz": 300
    },
    "id": "uhYG48uUR7Xx",
    "outputId": "c9583230-85a0-4737-bf64-d953d760c44a"
   },
   "outputs": [],
   "source": [
    "frame.abs()"
   ]
  },
  {
   "cell_type": "code",
   "execution_count": null,
   "metadata": {
    "colab": {
     "base_uri": "https://localhost:8080/"
    },
    "executionInfo": {
     "elapsed": 63,
     "status": "ok",
     "timestamp": 1691183216225,
     "user": {
      "displayName": "Aron C",
      "userId": "07834910496055545653"
     },
     "user_tz": 300
    },
    "id": "CW_cVZVIR7Xy",
    "outputId": "bf1a1700-4eb6-42f8-db22-c858b8475494"
   },
   "outputs": [],
   "source": [
    "minmax = lambda x: x.max() - x.min()\n",
    "\n",
    "frame.apply(minmax)"
   ]
  },
  {
   "cell_type": "code",
   "execution_count": null,
   "metadata": {
    "colab": {
     "base_uri": "https://localhost:8080/"
    },
    "executionInfo": {
     "elapsed": 52,
     "status": "ok",
     "timestamp": 1691183216226,
     "user": {
      "displayName": "Aron C",
      "userId": "07834910496055545653"
     },
     "user_tz": 300
    },
    "id": "w-YkJjqNR7Xy",
    "outputId": "1934fa3f-c585-4fe1-8b02-4ae010c5277b"
   },
   "outputs": [],
   "source": [
    "# Default is axis=0 or per column, can also do per row!\n",
    "frame.apply(minmax, axis=1)\n"
   ]
  },
  {
   "cell_type": "markdown",
   "metadata": {
    "id": "qb7J_ACoR7Xy"
   },
   "source": [
    "### Operations on Data Tables - Ranking\n",
    "\n",
    "Some of the [Pandas Rank](https://pandas.pydata.org/pandas-docs/stable/reference/api/pandas.DataFrame.rank.html) commands aren't totally obvious..."
   ]
  },
  {
   "cell_type": "code",
   "execution_count": null,
   "metadata": {
    "colab": {
     "base_uri": "https://localhost:8080/",
     "height": 174
    },
    "executionInfo": {
     "elapsed": 49,
     "status": "ok",
     "timestamp": 1691183216227,
     "user": {
      "displayName": "Aron C",
      "userId": "07834910496055545653"
     },
     "user_tz": 300
    },
    "id": "sfVxQGTtR7Xy",
    "outputId": "72686272-08de-46c3-b4c6-6f7e50f83a01"
   },
   "outputs": [],
   "source": [
    "frame = pd.DataFrame({'a':[0, 1, 0, 1],\n",
    "                      'b':[4.3, 7, -3, 2],\n",
    "                   'c':[-2, 5, 8, -2.5]})\n",
    "display(frame)"
   ]
  },
  {
   "cell_type": "code",
   "execution_count": null,
   "metadata": {
    "colab": {
     "base_uri": "https://localhost:8080/",
     "height": 332
    },
    "executionInfo": {
     "elapsed": 48,
     "status": "ok",
     "timestamp": 1691183216228,
     "user": {
      "displayName": "Aron C",
      "userId": "07834910496055545653"
     },
     "user_tz": 300
    },
    "id": "QbEWNTa0R7Xy",
    "outputId": "340f8ff4-74b8-4396-cad6-1ee1063c3215"
   },
   "outputs": [],
   "source": [
    "# Default is average but you can do other things!\n",
    "\n",
    "display(frame.rank(ascending=False))\n",
    "\n",
    "display(frame.rank(ascending=False, method='first'))"
   ]
  },
  {
   "cell_type": "code",
   "execution_count": null,
   "metadata": {
    "colab": {
     "base_uri": "https://localhost:8080/",
     "height": 174
    },
    "executionInfo": {
     "elapsed": 46,
     "status": "ok",
     "timestamp": 1691183216228,
     "user": {
      "displayName": "Aron C",
      "userId": "07834910496055545653"
     },
     "user_tz": 300
    },
    "id": "xwDd86dOR7Xy",
    "outputId": "ca239a86-9bf7-4d99-9272-bb2d9087477b"
   },
   "outputs": [],
   "source": [
    "# Can also sort along rows!\n",
    "\n",
    "frame.rank(axis=1)"
   ]
  },
  {
   "cell_type": "markdown",
   "metadata": {
    "id": "Ef8hNSLpR7Xz"
   },
   "source": [
    "### Using Hierarchical Indices\n",
    "\n",
    "To set a **hierarchical index** one can refer to the [documetnation page](https://pandas.pydata.org/pandas-docs/stable/user_guide/advanced.html)."
   ]
  },
  {
   "cell_type": "code",
   "execution_count": null,
   "metadata": {
    "executionInfo": {
     "elapsed": 46,
     "status": "ok",
     "timestamp": 1691183216229,
     "user": {
      "displayName": "Aron C",
      "userId": "07834910496055545653"
     },
     "user_tz": 300
    },
    "id": "nrCiUS41R7Xz"
   },
   "outputs": [],
   "source": [
    "# Setting a heiararichal index -- The bad way would be to build up tuples as an index.\n",
    "\n",
    "index = [('California', 2000), ('California', 2010),\n",
    "         ('New York', 2000), ('New York', 2010),\n",
    "         ('Texas', 2000), ('Texas', 2010)]\n",
    "populations = [33871648, 37253956,\n",
    "               18976457, 19378102,\n",
    "               20851820, 25145561]\n",
    "pop = pd.Series(populations, index=index)"
   ]
  },
  {
   "cell_type": "code",
   "execution_count": null,
   "metadata": {
    "colab": {
     "base_uri": "https://localhost:8080/",
     "height": 143
    },
    "executionInfo": {
     "elapsed": 751,
     "status": "ok",
     "timestamp": 1691183216934,
     "user": {
      "displayName": "Aron C",
      "userId": "07834910496055545653"
     },
     "user_tz": 300
    },
    "id": "JFgSbwRDR7Xz",
    "outputId": "70a73f9d-8596-48a4-84a3-cfd120666673"
   },
   "outputs": [],
   "source": [
    "display(pop)"
   ]
  },
  {
   "cell_type": "code",
   "execution_count": null,
   "metadata": {
    "colab": {
     "base_uri": "https://localhost:8080/"
    },
    "executionInfo": {
     "elapsed": 42,
     "status": "ok",
     "timestamp": 1691183216935,
     "user": {
      "displayName": "Aron C",
      "userId": "07834910496055545653"
     },
     "user_tz": 300
    },
    "id": "15nWjRWFR7Xz",
    "outputId": "b32aaa94-5886-4e71-de96-2d76233ff430"
   },
   "outputs": [],
   "source": [
    "# Now we can still get slices etc. in a strightforward way.\n",
    "pop[('California', 2010):('Texas', 2000)]"
   ]
  },
  {
   "cell_type": "code",
   "execution_count": null,
   "metadata": {
    "colab": {
     "base_uri": "https://localhost:8080/"
    },
    "executionInfo": {
     "elapsed": 35,
     "status": "ok",
     "timestamp": 1691183216935,
     "user": {
      "displayName": "Aron C",
      "userId": "07834910496055545653"
     },
     "user_tz": 300
    },
    "id": "YS6ct46HR7Xz",
    "outputId": "bfb9ebb5-2aef-4768-d738-e0ce2fee112a"
   },
   "outputs": [],
   "source": [
    "# But if we want to get all 2010 data we have to do something like...\n",
    "pop[[i for i in pop.index if i[1] == 2010]]"
   ]
  },
  {
   "cell_type": "code",
   "execution_count": null,
   "metadata": {
    "colab": {
     "base_uri": "https://localhost:8080/",
     "height": 237
    },
    "executionInfo": {
     "elapsed": 31,
     "status": "ok",
     "timestamp": 1691183216935,
     "user": {
      "displayName": "Aron C",
      "userId": "07834910496055545653"
     },
     "user_tz": 300
    },
    "id": "mbSseyAbR7X0",
    "outputId": "868f8ac8-131b-4cfb-d30e-307ce1b71053"
   },
   "outputs": [],
   "source": [
    "#We can make the data frame as (note it is tidy!)\n",
    "df = pd.DataFrame([('California', 2000, 33871648),\n",
    "                   ('California', 2010, 37253956),\n",
    "                   ('New York', 2000, 18976457),\n",
    "                   ('New York', 2010, 19378102),\n",
    "                   ('Texas', 2000, 20851820),\n",
    "                   ('Texas', 2010, 25145561)],\n",
    "                  columns=['state', 'year', 'pop'])\n",
    "df"
   ]
  },
  {
   "cell_type": "code",
   "execution_count": null,
   "metadata": {
    "colab": {
     "base_uri": "https://localhost:8080/",
     "height": 268
    },
    "executionInfo": {
     "elapsed": 31,
     "status": "ok",
     "timestamp": 1691183216936,
     "user": {
      "displayName": "Aron C",
      "userId": "07834910496055545653"
     },
     "user_tz": 300
    },
    "id": "WzBL0pANR7X0",
    "outputId": "96b56c63-efeb-4e58-c4d0-24c99a390d1c"
   },
   "outputs": [],
   "source": [
    "df.set_index(['state', 'year'], inplace=True)\n",
    "df"
   ]
  },
  {
   "cell_type": "code",
   "execution_count": null,
   "metadata": {
    "colab": {
     "base_uri": "https://localhost:8080/",
     "height": 143
    },
    "executionInfo": {
     "elapsed": 30,
     "status": "ok",
     "timestamp": 1691183216936,
     "user": {
      "displayName": "Aron C",
      "userId": "07834910496055545653"
     },
     "user_tz": 300
    },
    "id": "cWU2H5k3R7X0",
    "outputId": "4bf98c7b-56c3-4d26-f847-4e4211de616d"
   },
   "outputs": [],
   "source": [
    "# And now we can do cool stuff slicing, but it gets compicated with tuples.\n",
    "df.loc[('California')]"
   ]
  },
  {
   "cell_type": "code",
   "execution_count": null,
   "metadata": {
    "colab": {
     "base_uri": "https://localhost:8080/"
    },
    "executionInfo": {
     "elapsed": 30,
     "status": "ok",
     "timestamp": 1691183216936,
     "user": {
      "displayName": "Aron C",
      "userId": "07834910496055545653"
     },
     "user_tz": 300
    },
    "id": "4lpUd1kzR7X0",
    "outputId": "3fe387b4-3885-441a-e29f-94d7a48c7a88"
   },
   "outputs": [],
   "source": [
    "df.index"
   ]
  },
  {
   "cell_type": "markdown",
   "metadata": {
    "id": "NDagQA6-R7X0"
   },
   "source": [
    "The [df.xs](https://pandas.pydata.org/pandas-docs/stable/reference/api/pandas.DataFrame.xs.html) command can help with slicing multi-indicies."
   ]
  },
  {
   "cell_type": "code",
   "execution_count": null,
   "metadata": {
    "colab": {
     "base_uri": "https://localhost:8080/",
     "height": 174
    },
    "executionInfo": {
     "elapsed": 27,
     "status": "ok",
     "timestamp": 1691183216937,
     "user": {
      "displayName": "Aron C",
      "userId": "07834910496055545653"
     },
     "user_tz": 300
    },
    "id": "xAgmCasPR7X0",
    "outputId": "3571dc93-35c5-4ad0-e138-7ab06f3a4ac8"
   },
   "outputs": [],
   "source": [
    "# Thought this can get a bit complicated...\n",
    "df.xs(2010, level=1)"
   ]
  },
  {
   "cell_type": "markdown",
   "metadata": {
    "id": "6P6jsHy3R7X0"
   },
   "source": [
    "### Importance of using np.nan\n",
    "\n",
    "Note that we have to import numpy.nan but once we do we can use the groupby and other methods without having to worry about what to do with missing data.\n",
    "\n",
    "For the example below, what happens when we don't use NaNs in the data table?"
   ]
  },
  {
   "cell_type": "code",
   "execution_count": null,
   "metadata": {
    "colab": {
     "base_uri": "https://localhost:8080/",
     "height": 174
    },
    "executionInfo": {
     "elapsed": 244,
     "status": "ok",
     "timestamp": 1691183441607,
     "user": {
      "displayName": "Aron C",
      "userId": "07834910496055545653"
     },
     "user_tz": 300
    },
    "id": "p8c9Q6nFR7X0",
    "outputId": "fc03d3e2-7086-4e94-9e5f-32ba9aacd56b"
   },
   "outputs": [],
   "source": [
    "# Make a data frame from a lists\n",
    "# Try replacing 'XX' with various values..\n",
    "\n",
    "df = pd.DataFrame({'age':     [12.2, 11.0, 15.6, '--'],\n",
    "                  'wgt_kg':   [42.3, 40.8, 65.3, 84.2],\n",
    "                  'hgt_cm':   [145.1, 143.8, 165.3, 185.8],\n",
    "                  'sex':      ['male', 'female', 'male', 'male'],\n",
    "                  'country': ['USA', 'AUS', 'EU', 'USA']})\n",
    "df"
   ]
  },
  {
   "cell_type": "code",
   "execution_count": null,
   "metadata": {
    "colab": {
     "base_uri": "https://localhost:8080/"
    },
    "executionInfo": {
     "elapsed": 223,
     "status": "ok",
     "timestamp": 1691183444261,
     "user": {
      "displayName": "Aron C",
      "userId": "07834910496055545653"
     },
     "user_tz": 300
    },
    "id": "Q61ceARnR7X1",
    "outputId": "1631f8a8-3444-40ab-dd58-5f75d8999a37"
   },
   "outputs": [],
   "source": [
    "df['age'].describe()"
   ]
  },
  {
   "cell_type": "code",
   "execution_count": null,
   "metadata": {
    "colab": {
     "base_uri": "https://localhost:8080/"
    },
    "executionInfo": {
     "elapsed": 223,
     "status": "ok",
     "timestamp": 1691183446612,
     "user": {
      "displayName": "Aron C",
      "userId": "07834910496055545653"
     },
     "user_tz": 300
    },
    "id": "S7sa_7ohR7X1",
    "outputId": "5ce7b4b7-7b77-4aa8-8109-ed1a154a2e06"
   },
   "outputs": [],
   "source": [
    "# Note the type that has been imputed here...\n",
    "df.dtypes"
   ]
  },
  {
   "cell_type": "code",
   "execution_count": null,
   "metadata": {
    "colab": {
     "base_uri": "https://localhost:8080/",
     "height": 330
    },
    "executionInfo": {
     "elapsed": 228,
     "status": "error",
     "timestamp": 1691183448828,
     "user": {
      "displayName": "Aron C",
      "userId": "07834910496055545653"
     },
     "user_tz": 300
    },
    "id": "B4WT3jVvR7X1",
    "outputId": "fcaa284e-ca66-48c4-9543-a83156cdaea9",
    "scrolled": true
   },
   "outputs": [],
   "source": [
    "df['age'].sum()"
   ]
  },
  {
   "cell_type": "code",
   "execution_count": null,
   "metadata": {
    "colab": {
     "base_uri": "https://localhost:8080/",
     "height": 312
    },
    "executionInfo": {
     "elapsed": 233,
     "status": "error",
     "timestamp": 1691183451483,
     "user": {
      "displayName": "Aron C",
      "userId": "07834910496055545653"
     },
     "user_tz": 300
    },
    "id": "rRVsKmtuR7X1",
    "outputId": "9c302dac-c2f7-4256-c435-024faa5b97a9",
    "scrolled": true
   },
   "outputs": [],
   "source": [
    "# Need to make sure it's set as number!\n",
    "\n",
    "df[\"age\"] = pd.to_numeric(df[\"age\"])"
   ]
  },
  {
   "cell_type": "code",
   "execution_count": null,
   "metadata": {
    "colab": {
     "base_uri": "https://localhost:8080/",
     "height": 107
    },
    "executionInfo": {
     "elapsed": 210,
     "status": "ok",
     "timestamp": 1691183459517,
     "user": {
      "displayName": "Aron C",
      "userId": "07834910496055545653"
     },
     "user_tz": 300
    },
    "id": "d5steNIuR7X1",
    "outputId": "64c4cc02-d3da-4e96-8f02-9b17b425e5a8"
   },
   "outputs": [],
   "source": [
    "# But first we have to make sure it's a NAN!!\n",
    "display(df[\"age\"].replace(\"--\", np.nan))\n",
    "\n",
    "df[\"age\"].replace(\"--\", np.nan,inplace=True)"
   ]
  },
  {
   "cell_type": "code",
   "execution_count": null,
   "metadata": {
    "colab": {
     "base_uri": "https://localhost:8080/"
    },
    "executionInfo": {
     "elapsed": 3,
     "status": "ok",
     "timestamp": 1691183463445,
     "user": {
      "displayName": "Aron C",
      "userId": "07834910496055545653"
     },
     "user_tz": 300
    },
    "id": "xcxft5ExR7X1",
    "outputId": "90f443fd-f419-4b96-baef-5df0a63d52e6"
   },
   "outputs": [],
   "source": [
    "df.dtypes"
   ]
  },
  {
   "cell_type": "code",
   "execution_count": null,
   "metadata": {
    "colab": {
     "base_uri": "https://localhost:8080/"
    },
    "executionInfo": {
     "elapsed": 3,
     "status": "ok",
     "timestamp": 1691183464503,
     "user": {
      "displayName": "Aron C",
      "userId": "07834910496055545653"
     },
     "user_tz": 300
    },
    "id": "_l7hUL58R7X1",
    "outputId": "86d55a49-f944-480d-ff46-f24f33b37f3c"
   },
   "outputs": [],
   "source": [
    "df[\"age\"].sum()"
   ]
  },
  {
   "cell_type": "markdown",
   "metadata": {
    "id": "10NWVTEgR7X2"
   },
   "source": [
    "## The Groupby Command\n",
    "\n",
    "Below we see what happens in Pandas when we use the groupby command."
   ]
  },
  {
   "cell_type": "code",
   "execution_count": null,
   "metadata": {
    "colab": {
     "base_uri": "https://localhost:8080/",
     "height": 174
    },
    "executionInfo": {
     "elapsed": 5,
     "status": "ok",
     "timestamp": 1691183467411,
     "user": {
      "displayName": "Aron C",
      "userId": "07834910496055545653"
     },
     "user_tz": 300
    },
    "id": "N4uAt_sRR7X2",
    "outputId": "286afda7-c026-46c9-f960-2dae8c51e2c1"
   },
   "outputs": [],
   "source": [
    "df = pd.DataFrame({'age':     [12.2, 11.0, 15.6, 35.1],\n",
    "                  'wgt_kg':   [42.3, 40.8, 65.3, 84.2],\n",
    "                  'hgt_cm':   [145.1, 143.8, 165.3, 185.8],\n",
    "                  'sex':      ['male', 'female', 'male', 'male'],\n",
    "                  'country': ['USA', 'AUS', 'EU', 'USA']})\n",
    "df"
   ]
  },
  {
   "cell_type": "code",
   "execution_count": null,
   "metadata": {
    "colab": {
     "base_uri": "https://localhost:8080/"
    },
    "executionInfo": {
     "elapsed": 2,
     "status": "ok",
     "timestamp": 1691183468482,
     "user": {
      "displayName": "Aron C",
      "userId": "07834910496055545653"
     },
     "user_tz": 300
    },
    "id": "7Ce5QHZqR7X2",
    "outputId": "6f384681-e6c6-46fc-fe18-13ef44f11c11"
   },
   "outputs": [],
   "source": [
    "# This is a little weird, recall that we have lazy evaluation!\n",
    "\n",
    "df.groupby(['sex'])"
   ]
  },
  {
   "cell_type": "code",
   "execution_count": null,
   "metadata": {
    "colab": {
     "base_uri": "https://localhost:8080/",
     "height": 204
    },
    "executionInfo": {
     "elapsed": 5,
     "status": "ok",
     "timestamp": 1691183470383,
     "user": {
      "displayName": "Aron C",
      "userId": "07834910496055545653"
     },
     "user_tz": 300
    },
    "id": "cgtW8_JaR7X2",
    "outputId": "392ac273-15d5-4590-9760-d0ca7d5cb634"
   },
   "outputs": [],
   "source": [
    "# If we describe it then we can force python to not be lazy!\n",
    "\n",
    "df.groupby('sex').describe()"
   ]
  },
  {
   "cell_type": "code",
   "execution_count": null,
   "metadata": {
    "colab": {
     "base_uri": "https://localhost:8080/",
     "height": 199
    },
    "executionInfo": {
     "elapsed": 5,
     "status": "ok",
     "timestamp": 1691183471400,
     "user": {
      "displayName": "Aron C",
      "userId": "07834910496055545653"
     },
     "user_tz": 300
    },
    "id": "s21n6rHyR7X2",
    "outputId": "fabfe3ff-0b0c-47de-b652-9d63561b4d0f"
   },
   "outputs": [],
   "source": [
    "# We can pass operators to groupby to get better results.\n",
    "df.groupby(['sex']).mean()"
   ]
  },
  {
   "cell_type": "code",
   "execution_count": null,
   "metadata": {
    "colab": {
     "base_uri": "https://localhost:8080/",
     "height": 235
    },
    "executionInfo": {
     "elapsed": 256,
     "status": "ok",
     "timestamp": 1691183472994,
     "user": {
      "displayName": "Aron C",
      "userId": "07834910496055545653"
     },
     "user_tz": 300
    },
    "id": "cW_k-QahR7X3",
    "outputId": "b26e63a0-8e59-4b56-dcb5-b7189f0e682f"
   },
   "outputs": [],
   "source": [
    "# Can also group by multiple columns\n",
    "df.groupby(['sex', 'country']).describe()\n"
   ]
  },
  {
   "cell_type": "code",
   "execution_count": null,
   "metadata": {
    "colab": {
     "base_uri": "https://localhost:8080/"
    },
    "executionInfo": {
     "elapsed": 480,
     "status": "ok",
     "timestamp": 1691183476787,
     "user": {
      "displayName": "Aron C",
      "userId": "07834910496055545653"
     },
     "user_tz": 300
    },
    "id": "PvMAJolLR7X3",
    "outputId": "90f73b84-1e71-461b-d53b-8f64131578c2"
   },
   "outputs": [],
   "source": [
    "# Multi-Index!!\n",
    "# We can select based on a list of indices\n",
    "df.groupby(['sex', 'country']).mean().loc['female', 'AUS']"
   ]
  },
  {
   "cell_type": "code",
   "execution_count": null,
   "metadata": {
    "colab": {
     "base_uri": "https://localhost:8080/",
     "height": 332
    },
    "executionInfo": {
     "elapsed": 5,
     "status": "ok",
     "timestamp": 1691183477397,
     "user": {
      "displayName": "Aron C",
      "userId": "07834910496055545653"
     },
     "user_tz": 300
    },
    "id": "_hs0pXT_R7X3",
    "outputId": "2f409cb9-58b8-4d65-f0b8-170489b17264"
   },
   "outputs": [],
   "source": [
    "## We can also limit ourselves by just subselecting columns\n",
    "display(df.groupby([\"country\"]).count())\n",
    "display(df.groupby([\"country\"])[[\"sex\"]].count())"
   ]
  },
  {
   "cell_type": "code",
   "execution_count": null,
   "metadata": {
    "colab": {
     "base_uri": "https://localhost:8080/"
    },
    "executionInfo": {
     "elapsed": 1292,
     "status": "ok",
     "timestamp": 1691183479413,
     "user": {
      "displayName": "Aron C",
      "userId": "07834910496055545653"
     },
     "user_tz": 300
    },
    "id": "yE7pBmxSR7X3",
    "outputId": "097c3da0-2fc8-49fb-97da-2bef125e2f28"
   },
   "outputs": [],
   "source": [
    "# same as...\n",
    "df['country'].value_counts()"
   ]
  },
  {
   "cell_type": "code",
   "execution_count": null,
   "metadata": {
    "executionInfo": {
     "elapsed": 2,
     "status": "ok",
     "timestamp": 1691183479884,
     "user": {
      "displayName": "Aron C",
      "userId": "07834910496055545653"
     },
     "user_tz": 300
    },
    "id": "LgMhYs4pR7X3"
   },
   "outputs": [],
   "source": [
    "# This is the same as...\n",
    "grouped = df.groupby(['country'])"
   ]
  },
  {
   "cell_type": "code",
   "execution_count": null,
   "metadata": {
    "colab": {
     "base_uri": "https://localhost:8080/"
    },
    "executionInfo": {
     "elapsed": 4,
     "status": "ok",
     "timestamp": 1691183480172,
     "user": {
      "displayName": "Aron C",
      "userId": "07834910496055545653"
     },
     "user_tz": 300
    },
    "id": "edyKA_ByR7X3",
    "outputId": "1d22f066-8ac4-4dcf-818c-662d83218c8c"
   },
   "outputs": [],
   "source": [
    "type(grouped)"
   ]
  },
  {
   "cell_type": "markdown",
   "metadata": {
    "id": "Kxx39wM5R7X3"
   },
   "source": [
    "To get access to a group that we made, use the [get_group() command](https://pandas.pydata.org/pandas-docs/stable/reference/api/pandas.core.groupby.GroupBy.get_group.html).\n",
    "\n",
    "We can also get access to the actual tuples and they're types that are generated by the `groupby` commands"
   ]
  },
  {
   "cell_type": "code",
   "execution_count": null,
   "metadata": {
    "colab": {
     "base_uri": "https://localhost:8080/"
    },
    "executionInfo": {
     "elapsed": 234,
     "status": "ok",
     "timestamp": 1691183483128,
     "user": {
      "displayName": "Aron C",
      "userId": "07834910496055545653"
     },
     "user_tz": 300
    },
    "id": "kbRrWWiMR7X4",
    "outputId": "eec26e13-099c-48ff-b03e-74a618c38909"
   },
   "outputs": [],
   "source": [
    "grouped.groups"
   ]
  },
  {
   "cell_type": "code",
   "execution_count": null,
   "metadata": {
    "colab": {
     "base_uri": "https://localhost:8080/",
     "height": 230
    },
    "executionInfo": {
     "elapsed": 8,
     "status": "ok",
     "timestamp": 1691183484276,
     "user": {
      "displayName": "Aron C",
      "userId": "07834910496055545653"
     },
     "user_tz": 300
    },
    "id": "I3EZNGypR7X4",
    "outputId": "449ef1d2-010b-4952-9a4f-a6fd36fc08b1"
   },
   "outputs": [],
   "source": [
    "grouped.mean()"
   ]
  },
  {
   "cell_type": "code",
   "execution_count": null,
   "metadata": {
    "colab": {
     "base_uri": "https://localhost:8080/",
     "height": 80
    },
    "executionInfo": {
     "elapsed": 7,
     "status": "ok",
     "timestamp": 1691183485374,
     "user": {
      "displayName": "Aron C",
      "userId": "07834910496055545653"
     },
     "user_tz": 300
    },
    "id": "XFr7fJ2uR7X4",
    "outputId": "be735fcf-f675-4c8e-f403-3ca334330d49"
   },
   "outputs": [],
   "source": [
    "grouped.get_group('AUS')"
   ]
  },
  {
   "cell_type": "code",
   "execution_count": null,
   "metadata": {
    "colab": {
     "base_uri": "https://localhost:8080/",
     "height": 256
    },
    "executionInfo": {
     "elapsed": 253,
     "status": "ok",
     "timestamp": 1691183487716,
     "user": {
      "displayName": "Aron C",
      "userId": "07834910496055545653"
     },
     "user_tz": 300
    },
    "id": "TcjaJpDNR7X4",
    "outputId": "ae6e6c23-acc1-448c-c244-b82ae35d7d19"
   },
   "outputs": [],
   "source": [
    "# Or do it fancy?\n",
    "[display(grouped.get_group(i)) for i in grouped.groups]"
   ]
  },
  {
   "cell_type": "markdown",
   "metadata": {
    "id": "r6qO4Tp0R7X4"
   },
   "source": [
    "### A Big Deep Dive on Groupby!\n",
    "\n",
    "**Question** If we were going to implement Groupby, how would you do it?\n",
    "\n",
    "The first thing we can note is that if we iterate over the groups, it makes it clear what Pandas and Python are doing.\n",
    "\n",
    "However we don't want to iterate ourselves as this will generally be slow and error prone!\n",
    "\n",
    "**We always want to replace for loops in Pandas** since Pandas functions are highly optimized (numpy + C + vectorization)"
   ]
  },
  {
   "cell_type": "code",
   "execution_count": null,
   "metadata": {
    "colab": {
     "base_uri": "https://localhost:8080/"
    },
    "executionInfo": {
     "elapsed": 220,
     "status": "ok",
     "timestamp": 1691183492015,
     "user": {
      "displayName": "Aron C",
      "userId": "07834910496055545653"
     },
     "user_tz": 300
    },
    "id": "5-QTTvGPR7X4",
    "outputId": "34798778-2c40-4dde-a564-e50f0ce0851d"
   },
   "outputs": [],
   "source": [
    "grouped = df.groupby(['country'])\n",
    "grouped.groups"
   ]
  },
  {
   "cell_type": "code",
   "execution_count": null,
   "metadata": {
    "colab": {
     "base_uri": "https://localhost:8080/",
     "height": 402
    },
    "executionInfo": {
     "elapsed": 5,
     "status": "ok",
     "timestamp": 1691183493152,
     "user": {
      "displayName": "Aron C",
      "userId": "07834910496055545653"
     },
     "user_tz": 300
    },
    "id": "8S0rFebKR7X4",
    "outputId": "bfc6325b-def8-4ed6-8468-4acaa46a6ada"
   },
   "outputs": [],
   "source": [
    "for group_index, groupi in grouped:\n",
    "  print(group_index)\n",
    "  display(groupi)\n",
    "  print(groupi['age'].mean())"
   ]
  },
  {
   "cell_type": "code",
   "execution_count": null,
   "metadata": {
    "colab": {
     "base_uri": "https://localhost:8080/"
    },
    "executionInfo": {
     "elapsed": 4,
     "status": "ok",
     "timestamp": 1691183493518,
     "user": {
      "displayName": "Aron C",
      "userId": "07834910496055545653"
     },
     "user_tz": 300
    },
    "id": "ovw_ZPbkR7X4",
    "outputId": "e8ab36af-0e3f-4c6f-c3b5-67b0aa895c91"
   },
   "outputs": [],
   "source": [
    "df.groupby('country')['age'].mean()"
   ]
  },
  {
   "cell_type": "markdown",
   "metadata": {
    "id": "k4I_yMvwR7X5"
   },
   "source": [
    "### Split-Apply-Combine\n",
    "\n",
    "The `groupby` operation can be understood as a Split-Apply-Combine pattern:\n",
    "\n",
    "<img src=\"https://jakevdp.github.io/figures/split-apply-combine.svg\" width=600/>\n",
    "\n",
    "How could we implement this?"
   ]
  },
  {
   "cell_type": "code",
   "execution_count": null,
   "metadata": {
    "colab": {
     "base_uri": "https://localhost:8080/",
     "height": 237
    },
    "executionInfo": {
     "elapsed": 331,
     "status": "ok",
     "timestamp": 1691183497990,
     "user": {
      "displayName": "Aron C",
      "userId": "07834910496055545653"
     },
     "user_tz": 300
    },
    "id": "w9s2zUQpR7X5",
    "outputId": "b477ae81-6657-44ce-d975-d8c0faebe17e"
   },
   "outputs": [],
   "source": [
    "dfi = pd.DataFrame([\n",
    "    {'key': 'A', 'data': 1}, {'key': 'B', 'data': 2},\n",
    "    {'key': 'C', 'data': 3}, {'key': 'A', 'data': 4},\n",
    "    {'key': 'B', 'data': 5}, {'key': 'C', 'data': 6},\n",
    "  ]\n",
    ")\n",
    "dfi"
   ]
  },
  {
   "cell_type": "code",
   "execution_count": null,
   "metadata": {
    "colab": {
     "base_uri": "https://localhost:8080/",
     "height": 174
    },
    "executionInfo": {
     "elapsed": 6,
     "status": "ok",
     "timestamp": 1691183497990,
     "user": {
      "displayName": "Aron C",
      "userId": "07834910496055545653"
     },
     "user_tz": 300
    },
    "id": "eN5uiUO6R7X5",
    "outputId": "69767e14-5fd0-4865-fe93-e608dc1330de"
   },
   "outputs": [],
   "source": [
    "dfi.groupby('key').sum()"
   ]
  },
  {
   "cell_type": "code",
   "execution_count": null,
   "metadata": {
    "colab": {
     "base_uri": "https://localhost:8080/",
     "height": 143
    },
    "executionInfo": {
     "elapsed": 5,
     "status": "ok",
     "timestamp": 1691183498300,
     "user": {
      "displayName": "Aron C",
      "userId": "07834910496055545653"
     },
     "user_tz": 300
    },
    "id": "JVGzaA2SR7X5",
    "outputId": "66dbf218-5db8-4428-852d-66a7c4c2a9bf"
   },
   "outputs": [],
   "source": [
    "# Option 1: Boolean Masks\n",
    "def group_by_masks(dfi):\n",
    "  result = []\n",
    "  for key in ['A','B', 'C']:\n",
    "    result.append({\n",
    "        'key': key,\n",
    "        'data': dfi[dfi['key']==key]['data'].sum()\n",
    "    })\n",
    "  return pd.DataFrame(result)\n",
    "\n",
    "group_by_masks(dfi)"
   ]
  },
  {
   "cell_type": "markdown",
   "metadata": {
    "id": "mU9NkvBUR7X5"
   },
   "source": [
    "What is the Big Oh runtime of this implementation?\n",
    "\n",
    "Can we improve?"
   ]
  },
  {
   "cell_type": "code",
   "execution_count": null,
   "metadata": {
    "colab": {
     "base_uri": "https://localhost:8080/",
     "height": 143
    },
    "executionInfo": {
     "elapsed": 247,
     "status": "ok",
     "timestamp": 1691183508784,
     "user": {
      "displayName": "Aron C",
      "userId": "07834910496055545653"
     },
     "user_tz": 300
    },
    "id": "5xB6LDW8R7X5",
    "outputId": "ac9e0f64-d2bb-4787-fd90-0d22f8e7e0ff"
   },
   "outputs": [],
   "source": [
    "# Option 2: Build a dict from key->sum in a single pass through data.\n",
    "from collections import defaultdict\n",
    "def group_by_dict(dfi):\n",
    "  sums = {}\n",
    "  for index, row in dfi.iterrows():\n",
    "    sums[row['key']] = sums.get(row['key'], 0) + row['data']\n",
    "  # display(sums)\n",
    "  return pd.DataFrame.from_dict(sums, orient='index', columns=['data'])\n",
    "  return sums\n",
    "group_by_dict(dfi)"
   ]
  },
  {
   "cell_type": "markdown",
   "metadata": {
    "id": "UMyh53JPR7X5"
   },
   "source": [
    "### Lazy evaluation\n",
    "\n",
    "- `groupby` doesn't actually do much until you do something with the groups."
   ]
  },
  {
   "cell_type": "code",
   "execution_count": null,
   "metadata": {
    "executionInfo": {
     "elapsed": 235,
     "status": "ok",
     "timestamp": 1691183511988,
     "user": {
      "displayName": "Aron C",
      "userId": "07834910496055545653"
     },
     "user_tz": 300
    },
    "id": "5_HW8sYrR7X5"
   },
   "outputs": [],
   "source": [
    "# make a big DataFrame.\n",
    "bigdfi = dfi.sample(100000, replace=True)"
   ]
  },
  {
   "cell_type": "code",
   "execution_count": null,
   "metadata": {
    "colab": {
     "base_uri": "https://localhost:8080/",
     "height": 423
    },
    "executionInfo": {
     "elapsed": 5,
     "status": "ok",
     "timestamp": 1691183513046,
     "user": {
      "displayName": "Aron C",
      "userId": "07834910496055545653"
     },
     "user_tz": 300
    },
    "id": "YU9nMg6IR7X6",
    "outputId": "ffc2a392-1fbe-4004-b957-99cef8ea2242"
   },
   "outputs": [],
   "source": [
    "bigdfi"
   ]
  },
  {
   "cell_type": "code",
   "execution_count": null,
   "metadata": {
    "colab": {
     "base_uri": "https://localhost:8080/"
    },
    "executionInfo": {
     "elapsed": 2475,
     "status": "ok",
     "timestamp": 1691183517729,
     "user": {
      "displayName": "Aron C",
      "userId": "07834910496055545653"
     },
     "user_tz": 300
    },
    "id": "iw7WZjpsR7X6",
    "outputId": "2d99bf8c-a7d0-48c2-9e33-6b07d6e3a69a"
   },
   "outputs": [],
   "source": [
    "# call groupby, but don't do anything with it.\n",
    "%timeit bigdfi.groupby('key')"
   ]
  },
  {
   "cell_type": "code",
   "execution_count": null,
   "metadata": {
    "colab": {
     "base_uri": "https://localhost:8080/"
    },
    "executionInfo": {
     "elapsed": 7652,
     "status": "ok",
     "timestamp": 1691183532207,
     "user": {
      "displayName": "Aron C",
      "userId": "07834910496055545653"
     },
     "user_tz": 300
    },
    "id": "E5sBIeIUR7X6",
    "outputId": "19a0842c-141b-4dc6-eae5-9cf984206bbc"
   },
   "outputs": [],
   "source": [
    "# once you use the groups, it takes a lot more time.\n",
    "%timeit bigdfi.groupby('key').sum()"
   ]
  },
  {
   "cell_type": "code",
   "execution_count": null,
   "metadata": {
    "colab": {
     "base_uri": "https://localhost:8080/"
    },
    "executionInfo": {
     "elapsed": 3484,
     "status": "ok",
     "timestamp": 1691183608731,
     "user": {
      "displayName": "Aron C",
      "userId": "07834910496055545653"
     },
     "user_tz": 300
    },
    "id": "RIgcIhTOR7X6",
    "outputId": "f966b21f-d45a-46b2-f07f-29516ad968f1"
   },
   "outputs": [],
   "source": [
    "# for comparison, this is the time to just sum the data column.\n",
    "%timeit bigdfi['data'].sum()"
   ]
  },
  {
   "cell_type": "code",
   "execution_count": null,
   "metadata": {
    "colab": {
     "base_uri": "https://localhost:8080/"
    },
    "executionInfo": {
     "elapsed": 43027,
     "status": "ok",
     "timestamp": 1691183598813,
     "user": {
      "displayName": "Aron C",
      "userId": "07834910496055545653"
     },
     "user_tz": 300
    },
    "id": "ulCAvN5oR7X6",
    "outputId": "0e906e47-f688-42b4-ac83-9170bad362ab"
   },
   "outputs": [],
   "source": [
    "# Pandas uses Cython internally, which implements core python functions\n",
    "# # in highly optimized C code.\n",
    "# This is one reason why our implementation is horribly slow.\n",
    "%timeit group_by_dict(bigdfi)"
   ]
  },
  {
   "cell_type": "code",
   "execution_count": null,
   "metadata": {
    "colab": {
     "base_uri": "https://localhost:8080/"
    },
    "executionInfo": {
     "elapsed": 2658,
     "status": "ok",
     "timestamp": 1691183316287,
     "user": {
      "displayName": "Aron C",
      "userId": "07834910496055545653"
     },
     "user_tz": 300
    },
    "id": "NIw_mCl4R7X7",
    "outputId": "28e993e2-f904-4684-a71a-2baf2a66b701"
   },
   "outputs": [],
   "source": [
    "# our mask implementation relies on pandas functions, so it is fast,\n",
    "# even though the asymptotic runtime should be larger than group_by_dict!\n",
    "%timeit group_by_masks(bigdfi)"
   ]
  },
  {
   "cell_type": "code",
   "execution_count": null,
   "metadata": {
    "executionInfo": {
     "elapsed": 238,
     "status": "ok",
     "timestamp": 1691183619933,
     "user": {
      "displayName": "Aron C",
      "userId": "07834910496055545653"
     },
     "user_tz": 300
    },
    "id": "5nUVDKGWR7X7"
   },
   "outputs": [],
   "source": [
    "# Pandas builds on numpy\n",
    "# See: \"Why is numpy fast?\" https://numpy.org/doc/stable/user/whatisnumpy.html\n",
    "import numpy as np\n",
    "a = np.random.rand(100000)\n",
    "b = np.random.rand(100000)"
   ]
  },
  {
   "cell_type": "code",
   "execution_count": null,
   "metadata": {
    "colab": {
     "base_uri": "https://localhost:8080/"
    },
    "executionInfo": {
     "elapsed": 3361,
     "status": "ok",
     "timestamp": 1691183625405,
     "user": {
      "displayName": "Aron C",
      "userId": "07834910496055545653"
     },
     "user_tz": 300
    },
    "id": "KHMQ-m4jR7X7",
    "outputId": "f3a64d56-7eb9-4109-bf48-a5d71663bfc8"
   },
   "outputs": [],
   "source": [
    "def dot_product_slow(a,b):\n",
    "  dot = 0\n",
    "  for i in range(len(a)):\n",
    "    dot += a[i] * b[i]\n",
    "  return dot\n",
    "\n",
    "%timeit dot_product_slow(a,b)"
   ]
  },
  {
   "cell_type": "code",
   "execution_count": null,
   "metadata": {
    "colab": {
     "base_uri": "https://localhost:8080/"
    },
    "executionInfo": {
     "elapsed": 4466,
     "status": "ok",
     "timestamp": 1691183629869,
     "user": {
      "displayName": "Aron C",
      "userId": "07834910496055545653"
     },
     "user_tz": 300
    },
    "id": "sYYHKkjER7X7",
    "outputId": "875d5c90-d3f3-4aab-9465-ee8ad92ca80d"
   },
   "outputs": [],
   "source": [
    "%timeit np.dot(a,b)"
   ]
  },
  {
   "cell_type": "markdown",
   "metadata": {
    "id": "iWnwOw1hR7X7"
   },
   "source": [
    "Futher reading on optimization:\n",
    "- [Locality of reference](https://en.wikipedia.org/wiki/Locality_of_reference)\n",
    "- [Vectorization](https://en.wikipedia.org/wiki/Automatic_vectorization)\n",
    "- [Broadcasting](https://numpy.org/doc/stable/user/basics.broadcasting.html)"
   ]
  },
  {
   "cell_type": "markdown",
   "metadata": {
    "id": "-5b4SQtZR7X7"
   },
   "source": [
    "## Melting and Tidy Data\n",
    "\n",
    "In this part of the demo we will duplicate the slides and get some practice with the Melt command to make a data table tidy where it wasn't before!"
   ]
  },
  {
   "cell_type": "code",
   "execution_count": null,
   "metadata": {
    "colab": {
     "base_uri": "https://localhost:8080/",
     "height": 362
    },
    "executionInfo": {
     "elapsed": 231,
     "status": "ok",
     "timestamp": 1691183630974,
     "user": {
      "displayName": "Aron C",
      "userId": "07834910496055545653"
     },
     "user_tz": 300
    },
    "id": "jNc08RIxR7X7",
    "outputId": "ea95b321-d720-4106-c67f-ed5b97767eb5"
   },
   "outputs": [],
   "source": [
    "df = pd.read_csv('./data/religon.csv')\n",
    "df"
   ]
  },
  {
   "cell_type": "markdown",
   "metadata": {
    "id": "syE0iMqfR7X8"
   },
   "source": [
    "The [melt command](https://pandas.pydata.org/pandas-docs/stable/reference/api/pandas.DataFrame.melt.html) does...\n",
    "\n",
    "```\n",
    "DataFrame.melt(id_vars=None, value_vars=None, var_name=None, value_name='value', col_level=None, ignore_index=True)\n",
    "\n",
    "Unpivot a DataFrame from wide to long format, optionally leaving identifiers set.\n",
    "\n",
    "This function is useful to massage a DataFrame into a format where one or more columns are identifier variables (id_vars), while all other columns, considered measured variables (value_vars), are “unpivoted” to the row axis, leaving just two non-identifier columns, ‘variable’ and ‘value’.\n",
    "```\n",
    "\n",
    "So here we want to take the above data frame and make it `grow down` by converting income into a categorical variable."
   ]
  },
  {
   "cell_type": "code",
   "execution_count": null,
   "metadata": {
    "colab": {
     "base_uri": "https://localhost:8080/",
     "height": 362
    },
    "executionInfo": {
     "elapsed": 216,
     "status": "ok",
     "timestamp": 1691183662961,
     "user": {
      "displayName": "Aron C",
      "userId": "07834910496055545653"
     },
     "user_tz": 300
    },
    "id": "B_3PdQvYR7X8",
    "outputId": "30cf8fea-2ee6-4847-872e-065fbe7d0021"
   },
   "outputs": [],
   "source": [
    "f_df = pd.melt(df,\n",
    "               [\"religion\"],\n",
    "               var_name=\"income\",\n",
    "               value_name=\"freq\")\n",
    "f_df = f_df.sort_values(by=[\"income\"])\n",
    "f_df.head(10)"
   ]
  },
  {
   "cell_type": "code",
   "execution_count": null,
   "metadata": {
    "colab": {
     "base_uri": "https://localhost:8080/",
     "height": 237
    },
    "executionInfo": {
     "elapsed": 250,
     "status": "ok",
     "timestamp": 1691183666313,
     "user": {
      "displayName": "Aron C",
      "userId": "07834910496055545653"
     },
     "user_tz": 300
    },
    "id": "wJ4MReuhR7X8",
    "outputId": "e25ce759-11fa-460b-923d-2ca6fe253dbe"
   },
   "outputs": [],
   "source": [
    "# We can now use more simple slicing to see the things we need.\n",
    "\n",
    "f_df[(f_df['religion'] == 'Atheist')].sort_values(by='income')"
   ]
  },
  {
   "cell_type": "code",
   "execution_count": null,
   "metadata": {
    "colab": {
     "base_uri": "https://localhost:8080/",
     "height": 362
    },
    "executionInfo": {
     "elapsed": 6,
     "status": "ok",
     "timestamp": 1691183667387,
     "user": {
      "displayName": "Aron C",
      "userId": "07834910496055545653"
     },
     "user_tz": 300
    },
    "id": "pNjFtzu2R7X8",
    "outputId": "cf703d49-5e12-48ed-abfa-00ac483f7bc4"
   },
   "outputs": [],
   "source": [
    "f_df[(f_df['income'] == '$50-75k')].sort_values(by='freq', ascending=False)"
   ]
  },
  {
   "cell_type": "markdown",
   "metadata": {
    "id": "EDHo_SD0R7X8"
   },
   "source": [
    "### An Over The Top Example\n",
    "\n",
    "In this example we really walk through all the nitty gritty of taking the Billboard data and melting it down, fixing some errors in the table, and getting a dataframe that we can do easier manipulation on."
   ]
  },
  {
   "cell_type": "code",
   "execution_count": null,
   "metadata": {
    "colab": {
     "base_uri": "https://localhost:8080/",
     "height": 403
    },
    "executionInfo": {
     "elapsed": 215,
     "status": "ok",
     "timestamp": 1691183671475,
     "user": {
      "displayName": "Aron C",
      "userId": "07834910496055545653"
     },
     "user_tz": 300
    },
    "id": "burC3zUXR7X8",
    "outputId": "02ae5e88-734c-4ae1-d147-91c3799ec55f"
   },
   "outputs": [],
   "source": [
    "b_df = pd.read_csv(\"./data/billboard.csv\")\n",
    "b_df.head()"
   ]
  },
  {
   "cell_type": "markdown",
   "metadata": {
    "id": "eser2GPSR7X9"
   },
   "source": [
    "This thing is a mess!! What if want to say, graph the positions of a song for a given artist? Then how would we do it?\n",
    "\n",
    "Again, we are going to melt to make the table `grow down` by keeping the `id_vars` and then melting the rows based on week position to be values.\n",
    "\n"
   ]
  },
  {
   "cell_type": "code",
   "execution_count": null,
   "metadata": {
    "executionInfo": {
     "elapsed": 802,
     "status": "ok",
     "timestamp": 1691183674723,
     "user": {
      "displayName": "Aron C",
      "userId": "07834910496055545653"
     },
     "user_tz": 300
    },
    "id": "oPB7TJ7FR7X9"
   },
   "outputs": [],
   "source": [
    "# Keep identifier variables\n",
    "id_vars = [\"year\",\n",
    "           \"artist.inverted\",\n",
    "           \"track\",\n",
    "           \"time\",\n",
    "           \"genre\",\n",
    "           \"date.entered\",\n",
    "           \"date.peaked\"]\n",
    "\n",
    "# Melt the rest into week and rank columns\n",
    "b_df = pd.melt(frame=b_df,\n",
    "             id_vars=id_vars,\n",
    "             var_name=\"week\",\n",
    "             value_name=\"rank\")\n"
   ]
  },
  {
   "cell_type": "code",
   "execution_count": null,
   "metadata": {
    "colab": {
     "base_uri": "https://localhost:8080/",
     "height": 856
    },
    "executionInfo": {
     "elapsed": 5,
     "status": "ok",
     "timestamp": 1691183675223,
     "user": {
      "displayName": "Aron C",
      "userId": "07834910496055545653"
     },
     "user_tz": 300
    },
    "id": "cfcLfKE2R7X9",
    "outputId": "08aa99d8-3d1c-4fd0-a7ce-c2beab8cb958"
   },
   "outputs": [],
   "source": [
    "display(b_df.head(20))\n",
    "b_df.dtypes"
   ]
  },
  {
   "cell_type": "code",
   "execution_count": null,
   "metadata": {
    "executionInfo": {
     "elapsed": 922,
     "status": "ok",
     "timestamp": 1691183677469,
     "user": {
      "displayName": "Aron C",
      "userId": "07834910496055545653"
     },
     "user_tz": 300
    },
    "id": "Q1fFAEUPR7X9"
   },
   "outputs": [],
   "source": [
    "# Let's fix the week thing, it's not good...\n",
    "b_df[\"week\"] = b_df['week'].str.extract('(\\d+)', expand=False).astype(int)"
   ]
  },
  {
   "cell_type": "code",
   "execution_count": null,
   "metadata": {
    "colab": {
     "base_uri": "https://localhost:8080/",
     "height": 206
    },
    "executionInfo": {
     "elapsed": 320,
     "status": "ok",
     "timestamp": 1691183679346,
     "user": {
      "displayName": "Aron C",
      "userId": "07834910496055545653"
     },
     "user_tz": 300
    },
    "id": "v-oetfMBR7X9",
    "outputId": "2f6d7eed-71d7-4472-8e5c-ed415c642d8b"
   },
   "outputs": [],
   "source": [
    "b_df[:5]"
   ]
  },
  {
   "cell_type": "code",
   "execution_count": null,
   "metadata": {
    "colab": {
     "base_uri": "https://localhost:8080/"
    },
    "executionInfo": {
     "elapsed": 13,
     "status": "ok",
     "timestamp": 1691183679346,
     "user": {
      "displayName": "Aron C",
      "userId": "07834910496055545653"
     },
     "user_tz": 300
    },
    "id": "FZPbCIbnR7X9",
    "outputId": "c7787808-ef39-4470-e22f-25c0d670ebf6"
   },
   "outputs": [],
   "source": [
    "b_df[\"week\"].unique()"
   ]
  },
  {
   "cell_type": "markdown",
   "metadata": {
    "id": "FA7SrotQR7X9"
   },
   "source": [
    "There's a subtle problem here, rank is an int but some are NAN's and we can't have [int-nan's...](https://pandas.pydata.org/pandas-docs/version/0.24/whatsnew/v0.24.0.html#optional-integer-na-support)"
   ]
  },
  {
   "cell_type": "code",
   "execution_count": null,
   "metadata": {
    "colab": {
     "base_uri": "https://localhost:8080/",
     "height": 676
    },
    "executionInfo": {
     "elapsed": 5,
     "status": "ok",
     "timestamp": 1691183680952,
     "user": {
      "displayName": "Aron C",
      "userId": "07834910496055545653"
     },
     "user_tz": 300
    },
    "id": "2i7xWvo-R7X9",
    "outputId": "ce77c79c-5620-4914-a9a4-a79f3767d408"
   },
   "outputs": [],
   "source": [
    "# Why not ints? Gotcha! ?!?!?\n",
    "b_df[\"rank\"] = b_df[\"rank\"].astype(float)\n",
    "\n",
    "display(b_df.head(20))"
   ]
  },
  {
   "cell_type": "code",
   "execution_count": null,
   "metadata": {
    "colab": {
     "base_uri": "https://localhost:8080/",
     "height": 423
    },
    "executionInfo": {
     "elapsed": 6,
     "status": "ok",
     "timestamp": 1691183682544,
     "user": {
      "displayName": "Aron C",
      "userId": "07834910496055545653"
     },
     "user_tz": 300
    },
    "id": "KAEKX_1kR7X9",
    "outputId": "d597de94-c3ff-42c2-e6a2-acd6738fa197"
   },
   "outputs": [],
   "source": [
    "# We can see if anything is missing...\n",
    "# Remember axis=1 goes row wise..so we are saying show us any row with missing values...\n",
    "b_df[b_df.isnull().any(axis=1)]"
   ]
  },
  {
   "cell_type": "code",
   "execution_count": null,
   "metadata": {
    "executionInfo": {
     "elapsed": 2823,
     "status": "ok",
     "timestamp": 1691183686848,
     "user": {
      "displayName": "Aron C",
      "userId": "07834910496055545653"
     },
     "user_tz": 300
    },
    "id": "iIT88gOCR7X-"
   },
   "outputs": [],
   "source": [
    "# We don't need these so... let's drop them.\n",
    "b_df = b_df.dropna()"
   ]
  },
  {
   "cell_type": "markdown",
   "metadata": {
    "id": "eg3szkehR7X-"
   },
   "source": [
    "We're going to use the handy [to_datetime](https://pandas.pydata.org/pandas-docs/stable/reference/api/pandas.to_datetime.html) which will get us a date!"
   ]
  },
  {
   "cell_type": "code",
   "execution_count": null,
   "metadata": {
    "executionInfo": {
     "elapsed": 3,
     "status": "ok",
     "timestamp": 1691183689908,
     "user": {
      "displayName": "Aron C",
      "userId": "07834910496055545653"
     },
     "user_tz": 300
    },
    "id": "CxSGIBR3R7X-"
   },
   "outputs": [],
   "source": [
    "# Create \"date\" columns\n",
    "#  date = (date entered chart) + (# of weeks) - (1 week) [fence post problem]\n",
    "b_df['date'] = pd.to_datetime(b_df['date.entered']) + pd.to_timedelta(b_df['week'], unit='w') - pd.DateOffset(weeks=1)"
   ]
  },
  {
   "cell_type": "code",
   "execution_count": null,
   "metadata": {
    "colab": {
     "base_uri": "https://localhost:8080/",
     "height": 560
    },
    "executionInfo": {
     "elapsed": 823,
     "status": "ok",
     "timestamp": 1691183690729,
     "user": {
      "displayName": "Aron C",
      "userId": "07834910496055545653"
     },
     "user_tz": 300
    },
    "id": "Olv5hpviR7X-",
    "outputId": "0d57f536-2b26-43c2-8349-a54aa25a4253"
   },
   "outputs": [],
   "source": [
    "display(b_df[100:110])\n",
    "b_df.dtypes"
   ]
  },
  {
   "cell_type": "code",
   "execution_count": null,
   "metadata": {
    "colab": {
     "base_uri": "https://localhost:8080/",
     "height": 362
    },
    "executionInfo": {
     "elapsed": 6,
     "status": "ok",
     "timestamp": 1691183690730,
     "user": {
      "displayName": "Aron C",
      "userId": "07834910496055545653"
     },
     "user_tz": 300
    },
    "id": "0W5ek_7YR7X-",
    "outputId": "2bb47ccf-54f6-40aa-eae8-bee4b301bd70"
   },
   "outputs": [],
   "source": [
    "# Ignore now-redundant, messy columns -- same as dropping\n",
    "b_df = b_df[[\"year\",\n",
    "         \"artist.inverted\",\n",
    "         \"track\",\n",
    "         \"time\",\n",
    "         \"genre\",\n",
    "         \"week\",\n",
    "         \"rank\",\n",
    "         \"date\"]]\n",
    "\n",
    "b_df = b_df.sort_values(ascending=True, by=[\"year\",\"artist.inverted\",\"track\",\"week\",\"rank\"])\n",
    "\n",
    "# Keep tidy dataset for future usage\n",
    "billboard = b_df\n",
    "\n",
    "billboard.head(10)"
   ]
  },
  {
   "cell_type": "code",
   "execution_count": null,
   "metadata": {
    "colab": {
     "base_uri": "https://localhost:8080/"
    },
    "executionInfo": {
     "elapsed": 11,
     "status": "ok",
     "timestamp": 1691183692014,
     "user": {
      "displayName": "Aron C",
      "userId": "07834910496055545653"
     },
     "user_tz": 300
    },
    "id": "urXDpNAFR7X-",
    "outputId": "3617b388-228a-412d-a1ba-bef447dcd675"
   },
   "outputs": [],
   "source": [
    "# Now we can see the artists we have...\n",
    "billboard['artist.inverted'].unique()"
   ]
  },
  {
   "cell_type": "code",
   "execution_count": null,
   "metadata": {
    "colab": {
     "base_uri": "https://localhost:8080/",
     "height": 423
    },
    "executionInfo": {
     "elapsed": 9,
     "status": "ok",
     "timestamp": 1691183692015,
     "user": {
      "displayName": "Aron C",
      "userId": "07834910496055545653"
     },
     "user_tz": 300
    },
    "id": "Sob7aUgdR7X-",
    "outputId": "238d92be-447d-4df9-8e25-c2d86231ca91"
   },
   "outputs": [],
   "source": [
    "# Easier to visualize!!\n",
    "b_df[(b_df['artist.inverted'] == 'Jay-Z')]"
   ]
  },
  {
   "cell_type": "code",
   "execution_count": null,
   "metadata": {
    "colab": {
     "base_uri": "https://localhost:8080/",
     "height": 516
    },
    "executionInfo": {
     "elapsed": 2208,
     "status": "ok",
     "timestamp": 1691183694217,
     "user": {
      "displayName": "Aron C",
      "userId": "07834910496055545653"
     },
     "user_tz": 300
    },
    "id": "Xp-j0qduR7X-",
    "outputId": "4d90aaea-e13b-43de-cc32-25fb8fe89529"
   },
   "outputs": [],
   "source": [
    "b_df[(b_df['artist.inverted'] == 'Jay-Z')]['rank'].plot.hist(bins=100, title=\"Jay-Z Hits by Week\")"
   ]
  },
  {
   "cell_type": "code",
   "execution_count": null,
   "metadata": {
    "colab": {
     "base_uri": "https://localhost:8080/",
     "height": 589
    },
    "executionInfo": {
     "elapsed": 8,
     "status": "ok",
     "timestamp": 1691183694590,
     "user": {
      "displayName": "Aron C",
      "userId": "07834910496055545653"
     },
     "user_tz": 300
    },
    "id": "lt-yx_zHR7X-",
    "outputId": "80c93afd-f69b-40a6-d3ed-eb9e70bbceba"
   },
   "outputs": [],
   "source": [
    "#Scatterplot of JayZ at different songs/days?\n",
    "b_df[(b_df['artist.inverted'] == 'Jay-Z')].plot.scatter(y='rank',\n",
    "                                                        x='date',\n",
    "                                                        rot=45)"
   ]
  },
  {
   "cell_type": "code",
   "execution_count": null,
   "metadata": {
    "colab": {
     "base_uri": "https://localhost:8080/",
     "height": 607
    },
    "executionInfo": {
     "elapsed": 7,
     "status": "ok",
     "timestamp": 1691183694591,
     "user": {
      "displayName": "Aron C",
      "userId": "07834910496055545653"
     },
     "user_tz": 300
    },
    "id": "691EdssIR7X_",
    "outputId": "732c517e-4c70-45ad-fe78-5bb611e14ea9"
   },
   "outputs": [],
   "source": [
    "g = sns.pairplot(x_vars=[\"date\"],\n",
    "             y_vars=[\"rank\"],\n",
    "             data=b_df[(b_df['artist.inverted'] == 'TLC')],\n",
    "             hue=\"track\",\n",
    "             height=5)\n",
    "\n",
    "# # Hacky rotation?? -- https://github.com/mwaskom/seaborn/issues/867\n",
    "for ax in g.axes.flat:\n",
    "    for label in ax.get_xticklabels():\n",
    "        label.set_rotation(45)\n",
    "\n",
    "# # Invert..\n",
    "for ax in g.axes.flat:\n",
    "    ax.invert_yaxis()"
   ]
  },
  {
   "cell_type": "code",
   "execution_count": null,
   "metadata": {
    "colab": {
     "base_uri": "https://localhost:8080/",
     "height": 551
    },
    "executionInfo": {
     "elapsed": 5,
     "status": "ok",
     "timestamp": 1691183694844,
     "user": {
      "displayName": "Aron C",
      "userId": "07834910496055545653"
     },
     "user_tz": 300
    },
    "id": "fDBfcyacR7X_",
    "outputId": "75e9d1ad-f340-40c1-9889-6e9104e47d1a"
   },
   "outputs": [],
   "source": [
    "# Or we can get the list of top ranked songs...\n",
    "b_df[(b_df['rank'] == 1.0)].groupby(['artist.inverted']).count()"
   ]
  }
 ],
 "metadata": {
  "colab": {
   "provenance": []
  },
  "kernelspec": {
   "display_name": "Python 3 (ipykernel)",
   "language": "python",
   "name": "python3"
  },
  "language_info": {
   "codemirror_mode": {
    "name": "ipython",
    "version": 3
   },
   "file_extension": ".py",
   "mimetype": "text/x-python",
   "name": "python",
   "nbconvert_exporter": "python",
   "pygments_lexer": "ipython3",
   "version": "3.11.5"
  },
  "vscode": {
   "interpreter": {
    "hash": "aee8b7b246df8f9039afb4144a1f6fd8d2ca17a180786b69acc140d282b71a49"
   }
  }
 },
 "nbformat": 4,
 "nbformat_minor": 4
}
