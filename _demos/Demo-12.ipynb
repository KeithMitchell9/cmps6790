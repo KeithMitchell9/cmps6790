{
 "cells": [
  {
   "cell_type": "markdown",
   "metadata": {
    "id": "n-tJw6qgMOho"
   },
   "source": [
    "# Demo 12 - Predictive Models: Classification\n",
    "\n",
    "In this notebook we'll use the famous [Iris Dataset](https://archive.ics.uci.edu/ml/datasets/iris) to check out some real decision trees!  \n",
    "\n",
    "<img src=\"https://raw.githubusercontent.com/nmattei/cmps6790/main/_demos/data/iris.png\">\n",
    "\n",
    "This data set has:\n",
    "1. 150 instances with 4 attributes (same units, all numeric)\n",
    "2. Balanced class distribution\n",
    "3. No missing data"
   ]
  },
  {
   "cell_type": "code",
   "execution_count": null,
   "metadata": {},
   "outputs": [],
   "source": [
    "# clone the course repository, change to right directory, and import libraries.\n",
    "# COLAB only!\n",
    "%cd /content\n",
    "!git clone https://github.com/nmattei/cmps3160.git\n",
    "%cd /content/cmps3160/_demos"
   ]
  },
  {
   "cell_type": "code",
   "execution_count": null,
   "metadata": {
    "colab": {
     "base_uri": "https://localhost:8080/"
    },
    "executionInfo": {
     "elapsed": 4615,
     "status": "ok",
     "timestamp": 1691245942862,
     "user": {
      "displayName": "Aron C",
      "userId": "07834910496055545653"
     },
     "user_tz": 300
    },
    "id": "EZ2avqVcMOhs",
    "outputId": "a6e3f09c-6b45-4c2b-fc8d-5da03a0b6bf4"
   },
   "outputs": [],
   "source": [
    "import pandas as pd\n",
    "import numpy as np\n",
    "import matplotlib.pyplot as plt\n",
    "import scipy.stats as stats\n",
    "import seaborn as sns\n",
    "plt.style.use('fivethirtyeight')\n",
    "# Make the fonts a little bigger in our graphs.\n",
    "font = {'size'   : 20}\n",
    "plt.rc('font', **font)\n",
    "plt.rcParams['mathtext.fontset'] = 'cm'\n",
    "plt.rcParams['pdf.fonttype'] = 42"
   ]
  },
  {
   "cell_type": "code",
   "execution_count": null,
   "metadata": {
    "colab": {
     "base_uri": "https://localhost:8080/",
     "height": 206
    },
    "executionInfo": {
     "elapsed": 29,
     "status": "ok",
     "timestamp": 1691245942863,
     "user": {
      "displayName": "Aron C",
      "userId": "07834910496055545653"
     },
     "user_tz": 300
    },
    "id": "fKtYPe0YMOht",
    "outputId": "3f2ff69b-1111-499e-aa42-b3c94377de56"
   },
   "outputs": [],
   "source": [
    "# Import the data and check it out...\n",
    "df_iris = pd.read_csv(\"./data/iris.csv\")\n",
    "df_iris.head()"
   ]
  },
  {
   "cell_type": "code",
   "execution_count": null,
   "metadata": {
    "colab": {
     "base_uri": "https://localhost:8080/",
     "height": 300
    },
    "executionInfo": {
     "elapsed": 26,
     "status": "ok",
     "timestamp": 1691245942864,
     "user": {
      "displayName": "Aron C",
      "userId": "07834910496055545653"
     },
     "user_tz": 300
    },
    "id": "6H51l2LaMOhu",
    "outputId": "34310ee7-63ea-4676-a2dd-638a7978fd86"
   },
   "outputs": [],
   "source": [
    "df_iris.describe()"
   ]
  },
  {
   "cell_type": "code",
   "execution_count": null,
   "metadata": {
    "colab": {
     "base_uri": "https://localhost:8080/"
    },
    "executionInfo": {
     "elapsed": 25,
     "status": "ok",
     "timestamp": 1691245942865,
     "user": {
      "displayName": "Aron C",
      "userId": "07834910496055545653"
     },
     "user_tz": 300
    },
    "id": "Lwo0uevsMOhu",
    "outputId": "fe622e40-bbd1-4aea-f911-9b3b20bac293"
   },
   "outputs": [],
   "source": [
    "df_iris.groupby(\"species\").size()"
   ]
  },
  {
   "cell_type": "markdown",
   "metadata": {
    "id": "H4G864OQMOhu"
   },
   "source": [
    "Make a test and train split.  Note that we are using a *stratified sample* here so that we don't mess up our classifier! [More info in the docs!](https://scikit-learn.org/stable/modules/generated/sklearn.model_selection.train_test_split.html)\n"
   ]
  },
  {
   "cell_type": "code",
   "execution_count": null,
   "metadata": {
    "executionInfo": {
     "elapsed": 20,
     "status": "ok",
     "timestamp": 1691245942866,
     "user": {
      "displayName": "Aron C",
      "userId": "07834910496055545653"
     },
     "user_tz": 300
    },
    "id": "gTn5gV0DMOhu"
   },
   "outputs": [],
   "source": [
    "# Vectorize the whole thing...\n",
    "import sklearn\n",
    "from sklearn.model_selection import train_test_split\n",
    "\n",
    "train, test = train_test_split(df_iris,\n",
    "                               test_size=0.4,\n",
    "                               stratify=df_iris[\"species\"])"
   ]
  },
  {
   "cell_type": "code",
   "execution_count": null,
   "metadata": {
    "colab": {
     "base_uri": "https://localhost:8080/"
    },
    "executionInfo": {
     "elapsed": 20,
     "status": "ok",
     "timestamp": 1691245942867,
     "user": {
      "displayName": "Aron C",
      "userId": "07834910496055545653"
     },
     "user_tz": 300
    },
    "id": "Bg6-0HfKMOhv",
    "outputId": "006267e6-2c3c-4474-80d7-1f4ae0a16757"
   },
   "outputs": [],
   "source": [
    "# Check that...\n",
    "train.groupby(\"species\").size()"
   ]
  },
  {
   "cell_type": "code",
   "execution_count": null,
   "metadata": {
    "colab": {
     "base_uri": "https://localhost:8080/"
    },
    "executionInfo": {
     "elapsed": 18,
     "status": "ok",
     "timestamp": 1691245942868,
     "user": {
      "displayName": "Aron C",
      "userId": "07834910496055545653"
     },
     "user_tz": 300
    },
    "id": "bQUf88EZMOhv",
    "outputId": "49c8b74c-2887-4442-a3bd-831a7bf41d6c"
   },
   "outputs": [],
   "source": [
    "test.groupby(\"species\").size()"
   ]
  },
  {
   "cell_type": "code",
   "execution_count": null,
   "metadata": {
    "colab": {
     "base_uri": "https://localhost:8080/",
     "height": 810
    },
    "executionInfo": {
     "elapsed": 7690,
     "status": "ok",
     "timestamp": 1691245950543,
     "user": {
      "displayName": "Aron C",
      "userId": "07834910496055545653"
     },
     "user_tz": 300
    },
    "id": "9a3dvXBvMOhv",
    "outputId": "485a35bf-6120-496a-e226-8cc8d1733975"
   },
   "outputs": [],
   "source": [
    "# Just for fun..\n",
    "import seaborn as sns\n",
    "sns.pairplot(train, hue=\"species\", height=2, palette='colorblind')"
   ]
  },
  {
   "cell_type": "code",
   "execution_count": null,
   "metadata": {
    "colab": {
     "base_uri": "https://localhost:8080/",
     "height": 673
    },
    "executionInfo": {
     "elapsed": 313,
     "status": "ok",
     "timestamp": 1691245950829,
     "user": {
      "displayName": "Aron C",
      "userId": "07834910496055545653"
     },
     "user_tz": 300
    },
    "id": "kcvh6MvuMOhv",
    "outputId": "702238ba-fb01-483f-a5c9-5885d61ebf84"
   },
   "outputs": [],
   "source": [
    "corrmat = train.corr()\n",
    "sns.heatmap(corrmat, annot = True, square = True);"
   ]
  },
  {
   "cell_type": "markdown",
   "metadata": {
    "id": "IMkur6-YMOhw"
   },
   "source": [
    "## Decision Tree\n",
    "\n",
    "Now let's build a decision tree!"
   ]
  },
  {
   "cell_type": "code",
   "execution_count": null,
   "metadata": {
    "executionInfo": {
     "elapsed": 246,
     "status": "ok",
     "timestamp": 1691245951069,
     "user": {
      "displayName": "Aron C",
      "userId": "07834910496055545653"
     },
     "user_tz": 300
    },
    "id": "Q90pthH4lD6V"
   },
   "outputs": [],
   "source": [
    "from sklearn.tree import DecisionTreeClassifier, plot_tree\n",
    "from sklearn import metrics\n",
    "features = ['sepal_length','sepal_width','petal_length','petal_width']\n",
    "X_train = train[features]\n",
    "y_train = train.species\n",
    "X_test = test[features]\n",
    "y_test = test.species"
   ]
  },
  {
   "cell_type": "code",
   "execution_count": null,
   "metadata": {
    "executionInfo": {
     "elapsed": 8,
     "status": "ok",
     "timestamp": 1691245951070,
     "user": {
      "displayName": "Aron C",
      "userId": "07834910496055545653"
     },
     "user_tz": 300
    },
    "id": "YgXFir23MOhw"
   },
   "outputs": [],
   "source": [
    "mod_dt = DecisionTreeClassifier(max_depth = 3, random_state = 1)\n",
    "mod_dt.fit(X_train,y_train)\n",
    "prediction=mod_dt.predict(X_test)"
   ]
  },
  {
   "cell_type": "code",
   "execution_count": null,
   "metadata": {
    "colab": {
     "base_uri": "https://localhost:8080/"
    },
    "executionInfo": {
     "elapsed": 8,
     "status": "ok",
     "timestamp": 1691245951071,
     "user": {
      "displayName": "Aron C",
      "userId": "07834910496055545653"
     },
     "user_tz": 300
    },
    "id": "iq2eao7PMOhw",
    "outputId": "db2c8ea0-7e66-43c2-f92d-09a17bceb184"
   },
   "outputs": [],
   "source": [
    "# Check some measures...\n",
    "print(f\"The accuracy of the Decision Tree is {metrics.accuracy_score(prediction,y_test):.3f}\")\n",
    "print(f\"The Precision of the Decision Tree is {metrics.precision_score(prediction,y_test,average='weighted'):.3f}\")\n",
    "print(f\"The Recall of the Decision Tree is {metrics.recall_score(prediction,y_test,average='weighted'):.3f}\")"
   ]
  },
  {
   "cell_type": "code",
   "execution_count": null,
   "metadata": {
    "colab": {
     "base_uri": "https://localhost:8080/",
     "height": 515
    },
    "executionInfo": {
     "elapsed": 630,
     "status": "ok",
     "timestamp": 1691245957445,
     "user": {
      "displayName": "Aron C",
      "userId": "07834910496055545653"
     },
     "user_tz": 300
    },
    "id": "GLJoDd45MOhw",
    "outputId": "7b08433f-dd11-437c-fdbb-21b12e8d7b08"
   },
   "outputs": [],
   "source": [
    "from sklearn.metrics import accuracy_score, ConfusionMatrixDisplay\n",
    "ConfusionMatrixDisplay.from_estimator(mod_dt, X_test, y_test,\n",
    "                                        display_labels=mod_dt.classes_,\n",
    "                                        cmap=plt.cm.Blues, normalize='all')"
   ]
  },
  {
   "cell_type": "code",
   "execution_count": null,
   "metadata": {
    "colab": {
     "base_uri": "https://localhost:8080/"
    },
    "executionInfo": {
     "elapsed": 152,
     "status": "ok",
     "timestamp": 1691245964854,
     "user": {
      "displayName": "Aron C",
      "userId": "07834910496055545653"
     },
     "user_tz": 300
    },
    "id": "P7OhjdEAMOhw",
    "outputId": "6035fb62-3ee2-4006-80fe-de09d8de5752"
   },
   "outputs": [],
   "source": [
    "# Cooler...\n",
    "mod_dt.feature_importances_\n"
   ]
  },
  {
   "cell_type": "code",
   "execution_count": null,
   "metadata": {
    "colab": {
     "base_uri": "https://localhost:8080/",
     "height": 685
    },
    "executionInfo": {
     "elapsed": 734,
     "status": "ok",
     "timestamp": 1691245968626,
     "user": {
      "displayName": "Aron C",
      "userId": "07834910496055545653"
     },
     "user_tz": 300
    },
    "id": "wmzl3hF1MOhx",
    "outputId": "7542147a-6d5e-4d5e-9899-162f0abb7d5e"
   },
   "outputs": [],
   "source": [
    "plt.figure(figsize = (10,8))\n",
    "plot_tree(mod_dt, feature_names = features, class_names = mod_dt.classes_, filled = True);"
   ]
  },
  {
   "cell_type": "markdown",
   "metadata": {
    "id": "ldQTz46QMOhx"
   },
   "source": [
    "The Above only is using petal_width and petal_length... so we can plot the decision boundry..\n",
    "\n",
    "<img src=\"https://github.com/nmattei/cmps3160/blob/master/_demos/data/boundry.png?raw=1\">"
   ]
  },
  {
   "cell_type": "markdown",
   "metadata": {
    "id": "YErvo1TkWmqt"
   },
   "source": [
    "## Logistic Regression\n",
    "\n",
    "Let's compare with Logistic Regression"
   ]
  },
  {
   "cell_type": "code",
   "execution_count": null,
   "metadata": {
    "colab": {
     "base_uri": "https://localhost:8080/"
    },
    "executionInfo": {
     "elapsed": 217,
     "status": "ok",
     "timestamp": 1691245987513,
     "user": {
      "displayName": "Aron C",
      "userId": "07834910496055545653"
     },
     "user_tz": 300
    },
    "id": "bDpbqmXcWdwg",
    "outputId": "41bc4e47-9b73-4f57-fb72-9ca472de0229"
   },
   "outputs": [],
   "source": [
    "from sklearn.linear_model import LogisticRegression\n",
    "lr = LogisticRegression(max_iter=1000)\n",
    "lr.fit(X_train,y_train)\n",
    "lr_prediction=lr.predict(X_test)\n",
    "print(f\"The accuracy of Logistic Regression is {metrics.accuracy_score(lr_prediction,y_test):.3f}\")\n",
    "print(f\"The Precision of Logistic Regression is {metrics.precision_score(lr_prediction,y_test,average='weighted'):.3f}\")\n",
    "print(f\"The Recall of Logistic Regression is {metrics.recall_score(lr_prediction,y_test,average='weighted'):.3f}\")"
   ]
  },
  {
   "cell_type": "markdown",
   "metadata": {
    "id": "K4Q_8isJvIir"
   },
   "source": [
    "### Logistic Regression coefficients\n",
    "\n",
    "We can inspect the `_coef` variable of the LogisticRegression classifier to find the $\\beta$ coefficients for each class. This is a matrix where cell (i,j) returns the $\\beta$ parameter for class $i$ and feature $j$."
   ]
  },
  {
   "cell_type": "code",
   "execution_count": null,
   "metadata": {
    "colab": {
     "base_uri": "https://localhost:8080/"
    },
    "executionInfo": {
     "elapsed": 188,
     "status": "ok",
     "timestamp": 1691245992090,
     "user": {
      "displayName": "Aron C",
      "userId": "07834910496055545653"
     },
     "user_tz": 300
    },
    "id": "r_VaNK27vFBG",
    "outputId": "80c2e03e-9bf9-48c8-aff4-111532eda9a6"
   },
   "outputs": [],
   "source": [
    "lr.coef_"
   ]
  },
  {
   "cell_type": "code",
   "execution_count": null,
   "metadata": {
    "colab": {
     "base_uri": "https://localhost:8080/",
     "height": 143
    },
    "executionInfo": {
     "elapsed": 215,
     "status": "ok",
     "timestamp": 1691245993233,
     "user": {
      "displayName": "Aron C",
      "userId": "07834910496055545653"
     },
     "user_tz": 300
    },
    "id": "LWDRRBSnvkYp",
    "outputId": "2bba823b-2642-4a56-8e5d-c9eeb2a0c1fb"
   },
   "outputs": [],
   "source": [
    "# let's put the coefficients into a nice data frame.\n",
    "pd.DataFrame(lr.coef_, columns=features, index=lr.classes_)"
   ]
  },
  {
   "cell_type": "markdown",
   "metadata": {
    "id": "kCRN7kCSv11x"
   },
   "source": [
    "We can inspect the coefficients for each class for some insights into what the predictive features are. For example, `petal_length` appears to be strongly positively associated with the `virginica` class, which matches what we saw above in the pairplot.\n",
    "\n"
   ]
  },
  {
   "cell_type": "markdown",
   "metadata": {
    "id": "XQwLiGBg8IBc"
   },
   "source": [
    "### Decision Boundary\n",
    "\n",
    "To visualize the decision boundary, we'll fit a new Logistic Regression classifier using two dimensions.\n",
    "\n",
    "We'll then make a countour plot showing the predictions as the two features change.\n",
    "\n",
    "Note that in the latest version of sklearn, there is a [class](https://scikit-learn.org/stable/modules/generated/sklearn.inspection.DecisionBoundaryDisplay.html#sklearn.inspection.DecisionBoundaryDisplay) that makes this plotting easier, but it is not available on Colab."
   ]
  },
  {
   "cell_type": "code",
   "execution_count": null,
   "metadata": {
    "executionInfo": {
     "elapsed": 155,
     "status": "ok",
     "timestamp": 1691245997358,
     "user": {
      "displayName": "Aron C",
      "userId": "07834910496055545653"
     },
     "user_tz": 300
    },
    "id": "z7YcZQdZxe8z"
   },
   "outputs": [],
   "source": [
    "# fit a classifier using only two features\n",
    "features_s = ['petal_length','petal_width']\n",
    "X_train_s = train[features_s]\n",
    "X_test_s = test[features_s]\n",
    "lr.fit(X_train_s,y_train)\n",
    "lr_prediction_s=lr.predict(X_test_s)"
   ]
  },
  {
   "cell_type": "code",
   "execution_count": null,
   "metadata": {
    "colab": {
     "base_uri": "https://localhost:8080/"
    },
    "executionInfo": {
     "elapsed": 223,
     "status": "ok",
     "timestamp": 1691245998279,
     "user": {
      "displayName": "Aron C",
      "userId": "07834910496055545653"
     },
     "user_tz": 300
    },
    "id": "Tiejv7t81ppA",
    "outputId": "25cfe206-71a3-45fb-d71d-c702e9348d47"
   },
   "outputs": [],
   "source": [
    "# generate a grid of points for many posible values of petal length and width.\n",
    "xx, yy = np.mgrid[0:7:.01, 0:3:.01]\n",
    "grid = np.c_[xx.ravel(), yy.ravel()]\n",
    "grid_preds = lr.predict(grid)\n",
    "label2int = {'setosa': 0, 'versicolor': 1, 'virginica': 2}\n",
    "labelints = np.array([label2int[s] for s in grid_preds])\n",
    "labelints = labelints.reshape(xx.shape)"
   ]
  },
  {
   "cell_type": "code",
   "execution_count": null,
   "metadata": {
    "colab": {
     "base_uri": "https://localhost:8080/",
     "height": 613
    },
    "executionInfo": {
     "elapsed": 966,
     "status": "ok",
     "timestamp": 1691245999243,
     "user": {
      "displayName": "Aron C",
      "userId": "07834910496055545653"
     },
     "user_tz": 300
    },
    "id": "zbLM5uBW14Jq",
    "outputId": "1d1fce40-ab2c-42f6-bbe9-2dd65dff268e"
   },
   "outputs": [],
   "source": [
    "# plot the predicted class for each point.\n",
    "f, ax = plt.subplots(figsize=(8, 6))\n",
    "contour = ax.contourf(xx, yy, labelints, 25, cmap=\"RdBu\")\n",
    "sns.scatterplot(data=X_test, ax=ax, x='petal_length', y='petal_width', hue=lr_prediction_s)\n",
    "plt.legend(loc='upper left')"
   ]
  },
  {
   "cell_type": "markdown",
   "metadata": {
    "id": "mN1g8kQd_QKv"
   },
   "source": [
    "## Text classification\n",
    "\n",
    "In this example we go through a light example of processing a dataset for analyzing text.\n",
    "\n",
    "The data comes from [this website](https://www.cs.cornell.edu/people/pabo/movie-review-data/) at Cornell and is from Bo Pang and Lillian Lee, A Sentimental Education: Sentiment Analysis Using Subjectivity Summarization Based on Minimum Cuts, Proceedings of ACL 2004.\n",
    "\n",
    "This contains 1000 positive and 1000 negative movie reviews. Our job is to classify a review as positive or negative based on the text."
   ]
  },
  {
   "cell_type": "code",
   "execution_count": null,
   "metadata": {
    "id": "qJYg4wgXAYxK"
   },
   "outputs": [],
   "source": [
    "# need to unzip the data first.\n",
    "!unzip ./data/review_polarity.zip -d ./data/"
   ]
  },
  {
   "cell_type": "code",
   "execution_count": null,
   "metadata": {
    "id": "F2-W8PCCArxJ"
   },
   "outputs": [],
   "source": [
    "!ls data/review_polarity/pos"
   ]
  },
  {
   "cell_type": "code",
   "execution_count": null,
   "metadata": {
    "colab": {
     "base_uri": "https://localhost:8080/"
    },
    "executionInfo": {
     "elapsed": 191,
     "status": "ok",
     "timestamp": 1691246018174,
     "user": {
      "displayName": "Aron C",
      "userId": "07834910496055545653"
     },
     "user_tz": 300
    },
    "id": "pWmkSVh6CBip",
    "outputId": "43dae250-6514-4df3-94b8-8c167705a24f"
   },
   "outputs": [],
   "source": [
    "!cat data/review_polarity/pos/cv193_5416.txt"
   ]
  },
  {
   "cell_type": "code",
   "execution_count": null,
   "metadata": {
    "executionInfo": {
     "elapsed": 230,
     "status": "ok",
     "timestamp": 1691246020954,
     "user": {
      "displayName": "Aron C",
      "userId": "07834910496055545653"
     },
     "user_tz": 300
    },
    "id": "jkjx-0p3_Wvz"
   },
   "outputs": [],
   "source": [
    "import glob\n",
    "\n",
    "# labels are based on which directory the files are in.\n",
    "all_pos = list(glob.glob(\"./data/review_polarity/pos/*\"))\n",
    "all_neg = list(glob.glob(\"./data/review_polarity/neg/*\"))\n",
    "labels = np.array([1] * len(all_pos) + [0] * len(all_neg))\n",
    "filenames = all_pos + all_neg"
   ]
  },
  {
   "cell_type": "markdown",
   "metadata": {
    "id": "atBZM4FWI2x4"
   },
   "source": [
    "We'll use TfidfVectorizer to convert each document into a (sparse) *feature* vector."
   ]
  },
  {
   "cell_type": "code",
   "execution_count": null,
   "metadata": {
    "colab": {
     "base_uri": "https://localhost:8080/"
    },
    "executionInfo": {
     "elapsed": 2367,
     "status": "ok",
     "timestamp": 1691246025317,
     "user": {
      "displayName": "Aron C",
      "userId": "07834910496055545653"
     },
     "user_tz": 300
    },
    "id": "MU1axtAEAYM6",
    "outputId": "07c95927-c2d7-49e4-ebdf-8aae6e69b88a"
   },
   "outputs": [],
   "source": [
    "from sklearn.feature_extraction.text import TfidfVectorizer\n",
    "from sklearn.linear_model import LogisticRegression\n",
    "from sklearn.model_selection import train_test_split\n",
    "\n",
    "vec = TfidfVectorizer(input='filename', stop_words='english')\n",
    "X = vec.fit_transform(filenames)\n",
    "X.shape"
   ]
  },
  {
   "cell_type": "markdown",
   "metadata": {
    "id": "HpsQVY9DDf4h"
   },
   "source": [
    "So, we have 2000 documents and 39,659 unique words.\n",
    "\n",
    "How big is this matrix?\n",
    "\n",
    "Wait, how do we store that?\n",
    "\n",
    "dense matrix:\n",
    "$$\n",
    "X=\n",
    "  \\begin{bmatrix}\n",
    "    0.1 & 2.8 & 3.2 & ... & 1.5 \\\\\n",
    "    3.2 & 4.1 & 5.1 & ... & 2.7  \\\\\n",
    "    ...\\\\\n",
    "    1.4 & 3.4 & 7.5 & ... & 7.5  \\\\\n",
    "  \\end{bmatrix}\n",
    "$$\n",
    "\n",
    "sparse matrix:\n",
    "$$\n",
    "X=\n",
    "  \\begin{bmatrix}\n",
    "    0.1 & 0 & 0 & ... & 1.5 \\\\\n",
    "    0 & 0 & 0 & ... & 2.7  \\\\\n",
    "    ...\\\\\n",
    "    0 & 3.4 & 0 & ... & 0  \\\\\n",
    "  \\end{bmatrix}\n",
    "$$\n",
    "\n",
    "How can we store a sparse matrix more efficiently?\n",
    "\n",
    "<br><br><br>\n",
    "[CSR matrix](https://docs.scipy.org/doc/scipy/reference/generated/scipy.sparse.csr_matrix.html)"
   ]
  },
  {
   "cell_type": "code",
   "execution_count": null,
   "metadata": {
    "colab": {
     "base_uri": "https://localhost:8080/"
    },
    "executionInfo": {
     "elapsed": 162,
     "status": "ok",
     "timestamp": 1691246030298,
     "user": {
      "displayName": "Aron C",
      "userId": "07834910496055545653"
     },
     "user_tz": 300
    },
    "id": "iT0AxAWxDnn6",
    "outputId": "75206f89-7b51-4475-b5d2-77bc29889e07"
   },
   "outputs": [],
   "source": [
    "X[0]"
   ]
  },
  {
   "cell_type": "code",
   "execution_count": null,
   "metadata": {
    "colab": {
     "base_uri": "https://localhost:8080/",
     "height": 36
    },
    "executionInfo": {
     "elapsed": 5,
     "status": "ok",
     "timestamp": 1691246030907,
     "user": {
      "displayName": "Aron C",
      "userId": "07834910496055545653"
     },
     "user_tz": 300
    },
    "id": "Vfou1bkiEADv",
    "outputId": "15335fd9-851d-48f2-c250-0b2971bc70c7"
   },
   "outputs": [],
   "source": [
    "filenames[0]"
   ]
  },
  {
   "cell_type": "code",
   "execution_count": null,
   "metadata": {
    "colab": {
     "base_uri": "https://localhost:8080/"
    },
    "executionInfo": {
     "elapsed": 200,
     "status": "ok",
     "timestamp": 1691246031726,
     "user": {
      "displayName": "Aron C",
      "userId": "07834910496055545653"
     },
     "user_tz": 300
    },
    "id": "TclbqfRcDuAo",
    "outputId": "427e9541-0cac-4289-fd92-413bf407815f"
   },
   "outputs": [],
   "source": [
    "!cat ./data/review_polarity/pos/cv839_21467.txt"
   ]
  },
  {
   "cell_type": "code",
   "execution_count": null,
   "metadata": {
    "colab": {
     "base_uri": "https://localhost:8080/"
    },
    "executionInfo": {
     "elapsed": 244,
     "status": "ok",
     "timestamp": 1691246033021,
     "user": {
      "displayName": "Aron C",
      "userId": "07834910496055545653"
     },
     "user_tz": 300
    },
    "id": "fPPKb_19EYEb",
    "outputId": "c9d5e0fe-3af2-44ae-ff02-af884d5902df"
   },
   "outputs": [],
   "source": [
    "X[0].indices"
   ]
  },
  {
   "cell_type": "code",
   "execution_count": null,
   "metadata": {
    "colab": {
     "base_uri": "https://localhost:8080/"
    },
    "executionInfo": {
     "elapsed": 158,
     "status": "ok",
     "timestamp": 1691246034831,
     "user": {
      "displayName": "Aron C",
      "userId": "07834910496055545653"
     },
     "user_tz": 300
    },
    "id": "K1PM1PS9Ea2O",
    "outputId": "7767f021-62bc-437f-d83a-2b64192e180b"
   },
   "outputs": [],
   "source": [
    "feature_names = np.array(vec.get_feature_names_out())\n",
    "feature_names[X[0].indices]"
   ]
  },
  {
   "cell_type": "code",
   "execution_count": null,
   "metadata": {
    "colab": {
     "base_uri": "https://localhost:8080/"
    },
    "executionInfo": {
     "elapsed": 188,
     "status": "ok",
     "timestamp": 1691246036224,
     "user": {
      "displayName": "Aron C",
      "userId": "07834910496055545653"
     },
     "user_tz": 300
    },
    "id": "5mVc4jNUErM6",
    "outputId": "c4c86c54-9d6e-473c-ce79-bdf802d88d09"
   },
   "outputs": [],
   "source": [
    "X[0].data"
   ]
  },
  {
   "cell_type": "code",
   "execution_count": null,
   "metadata": {
    "executionInfo": {
     "elapsed": 159,
     "status": "ok",
     "timestamp": 1691246037347,
     "user": {
      "displayName": "Aron C",
      "userId": "07834910496055545653"
     },
     "user_tz": 300
    },
    "id": "QyCHOyOME_bK"
   },
   "outputs": [],
   "source": [
    "X_train, X_test, y_train, y_test = train_test_split(X, labels, test_size=0.4,\n",
    "                                                    shuffle=True, random_state=42)"
   ]
  },
  {
   "cell_type": "code",
   "execution_count": null,
   "metadata": {
    "colab": {
     "base_uri": "https://localhost:8080/"
    },
    "executionInfo": {
     "elapsed": 557,
     "status": "ok",
     "timestamp": 1691246040505,
     "user": {
      "displayName": "Aron C",
      "userId": "07834910496055545653"
     },
     "user_tz": 300
    },
    "id": "pRqkGnsMEz-v",
    "outputId": "ebb3cf7c-553d-4b6b-8181-ebf67525f70b"
   },
   "outputs": [],
   "source": [
    "textlr = LogisticRegression()\n",
    "textlr.fit(X_train, y_train)\n",
    "y_predicted = textlr.predict(X_test)\n",
    "print(f\"accuracy= {metrics.accuracy_score(y_predicted,y_test):.3f}\")\n",
    "print(f\"precision= {metrics.precision_score(y_predicted,y_test):.3f}\")\n",
    "print(f\"recall ={metrics.recall_score(y_predicted,y_test):.3f}\")"
   ]
  },
  {
   "cell_type": "code",
   "execution_count": null,
   "metadata": {
    "colab": {
     "base_uri": "https://localhost:8080/",
     "height": 515
    },
    "executionInfo": {
     "elapsed": 865,
     "status": "ok",
     "timestamp": 1691246090592,
     "user": {
      "displayName": "Aron C",
      "userId": "07834910496055545653"
     },
     "user_tz": 300
    },
    "id": "jdDPsO-YFOj9",
    "outputId": "00a2d8f8-7b6b-4e47-9e1a-45b278eb9d3c"
   },
   "outputs": [],
   "source": [
    "ConfusionMatrixDisplay.from_estimator(textlr, X_test, y_test,\n",
    "                                        display_labels=textlr.classes_,\n",
    "                                        cmap=plt.cm.Blues, normalize='all')"
   ]
  },
  {
   "cell_type": "code",
   "execution_count": null,
   "metadata": {
    "colab": {
     "base_uri": "https://localhost:8080/",
     "height": 676
    },
    "executionInfo": {
     "elapsed": 162,
     "status": "ok",
     "timestamp": 1691246094008,
     "user": {
      "displayName": "Aron C",
      "userId": "07834910496055545653"
     },
     "user_tz": 300
    },
    "id": "_IMBC_pLGHn4",
    "outputId": "c4f11738-cb1d-4539-fd97-f1342f386896"
   },
   "outputs": [],
   "source": [
    "pos_coef = pd.DataFrame(textlr.coef_[0],  index=feature_names).rename(columns={0: 'coef'})\n",
    "pos_coef.sort_values('coef', ascending=False).head(20)"
   ]
  },
  {
   "cell_type": "code",
   "execution_count": null,
   "metadata": {
    "colab": {
     "base_uri": "https://localhost:8080/",
     "height": 676
    },
    "executionInfo": {
     "elapsed": 5,
     "status": "ok",
     "timestamp": 1691246094853,
     "user": {
      "displayName": "Aron C",
      "userId": "07834910496055545653"
     },
     "user_tz": 300
    },
    "id": "EISw8DspHICB",
    "outputId": "2aa61538-4a9b-4bbd-ce16-6ec684e9fa84"
   },
   "outputs": [],
   "source": [
    "pos_coef.sort_values('coef', ascending=True).head(20)"
   ]
  },
  {
   "cell_type": "markdown",
   "metadata": {
    "id": "SNn1J4a4MOhx"
   },
   "source": [
    "## Titanic\n",
    "\n",
    "Let's fit a Decision Tree classifier on the Titanic data as well."
   ]
  },
  {
   "cell_type": "code",
   "execution_count": null,
   "metadata": {
    "colab": {
     "base_uri": "https://localhost:8080/",
     "height": 206
    },
    "executionInfo": {
     "elapsed": 180,
     "status": "ok",
     "timestamp": 1691246098633,
     "user": {
      "displayName": "Aron C",
      "userId": "07834910496055545653"
     },
     "user_tz": 300
    },
    "id": "3qM8ypn4MOhx",
    "outputId": "cc430a63-3d57-4b83-ebb1-505815c7895c"
   },
   "outputs": [],
   "source": [
    "df_titanic = pd.read_csv(\"./data/titanic.csv\")\n",
    "df_titanic = pd.get_dummies(df_titanic, columns=['sex'])\n",
    "# Be cheeky with our NAN\n",
    "df_titanic = df_titanic[(df_titanic[\"age\"].notna()) & (df_titanic[\"fare\"].notna())]\n",
    "df_titanic.head()"
   ]
  },
  {
   "cell_type": "code",
   "execution_count": null,
   "metadata": {
    "executionInfo": {
     "elapsed": 157,
     "status": "ok",
     "timestamp": 1691246101003,
     "user": {
      "displayName": "Aron C",
      "userId": "07834910496055545653"
     },
     "user_tz": 300
    },
    "id": "cdcLrt0UMOhx"
   },
   "outputs": [],
   "source": [
    "train, test = train_test_split(df_titanic,\n",
    "                               test_size=0.4,\n",
    "                               stratify=df_titanic[\"survived\"])"
   ]
  },
  {
   "cell_type": "code",
   "execution_count": null,
   "metadata": {
    "executionInfo": {
     "elapsed": 134,
     "status": "ok",
     "timestamp": 1691246102305,
     "user": {
      "displayName": "Aron C",
      "userId": "07834910496055545653"
     },
     "user_tz": 300
    },
    "id": "K4n2pL22MOhx"
   },
   "outputs": [],
   "source": [
    "features = [\"pclass\", \"fare\", \"sex_female\", \"age\"]\n",
    "X_train = train[features]\n",
    "y_train = train.survived\n",
    "X_test = test[features]\n",
    "y_test = test.survived"
   ]
  },
  {
   "cell_type": "code",
   "execution_count": null,
   "metadata": {
    "colab": {
     "base_uri": "https://localhost:8080/"
    },
    "executionInfo": {
     "elapsed": 172,
     "status": "ok",
     "timestamp": 1691246104135,
     "user": {
      "displayName": "Aron C",
      "userId": "07834910496055545653"
     },
     "user_tz": 300
    },
    "id": "FzcAJ6xKMOhx",
    "outputId": "46dba767-4ae7-4868-acc9-828b115a52c5"
   },
   "outputs": [],
   "source": [
    "mod_dt = DecisionTreeClassifier(max_depth = 3, random_state = 1)\n",
    "mod_dt.fit(X_train,y_train)\n",
    "prediction=mod_dt.predict(X_test)\n",
    "# Check some measures...\n",
    "print(f\"The accuracy of the Decision Tree is {metrics.accuracy_score(prediction,y_test):.3f}\")\n",
    "print(f\"The Precision of the Decision Tree is {metrics.precision_score(prediction,y_test,average='weighted'):.3f}\")\n",
    "print(f\"The Recall of the Decision Tree is {metrics.recall_score(prediction,y_test,average='weighted'):.3f}\")"
   ]
  },
  {
   "cell_type": "code",
   "execution_count": null,
   "metadata": {
    "colab": {
     "base_uri": "https://localhost:8080/",
     "height": 515
    },
    "executionInfo": {
     "elapsed": 773,
     "status": "ok",
     "timestamp": 1691246143278,
     "user": {
      "displayName": "Aron C",
      "userId": "07834910496055545653"
     },
     "user_tz": 300
    },
    "id": "U1bzS87oMOhx",
    "outputId": "a5866bae-0d8d-4e25-ebb6-6d5068edc97c"
   },
   "outputs": [],
   "source": [
    "# Plot some graphs...\n",
    "ConfusionMatrixDisplay.from_estimator(mod_dt, X_test, y_test,\n",
    "                                        display_labels=mod_dt.classes_,\n",
    "                                        cmap=plt.cm.Blues, normalize='all')"
   ]
  },
  {
   "cell_type": "code",
   "execution_count": null,
   "metadata": {
    "colab": {
     "base_uri": "https://localhost:8080/",
     "height": 515
    },
    "executionInfo": {
     "elapsed": 702,
     "status": "ok",
     "timestamp": 1691246221153,
     "user": {
      "displayName": "Aron C",
      "userId": "07834910496055545653"
     },
     "user_tz": 300
    },
    "id": "8KTelmpSMOhx",
    "outputId": "aa4707c7-e441-4389-a04c-9ed1c3099cf3"
   },
   "outputs": [],
   "source": [
    "# Plot some graphs...\n",
    "from sklearn.metrics import PrecisionRecallDisplay\n",
    "PrecisionRecallDisplay.from_estimator(mod_dt, X_test, y_test)"
   ]
  },
  {
   "cell_type": "code",
   "execution_count": null,
   "metadata": {
    "colab": {
     "base_uri": "https://localhost:8080/",
     "height": 955
    },
    "executionInfo": {
     "elapsed": 2658,
     "status": "ok",
     "timestamp": 1691246234375,
     "user": {
      "displayName": "Aron C",
      "userId": "07834910496055545653"
     },
     "user_tz": 300
    },
    "id": "vryAenC_MOhy",
    "outputId": "009d78a3-5544-43b1-fbf4-083aba29563d"
   },
   "outputs": [],
   "source": [
    "plt.figure(figsize = (15,8))\n",
    "plot_tree(mod_dt, feature_names = features, class_names={1:\"survived\", 0:\"died\"}, filled = True)"
   ]
  }
 ],
 "metadata": {
  "colab": {
   "provenance": []
  },
  "kernelspec": {
   "display_name": "Python 3 (ipykernel)",
   "language": "python",
   "name": "python3"
  },
  "language_info": {
   "codemirror_mode": {
    "name": "ipython",
    "version": 3
   },
   "file_extension": ".py",
   "mimetype": "text/x-python",
   "name": "python",
   "nbconvert_exporter": "python",
   "pygments_lexer": "ipython3",
   "version": "3.11.5"
  },
  "vscode": {
   "interpreter": {
    "hash": "aee8b7b246df8f9039afb4144a1f6fd8d2ca17a180786b69acc140d282b71a49"
   }
  }
 },
 "nbformat": 4,
 "nbformat_minor": 4
}
