{
 "cells": [
  {
   "cell_type": "markdown",
   "metadata": {
    "id": "LzwiZ0Ljkf4D"
   },
   "source": [
    "# Lab 06: Merging and Joining Data\n",
    "\n",
    "This lab is presented with some revisions from [Dennis Sun at Cal Poly](https://web.calpoly.edu/~dsun09/index.html) and his [Data301 Course](http://users.csc.calpoly.edu/~dsun09/data301/lectures.html)\n",
    "\n",
    "### When you have filled out all the questions, submit via [Tulane Canvas](https://tulane.instructure.com/)"
   ]
  },
  {
   "cell_type": "code",
   "execution_count": null,
   "metadata": {},
   "outputs": [],
   "source": [
    "# clone the course repository, change to right directory, and import libraries.\n",
    "%cd /content\n",
    "!git clone https://github.com/nmattei/cmps6790.git\n",
    "%cd /content/cmps6790/_labs/Lab05"
   ]
  },
  {
   "cell_type": "code",
   "execution_count": null,
   "metadata": {
    "colab": {
     "base_uri": "https://localhost:8080/"
    },
    "executionInfo": {
     "elapsed": 6523,
     "status": "ok",
     "timestamp": 1691170081979,
     "user": {
      "displayName": "Aron C",
      "userId": "07834910496055545653"
     },
     "user_tz": 300
    },
    "id": "UBVzYzeKkwMU",
    "outputId": "11c1a6c6-1b34-4ae7-fe85-b293e2c01bb2"
   },
   "outputs": [],
   "source": [
    "import pandas as pd\n",
    "import numpy as np\n",
    "import matplotlib.pyplot as plt"
   ]
  },
  {
   "cell_type": "markdown",
   "metadata": {
    "id": "u3JjMSIRkf4E"
   },
   "source": [
    "In many situtions, the information you need is spread across multiple data sets, so you will need to combine multiple data sets into one. In this lab, we explore how to combine information from multiple (tabular) data sets.\n",
    "\n",
    "As a working example, we will use the baby names data collected by the Social Security Administration. Each data set in this collection contains the names of all babies born in the United States in a particular year. This data is [publicly available](https://www.ssa.gov/OACT/babynames/limits.html), and a copy has been made available at `../data/names.zip`.\n",
    "\n",
    "We will first unzip the files in `../data/names.zip` into a new directory in the current folder called `data/`."
   ]
  },
  {
   "cell_type": "code",
   "execution_count": null,
   "metadata": {
    "colab": {
     "base_uri": "https://localhost:8080/"
    },
    "executionInfo": {
     "elapsed": 1128,
     "status": "ok",
     "timestamp": 1691170083104,
     "user": {
      "displayName": "Aron C",
      "userId": "07834910496055545653"
     },
     "user_tz": 300
    },
    "id": "uNmjeeDQlDGS",
    "outputId": "136c7af1-3811-4ca9-bb92-b30c87e80324"
   },
   "outputs": [],
   "source": [
    "!mkdir -p ../data/names\n",
    "!unzip ../data/names.zip -d ../data/names"
   ]
  },
  {
   "cell_type": "markdown",
   "metadata": {
    "id": "Fk_SnW_vkf4O"
   },
   "source": [
    "As you can see this data is broken up into a lot of individual files, but if we want to use any of our `groupby` and other analysis techniques we need to make it into one file!"
   ]
  },
  {
   "cell_type": "markdown",
   "metadata": {
    "id": "2DySp-Ckkf4O"
   },
   "source": [
    "## Concatenation\n",
    "\n",
    "Sometimes, the _rows_ of data are spread across multiple files, and we want to combine the rows into a single data set. The process of combining rows from different data sets is known as **concatenation**. Visually, to concatenate two or more `DataFrame`s means to stack them on top of one another.\n",
    "\n",
    "<img src=\"https://github.com/nmattei/cmps3160/blob/master/_labs/images/concatenate.png?raw=1\" width=\"400\">\n",
    "\n",
    "For example, suppose we want to understand how the popularity of different names evolved between 1995 and 2015. The 1995 names and the 2015 names are stored in two different files: `yob1995.txt` and `yob2015.txt`, respectively. To carry out this analysis, we will need to combine these two data sets into one."
   ]
  },
  {
   "cell_type": "code",
   "execution_count": null,
   "metadata": {
    "colab": {
     "base_uri": "https://localhost:8080/",
     "height": 206
    },
    "executionInfo": {
     "elapsed": 250,
     "status": "ok",
     "timestamp": 1691170083351,
     "user": {
      "displayName": "Aron C",
      "userId": "07834910496055545653"
     },
     "user_tz": 300
    },
    "id": "XvjIRKn2kf4Q",
    "outputId": "ff22b4c7-3931-417b-ae1b-c4524f23b1c5"
   },
   "outputs": [],
   "source": [
    "# Show a ludicrus number of rows and columns\n",
    "pd.options.display.max_rows = 500\n",
    "pd.options.display.max_columns = 500\n",
    "pd.options.display.width = 1000\n",
    "\n",
    "names1995 = pd.read_csv(\"../data/names/yob1995.txt\",\n",
    "                        header=None,\n",
    "                        names=[\"Name\", \"Sex\", \"Count\"])\n",
    "names1995.head()"
   ]
  },
  {
   "cell_type": "code",
   "execution_count": null,
   "metadata": {
    "colab": {
     "base_uri": "https://localhost:8080/",
     "height": 206
    },
    "executionInfo": {
     "elapsed": 13,
     "status": "ok",
     "timestamp": 1691170083352,
     "user": {
      "displayName": "Aron C",
      "userId": "07834910496055545653"
     },
     "user_tz": 300
    },
    "id": "1NKp5-wokf4R",
    "outputId": "1d8ee081-464d-4843-b4db-8a1ed43d2968"
   },
   "outputs": [],
   "source": [
    "names2015 = pd.read_csv(\"../data/names/yob2015.txt\",\n",
    "                        header=None,\n",
    "                        names=[\"Name\", \"Sex\", \"Count\"])\n",
    "names2015.head()"
   ]
  },
  {
   "cell_type": "markdown",
   "metadata": {
    "id": "udACZtockf4T"
   },
   "source": [
    "To concatenate the two, we use the `pd.concat()` function, which accepts a _list_ of `pandas` objects (`DataFrames` or `Series`) and concatenates them."
   ]
  },
  {
   "cell_type": "code",
   "execution_count": null,
   "metadata": {
    "colab": {
     "base_uri": "https://localhost:8080/",
     "height": 423
    },
    "executionInfo": {
     "elapsed": 197,
     "status": "ok",
     "timestamp": 1691170083538,
     "user": {
      "displayName": "Aron C",
      "userId": "07834910496055545653"
     },
     "user_tz": 300
    },
    "id": "E_0j0TOikf4U",
    "outputId": "a5808165-96f0-46d9-edff-37ecc3b6ca20"
   },
   "outputs": [],
   "source": [
    "pd.concat([names1995, names2015])"
   ]
  },
  {
   "cell_type": "markdown",
   "metadata": {
    "id": "NRmO1J05kf4V"
   },
   "source": [
    "There are two problems with the combined data set above. First, there is no longer any way to distinguish the 1995 data from the 2015 data. To fix this, we can add a \"Year\" column to each `DataFrame` before we concatenate. Second, the indexes from the individual `DataFrame`s have been preserved. (To see this, observe that the last index in the `DataFrame` is 32,951, which corresponds to the number of rows in `names2015`, but there are actually 59,032 rows in the `DataFrame`.) That means that there are two rows with an index of 0, two rows with an index of 1, and so on. To force `pandas` to create a completely new index for this `DataFrame`, ignoring the indices from the individual `DataFrame`s, we specify `ignore_index=True`."
   ]
  },
  {
   "cell_type": "code",
   "execution_count": null,
   "metadata": {
    "colab": {
     "base_uri": "https://localhost:8080/",
     "height": 423
    },
    "executionInfo": {
     "elapsed": 6,
     "status": "ok",
     "timestamp": 1691170083539,
     "user": {
      "displayName": "Aron C",
      "userId": "07834910496055545653"
     },
     "user_tz": 300
    },
    "id": "ocElaCgxkf4W",
    "outputId": "5f2766d2-941f-4677-fa71-0077ce3c7772"
   },
   "outputs": [],
   "source": [
    "names1995[\"Year\"] = 1995\n",
    "names2015[\"Year\"] = 2015\n",
    "names = pd.concat([names1995, names2015], ignore_index=True)\n",
    "names"
   ]
  },
  {
   "cell_type": "markdown",
   "metadata": {
    "id": "udeGz8mPkf4X"
   },
   "source": [
    "Now this is a `DataFrame` that we can use!\n",
    "\n",
    "Notice that the data is currently in tabular form, with one row per combination of name, sex, and year. It makes sense to set these to be the index of our `DataFrame`."
   ]
  },
  {
   "cell_type": "code",
   "execution_count": null,
   "metadata": {
    "colab": {
     "base_uri": "https://localhost:8080/",
     "height": 237
    },
    "executionInfo": {
     "elapsed": 519,
     "status": "ok",
     "timestamp": 1691170084054,
     "user": {
      "displayName": "Aron C",
      "userId": "07834910496055545653"
     },
     "user_tz": 300
    },
    "id": "6QaHkKyTkf4X",
    "outputId": "c0cac989-1af1-4d7c-b907-83d2e0f16207"
   },
   "outputs": [],
   "source": [
    "names.set_index([\"Name\", \"Sex\", \"Year\"], inplace=True)\n",
    "names.head()"
   ]
  },
  {
   "cell_type": "markdown",
   "metadata": {
    "id": "10efd--dkf4Y"
   },
   "source": [
    "We may want to show the counts for the two years side by side. In other words, we want a data cube with (name, sex) along one axis and year along the other. To do this, we can `.unstack()` the year from the index.  Note this is similar to a reverse Melt operation that we talked about in class -- a more tidy data way to do this may be to setup year as a multi index."
   ]
  },
  {
   "cell_type": "code",
   "execution_count": null,
   "metadata": {
    "colab": {
     "base_uri": "https://localhost:8080/",
     "height": 268
    },
    "executionInfo": {
     "elapsed": 186,
     "status": "ok",
     "timestamp": 1691170084237,
     "user": {
      "displayName": "Aron C",
      "userId": "07834910496055545653"
     },
     "user_tz": 300
    },
    "id": "hdrSVwbIkf4Z",
    "outputId": "e284333a-e750-474d-874b-f83f3a850df3"
   },
   "outputs": [],
   "source": [
    "names.unstack(\"Year\").head()"
   ]
  },
  {
   "cell_type": "markdown",
   "metadata": {
    "id": "anYLo8Gukf4Z"
   },
   "source": [
    "The `NaN`s simply indicate that there were no children (more precisely, if you read [the documentation](https://www.ssa.gov/OACT/babynames/limits.html), fewer than five children) born in the United States in that year. In this case, it makes sense to fill these `NaN` values with 0."
   ]
  },
  {
   "cell_type": "code",
   "execution_count": null,
   "metadata": {
    "colab": {
     "base_uri": "https://localhost:8080/",
     "height": 268
    },
    "executionInfo": {
     "elapsed": 176,
     "status": "ok",
     "timestamp": 1691170084409,
     "user": {
      "displayName": "Aron C",
      "userId": "07834910496055545653"
     },
     "user_tz": 300
    },
    "id": "OCFhLSK-kf4a",
    "outputId": "5bc808d3-d19d-41bf-f4ab-bc8cc4050f90"
   },
   "outputs": [],
   "source": [
    "names.unstack().fillna(0).head()"
   ]
  },
  {
   "cell_type": "markdown",
   "metadata": {
    "id": "8nF7_MGpkf4a"
   },
   "source": [
    "# Merging (a.k.a. Joining)\n",
    "\n",
    "More commonly, the data sets that we want to combine actually contain different information about the same observations. In other words, instead of stacking the `DataFrame`s on top of each other, as in concatenation, we want to stack them next to each other. The process of combining columns or variables from different data sets is known as **merging** or **joining**.\n",
    "\n",
    "<img src=\"https://github.com/nmattei/cmps3160/blob/master/_labs/images/merge.png?raw=1\" width=\"400\">\n",
    "\n",
    "The observations in the two data sets may not be in the same order, so merging is not as simple as stacking the `DataFrame`s side by side. For example, the process might look as follows:\n",
    "\n",
    "![](https://github.com/nmattei/cmps3160/blob/master/_labs/images/one-to-one.png?raw=1)\n",
    "\n",
    "In _pandas_, merging is accomplished using the `.merge()` function. We have to specify the variable(s) that we want to match across the two data sets. For example, to merge the 1995 names with the 2015 names, we have to join on name and sex."
   ]
  },
  {
   "cell_type": "code",
   "execution_count": null,
   "metadata": {
    "colab": {
     "base_uri": "https://localhost:8080/",
     "height": 206
    },
    "executionInfo": {
     "elapsed": 202,
     "status": "ok",
     "timestamp": 1691170084608,
     "user": {
      "displayName": "Aron C",
      "userId": "07834910496055545653"
     },
     "user_tz": 300
    },
    "id": "6GgrATHOkf4b",
    "outputId": "b5616536-a189-4ca3-a65a-071bc2347159"
   },
   "outputs": [],
   "source": [
    "names1995.merge(names2015, on=[\"Name\", \"Sex\"]).head()"
   ]
  },
  {
   "cell_type": "markdown",
   "metadata": {
    "id": "tZEUVNiLkf4b"
   },
   "source": [
    "The variables `Name` and `Sex` that we joined on each appear once in the resulting `DataFrame`. The variable `Count`, which we did not join on, appears twice---since there are columns called `Count` in both `DataFrame`s. Notice that `pandas` automatically appended the suffix `_x` to the name of the variable from the left data set and `_y` to the name from the right. We can customize the suffixes by specifying the `suffixes=` argument."
   ]
  },
  {
   "cell_type": "code",
   "execution_count": null,
   "metadata": {
    "colab": {
     "base_uri": "https://localhost:8080/",
     "height": 206
    },
    "executionInfo": {
     "elapsed": 320,
     "status": "ok",
     "timestamp": 1691170084925,
     "user": {
      "displayName": "Aron C",
      "userId": "07834910496055545653"
     },
     "user_tz": 300
    },
    "id": "iCtPyRRWkf4c",
    "outputId": "d9703203-b815-4edf-8381-353824dc51bb"
   },
   "outputs": [],
   "source": [
    "names1995.merge(names2015, on=[\"Name\", \"Sex\"], suffixes=(\"1995\", \"2015\")).head()"
   ]
  },
  {
   "cell_type": "markdown",
   "metadata": {
    "id": "vbqu_LMokf4c"
   },
   "source": [
    "In the code above, we assumed that the columns that we joined on had the same names in the two data sets. What if they had different names? For example, suppose the columns had been lowercase in one and uppercase in the other. We can specify which variables to use from the left and right data sets using the `left_on=` and `right_on=` arguments."
   ]
  },
  {
   "cell_type": "code",
   "execution_count": null,
   "metadata": {
    "colab": {
     "base_uri": "https://localhost:8080/",
     "height": 206
    },
    "executionInfo": {
     "elapsed": 224,
     "status": "ok",
     "timestamp": 1691170085146,
     "user": {
      "displayName": "Aron C",
      "userId": "07834910496055545653"
     },
     "user_tz": 300
    },
    "id": "dY1IrnZlkf4d",
    "outputId": "1fdbbedb-7910-45ac-8df9-343e3af659b9"
   },
   "outputs": [],
   "source": [
    "# Create new DataFrames where the column names are different\n",
    "names1995_lower = names1995.copy()\n",
    "names2015_upper = names2015.copy()\n",
    "names1995_lower.columns = names1995.columns.str.lower()\n",
    "names2015_upper.columns = names2015.columns.str.upper()\n",
    "\n",
    "# This is how you merge them.\n",
    "names1995_lower.merge(\n",
    "    names2015_upper,\n",
    "    left_on=(\"name\", \"sex\"),\n",
    "    right_on=(\"NAME\", \"SEX\")\n",
    ").head()"
   ]
  },
  {
   "cell_type": "markdown",
   "metadata": {
    "id": "QWQuHLG8kf4d"
   },
   "source": [
    "Note that here we've managed to get some redundant columns so we would need to drop these to keep our data tidy!"
   ]
  },
  {
   "cell_type": "markdown",
   "metadata": {
    "id": "pE2QGTRekf4d"
   },
   "source": [
    "What if the \"variables\" that we want to join on are in the index? We can always call `.reset_index()` to make them columns, but we can also specify the arguments `left_index=True` or `right_index=True` to force `pandas` to use the index instead of columns.  Note that if we were to use the Pandas `join` command the default action would be to join on the indicies."
   ]
  },
  {
   "cell_type": "code",
   "execution_count": null,
   "metadata": {
    "colab": {
     "base_uri": "https://localhost:8080/",
     "height": 237
    },
    "executionInfo": {
     "elapsed": 167,
     "status": "ok",
     "timestamp": 1691170085309,
     "user": {
      "displayName": "Aron C",
      "userId": "07834910496055545653"
     },
     "user_tz": 300
    },
    "id": "qsV4dHd5kf4e",
    "outputId": "41b5dd01-c66b-4cb5-c6e3-aa74593c5500"
   },
   "outputs": [],
   "source": [
    "names1995_idx = names1995.set_index([\"Name\", \"Sex\"])\n",
    "names1995_idx.head()"
   ]
  },
  {
   "cell_type": "code",
   "execution_count": null,
   "metadata": {
    "colab": {
     "base_uri": "https://localhost:8080/",
     "height": 206
    },
    "executionInfo": {
     "elapsed": 9,
     "status": "ok",
     "timestamp": 1691170085310,
     "user": {
      "displayName": "Aron C",
      "userId": "07834910496055545653"
     },
     "user_tz": 300
    },
    "id": "HyJEFXrLkf4e",
    "outputId": "68c529b1-f335-4b76-931c-eb98c742c858"
   },
   "outputs": [],
   "source": [
    "names1995_idx.merge(names2015, left_index=True, right_on=(\"Name\", \"Sex\")).head()"
   ]
  },
  {
   "cell_type": "markdown",
   "metadata": {
    "id": "WRJt9BS6kf4f"
   },
   "source": [
    "Note that this worked because the left `DataFrame` had an index with two levels, which were joined to two columns from the right `DataFrame`."
   ]
  },
  {
   "cell_type": "markdown",
   "metadata": {
    "id": "P9TWTvhDkf4f"
   },
   "source": [
    "# One-to-One and Many-to-One Relationships\n",
    "\n",
    "In the example above, there was at most one (name, sex) combination in the 2015 data set for each (name, sex) combination in the 1995 data set. These two data sets are thus said to have a **one-to-one relationship**. Another example of a one-to-one data set is the Beatles example from above. Each Beatle appears in each data set exactly once, so the name is uniquely identifying.\n",
    "\n",
    "![](https://github.com/nmattei/cmps3160/blob/master/_labs/images/one-to-one.png?raw=1)\n",
    "\n",
    "However, two data sets need not have a one-to-one relationship. For example, a data set that specifies the instrument(s) that each Beatle played would potentially feature each Beatle multiple times (if they played multiple instruments). If we joined this data set to the \"Beatles career\" data set, then each row in the \"Beatles career\" data set would be mapped to several rows in the \"instruments\" data set. These two data sets are said to have a **many-to-one relationship**.\n",
    "\n",
    "![](https://github.com/nmattei/cmps3160/blob/master/_labs/images/many-to-one.png?raw=1)"
   ]
  },
  {
   "cell_type": "markdown",
   "metadata": {
    "id": "rK4_3dC5kf4f"
   },
   "source": [
    "# Many-to-Many Relationships: A Cautionary Tale\n",
    "\n",
    "In the baby names data, the name is not uniquely identifying. For example, there are both males and females with the name \"Jessie\"."
   ]
  },
  {
   "cell_type": "code",
   "execution_count": null,
   "metadata": {
    "colab": {
     "base_uri": "https://localhost:8080/",
     "height": 112
    },
    "executionInfo": {
     "elapsed": 10,
     "status": "ok",
     "timestamp": 1691170085611,
     "user": {
      "displayName": "Aron C",
      "userId": "07834910496055545653"
     },
     "user_tz": 300
    },
    "id": "06Rxhie2kf4f",
    "outputId": "597a5d94-e639-4942-8ae3-b8b9c9395c26"
   },
   "outputs": [],
   "source": [
    "jessie1995 = names1995[names1995[\"Name\"] == \"Jessie\"]\n",
    "jessie2015 = names2015[names2015[\"Name\"] == \"Jessie\"]\n",
    "\n",
    "jessie1995"
   ]
  },
  {
   "cell_type": "markdown",
   "metadata": {
    "id": "NNIpZOHOkf4g"
   },
   "source": [
    "That is why we have to be sure to join on both name and sex. But what would go wrong if we joined these two `DataFrame`s on just \"Name\"? Let's try it out:"
   ]
  },
  {
   "cell_type": "code",
   "execution_count": null,
   "metadata": {
    "colab": {
     "base_uri": "https://localhost:8080/",
     "height": 174
    },
    "executionInfo": {
     "elapsed": 9,
     "status": "ok",
     "timestamp": 1691170085612,
     "user": {
      "displayName": "Aron C",
      "userId": "07834910496055545653"
     },
     "user_tz": 300
    },
    "id": "ZKgToUUQkf4g",
    "outputId": "2d3731d7-5292-4cdb-fed5-08b967887872"
   },
   "outputs": [],
   "source": [
    "jessie1995.merge(jessie2015, on=[\"Name\"])"
   ]
  },
  {
   "cell_type": "markdown",
   "metadata": {
    "id": "euxVxfEmkf4g"
   },
   "source": [
    "We see that Jessie ends up appearing four times.\n",
    "\n",
    "- Female Jessies from 1995 are matched with female Jessies from 2015. (Good!)\n",
    "- Male Jessies from 1995 are matched with male Jessies from 2015. (Good!)\n",
    "- Female Jessies from 1995 are matched with male Jessies from 2015. (Huh?)\n",
    "- Male Jessies from 1995 are matched with female Jessies from 2015. (Huh?)\n",
    "\n",
    "The problem is that there were multiple Jessies in the 1995 data and multiple Jessies in the 2015 data. We say that these two data sets have a **many-to-many relationship**."
   ]
  },
  {
   "cell_type": "markdown",
   "metadata": {
    "id": "mxhA6RLukf4g"
   },
   "source": [
    "# Joining Data\n",
    "\n",
    "In the previous section, we discussed how to _merge_ (or _join_) two data sets by matching on certain variables. But what happens when no match can be found for a row in one `DataFrame`?\n",
    "\n",
    "First, let's determine how _pandas_ handles this situation by default. The name \"Nevaeh\", which is \"Heaven\" spelled backwards, is said to have taken off when Sonny Sandoval of the band P.O.D. gave his daughter the name in 2000. Let's look at how common this name was four years earlier and four years after."
   ]
  },
  {
   "cell_type": "code",
   "execution_count": null,
   "metadata": {
    "id": "hQAy20qCkf4h"
   },
   "outputs": [],
   "source": [
    "names1996 = pd.read_csv(\"../data/names/yob1996.txt\",\n",
    "                        header=None,\n",
    "                        names=[\"Name\", \"Sex\", \"Count\"])\n",
    "names2004 = pd.read_csv(\"../data/names/yob2004.txt\",\n",
    "                        header=None,\n",
    "                        names=[\"Name\", \"Sex\", \"Count\"])"
   ]
  },
  {
   "cell_type": "code",
   "execution_count": null,
   "metadata": {
    "colab": {
     "base_uri": "https://localhost:8080/",
     "height": 49
    },
    "executionInfo": {
     "elapsed": 11,
     "status": "ok",
     "timestamp": 1691170085789,
     "user": {
      "displayName": "Aron C",
      "userId": "07834910496055545653"
     },
     "user_tz": 300
    },
    "id": "dEMZAt8_kf4h",
    "outputId": "e7e78941-7488-47bc-b2c4-23529c26371d"
   },
   "outputs": [],
   "source": [
    "names1996[names1996.Name == \"Nevaeh\"]"
   ]
  },
  {
   "cell_type": "code",
   "execution_count": null,
   "metadata": {
    "colab": {
     "base_uri": "https://localhost:8080/",
     "height": 112
    },
    "executionInfo": {
     "elapsed": 11,
     "status": "ok",
     "timestamp": 1691170085790,
     "user": {
      "displayName": "Aron C",
      "userId": "07834910496055545653"
     },
     "user_tz": 300
    },
    "id": "X2HVt7O4kf4h",
    "outputId": "18448755-0365-49cd-8fdb-ab3c4e44fb9f"
   },
   "outputs": [],
   "source": [
    "names2004[names2004.Name == \"Nevaeh\"]"
   ]
  },
  {
   "cell_type": "markdown",
   "metadata": {
    "id": "wuuxbBu1kf4h"
   },
   "source": [
    "In 1996, there were no girls (or fewer than 5) named Nevaeh; just eight years later, there were over 3000 girls (and 27 boys) with the name. It seems like Sonny Sandoval had a huge effect.\n",
    "\n",
    "What will happen to the name \"Nevaeh\" when we merge the two data sets?"
   ]
  },
  {
   "cell_type": "code",
   "execution_count": null,
   "metadata": {
    "colab": {
     "base_uri": "https://localhost:8080/",
     "height": 49
    },
    "executionInfo": {
     "elapsed": 196,
     "status": "ok",
     "timestamp": 1691170085977,
     "user": {
      "displayName": "Aron C",
      "userId": "07834910496055545653"
     },
     "user_tz": 300
    },
    "id": "H-aIDGwBkf4i",
    "outputId": "77aa37f0-7277-46f8-86e5-8e0cf43248fc"
   },
   "outputs": [],
   "source": [
    "names = names1996.merge(names2004, on=[\"Name\", \"Sex\"], suffixes=(\"1996\", \"2004\"))\n",
    "names[names.Name == \"Nevaeh\"]"
   ]
  },
  {
   "cell_type": "markdown",
   "metadata": {
    "id": "tYNKTuxQkf4i"
   },
   "source": [
    "By default, _pandas_ only includes combinations that are present in _both_ `DataFrame`s. If it cannot find a match for a row in one `DataFrame`, then the combination is simply dropped."
   ]
  },
  {
   "cell_type": "markdown",
   "metadata": {
    "id": "B-6SHNRUkf4i"
   },
   "source": [
    "But in this context, the fact that a name does not appear in one data set is informative. It means that no babies were born in that year with that name. (Technically, it means that fewer than 5 babies were born with that name, as any name that was assigned fewer than 5 times is omitted for privacy reasons.) We might want to include names that appeared in only one of the two `DataFrame`s, rather than just the names that appeared in both.\n",
    "\n",
    "There are four types of joins, distinguished by whether they include names from the left `DataFrame`, the right `DataFrame`, both, or neither:\n",
    "\n",
    "1. **inner join** (default): only values that are present in _both_ `DataFrame`s are included in the result\n",
    "2. **outer join**: any value that appears in _either_ `DataFrame` is included in the result\n",
    "3. **left join**: any value that appears in the _left_ `DataFrame` is included in the result, whether or not it appears in the right `DataFrame`\n",
    "4. **right join**: any value that appears in the _right_ `DataFrame` is included in the result, whether or not it appears in the left `DataFrame`.\n",
    "\n",
    "In _pandas_, the join type is specified using the `how=` argument.\n",
    "\n",
    "Now let's look at examples of each of these types of joins."
   ]
  },
  {
   "cell_type": "code",
   "execution_count": null,
   "metadata": {
    "colab": {
     "base_uri": "https://localhost:8080/",
     "height": 206
    },
    "executionInfo": {
     "elapsed": 165,
     "status": "ok",
     "timestamp": 1691170086137,
     "user": {
      "displayName": "Aron C",
      "userId": "07834910496055545653"
     },
     "user_tz": 300
    },
    "id": "tbCA6bOLkf4i",
    "outputId": "ea07ce34-da6e-4779-c286-fae4915c81b1"
   },
   "outputs": [],
   "source": [
    "# inner join\n",
    "names_inner = names1996.merge(names2004, on=[\"Name\", \"Sex\"], how=\"inner\", suffixes=(\"1996\", \"2004\"))\n",
    "names_inner.head()"
   ]
  },
  {
   "cell_type": "code",
   "execution_count": null,
   "metadata": {
    "colab": {
     "base_uri": "https://localhost:8080/",
     "height": 206
    },
    "executionInfo": {
     "elapsed": 255,
     "status": "ok",
     "timestamp": 1691170086625,
     "user": {
      "displayName": "Aron C",
      "userId": "07834910496055545653"
     },
     "user_tz": 300
    },
    "id": "89h_IcC5kf4i",
    "outputId": "a89d0b7c-94ac-434a-d1a5-7e41fc4df3ac"
   },
   "outputs": [],
   "source": [
    "# outer join\n",
    "names_outer = names1996.merge(names2004, on=[\"Name\", \"Sex\"], how=\"outer\", suffixes=(\"1996\", \"2004\"))\n",
    "names_outer.head()"
   ]
  },
  {
   "cell_type": "markdown",
   "metadata": {
    "id": "TDIu4jWhkf4i"
   },
   "source": [
    "Names like \"Zyrell\" and \"Zyron\" appeared in the 2004 data but not the 1996 data. For this reason, their count in 1996 is `NaN`. In general, there will be `NaN`s in a `DataFrame` resulting from an outer join. Any time a name appears in one `DataFrame` but not the other, there will be `NaN`s in the columns from the `DataFrame` whose data is missing."
   ]
  },
  {
   "cell_type": "code",
   "execution_count": null,
   "metadata": {
    "colab": {
     "base_uri": "https://localhost:8080/"
    },
    "executionInfo": {
     "elapsed": 6,
     "status": "ok",
     "timestamp": 1691170086626,
     "user": {
      "displayName": "Aron C",
      "userId": "07834910496055545653"
     },
     "user_tz": 300
    },
    "id": "P-T789qIkf4i",
    "outputId": "853b8c34-46f7-4e2b-da4f-78624b300819"
   },
   "outputs": [],
   "source": [
    "names_outer.isnull().sum()"
   ]
  },
  {
   "cell_type": "markdown",
   "metadata": {
    "id": "f7-5MgLhkf4o"
   },
   "source": [
    "By contrast, there are no `NaN`s when we do an inner join. That is because we restrict to only the (name, sex) pairs that appeared in both `DataFrame`s, so we have counts for both 1996 and 2014."
   ]
  },
  {
   "cell_type": "code",
   "execution_count": null,
   "metadata": {
    "colab": {
     "base_uri": "https://localhost:8080/"
    },
    "executionInfo": {
     "elapsed": 5,
     "status": "ok",
     "timestamp": 1691170086626,
     "user": {
      "displayName": "Aron C",
      "userId": "07834910496055545653"
     },
     "user_tz": 300
    },
    "id": "RlKaycTmkf4o",
    "outputId": "98b12472-7166-47fd-b135-a5fa184baf75"
   },
   "outputs": [],
   "source": [
    "names_inner.isnull().sum()"
   ]
  },
  {
   "cell_type": "markdown",
   "metadata": {
    "id": "-flGj5tqkf4o"
   },
   "source": [
    "Left and right joins preserve data from one `DataFrame` but not the other. For example, if we were trying to calculate the percentage change for each name from 1996 to 2004, we would want to include all of the names that appeared in the 1996 data. If the name did not appear in the 2004 data, then that is informative."
   ]
  },
  {
   "cell_type": "code",
   "execution_count": null,
   "metadata": {
    "colab": {
     "base_uri": "https://localhost:8080/",
     "height": 206
    },
    "executionInfo": {
     "elapsed": 164,
     "status": "ok",
     "timestamp": 1691170087074,
     "user": {
      "displayName": "Aron C",
      "userId": "07834910496055545653"
     },
     "user_tz": 300
    },
    "id": "DZq2ADsVkf4o",
    "outputId": "71b339e8-90c2-43a3-9c89-0ee5916ca5ea"
   },
   "outputs": [],
   "source": [
    "# left join\n",
    "names_left = names1996.merge(names2004, on=[\"Name\", \"Sex\"], how=\"left\", suffixes=(\"1996\", \"2004\"))\n",
    "names_left.head()"
   ]
  },
  {
   "cell_type": "markdown",
   "metadata": {
    "id": "UCXVCqGtkf4p"
   },
   "source": [
    "The result of a left join has `NaN`s in the column from the right `DataFrame`."
   ]
  },
  {
   "cell_type": "code",
   "execution_count": null,
   "metadata": {
    "colab": {
     "base_uri": "https://localhost:8080/"
    },
    "executionInfo": {
     "elapsed": 163,
     "status": "ok",
     "timestamp": 1691170087074,
     "user": {
      "displayName": "Aron C",
      "userId": "07834910496055545653"
     },
     "user_tz": 300
    },
    "id": "gPBGhraJkf4p",
    "outputId": "55f2d8e8-c987-482e-c9a5-7c2ca0515314"
   },
   "outputs": [],
   "source": [
    "names_left.isnull().sum()"
   ]
  },
  {
   "cell_type": "markdown",
   "metadata": {
    "id": "rKXvsQiVkf4p"
   },
   "source": [
    "The result of a right join, on the other hand, has `NaN`s in the column from the left `DataFrame`."
   ]
  },
  {
   "cell_type": "code",
   "execution_count": null,
   "metadata": {
    "colab": {
     "base_uri": "https://localhost:8080/",
     "height": 206
    },
    "executionInfo": {
     "elapsed": 203,
     "status": "ok",
     "timestamp": 1691170087274,
     "user": {
      "displayName": "Aron C",
      "userId": "07834910496055545653"
     },
     "user_tz": 300
    },
    "id": "6EpOQg-Qkf4q",
    "outputId": "6a597f2b-886e-4cc7-b2b0-2f6ee4fb175c"
   },
   "outputs": [],
   "source": [
    "# right join\n",
    "names_right = names1996.merge(names2004, on=[\"Name\", \"Sex\"], how=\"right\", suffixes=(\"1996\", \"2004\"))\n",
    "names_right.head()"
   ]
  },
  {
   "cell_type": "code",
   "execution_count": null,
   "metadata": {
    "colab": {
     "base_uri": "https://localhost:8080/"
    },
    "executionInfo": {
     "elapsed": 257,
     "status": "ok",
     "timestamp": 1691170087526,
     "user": {
      "displayName": "Aron C",
      "userId": "07834910496055545653"
     },
     "user_tz": 300
    },
    "id": "XrLBSoackf4q",
    "outputId": "0f736158-044c-4862-e103-830c4f62ee15"
   },
   "outputs": [],
   "source": [
    "names_right.isnull().sum()"
   ]
  },
  {
   "cell_type": "markdown",
   "metadata": {
    "id": "ulsIyUBKkf4q"
   },
   "source": [
    "One way to visualize the different types of joins is using Venn diagrams. The shaded circles specify which values are included in the output.\n",
    "\n",
    "![](https://github.com/nmattei/cmps3160/blob/master/_labs/images/joins.jpeg?raw=1)"
   ]
  },
  {
   "cell_type": "markdown",
   "metadata": {
    "id": "ZNSXKEwikf4q"
   },
   "source": [
    "# Exercises"
   ]
  },
  {
   "cell_type": "markdown",
   "metadata": {
    "id": "pM_N-DRbkf4r"
   },
   "source": [
    "**Exercise 1.** Make a line plot showing the popularity of your name over the years.  Make sure you include all the years in the dataset!  You'll need to write some code to make sure you open **all** the year datafiles.\n",
    "\n",
    "**Hint:** Maybe try out the [Python Glob Package](https://docs.python.org/3/library/glob.html).\n",
    "\n",
    "(**BONUS Extra Credit (1 point)**: As an added challenge, try marking the year you were born with a graphic element.)\n"
   ]
  },
  {
   "cell_type": "code",
   "execution_count": null,
   "metadata": {
    "id": "3dgwhHTZkf4r"
   },
   "outputs": [],
   "source": [
    "# TYPE YOUR CODE HERE"
   ]
  },
  {
   "cell_type": "markdown",
   "metadata": {
    "id": "QcSqzZn-kf4r"
   },
   "source": [
    "The following questions deal with the [Movielens data 1M Dataset](https://grouplens.org/datasets/movielens/1m/) which is at `../data/movielens.zip`.\n",
    "\n",
    "**Exercise 2.** First, we'll need to unzip the contents of this file to `../data/movielens`.\n"
   ]
  },
  {
   "cell_type": "code",
   "execution_count": null,
   "metadata": {
    "id": "uQ-rmGGfrYFe"
   },
   "outputs": [],
   "source": [
    "# TYPE YOUR CODE HERE"
   ]
  },
  {
   "cell_type": "markdown",
   "metadata": {
    "id": "6tNajVQyrI8l"
   },
   "source": [
    "\n",
    "This dataset is a collection of movie ratings submitted by users. The information about the movies, ratings, and users are stored in three separate files, called `movies.dat`, `ratings.dat`, and `users.dat`. The column names are not included with the data files. Refer to the data documentation (`../data/movielens/README`) for the column names and how the columns correspond across the data sets.\n",
    "\n",
    "**Exercise 3.** Next, you need to open these three datafiles, make sure the column headers are correct, and merge them into a single DataFrame to answer the questions.  Take note of the seperators in the data and maybe look at the documentation for [Pandas read_csv()](https://pandas.pydata.org/pandas-docs/stable/reference/api/pandas.read_csv.html) for some hints. If you're having encoding issues, try adding `encoding=\"ISO-8859-1\"` to the `read_csv` call."
   ]
  },
  {
   "cell_type": "code",
   "execution_count": null,
   "metadata": {
    "id": "J13MhqPWtNY2"
   },
   "outputs": [],
   "source": [
    "# TYPE YOUR CODE HERE"
   ]
  },
  {
   "cell_type": "markdown",
   "metadata": {
    "id": "WGGom-e_kf4r"
   },
   "source": [
    "**Exercise 4.** Who's more generous with ratings: males or females? Calculate the average of the ratings given by male users, and the average of the ratings given by female users."
   ]
  },
  {
   "cell_type": "code",
   "execution_count": null,
   "metadata": {
    "id": "HEnEqtejkf4r"
   },
   "outputs": [],
   "source": [
    "# TYPE YOUR CODE HERE"
   ]
  },
  {
   "cell_type": "markdown",
   "metadata": {
    "id": "u7YCabIEkf4s"
   },
   "source": [
    "**Exercise 5.** Calculate the number of ratings for each of the movies. How many of the movies had zero ratings?\n",
    "\n",
    "(**Hint**: You may need to use operations on the ratings table first.)\n",
    "\n",
    "(**Hint**: Why is an inner join not sufficient here?)"
   ]
  },
  {
   "cell_type": "code",
   "execution_count": null,
   "metadata": {
    "id": "HRQLVRndkf4s"
   },
   "outputs": [],
   "source": [
    "# TYPE YOUR CODE HERE"
   ]
  },
  {
   "cell_type": "markdown",
   "metadata": {
    "id": "ZnbG9fGFkf4s"
   },
   "source": [
    "**Exercise 6.** How many movies received both a 1 and a 5 rating? Do this by creating and joining two appropriate tables.\n",
    "\n",
    "(**Hint:** The [Pandas unique()](https://pandas.pydata.org/pandas-docs/stable/reference/api/pandas.unique.html) function may be nice here...)"
   ]
  },
  {
   "cell_type": "code",
   "execution_count": null,
   "metadata": {
    "id": "KbG0iAIukf4s"
   },
   "outputs": [],
   "source": [
    "# TYPE YOUR CODE HERE"
   ]
  },
  {
   "cell_type": "markdown",
   "metadata": {
    "id": "SPpS9YD1kf4s"
   },
   "source": [
    "**Exercise 7.** Among movies with at least 100 ratings, which movie had the highest average rating?\n",
    "\n",
    "(**Hint:** Try filtering the dataframe before using other commands.)"
   ]
  },
  {
   "cell_type": "code",
   "execution_count": null,
   "metadata": {
    "id": "av-SPkHtkf4t"
   },
   "outputs": [],
   "source": [
    "# TYPE YOUR CODE HERE"
   ]
  },
  {
   "cell_type": "markdown",
   "metadata": {
    "id": "kkOAWCm1kf4t"
   },
   "source": [
    "(**BONUS Extra Credit (1 points)**: For each movie, calculate the average age of the users who rated it and the average rating. Make a scatterplot showing the relationship between age and rating, with each point representing a movie. Use the size of each point to represent the number of users who rated the movie.\n"
   ]
  },
  {
   "cell_type": "code",
   "execution_count": null,
   "metadata": {
    "id": "IC9o1eJ3tw1V"
   },
   "outputs": [],
   "source": [
    "# TYPE YOUR CODE HERE"
   ]
  },
  {
   "cell_type": "markdown",
   "metadata": {
    "id": "JbLjlHZLtuQo"
   },
   "source": [
    "\n",
    "(**BONUS Extra Credit (1 point)**: To this plot annotate at least two movies that you like in the graph. You can either make them a different color with a key or add a line and mark them. [This will really test your skill with MatPlotLib.](https://matplotlib.org/stable/api/_as_gen/matplotlib.pyplot.annotate.html)"
   ]
  },
  {
   "cell_type": "code",
   "execution_count": null,
   "metadata": {
    "id": "AJtTV3BOkf4t"
   },
   "outputs": [],
   "source": [
    "# TYPE YOUR CODE HERE"
   ]
  },
  {
   "cell_type": "markdown",
   "metadata": {
    "id": "RRD1EbCYkf4t"
   },
   "source": [
    "### When you have filled out all the questions, submit via [Tulane Canvas](https://tulane.instructure.com/)"
   ]
  }
 ],
 "metadata": {
  "colab": {
   "provenance": []
  },
  "kernelspec": {
   "display_name": "Python 3 (ipykernel)",
   "language": "python",
   "name": "python3"
  },
  "language_info": {
   "codemirror_mode": {
    "name": "ipython",
    "version": 3
   },
   "file_extension": ".py",
   "mimetype": "text/x-python",
   "name": "python",
   "nbconvert_exporter": "python",
   "pygments_lexer": "ipython3",
   "version": "3.11.5"
  },
  "toc": {
   "base_numbering": 1,
   "nav_menu": {},
   "number_sections": false,
   "sideBar": true,
   "skip_h1_title": true,
   "title_cell": "Table of Contents",
   "title_sidebar": "Contents",
   "toc_cell": true,
   "toc_position": {},
   "toc_section_display": true,
   "toc_window_display": false
  }
 },
 "nbformat": 4,
 "nbformat_minor": 4
}
