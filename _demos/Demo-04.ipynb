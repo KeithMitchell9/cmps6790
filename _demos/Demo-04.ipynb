{
 "cells": [
  {
   "cell_type": "markdown",
   "metadata": {
    "id": "vwFmMaa0pgQK"
   },
   "source": [
    "# Demo 04 - Regular Expressions and Web Scraping\n",
    "\n",
    "In this notebook we look at the basics of the `requests` library, how to use regular expressions in Python, and grabbing information from the web using Beautiful Soup!"
   ]
  },
  {
   "cell_type": "code",
   "execution_count": null,
   "metadata": {},
   "outputs": [],
   "source": [
    "# clone the course repository, change to right directory, and import libraries.\n",
    "%cd /content\n",
    "!git clone https://github.com/nmattei/cmps6790.git\n",
    "%cd /content/cmps6790/_demos"
   ]
  },
  {
   "cell_type": "code",
   "execution_count": null,
   "metadata": {
    "colab": {
     "base_uri": "https://localhost:8080/"
    },
    "executionInfo": {
     "elapsed": 8288,
     "status": "ok",
     "timestamp": 1691246287082,
     "user": {
      "displayName": "Aron C",
      "userId": "07834910496055545653"
     },
     "user_tz": 300
    },
    "id": "CWUTm0xVpgQN",
    "outputId": "256dded4-270a-4ad4-ce96-00c0d38538e1"
   },
   "outputs": [],
   "source": [
    "import pandas as pd\n",
    "import numpy as np\n",
    "import matplotlib.pyplot as plt\n",
    "import scipy.stats as stats\n",
    "import seaborn as sns\n",
    "plt.style.use('fivethirtyeight')\n",
    "# Make the fonts a little bigger in our graphs.\n",
    "font = {'size'   : 20}\n",
    "plt.rc('font', **font)\n",
    "plt.rcParams['mathtext.fontset'] = 'cm'\n",
    "plt.rcParams['pdf.fonttype'] = 42"
   ]
  },
  {
   "cell_type": "code",
   "execution_count": null,
   "metadata": {
    "executionInfo": {
     "elapsed": 540,
     "status": "ok",
     "timestamp": 1691246287618,
     "user": {
      "displayName": "Aron C",
      "userId": "07834910496055545653"
     },
     "user_tz": 300
    },
    "id": "q9_MdVk1pgQO"
   },
   "outputs": [],
   "source": [
    "# Note you may have to install requests!  pip3 install requests\n",
    "import requests"
   ]
  },
  {
   "cell_type": "markdown",
   "metadata": {
    "id": "hCqIoAHMtBkM"
   },
   "source": [
    "## Simple Webpage Call with Requests Library\n",
    "\n",
    "It may be good to look at the reference documentation for the [requests library](https://2.python-requests.org/en/master/user/quickstart/).\n",
    "\n",
    "First, let's have a look at the [PolitWoops](https://projects.propublica.org/politwoops/).\n",
    "\n",
    "Or even [Prof. Culotta's Website](https://cs.tulane.edu/~aculotta/)"
   ]
  },
  {
   "cell_type": "code",
   "execution_count": null,
   "metadata": {
    "colab": {
     "base_uri": "https://localhost:8080/"
    },
    "executionInfo": {
     "elapsed": 2300,
     "status": "ok",
     "timestamp": 1691246289916,
     "user": {
      "displayName": "Aron C",
      "userId": "07834910496055545653"
     },
     "user_tz": 300
    },
    "id": "TYs8pkuCvfAJ",
    "outputId": "3d76fb6a-1971-41cb-a772-03c922db272a"
   },
   "outputs": [],
   "source": [
    "r = requests.get('https://cs.tulane.edu/~aculotta/', timeout=10)\n",
    "r.status_code"
   ]
  },
  {
   "cell_type": "code",
   "execution_count": null,
   "metadata": {
    "colab": {
     "base_uri": "https://localhost:8080/",
     "height": 36
    },
    "executionInfo": {
     "elapsed": 17,
     "status": "ok",
     "timestamp": 1691246289917,
     "user": {
      "displayName": "Aron C",
      "userId": "07834910496055545653"
     },
     "user_tz": 300
    },
    "id": "fuyqEizevfHe",
    "outputId": "845e926c-e45f-4634-9ec6-b4a0a0821cd8"
   },
   "outputs": [],
   "source": [
    "r.headers['content-type']"
   ]
  },
  {
   "cell_type": "code",
   "execution_count": null,
   "metadata": {
    "colab": {
     "base_uri": "https://localhost:8080/",
     "height": 36
    },
    "executionInfo": {
     "elapsed": 16,
     "status": "ok",
     "timestamp": 1691246289918,
     "user": {
      "displayName": "Aron C",
      "userId": "07834910496055545653"
     },
     "user_tz": 300
    },
    "id": "nIDMtgMkvfOC",
    "outputId": "523ded61-1182-49da-ad19-4909c5ccdca4"
   },
   "outputs": [],
   "source": [
    "r.url"
   ]
  },
  {
   "cell_type": "code",
   "execution_count": null,
   "metadata": {
    "colab": {
     "base_uri": "https://localhost:8080/"
    },
    "executionInfo": {
     "elapsed": 15,
     "status": "ok",
     "timestamp": 1691246289918,
     "user": {
      "displayName": "Aron C",
      "userId": "07834910496055545653"
     },
     "user_tz": 300
    },
    "id": "sgduIp8PvloZ",
    "outputId": "5c06e768-fda4-4680-8ad2-e4ce5612ef96"
   },
   "outputs": [],
   "source": [
    "# Note that this is the same as if we just got to the page!\n",
    "r.content[:5000]"
   ]
  },
  {
   "cell_type": "markdown",
   "metadata": {
    "id": "E6pDs5e_vqYJ"
   },
   "source": [
    "**Point:** A really great resource is to check out this page [What happens when you type google.com into the address bar](https://github.com/alex/what-happens-when) which goes through the whole stack!"
   ]
  },
  {
   "cell_type": "code",
   "execution_count": null,
   "metadata": {
    "colab": {
     "base_uri": "https://localhost:8080/"
    },
    "executionInfo": {
     "elapsed": 750,
     "status": "ok",
     "timestamp": 1691246290659,
     "user": {
      "displayName": "Aron C",
      "userId": "07834910496055545653"
     },
     "user_tz": 300
    },
    "id": "yTjkkheMtEzq",
    "outputId": "a914dc93-1b66-49d0-9b01-6ce2b8cdb9d7"
   },
   "outputs": [],
   "source": [
    "r = requests.get('https://projects.propublica.org/politwoops/', timeout=10)\n",
    "r.status_code"
   ]
  },
  {
   "cell_type": "code",
   "execution_count": null,
   "metadata": {
    "colab": {
     "base_uri": "https://localhost:8080/",
     "height": 36
    },
    "executionInfo": {
     "elapsed": 15,
     "status": "ok",
     "timestamp": 1691246290659,
     "user": {
      "displayName": "Aron C",
      "userId": "07834910496055545653"
     },
     "user_tz": 300
    },
    "id": "M8XB9sYJtJhY",
    "outputId": "b488954e-b29a-473b-910c-857f05a7348a"
   },
   "outputs": [],
   "source": [
    "r.headers['content-type']"
   ]
  },
  {
   "cell_type": "code",
   "execution_count": null,
   "metadata": {
    "colab": {
     "base_uri": "https://localhost:8080/",
     "height": 36
    },
    "executionInfo": {
     "elapsed": 14,
     "status": "ok",
     "timestamp": 1691246290660,
     "user": {
      "displayName": "Aron C",
      "userId": "07834910496055545653"
     },
     "user_tz": 300
    },
    "id": "f3DVNbVetJsJ",
    "outputId": "870383d9-3f25-46e0-e2c5-c066eb61c552"
   },
   "outputs": [],
   "source": [
    "r.url"
   ]
  },
  {
   "cell_type": "code",
   "execution_count": null,
   "metadata": {
    "id": "DpzLJ58vtJyY"
   },
   "outputs": [],
   "source": [
    "r.content[:5000]"
   ]
  },
  {
   "cell_type": "markdown",
   "metadata": {
    "id": "oqa6y-GQpgQR"
   },
   "source": [
    "## Looking at HTTP Requests\n",
    "\n",
    "We'll try to get some data from Google.  Note that this is kind of against the TOS and we **should not do it this way in general -- Google has very [specific rules on their site](https://developers.google.com/custom-search/v1/).**"
   ]
  },
  {
   "cell_type": "code",
   "execution_count": null,
   "metadata": {
    "colab": {
     "base_uri": "https://localhost:8080/"
    },
    "executionInfo": {
     "elapsed": 1062,
     "status": "ok",
     "timestamp": 1691246291715,
     "user": {
      "displayName": "Aron C",
      "userId": "07834910496055545653"
     },
     "user_tz": 300
    },
    "id": "E0gT80UmpgQS",
    "outputId": "692248f8-da03-4d40-ecd0-24d90cac60fa"
   },
   "outputs": [],
   "source": [
    "params = {'q':'Tulane University'}\n",
    "headers = {'User-Agent': 'Mozilla/5.0 (Macintosh; Intel Mac OS X 10.15; rv:101.0) Gecko/20100101 Firefox/101.0'}\n",
    "r = requests.get('http://www.google.com/search', params = params, headers=headers, timeout=10)\n",
    "r.status_code"
   ]
  },
  {
   "cell_type": "code",
   "execution_count": null,
   "metadata": {
    "colab": {
     "base_uri": "https://localhost:8080/",
     "height": 36
    },
    "executionInfo": {
     "elapsed": 10,
     "status": "ok",
     "timestamp": 1691246291716,
     "user": {
      "displayName": "Aron C",
      "userId": "07834910496055545653"
     },
     "user_tz": 300
    },
    "id": "sAPGzGRkpgQS",
    "outputId": "7dd18cca-c1dc-4949-9c03-cce20359aed5"
   },
   "outputs": [],
   "source": [
    "r.url"
   ]
  },
  {
   "cell_type": "code",
   "execution_count": null,
   "metadata": {
    "colab": {
     "base_uri": "https://localhost:8080/",
     "height": 36
    },
    "executionInfo": {
     "elapsed": 10,
     "status": "ok",
     "timestamp": 1691246291717,
     "user": {
      "displayName": "Aron C",
      "userId": "07834910496055545653"
     },
     "user_tz": 300
    },
    "id": "rLJXvEPCtfWO",
    "outputId": "90fad590-67ca-4f8d-a4b9-a9b3c55ea43b"
   },
   "outputs": [],
   "source": [
    "r.headers['content-type']"
   ]
  },
  {
   "cell_type": "code",
   "execution_count": null,
   "metadata": {
    "colab": {
     "base_uri": "https://localhost:8080/",
     "height": 144
    },
    "executionInfo": {
     "elapsed": 5,
     "status": "ok",
     "timestamp": 1691246292045,
     "user": {
      "displayName": "Aron C",
      "userId": "07834910496055545653"
     },
     "user_tz": 300
    },
    "id": "33weUwLlthg1",
    "outputId": "50c6b1ee-8fa7-4f51-b9e3-e277fbde8a8c"
   },
   "outputs": [],
   "source": [
    "r.text[:5000]"
   ]
  },
  {
   "cell_type": "code",
   "execution_count": null,
   "metadata": {
    "colab": {
     "base_uri": "https://localhost:8080/"
    },
    "executionInfo": {
     "elapsed": 629,
     "status": "ok",
     "timestamp": 1691246312794,
     "user": {
      "displayName": "Aron C",
      "userId": "07834910496055545653"
     },
     "user_tz": 300
    },
    "id": "yHs46mYiG5Oa",
    "outputId": "0f4d5ed9-20b2-4b20-abc1-5445b8951ffa"
   },
   "outputs": [],
   "source": [
    "# This is a bit messy, let's use Beautiful Soup (we'll see this more later) to get just the text information.\n",
    "from bs4 import BeautifulSoup\n",
    "soup = BeautifulSoup( r.content )\n",
    "print(soup.prettify()[:5000])\n",
    "print(\"\\n\\nText only: \\n\\n\")\n",
    "print(soup.get_text().split()[:50])"
   ]
  },
  {
   "cell_type": "code",
   "execution_count": null,
   "metadata": {
    "colab": {
     "base_uri": "https://localhost:8080/"
    },
    "executionInfo": {
     "elapsed": 918,
     "status": "ok",
     "timestamp": 1691246328035,
     "user": {
      "displayName": "Aron C",
      "userId": "07834910496055545653"
     },
     "user_tz": 300
    },
    "id": "x25Hg36HpgQS",
    "outputId": "fda25928-0bb4-4b51-f2f8-00d8e1b38f74"
   },
   "outputs": [],
   "source": [
    "params = {'q':'Tulane University'}\n",
    "r = requests.get('https://duckduckgo.com/', params = params, timeout=10)\n",
    "r.status_code"
   ]
  },
  {
   "cell_type": "code",
   "execution_count": null,
   "metadata": {
    "colab": {
     "base_uri": "https://localhost:8080/",
     "height": 36
    },
    "executionInfo": {
     "elapsed": 6,
     "status": "ok",
     "timestamp": 1691246328035,
     "user": {
      "displayName": "Aron C",
      "userId": "07834910496055545653"
     },
     "user_tz": 300
    },
    "id": "-qQsESLipgQS",
    "outputId": "5ef412a3-11cb-4147-9c7a-591c847d7fc5"
   },
   "outputs": [],
   "source": [
    "r.url"
   ]
  },
  {
   "cell_type": "code",
   "execution_count": null,
   "metadata": {
    "colab": {
     "base_uri": "https://localhost:8080/",
     "height": 36
    },
    "executionInfo": {
     "elapsed": 11,
     "status": "ok",
     "timestamp": 1691246328615,
     "user": {
      "displayName": "Aron C",
      "userId": "07834910496055545653"
     },
     "user_tz": 300
    },
    "id": "78LMnWP_pgQT",
    "outputId": "8bc6e72c-8918-4196-a56f-45235a51e558"
   },
   "outputs": [],
   "source": [
    "r.headers['content-type']"
   ]
  },
  {
   "cell_type": "code",
   "execution_count": null,
   "metadata": {
    "colab": {
     "base_uri": "https://localhost:8080/",
     "height": 144
    },
    "executionInfo": {
     "elapsed": 8,
     "status": "ok",
     "timestamp": 1691246328615,
     "user": {
      "displayName": "Aron C",
      "userId": "07834910496055545653"
     },
     "user_tz": 300
    },
    "id": "MYvlD4E6pgQT",
    "outputId": "df696f35-af9f-4c51-d9ea-8d2591bbd2f7",
    "scrolled": true
   },
   "outputs": [],
   "source": [
    "r.text"
   ]
  },
  {
   "cell_type": "markdown",
   "metadata": {
    "id": "GdtYYhc4pgQP"
   },
   "source": [
    "Well, that's lame because it basically just redirects to google :-)\n",
    "\n",
    "## Simple API Call with Requests Library\n",
    "\n",
    "It may be good to look at the reference documentation for the [requests library](https://2.python-requests.org/en/master/user/quickstart/).\n",
    "\n",
    "First, let's have a look at the [GitHub API](https://developer.github.com/v3/)."
   ]
  },
  {
   "cell_type": "code",
   "execution_count": null,
   "metadata": {
    "colab": {
     "base_uri": "https://localhost:8080/"
    },
    "executionInfo": {
     "elapsed": 754,
     "status": "ok",
     "timestamp": 1691246335434,
     "user": {
      "displayName": "Aron C",
      "userId": "07834910496055545653"
     },
     "user_tz": 300
    },
    "id": "fdgGZVIMpgQP",
    "outputId": "2c83a848-74aa-4f57-a177-7b4fb21876a6"
   },
   "outputs": [],
   "source": [
    "r = requests.get('https://api.github.com/users/nmattei', timeout=10)\n",
    "r.status_code"
   ]
  },
  {
   "cell_type": "code",
   "execution_count": null,
   "metadata": {
    "colab": {
     "base_uri": "https://localhost:8080/",
     "height": 36
    },
    "executionInfo": {
     "elapsed": 374,
     "status": "ok",
     "timestamp": 1691246336955,
     "user": {
      "displayName": "Aron C",
      "userId": "07834910496055545653"
     },
     "user_tz": 300
    },
    "id": "1wr9QFG_pgQQ",
    "outputId": "648da36e-1931-4ab0-fdab-b8cb4a1c3a26"
   },
   "outputs": [],
   "source": [
    "r.headers['content-type']"
   ]
  },
  {
   "cell_type": "code",
   "execution_count": null,
   "metadata": {
    "colab": {
     "base_uri": "https://localhost:8080/",
     "height": 36
    },
    "executionInfo": {
     "elapsed": 4,
     "status": "ok",
     "timestamp": 1691246337320,
     "user": {
      "displayName": "Aron C",
      "userId": "07834910496055545653"
     },
     "user_tz": 300
    },
    "id": "8uXmXZCkpgQQ",
    "outputId": "8451eec9-42a9-4426-d5c3-f60cceffcaa3"
   },
   "outputs": [],
   "source": [
    "r.url"
   ]
  },
  {
   "cell_type": "code",
   "execution_count": null,
   "metadata": {
    "colab": {
     "base_uri": "https://localhost:8080/"
    },
    "executionInfo": {
     "elapsed": 6,
     "status": "ok",
     "timestamp": 1691246337687,
     "user": {
      "displayName": "Aron C",
      "userId": "07834910496055545653"
     },
     "user_tz": 300
    },
    "id": "74wF7afHpgQQ",
    "outputId": "0cb08363-936e-45aa-d094-023cc5ab68ce"
   },
   "outputs": [],
   "source": [
    "r.content"
   ]
  },
  {
   "cell_type": "code",
   "execution_count": null,
   "metadata": {
    "colab": {
     "base_uri": "https://localhost:8080/"
    },
    "executionInfo": {
     "elapsed": 8,
     "status": "ok",
     "timestamp": 1691246338410,
     "user": {
      "displayName": "Aron C",
      "userId": "07834910496055545653"
     },
     "user_tz": 300
    },
    "id": "pJQt5P6ipgQR",
    "outputId": "040dfa01-6f42-4fbe-9c69-6f43713612a4"
   },
   "outputs": [],
   "source": [
    "r.json()"
   ]
  },
  {
   "cell_type": "markdown",
   "metadata": {
    "id": "Uh2Mxz1MpgQT"
   },
   "source": [
    "## More Complicated with Parameters\n",
    "\n",
    "We'll look for some information from the [Apple ITunes API](https://affiliate.itunes.apple.com/resources/documentation/itunes-store-web-service-search-api/)."
   ]
  },
  {
   "cell_type": "code",
   "execution_count": null,
   "metadata": {
    "colab": {
     "base_uri": "https://localhost:8080/"
    },
    "executionInfo": {
     "elapsed": 1181,
     "status": "ok",
     "timestamp": 1691246347774,
     "user": {
      "displayName": "Aron C",
      "userId": "07834910496055545653"
     },
     "user_tz": 300
    },
    "id": "bixuF7hFpgQT",
    "outputId": "77028a5c-1c83-4555-85e7-5f76848b1b51"
   },
   "outputs": [],
   "source": [
    "params = {'term' : \"the+meters\"}\n",
    "r = requests.get('https://itunes.apple.com/search', params=params, timeout=10)\n",
    "r.status_code"
   ]
  },
  {
   "cell_type": "code",
   "execution_count": null,
   "metadata": {
    "colab": {
     "base_uri": "https://localhost:8080/",
     "height": 36
    },
    "executionInfo": {
     "elapsed": 468,
     "status": "ok",
     "timestamp": 1691246348240,
     "user": {
      "displayName": "Aron C",
      "userId": "07834910496055545653"
     },
     "user_tz": 300
    },
    "id": "6VUUElBOpgQU",
    "outputId": "0bc5ea28-ec2a-4b0b-f3a9-7d50e3c323f3"
   },
   "outputs": [],
   "source": [
    "r.url"
   ]
  },
  {
   "cell_type": "code",
   "execution_count": null,
   "metadata": {
    "id": "o9DcBAMJpgQU",
    "scrolled": true
   },
   "outputs": [],
   "source": [
    "r.json()"
   ]
  },
  {
   "cell_type": "markdown",
   "metadata": {
    "id": "ikvwBmnOpgQU"
   },
   "source": [
    "We can do lots of parameters in the payload like [this](https://2.python-requests.org/en/master/user/quickstart/)."
   ]
  },
  {
   "cell_type": "code",
   "execution_count": null,
   "metadata": {
    "colab": {
     "base_uri": "https://localhost:8080/"
    },
    "executionInfo": {
     "elapsed": 749,
     "status": "ok",
     "timestamp": 1691246350241,
     "user": {
      "displayName": "Aron C",
      "userId": "07834910496055545653"
     },
     "user_tz": 300
    },
    "id": "-dE1N-1VpgQU",
    "outputId": "872b20a7-3465-4dac-e157-be4c14cfa118"
   },
   "outputs": [],
   "source": [
    "params = {'term' : \"the+meters\", 'entity' : 'album'}\n",
    "r = requests.get('https://itunes.apple.com/search', params=params, timeout=10)\n",
    "r.status_code\n"
   ]
  },
  {
   "cell_type": "code",
   "execution_count": null,
   "metadata": {
    "colab": {
     "base_uri": "https://localhost:8080/",
     "height": 36
    },
    "executionInfo": {
     "elapsed": 3,
     "status": "ok",
     "timestamp": 1691246350689,
     "user": {
      "displayName": "Aron C",
      "userId": "07834910496055545653"
     },
     "user_tz": 300
    },
    "id": "5UHbbvXSpgQV",
    "outputId": "3c69fcc1-84eb-432b-9904-0fab7be45516"
   },
   "outputs": [],
   "source": [
    "r.url"
   ]
  },
  {
   "cell_type": "code",
   "execution_count": null,
   "metadata": {
    "id": "wlinLFKEpgQV",
    "scrolled": true
   },
   "outputs": [],
   "source": [
    "r.json()"
   ]
  },
  {
   "cell_type": "code",
   "execution_count": null,
   "metadata": {
    "executionInfo": {
     "elapsed": 2,
     "status": "ok",
     "timestamp": 1691246351578,
     "user": {
      "displayName": "Aron C",
      "userId": "07834910496055545653"
     },
     "user_tz": 300
    },
    "id": "_XinrYugpgQV",
    "scrolled": true
   },
   "outputs": [],
   "source": [
    "x = r.json()"
   ]
  },
  {
   "cell_type": "code",
   "execution_count": null,
   "metadata": {
    "colab": {
     "base_uri": "https://localhost:8080/"
    },
    "executionInfo": {
     "elapsed": 3,
     "status": "ok",
     "timestamp": 1691246352936,
     "user": {
      "displayName": "Aron C",
      "userId": "07834910496055545653"
     },
     "user_tz": 300
    },
    "id": "3IY79RgcpgQV",
    "outputId": "c16b78f1-b731-4b88-dccc-373379e76ac9"
   },
   "outputs": [],
   "source": [
    "type(x['results'][0])"
   ]
  },
  {
   "cell_type": "markdown",
   "metadata": {
    "id": "0ZnOnwFppgQV"
   },
   "source": [
    "## Converting the returned JSON to an object!"
   ]
  },
  {
   "cell_type": "code",
   "execution_count": null,
   "metadata": {
    "executionInfo": {
     "elapsed": 3,
     "status": "ok",
     "timestamp": 1691246354640,
     "user": {
      "displayName": "Aron C",
      "userId": "07834910496055545653"
     },
     "user_tz": 300
    },
    "id": "NsSI7DI4pgQV"
   },
   "outputs": [],
   "source": [
    "import json"
   ]
  },
  {
   "cell_type": "code",
   "execution_count": null,
   "metadata": {
    "executionInfo": {
     "elapsed": 2,
     "status": "ok",
     "timestamp": 1691246356008,
     "user": {
      "displayName": "Aron C",
      "userId": "07834910496055545653"
     },
     "user_tz": 300
    },
    "id": "ULkOCDvxpgQV"
   },
   "outputs": [],
   "source": [
    "data = json.loads(r.content)"
   ]
  },
  {
   "cell_type": "code",
   "execution_count": null,
   "metadata": {
    "id": "yXJ_7TyTpgQW"
   },
   "outputs": [],
   "source": [
    "data.keys()\n",
    "data['results']"
   ]
  },
  {
   "cell_type": "code",
   "execution_count": null,
   "metadata": {
    "colab": {
     "base_uri": "https://localhost:8080/"
    },
    "executionInfo": {
     "elapsed": 3,
     "status": "ok",
     "timestamp": 1691246358429,
     "user": {
      "displayName": "Aron C",
      "userId": "07834910496055545653"
     },
     "user_tz": 300
    },
    "id": "0933U13ipgQW",
    "outputId": "a9427ad6-733f-4d7c-80e8-a5b3fb7a3e2f"
   },
   "outputs": [],
   "source": [
    "type(data['results'])"
   ]
  },
  {
   "cell_type": "code",
   "execution_count": null,
   "metadata": {
    "colab": {
     "base_uri": "https://localhost:8080/"
    },
    "executionInfo": {
     "elapsed": 3,
     "status": "ok",
     "timestamp": 1691246359625,
     "user": {
      "displayName": "Aron C",
      "userId": "07834910496055545653"
     },
     "user_tz": 300
    },
    "id": "zM5nSjxKpgQW",
    "outputId": "481e1c0f-91e4-4dac-baf8-c50e9a7c9f38"
   },
   "outputs": [],
   "source": [
    "type(data['results'][1])"
   ]
  },
  {
   "cell_type": "code",
   "execution_count": null,
   "metadata": {
    "colab": {
     "base_uri": "https://localhost:8080/"
    },
    "executionInfo": {
     "elapsed": 4,
     "status": "ok",
     "timestamp": 1691246360881,
     "user": {
      "displayName": "Aron C",
      "userId": "07834910496055545653"
     },
     "user_tz": 300
    },
    "id": "Ue1HtqnCpgQW",
    "outputId": "6e5b8676-66f7-4b40-f9a9-bb8e64bd9b1c"
   },
   "outputs": [],
   "source": [
    "data['results'][1]"
   ]
  },
  {
   "cell_type": "code",
   "execution_count": null,
   "metadata": {
    "colab": {
     "base_uri": "https://localhost:8080/"
    },
    "executionInfo": {
     "elapsed": 4,
     "status": "ok",
     "timestamp": 1691246361197,
     "user": {
      "displayName": "Aron C",
      "userId": "07834910496055545653"
     },
     "user_tz": 300
    },
    "id": "XHzxPLwmpgQW",
    "outputId": "005c5fda-93a7-4e36-bc23-dc0cb8067ba5"
   },
   "outputs": [],
   "source": [
    "data['results'][1].keys()"
   ]
  },
  {
   "cell_type": "markdown",
   "metadata": {
    "id": "gm_Dtk9mG5Oe"
   },
   "source": [
    "So that works really well to get a dict, but more importantly Pandas will convert this to a DataFrame for us!! More information in the [read_json() function](https://pandas.pydata.org/docs/reference/api/pandas.read_json.html)"
   ]
  },
  {
   "cell_type": "code",
   "execution_count": null,
   "metadata": {
    "colab": {
     "base_uri": "https://localhost:8080/",
     "height": 1000
    },
    "executionInfo": {
     "elapsed": 591,
     "status": "ok",
     "timestamp": 1691246363548,
     "user": {
      "displayName": "Aron C",
      "userId": "07834910496055545653"
     },
     "user_tz": 300
    },
    "id": "-wTVPEoUzaDo",
    "outputId": "39120b49-f95b-411b-f84a-eee3e3f7b70e"
   },
   "outputs": [],
   "source": [
    "df_t = pd.DataFrame.from_dict(data[\"results\"])\n",
    "df_t"
   ]
  },
  {
   "cell_type": "markdown",
   "metadata": {
    "id": "A1jIfIDupgQW"
   },
   "source": [
    "## Using Beautiful Soup to Parse a Webpage.\n",
    "\n",
    "The [beautifulsoup4 documentation](https://www.crummy.com/software/BeautifulSoup/)."
   ]
  },
  {
   "cell_type": "code",
   "execution_count": null,
   "metadata": {
    "executionInfo": {
     "elapsed": 1943,
     "status": "ok",
     "timestamp": 1691246380972,
     "user": {
      "displayName": "Aron C",
      "userId": "07834910496055545653"
     },
     "user_tz": 300
    },
    "id": "9zwt46vapgQW"
   },
   "outputs": [],
   "source": [
    "# Grab the course webpage.\n",
    "import requests\n",
    "from bs4 import BeautifulSoup\n",
    "\n",
    "r = requests.get('https://cs.tulane.edu/~aculotta/')\n",
    "\n",
    "soup = BeautifulSoup( r.content )"
   ]
  },
  {
   "cell_type": "code",
   "execution_count": null,
   "metadata": {
    "colab": {
     "base_uri": "https://localhost:8080/"
    },
    "executionInfo": {
     "elapsed": 33,
     "status": "ok",
     "timestamp": 1691246380973,
     "user": {
      "displayName": "Aron C",
      "userId": "07834910496055545653"
     },
     "user_tz": 300
    },
    "id": "Or_0F46NpgQX",
    "outputId": "58852474-774a-4324-fce4-caef12981ca0",
    "scrolled": true
   },
   "outputs": [],
   "source": [
    "r.content[:5000]"
   ]
  },
  {
   "cell_type": "code",
   "execution_count": null,
   "metadata": {
    "colab": {
     "base_uri": "https://localhost:8080/",
     "height": 144
    },
    "executionInfo": {
     "elapsed": 23,
     "status": "ok",
     "timestamp": 1691246380973,
     "user": {
      "displayName": "Aron C",
      "userId": "07834910496055545653"
     },
     "user_tz": 300
    },
    "id": "a3j8Wox8G5Of",
    "outputId": "b77e1a58-fa12-4b81-f387-789979fb28a4"
   },
   "outputs": [],
   "source": [
    "soup.prettify()[:5000]"
   ]
  },
  {
   "cell_type": "code",
   "execution_count": null,
   "metadata": {
    "colab": {
     "base_uri": "https://localhost:8080/"
    },
    "executionInfo": {
     "elapsed": 21,
     "status": "ok",
     "timestamp": 1691246380974,
     "user": {
      "displayName": "Aron C",
      "userId": "07834910496055545653"
     },
     "user_tz": 300
    },
    "id": "O5Haf8A3pgQX",
    "outputId": "0bd90b99-3410-4771-864c-4b41bea8b7f5",
    "scrolled": true
   },
   "outputs": [],
   "source": [
    "soup.find(\"table\")"
   ]
  },
  {
   "cell_type": "code",
   "execution_count": null,
   "metadata": {
    "id": "rpfJaT3gzBxS"
   },
   "outputs": [],
   "source": [
    "# The above gets the first table, but there could be a lot more!\n",
    "soup.findAll(\"table\")"
   ]
  },
  {
   "cell_type": "code",
   "execution_count": null,
   "metadata": {
    "colab": {
     "base_uri": "https://localhost:8080/"
    },
    "executionInfo": {
     "elapsed": 3,
     "status": "ok",
     "timestamp": 1691246382831,
     "user": {
      "displayName": "Aron C",
      "userId": "07834910496055545653"
     },
     "user_tz": 300
    },
    "id": "jnxBDXkHpgQX",
    "outputId": "199e346a-4da0-4458-9fa1-3ec785d67f53",
    "scrolled": true
   },
   "outputs": [],
   "source": [
    "# Find all links!\n",
    "\n",
    "soup.find(\"table\").findAll(\"a\")"
   ]
  },
  {
   "cell_type": "markdown",
   "metadata": {
    "id": "Xi-HKWXeG5Of"
   },
   "source": [
    "So we can use Pandas and BS4 together as well -- we'll see a lot more of this in the lab this week!"
   ]
  },
  {
   "cell_type": "code",
   "execution_count": null,
   "metadata": {
    "colab": {
     "base_uri": "https://localhost:8080/",
     "height": 518
    },
    "executionInfo": {
     "elapsed": 5,
     "status": "ok",
     "timestamp": 1691246384411,
     "user": {
      "displayName": "Aron C",
      "userId": "07834910496055545653"
     },
     "user_tz": 300
    },
    "id": "aKCvKMtqG5Og",
    "outputId": "76b5e47f-7f90-4694-c9a4-86e6b9dedad3"
   },
   "outputs": [],
   "source": [
    "df_tables = []\n",
    "for t in soup.findAll(\"table\"):\n",
    "    df_t = pd.read_html(str(t))\n",
    "    df_tables.append(df_t[0])\n",
    "\n",
    "for t in df_tables:\n",
    "    display(t)"
   ]
  },
  {
   "cell_type": "markdown",
   "metadata": {
    "id": "JtraUrSSpgQX"
   },
   "source": [
    "## Trying out some Regular Expressions."
   ]
  },
  {
   "cell_type": "code",
   "execution_count": null,
   "metadata": {
    "executionInfo": {
     "elapsed": 969,
     "status": "ok",
     "timestamp": 1691246389434,
     "user": {
      "displayName": "Aron C",
      "userId": "07834910496055545653"
     },
     "user_tz": 300
    },
    "id": "HaKDgCT5pgQX"
   },
   "outputs": [],
   "source": [
    "import re\n",
    "# Find the index in the raw HTML where we first mention CMPS3160\n",
    "\n",
    "# Note we use the r to make sure special flags get used correctly.\n",
    "\n",
    "r = requests.get('https://nmattei.github.io/cmps3160/syllabus/')\n"
   ]
  },
  {
   "cell_type": "code",
   "execution_count": null,
   "metadata": {
    "colab": {
     "base_uri": "https://localhost:8080/",
     "height": 144
    },
    "executionInfo": {
     "elapsed": 320,
     "status": "ok",
     "timestamp": 1691246390020,
     "user": {
      "displayName": "Aron C",
      "userId": "07834910496055545653"
     },
     "user_tz": 300
    },
    "id": "sdLvTtHOpgQX",
    "outputId": "b59732d8-d2e2-4513-af46-de0c22c3ea3e",
    "scrolled": true
   },
   "outputs": [],
   "source": [
    "# Let's see what we got.\n",
    "r.text[:5000]"
   ]
  },
  {
   "cell_type": "code",
   "execution_count": null,
   "metadata": {
    "colab": {
     "base_uri": "https://localhost:8080/"
    },
    "executionInfo": {
     "elapsed": 731,
     "status": "ok",
     "timestamp": 1691246392858,
     "user": {
      "displayName": "Aron C",
      "userId": "07834910496055545653"
     },
     "user_tz": 300
    },
    "id": "H-0n-JJfpgQY",
    "outputId": "6e4a4c03-a183-44df-b0a6-5e22ce27efb8"
   },
   "outputs": [],
   "source": [
    "match = re.search(r'CMPS 3160', r.text)\n",
    "print(match.start())"
   ]
  },
  {
   "cell_type": "code",
   "execution_count": null,
   "metadata": {
    "colab": {
     "base_uri": "https://localhost:8080/",
     "height": 36
    },
    "executionInfo": {
     "elapsed": 7,
     "status": "ok",
     "timestamp": 1691246393403,
     "user": {
      "displayName": "Aron C",
      "userId": "07834910496055545653"
     },
     "user_tz": 300
    },
    "id": "db1UAKo3pgQY",
    "outputId": "dc0c7c39-19ec-47df-8aa1-d272fec9fcda"
   },
   "outputs": [],
   "source": [
    "r.text[390:500]"
   ]
  },
  {
   "cell_type": "code",
   "execution_count": null,
   "metadata": {
    "colab": {
     "base_uri": "https://localhost:8080/"
    },
    "executionInfo": {
     "elapsed": 3,
     "status": "ok",
     "timestamp": 1691246394245,
     "user": {
      "displayName": "Aron C",
      "userId": "07834910496055545653"
     },
     "user_tz": 300
    },
    "id": "ed46sLwMpgQY",
    "outputId": "2ef942fc-3c34-4096-f7cb-389ec3b5bf31"
   },
   "outputs": [],
   "source": [
    "# Does the start match?\n",
    "match = re.match(r'CMPS 3160', r.text)\n",
    "print(match)"
   ]
  },
  {
   "cell_type": "code",
   "execution_count": null,
   "metadata": {
    "colab": {
     "base_uri": "https://localhost:8080/"
    },
    "executionInfo": {
     "elapsed": 4,
     "status": "ok",
     "timestamp": 1691246396555,
     "user": {
      "displayName": "Aron C",
      "userId": "07834910496055545653"
     },
     "user_tz": 300
    },
    "id": "dG3Lvk6IpgQY",
    "outputId": "e08c6370-cfdb-43c8-e293-e5af6f8765a2"
   },
   "outputs": [],
   "source": [
    "# Iterate over all occurances and print a few characters.\n",
    "for m in re.finditer(r'CMPS 3160', r.text):\n",
    "    print(r.text[m.start()-50:m.start()+50])\n"
   ]
  },
  {
   "cell_type": "code",
   "execution_count": null,
   "metadata": {
    "colab": {
     "base_uri": "https://localhost:8080/"
    },
    "executionInfo": {
     "elapsed": 5,
     "status": "ok",
     "timestamp": 1691246397778,
     "user": {
      "displayName": "Aron C",
      "userId": "07834910496055545653"
     },
     "user_tz": 300
    },
    "id": "kBXTiNwBpgQY",
    "outputId": "1c405ebe-ca32-4e4b-e8bb-d824aed3fbb9"
   },
   "outputs": [],
   "source": [
    "# Find them all and the word(s)? right after?\n",
    "match = re.findall(r'CMPS 3160\\s\\w*', r.text)\n",
    "print(match)"
   ]
  },
  {
   "cell_type": "code",
   "execution_count": null,
   "metadata": {
    "colab": {
     "base_uri": "https://localhost:8080/"
    },
    "executionInfo": {
     "elapsed": 6,
     "status": "ok",
     "timestamp": 1691246399120,
     "user": {
      "displayName": "Aron C",
      "userId": "07834910496055545653"
     },
     "user_tz": 300
    },
    "id": "kGpW9K4IpgQY",
    "outputId": "13ec9fb2-3f6c-49b6-86b8-0e7126a1ce8e"
   },
   "outputs": [],
   "source": [
    "# Can we find all the email addresses?\n",
    "text = ''' This is a list that has an @ symbol in it.\n",
    "            But we want to find Nick's address nsmattei@tulane.edu\n",
    "            But also maybe someone else's eli@gmail.com....\n",
    "            How would we write a regex for that?\n",
    "\n",
    "\n",
    "            Also there is more text, and can't like\n",
    "            phil123@school.edu also be able to be caught?\n",
    "\n",
    "\n",
    "\n",
    "'''\n",
    "\n",
    "# Need to test on a few first..\n",
    "# What rules do we need?\n",
    "regex = r'\\D\\w*@\\w+\\.\\w{3}'\n",
    "match = re.findall(regex, text)\n",
    "print(match)\n"
   ]
  },
  {
   "cell_type": "code",
   "execution_count": null,
   "metadata": {
    "colab": {
     "base_uri": "https://localhost:8080/"
    },
    "executionInfo": {
     "elapsed": 4,
     "status": "ok",
     "timestamp": 1691246399775,
     "user": {
      "displayName": "Aron C",
      "userId": "07834910496055545653"
     },
     "user_tz": 300
    },
    "id": "BvDCfJLWpgQY",
    "outputId": "5ed804d8-7086-46e1-c4ee-228883ab4089"
   },
   "outputs": [],
   "source": [
    "### ANSWER for full email\n",
    "regex = r'\\w+@\\w+.\\w{3}'\n",
    "match = re.findall(regex, text)\n",
    "print(match)"
   ]
  },
  {
   "cell_type": "code",
   "execution_count": null,
   "metadata": {
    "colab": {
     "base_uri": "https://localhost:8080/"
    },
    "executionInfo": {
     "elapsed": 271,
     "status": "ok",
     "timestamp": 1691246407694,
     "user": {
      "displayName": "Aron C",
      "userId": "07834910496055545653"
     },
     "user_tz": 300
    },
    "id": "3Rq4YP6RpgQZ",
    "outputId": "629f5641-76d0-466c-81f4-d65724d7f246"
   },
   "outputs": [],
   "source": [
    "### Only names, no domains...\n",
    "regex = r'\\w+@'\n",
    "match = re.findall(regex, text)\n",
    "print(match)"
   ]
  },
  {
   "cell_type": "code",
   "execution_count": null,
   "metadata": {
    "colab": {
     "base_uri": "https://localhost:8080/"
    },
    "executionInfo": {
     "elapsed": 615,
     "status": "ok",
     "timestamp": 1691246409229,
     "user": {
      "displayName": "Aron C",
      "userId": "07834910496055545653"
     },
     "user_tz": 300
    },
    "id": "RkJR21_5pgQZ",
    "outputId": "24c31d08-692f-4856-9c6b-c41ccb716a02"
   },
   "outputs": [],
   "source": [
    "## Eli's more complicated answer with lookaheads\n",
    "regex = r\"[A-z]+(?=[^A-z\\s]*@)\"\n",
    "match = re.findall(regex, text)\n",
    "print(match)"
   ]
  },
  {
   "cell_type": "code",
   "execution_count": null,
   "metadata": {
    "colab": {
     "base_uri": "https://localhost:8080/"
    },
    "executionInfo": {
     "elapsed": 537,
     "status": "ok",
     "timestamp": 1691246410055,
     "user": {
      "displayName": "Aron C",
      "userId": "07834910496055545653"
     },
     "user_tz": 300
    },
    "id": "SAdgH8f7pgQZ",
    "outputId": "10b6a4da-b94b-4f47-f914-d05c99567a44"
   },
   "outputs": [],
   "source": [
    "# Now we can use this on the webpage!\n",
    "regex = r'\\w+@\\w+.\\w{3}'\n",
    "match = re.findall(regex, r.text)\n",
    "print(match)"
   ]
  },
  {
   "cell_type": "code",
   "execution_count": null,
   "metadata": {
    "colab": {
     "base_uri": "https://localhost:8080/"
    },
    "executionInfo": {
     "elapsed": 800,
     "status": "ok",
     "timestamp": 1691246411641,
     "user": {
      "displayName": "Aron C",
      "userId": "07834910496055545653"
     },
     "user_tz": 300
    },
    "id": "YV91r37GpgQZ",
    "outputId": "ed85cf60-9d9e-42f7-8965-1267247e8cb1"
   },
   "outputs": [],
   "source": [
    "# More complicated RegExes - Groups\n",
    "regex = r'\\s*([Uu]niversity)\\s([Oo]f)\\s(\\w{3,})'\n",
    "\n",
    "text = ''' The university of kentucky is the best\n",
    "            basketball team and an ok university. and University of North CC\n",
    "            The University Of Kentucky can be put in\n",
    "            some weird capitalization and University of Ken spelled wrong'''\n",
    "m = re.search( regex, text)\n",
    "print(m.groups())"
   ]
  },
  {
   "cell_type": "code",
   "execution_count": null,
   "metadata": {
    "colab": {
     "base_uri": "https://localhost:8080/"
    },
    "executionInfo": {
     "elapsed": 10,
     "status": "ok",
     "timestamp": 1691246412309,
     "user": {
      "displayName": "Aron C",
      "userId": "07834910496055545653"
     },
     "user_tz": 300
    },
    "id": "Lb1RNJIFpgQZ",
    "outputId": "fd042619-a3a2-4243-ccf2-693a2cc50625"
   },
   "outputs": [],
   "source": [
    "# Find all\n",
    "print(re.findall(regex, text))"
   ]
  },
  {
   "cell_type": "code",
   "execution_count": null,
   "metadata": {
    "colab": {
     "base_uri": "https://localhost:8080/"
    },
    "executionInfo": {
     "elapsed": 4,
     "status": "ok",
     "timestamp": 1691246413003,
     "user": {
      "displayName": "Aron C",
      "userId": "07834910496055545653"
     },
     "user_tz": 300
    },
    "id": "gaaRqIwvpgQZ",
    "outputId": "89cf763c-70b2-4364-9174-b732e82106c1"
   },
   "outputs": [],
   "source": [
    "# Named Groups.\n",
    "regex = r'\\s*([Uu]niversity)\\s([Oo]f)\\s(?P<school>\\w{3,})'\n",
    "text = ''' The university of kentucky is the best University of Lousiana\n",
    "            basketball team and an ok university.\n",
    "            The University Of Kentucky can be put in\n",
    "            some weird capitalization'''\n",
    "m = re.search( regex, text)\n",
    "print(m.groupdict())\n"
   ]
  },
  {
   "cell_type": "code",
   "execution_count": null,
   "metadata": {
    "colab": {
     "base_uri": "https://localhost:8080/"
    },
    "executionInfo": {
     "elapsed": 3,
     "status": "ok",
     "timestamp": 1691246413274,
     "user": {
      "displayName": "Aron C",
      "userId": "07834910496055545653"
     },
     "user_tz": 300
    },
    "id": "PJXiefyLpgQZ",
    "outputId": "1f5e5e78-fc59-4bde-f028-04d46d185d08"
   },
   "outputs": [],
   "source": [
    "# Find all named groups\n",
    "\n",
    "# Named Groups.\n",
    "regex = r'\\s*([Uu]niversity)\\s([Oo]f)\\s(?P<school>\\w{3,})'\n",
    "text = ''' The university of kentucky is the best\n",
    "            basketball team and an ok university.\n",
    "            The University Of Kentucky can be put in\n",
    "            some weird capitalization.  And Kentucky is much better than\n",
    "            the University of Mississippi.'''\n",
    "for m in re.finditer(regex, text):\n",
    "    print(m.groupdict())\n"
   ]
  },
  {
   "cell_type": "code",
   "execution_count": null,
   "metadata": {
    "colab": {
     "base_uri": "https://localhost:8080/",
     "height": 36
    },
    "executionInfo": {
     "elapsed": 4,
     "status": "ok",
     "timestamp": 1691246414024,
     "user": {
      "displayName": "Aron C",
      "userId": "07834910496055545653"
     },
     "user_tz": 300
    },
    "id": "9810EEcMpgQZ",
    "outputId": "a6004bd0-dddf-47f5-c072-a328e5b995a8"
   },
   "outputs": [],
   "source": [
    "'abcabcabc'.replace('a', 'X')"
   ]
  },
  {
   "cell_type": "code",
   "execution_count": null,
   "metadata": {
    "colab": {
     "base_uri": "https://localhost:8080/",
     "height": 36
    },
    "executionInfo": {
     "elapsed": 3,
     "status": "ok",
     "timestamp": 1691246415654,
     "user": {
      "displayName": "Aron C",
      "userId": "07834910496055545653"
     },
     "user_tz": 300
    },
    "id": "ipF5IL2dpgQa",
    "outputId": "a4b7b98b-dc08-401f-cb67-b28c11aafe5b"
   },
   "outputs": [],
   "source": [
    "text = 'I love Introduction to Data Science'\n",
    "re.sub(r'Data Science', r'Schmada Schmience', text)"
   ]
  },
  {
   "cell_type": "code",
   "execution_count": null,
   "metadata": {
    "colab": {
     "base_uri": "https://localhost:8080/",
     "height": 36
    },
    "executionInfo": {
     "elapsed": 7,
     "status": "ok",
     "timestamp": 1691246416014,
     "user": {
      "displayName": "Aron C",
      "userId": "07834910496055545653"
     },
     "user_tz": 300
    },
    "id": "AM1sLuP0pgQa",
    "outputId": "db8299ad-a9bf-441a-87cc-54adbc37b71b"
   },
   "outputs": [],
   "source": [
    "re.sub(r'(\\w+)\\s([Ss]cience)', r'\\2 \\1hmience', text)\n"
   ]
  },
  {
   "cell_type": "code",
   "execution_count": null,
   "metadata": {
    "colab": {
     "base_uri": "https://localhost:8080/"
    },
    "executionInfo": {
     "elapsed": 2,
     "status": "ok",
     "timestamp": 1691246416296,
     "user": {
      "displayName": "Aron C",
      "userId": "07834910496055545653"
     },
     "user_tz": 300
    },
    "id": "U27sgOz8pgQa",
    "outputId": "7a7f4839-bb8d-421c-f26a-dd2a2957d58a"
   },
   "outputs": [],
   "source": [
    "# Let's use it to parse part of a CSV?\n",
    "text = '12,15,22,36,78,33,77,33,45'\n",
    "\n",
    "# Use Regex split command\n",
    "print(re.split(',', text))\n",
    "\n",
    "# Use string split command\n",
    "print(text.split(\",\"))\n",
    "\n",
    "#Use Regex to split into groups...\n",
    "regex = r'(?P<data>\\d*,)'\n",
    "for m in re.finditer(regex, text):\n",
    "    print(m.groupdict())\n"
   ]
  }
 ],
 "metadata": {
  "colab": {
   "provenance": [],
   "toc_visible": true
  },
  "kernelspec": {
   "display_name": "Python 3 (ipykernel)",
   "language": "python",
   "name": "python3"
  },
  "language_info": {
   "codemirror_mode": {
    "name": "ipython",
    "version": 3
   },
   "file_extension": ".py",
   "mimetype": "text/x-python",
   "name": "python",
   "nbconvert_exporter": "python",
   "pygments_lexer": "ipython3",
   "version": "3.11.5"
  },
  "vscode": {
   "interpreter": {
    "hash": "aee8b7b246df8f9039afb4144a1f6fd8d2ca17a180786b69acc140d282b71a49"
   }
  }
 },
 "nbformat": 4,
 "nbformat_minor": 4
}
