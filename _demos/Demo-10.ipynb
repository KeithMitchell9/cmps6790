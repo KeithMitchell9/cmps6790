{
 "cells": [
  {
   "cell_type": "markdown",
   "metadata": {
    "id": "LCXvRRcRdG8T"
   },
   "source": [
    "# Demo 10 - Predictive Models: Regression\n",
    "\n",
    "In this notebook we look at the basics of how to do a linear regression using various Python modules. We don't do gradient descent directly because it's easier to just use modules!"
   ]
  },
  {
   "cell_type": "code",
   "execution_count": null,
   "metadata": {},
   "outputs": [],
   "source": [
    "# clone the course repository, change to right directory, and import libraries.\n",
    "%cd /content\n",
    "!git clone https://github.com/nmattei/cmps6790.git\n",
    "%cd /content/cmps6790/_demos"
   ]
  },
  {
   "cell_type": "code",
   "execution_count": null,
   "metadata": {
    "colab": {
     "base_uri": "https://localhost:8080/"
    },
    "executionInfo": {
     "elapsed": 6145,
     "status": "ok",
     "timestamp": 1691184110087,
     "user": {
      "displayName": "Aron C",
      "userId": "07834910496055545653"
     },
     "user_tz": 300
    },
    "id": "9Oz6LmObdG8W",
    "outputId": "e64d9bb1-7e62-4b71-8470-1c8b2026ebff"
   },
   "outputs": [],
   "source": [
    "import pandas as pd\n",
    "import numpy as np\n",
    "import matplotlib.pyplot as plt\n",
    "import scipy.stats as stats\n",
    "import seaborn as sns\n",
    "plt.style.use('fivethirtyeight')\n",
    "# Make the fonts a little bigger in our graphs.\n",
    "font = {'size'   : 20}\n",
    "plt.rc('font', **font)\n",
    "plt.rcParams['mathtext.fontset'] = 'cm'\n",
    "plt.rcParams['pdf.fonttype'] = 42"
   ]
  },
  {
   "cell_type": "markdown",
   "metadata": {
    "id": "3ggxEBs7dG8Y"
   },
   "source": [
    "## Loading and Understanding the Data\n",
    "\n",
    "For this work we will be using data from: Generalized body composition prediction equation for men using simple measurement techniques\", K.W. Penrose, A.G. Nelson, A.G. Fisher, FACSM, Human Performance research Center, Brigham Young University, Provo, Utah 84602 as listed in Medicine and Science in Sports and Exercise, vol. 17, no. 2, April 1985, p. 189.\n",
    "\n",
    "[Data availabe here.](http://staff.pubhealth.ku.dk/~tag/Teaching/share/data/Bodyfat.html)\n"
   ]
  },
  {
   "cell_type": "code",
   "execution_count": null,
   "metadata": {
    "colab": {
     "base_uri": "https://localhost:8080/",
     "height": 206
    },
    "executionInfo": {
     "elapsed": 206,
     "status": "ok",
     "timestamp": 1691184110289,
     "user": {
      "displayName": "Aron C",
      "userId": "07834910496055545653"
     },
     "user_tz": 300
    },
    "id": "j6F_6yEcdG8Z",
    "outputId": "c409ddcf-c593-4a31-8576-27cc69371efa"
   },
   "outputs": [],
   "source": [
    "# Load the Penrose Data and have a look.\n",
    "df_penrose = pd.read_csv(\"./data/bodyfat.csv\")\n",
    "df_penrose.head()"
   ]
  },
  {
   "cell_type": "code",
   "execution_count": null,
   "metadata": {
    "colab": {
     "base_uri": "https://localhost:8080/",
     "height": 206
    },
    "executionInfo": {
     "elapsed": 13,
     "status": "ok",
     "timestamp": 1691184110289,
     "user": {
      "displayName": "Aron C",
      "userId": "07834910496055545653"
     },
     "user_tz": 300
    },
    "id": "08xo3ccbdG8Z",
    "outputId": "f4431d46-65cb-4323-b15c-7024a4abbcf6"
   },
   "outputs": [],
   "source": [
    "# This is a bit much so let's only use a smaller part of the data for the moment.\n",
    "observations = ['Age', 'Neck', 'Forearm', 'Wrist']\n",
    "df_penrose[observations + ['bodyfat']].head()"
   ]
  },
  {
   "cell_type": "code",
   "execution_count": null,
   "metadata": {
    "colab": {
     "base_uri": "https://localhost:8080/"
    },
    "executionInfo": {
     "elapsed": 12,
     "status": "ok",
     "timestamp": 1691184110290,
     "user": {
      "displayName": "Aron C",
      "userId": "07834910496055545653"
     },
     "user_tz": 300
    },
    "id": "vMNgyelXp9l9",
    "outputId": "a1c9611d-9332-4004-cd6f-6165fa3f3500"
   },
   "outputs": [],
   "source": [
    "# How many observations do we have?\n",
    "len(df_penrose)"
   ]
  },
  {
   "cell_type": "markdown",
   "metadata": {
    "id": "_260GjIedG8b"
   },
   "source": [
    "Let's do some really basic scatter plotting..."
   ]
  },
  {
   "cell_type": "code",
   "execution_count": null,
   "metadata": {
    "colab": {
     "base_uri": "https://localhost:8080/",
     "height": 513
    },
    "executionInfo": {
     "elapsed": 2085,
     "status": "ok",
     "timestamp": 1691184112368,
     "user": {
      "displayName": "Aron C",
      "userId": "07834910496055545653"
     },
     "user_tz": 300
    },
    "id": "6lwZ5TH-dG8c",
    "outputId": "6ad72634-ca94-429f-cf28-4e77ff3d4429"
   },
   "outputs": [],
   "source": [
    "# First we iterate over the observations and see what we have.\n",
    "fig, ax = plt.subplots(1, 4, figsize=(15,5))\n",
    "\n",
    "for i,o in enumerate(observations):\n",
    "    df_penrose.plot.scatter(x=o, y='bodyfat', ax=ax[i])"
   ]
  },
  {
   "cell_type": "markdown",
   "metadata": {
    "id": "5yYwQ0-OdG8c"
   },
   "source": [
    "## Many Ways to Find a Linear Regression\n",
    "\n",
    "Let's say we want to look at some linear regressions of single variables to see what is going on!  So let's plot some regression lines.  Note that there are at least a few different ways -- [linregress](https://docs.scipy.org/doc/scipy/reference/generated/scipy.stats.linregress.html), [sklearn.LinearRegression](https://scikit-learn.org/stable/modules/generated/sklearn.preprocessing.PolynomialFeatures.html?highlight=polynomial), [polyfit](https://docs.scipy.org/doc/numpy/reference/generated/numpy.polyfit.html), and [statsmodels](https://www.statsmodels.org/stable/index.html).\n",
    "\n",
    "Here's a good article about it [Data science with Python: 8 ways to do linear regression and measure their speed](https://www.freecodecamp.org/news/data-science-with-python-8-ways-to-do-linear-regression-and-measure-their-speed-b5577d75f8b/)."
   ]
  },
  {
   "cell_type": "code",
   "execution_count": null,
   "metadata": {
    "colab": {
     "base_uri": "https://localhost:8080/",
     "height": 738
    },
    "executionInfo": {
     "elapsed": 3076,
     "status": "ok",
     "timestamp": 1691184115438,
     "user": {
      "displayName": "Aron C",
      "userId": "07834910496055545653"
     },
     "user_tz": 300
    },
    "id": "LI-pfENQdG8d",
    "outputId": "ebb43037-1d71-447a-a09d-ed6615e81342"
   },
   "outputs": [],
   "source": [
    "import math\n",
    "# Let's do a basic Linear Regression on a Single Variable.\n",
    "# Note that linregress p-value is whether or not the slope is 0, not if the correlation is significant.\n",
    "def regress_with_stats(df_penrose, observations):\n",
    "  fig, ax = plt.subplots(1, 4, figsize=(15,5), sharex=False)\n",
    "\n",
    "  for i,o in enumerate(observations):\n",
    "      slope, intercept, r_value, p_value, std_err = stats.linregress(df_penrose[o],\n",
    "                                                                     df_penrose['bodyfat'])\n",
    "      # Pack these into a nice title\n",
    "      diag_str = \"p-value=%.1g\\nr-value=%.3f\\nstd err.=%.3f\\nslope=%.3f\\nintercept=%.3f\" % (p_value, r_value, std_err, slope, intercept)\n",
    "      df_penrose.plot.scatter(x=o, y='bodyfat', title=diag_str, ax=ax[i])\n",
    "      y_pred = df_penrose[o] * slope + intercept\n",
    "      # Make points and line\n",
    "      pts = np.linspace(df_penrose[o].min(), df_penrose[o].max(), 500)\n",
    "      line = slope * pts + intercept\n",
    "      ax[i].plot(pts, line, lw=1, color='red')\n",
    "\n",
    "      # for the curious, here is how std err of slope is computed:\n",
    "      # stderr = math.sqrt(((y_pred-df_penrose['bodyfat'])**2).sum()/(len(y_pred)-2)  /  ((df_penrose['bodyfat']-df_penrose['bodyfat'].mean())**2).sum())\n",
    "      # see: https://en.wikipedia.org/wiki/Ordinary_least_squares#Finite_sample_properties\n",
    "\n",
    "\n",
    "regress_with_stats(df_penrose, observations)"
   ]
  },
  {
   "cell_type": "markdown",
   "metadata": {
    "id": "YAXEfMiOhaAi"
   },
   "source": [
    "### Which feature seems most important/predictive?\n",
    "\n",
    "<br><br><br><br><br>"
   ]
  },
  {
   "cell_type": "markdown",
   "metadata": {
    "id": "IpB4Zl3Vg1kT"
   },
   "source": [
    "### What happens if we scale all the values?\n",
    "\n",
    "We compute the z-score of each column using the [`scipy.stats.zscore`](https://docs.scipy.org/doc/scipy/reference/generated/scipy.stats.zscore.html) function"
   ]
  },
  {
   "cell_type": "code",
   "execution_count": null,
   "metadata": {
    "colab": {
     "base_uri": "https://localhost:8080/",
     "height": 430
    },
    "executionInfo": {
     "elapsed": 205,
     "status": "ok",
     "timestamp": 1691184115634,
     "user": {
      "displayName": "Aron C",
      "userId": "07834910496055545653"
     },
     "user_tz": 300
    },
    "id": "-4v_YKx6gNL3",
    "outputId": "336bbebd-ea6c-4593-d158-1da760c436d4"
   },
   "outputs": [],
   "source": [
    "from scipy.stats import zscore\n",
    "df_penrose_scaled = df_penrose.apply(zscore)\n",
    "# compare before and after\n",
    "print('unscaled')\n",
    "display(df_penrose.head(5))\n",
    "print('scaled')\n",
    "display(df_penrose_scaled.head(5))"
   ]
  },
  {
   "cell_type": "code",
   "execution_count": null,
   "metadata": {
    "colab": {
     "base_uri": "https://localhost:8080/",
     "height": 738
    },
    "executionInfo": {
     "elapsed": 3142,
     "status": "ok",
     "timestamp": 1691184118774,
     "user": {
      "displayName": "Aron C",
      "userId": "07834910496055545653"
     },
     "user_tz": 300
    },
    "id": "ZYbxn6WDgr5v",
    "outputId": "dd3135d3-c243-43cf-9c6b-ca90339c4cfe"
   },
   "outputs": [],
   "source": [
    "# now regress with scaled values.\n",
    "regress_with_stats(df_penrose_scaled, observations)"
   ]
  },
  {
   "cell_type": "markdown",
   "metadata": {
    "id": "K362shqepIPq"
   },
   "source": [
    "**What if we want to fit a multinomial regression? I.e., use all the observations as input/independent variables**"
   ]
  },
  {
   "cell_type": "code",
   "execution_count": null,
   "metadata": {
    "colab": {
     "base_uri": "https://localhost:8080/",
     "height": 312
    },
    "executionInfo": {
     "elapsed": 231,
     "status": "error",
     "timestamp": 1691184119003,
     "user": {
      "displayName": "Aron C",
      "userId": "07834910496055545653"
     },
     "user_tz": 300
    },
    "id": "M0d-sTDni1P_",
    "outputId": "598d309f-0d5b-4926-beb9-56f03525bda9"
   },
   "outputs": [],
   "source": [
    "slope, intercept, r_value, p_value, std_err = stats.linregress(df_penrose[observations],\n",
    "                                                               df_penrose['bodyfat'])\n",
    "\n",
    "\n",
    "\n",
    "\n",
    "\n",
    "\n",
    "\n",
    "\n",
    "\n",
    "## oops; linregress assumes regression on one variable only.\n"
   ]
  },
  {
   "cell_type": "markdown",
   "metadata": {
    "id": "WeA_jpoXpal4"
   },
   "source": [
    "## Scikit-learn\n",
    "Scikit-learn implements [Linear Regression](https://scikit-learn.org/stable/modules/generated/sklearn.linear_model.LinearRegression.html) as well.\n",
    "\n",
    "All regression/classification classes in scikit-learn assume two functions:\n",
    "\n",
    "- `.fit(X, y)`: fit/train the model giving training data `X` (the feature matrix) and `y` (the true values)\n",
    "- `.predict(X)`: given a feature matrix, return the predicted `y` values."
   ]
  },
  {
   "cell_type": "code",
   "execution_count": null,
   "metadata": {
    "colab": {
     "base_uri": "https://localhost:8080/",
     "height": 726
    },
    "executionInfo": {
     "elapsed": 906,
     "status": "ok",
     "timestamp": 1691184131206,
     "user": {
      "displayName": "Aron C",
      "userId": "07834910496055545653"
     },
     "user_tz": 300
    },
    "id": "BkpB-Nkxpmp3",
    "outputId": "6144ace6-7c22-4c4e-8b97-1348b5e3a37d"
   },
   "outputs": [],
   "source": [
    "from sklearn.linear_model import LinearRegression\n",
    "lr = LinearRegression()\n",
    "# fit the model\n",
    "lr.fit(df_penrose_scaled[observations], df_penrose_scaled['bodyfat'])\n",
    "# predict using the model\n",
    "predictions = lr.predict(df_penrose_scaled[observations])\n",
    "# compare predictions to truth\n",
    "truth_and_pred = pd.DataFrame(zip(df_penrose_scaled['bodyfat'], predictions), columns=['truth', 'predicted'])\n",
    "mse = ((truth_and_pred.truth-truth_and_pred.predicted)**2).sum()/len(truth_and_pred)\n",
    "truth_and_pred.plot.scatter(x='truth', y='predicted', title='mse=%.2f' % mse)\n",
    "truth_and_pred.head()"
   ]
  },
  {
   "cell_type": "markdown",
   "metadata": {
    "id": "zMkmXC-atA2d"
   },
   "source": [
    "### Mean-squared error\n",
    "$$MSE = \\frac{1}{n} \\sum_i (y_i - \\hat{y}_i)^2$$"
   ]
  },
  {
   "cell_type": "code",
   "execution_count": null,
   "metadata": {
    "colab": {
     "base_uri": "https://localhost:8080/",
     "height": 210
    },
    "executionInfo": {
     "elapsed": 10,
     "status": "ok",
     "timestamp": 1691184131207,
     "user": {
      "displayName": "Aron C",
      "userId": "07834910496055545653"
     },
     "user_tz": 300
    },
    "id": "q86SljjOqwgt",
    "outputId": "b3d4cc60-95c3-49b9-9783-f3e76ab59e99"
   },
   "outputs": [],
   "source": [
    "# what are the coefficients?\n",
    "# print coefficients\n",
    "print('coef=', lr.coef_)\n",
    "print('intercept=', lr.intercept_)\n",
    "pd.DataFrame(zip(observations, lr.coef_))"
   ]
  },
  {
   "cell_type": "markdown",
   "metadata": {
    "id": "aXrYSub6rCKU"
   },
   "source": [
    "### Why did the coefficients change so much?"
   ]
  },
  {
   "cell_type": "markdown",
   "metadata": {
    "id": "vCn565P_tYw6"
   },
   "source": [
    "## Let's actually make \"predictions\"\n",
    "\n",
    "Up to now we've been fitting regression models on all the data and inspecting its goodness of fit. However, if we are using this as an actual predictive model, we'd want to assess how good the prediction is on **unseen** data."
   ]
  },
  {
   "cell_type": "code",
   "execution_count": null,
   "metadata": {
    "colab": {
     "base_uri": "https://localhost:8080/"
    },
    "executionInfo": {
     "elapsed": 195,
     "status": "ok",
     "timestamp": 1691184131395,
     "user": {
      "displayName": "Aron C",
      "userId": "07834910496055545653"
     },
     "user_tz": 300
    },
    "id": "9WUYsyuKtai_",
    "outputId": "95321461-a4e5-46c9-c9c1-d1393d8c9871"
   },
   "outputs": [],
   "source": [
    "df_train = df_penrose_scaled.sample(frac=0.5, random_state=42)\n",
    "df_test = df_penrose_scaled.drop(df_train.index)\n",
    "print('%d training and %d testing samples' % (len(df_train), len(df_test)))"
   ]
  },
  {
   "cell_type": "code",
   "execution_count": null,
   "metadata": {
    "colab": {
     "base_uri": "https://localhost:8080/",
     "height": 555
    },
    "executionInfo": {
     "elapsed": 174,
     "status": "ok",
     "timestamp": 1691184131567,
     "user": {
      "displayName": "Aron C",
      "userId": "07834910496055545653"
     },
     "user_tz": 300
    },
    "id": "QBkKtCZRt3wA",
    "outputId": "6edc8d8a-c690-446c-a96c-e4d0a906d051"
   },
   "outputs": [],
   "source": [
    "lr = LinearRegression()\n",
    "lr.fit(df_train[observations], df_train['bodyfat'])\n",
    "predictions = lr.predict(df_test[observations])\n",
    "truth_and_pred = pd.DataFrame(zip(df_test['bodyfat'], predictions), columns=['truth', 'predicted'])\n",
    "mse = ((truth_and_pred.truth-truth_and_pred.predicted)**2).sum()/len(truth_and_pred)\n",
    "truth_and_pred.plot.scatter(x='truth', y='predicted', title='mse=%.2f' % mse)\n"
   ]
  },
  {
   "cell_type": "markdown",
   "metadata": {
    "id": "alRjzbZjuIqD"
   },
   "source": [
    "### Why is MSE higher here?"
   ]
  },
  {
   "cell_type": "markdown",
   "metadata": {
    "id": "UJV9N6T-dG8d"
   },
   "source": [
    "We could also use the polyfit function"
   ]
  },
  {
   "cell_type": "code",
   "execution_count": null,
   "metadata": {
    "colab": {
     "base_uri": "https://localhost:8080/",
     "height": 513
    },
    "executionInfo": {
     "elapsed": 646,
     "status": "ok",
     "timestamp": 1691184132210,
     "user": {
      "displayName": "Aron C",
      "userId": "07834910496055545653"
     },
     "user_tz": 300
    },
    "id": "KGGfGd0BdG8d",
    "outputId": "31ed5810-4361-46f7-9317-e83c85b491f9"
   },
   "outputs": [],
   "source": [
    "# Let's try to fit a linear model with PolyFit.\n",
    "\n",
    "fig, ax = plt.subplots(1, 4, figsize=(15,5))\n",
    "\n",
    "for i,o in enumerate(observations):\n",
    "    # Fit our curve\n",
    "    x1, intercept = np.polyfit(df_penrose[o],df_penrose['bodyfat'], 1)\n",
    "\n",
    "    # Plot regular points\n",
    "    df_penrose.plot.scatter(x=o, y='bodyfat', ax=ax[i])\n",
    "\n",
    "    # Plot curve\n",
    "    pts = np.linspace(df_penrose[o].min(), df_penrose[o].max(), 500)\n",
    "    line = x1 * pts + intercept\n",
    "    ax[i].plot(pts, line, lw=1, ls='-', color='red')"
   ]
  },
  {
   "cell_type": "markdown",
   "metadata": {
    "id": "LdQ0oXlldG8e"
   },
   "source": [
    "## Non-Linear Models?\n",
    "\n",
    "So far we have only looked at the linear case -- what happens if we try to fit a polynomial to this data?\n",
    "\n",
    "Why would we want to fit some higher order polynomial on this data? Why is it a good idea or a bad idea?"
   ]
  },
  {
   "cell_type": "code",
   "execution_count": null,
   "metadata": {
    "colab": {
     "base_uri": "https://localhost:8080/",
     "height": 513
    },
    "executionInfo": {
     "elapsed": 811,
     "status": "ok",
     "timestamp": 1691184133016,
     "user": {
      "displayName": "Aron C",
      "userId": "07834910496055545653"
     },
     "user_tz": 300
    },
    "id": "SjZME2gddG8e",
    "outputId": "9c7a771a-e31c-4b09-cd3a-9a433df91c20"
   },
   "outputs": [],
   "source": [
    "# Let's try fitting a degree 2 polynomial with polyfit.\n",
    "\n",
    "fig, ax = plt.subplots(1, 4, figsize=(15,5))\n",
    "\n",
    "for i,o in enumerate(observations):\n",
    "\n",
    "    # Fit the polynomial.\n",
    "    x2, x1, intercept = np.polyfit(df_penrose[o],df_penrose['bodyfat'], 2)\n",
    "\n",
    "    # Plot our points.\n",
    "    df_penrose.plot.scatter(x=o, y='bodyfat', ax=ax[i])\n",
    "\n",
    "    # Plot the Regression Line..\n",
    "    pts = np.linspace(df_penrose[o].min(), df_penrose[o].max(), 500)\n",
    "    line = x2 * pts**2 + x1 * pts + intercept\n",
    "    ax[i].plot(pts, line, lw=1, ls='-', color='red')"
   ]
  },
  {
   "cell_type": "code",
   "execution_count": null,
   "metadata": {
    "colab": {
     "base_uri": "https://localhost:8080/",
     "height": 513
    },
    "executionInfo": {
     "elapsed": 599,
     "status": "ok",
     "timestamp": 1691184133611,
     "user": {
      "displayName": "Aron C",
      "userId": "07834910496055545653"
     },
     "user_tz": 300
    },
    "id": "Rieer28QdG8e",
    "outputId": "acf4f2ab-e24e-4c00-bbb4-a7bfd085f07e"
   },
   "outputs": [],
   "source": [
    "# Let's try fitting a degree 5 polynomial with polyfit.\n",
    "\n",
    "fig, ax = plt.subplots(1, 4, figsize=(15,5))\n",
    "\n",
    "for i,o in enumerate(observations):\n",
    "\n",
    "    # Fit the polynomial.\n",
    "    x5, x4, x3, x2, x1, intercept = np.polyfit(df_penrose[o],df_penrose['bodyfat'], 5)\n",
    "\n",
    "    # Plot our points.\n",
    "    df_penrose.plot.scatter(x=o, y='bodyfat', ax=ax[i])\n",
    "\n",
    "    # Plot the Regression Line..\n",
    "    pts = np.linspace(df_penrose[o].min(), df_penrose[o].max(), 500)\n",
    "    line = x5 * pts**5 + x4 * pts**4 + x3 * pts**3 + x2 * pts**2 + x1 * pts + intercept\n",
    "    ax[i].plot(pts, line, lw=1, ls='-', color='red')"
   ]
  },
  {
   "cell_type": "markdown",
   "metadata": {
    "id": "b-Rdb2HVdG8f"
   },
   "source": [
    "## Regressions and Plots with StatsModels and Seaborn\n",
    "\n",
    "Statsmodels (you'll likely need to install it) gives a much more R-like interface to linear modeling.  You can read [more about it here](https://www.statsmodels.org/stable/index.html)."
   ]
  },
  {
   "cell_type": "code",
   "execution_count": null,
   "metadata": {
    "executionInfo": {
     "elapsed": 774,
     "status": "ok",
     "timestamp": 1691184134382,
     "user": {
      "displayName": "Aron C",
      "userId": "07834910496055545653"
     },
     "user_tz": 300
    },
    "id": "P2pBUom0dG8f"
   },
   "outputs": [],
   "source": [
    "import statsmodels.api as sm\n",
    "df_ind = df_penrose[['Neck', 'Wrist']]\n",
    "df_target = df_penrose['bodyfat']"
   ]
  },
  {
   "cell_type": "code",
   "execution_count": null,
   "metadata": {
    "colab": {
     "base_uri": "https://localhost:8080/",
     "height": 466
    },
    "executionInfo": {
     "elapsed": 5,
     "status": "ok",
     "timestamp": 1691184134382,
     "user": {
      "displayName": "Aron C",
      "userId": "07834910496055545653"
     },
     "user_tz": 300
    },
    "id": "FopPjdn9dG8f",
    "outputId": "3680db49-2b59-4bc1-a5ae-684c3cd5f40a"
   },
   "outputs": [],
   "source": [
    "X = df_ind\n",
    "y = df_target\n",
    "\n",
    "# Note the difference in argument order\n",
    "# Call: endog, then exog (dependent, indepenednt)\n",
    "model = sm.OLS(y, X).fit()\n",
    "predictions = model.predict(X) # make the predictions by the model\n",
    "# Print out the statistics\n",
    "model.summary()\n",
    "#fig, ax = plt.subplots(figsize=(12,8))\n",
    "#fig = sm.graphics.plot_partregress(endog=\"bodyfat\", exog_i=['Abdomen', 'Neck'], exog_others='', data=df_penrose)"
   ]
  },
  {
   "cell_type": "markdown",
   "metadata": {
    "id": "PCuVlWwbdG8f"
   },
   "source": [
    "We can also use the [single regressor plot](https://tedboy.github.io/statsmodels_doc/generated/statsmodels.graphics.api.plot_partregress.html#statsmodels.graphics.api.plot_partregress)."
   ]
  },
  {
   "cell_type": "code",
   "execution_count": null,
   "metadata": {
    "colab": {
     "base_uri": "https://localhost:8080/",
     "height": 815
    },
    "executionInfo": {
     "elapsed": 1178,
     "status": "ok",
     "timestamp": 1691184135556,
     "user": {
      "displayName": "Aron C",
      "userId": "07834910496055545653"
     },
     "user_tz": 300
    },
    "id": "ptVKyALVdG8g",
    "outputId": "700a29cc-7132-48b0-ff68-86115623ee2d"
   },
   "outputs": [],
   "source": [
    "from statsmodels.graphics.regressionplots import plot_partregress\n",
    "fig, ax = plt.subplots(figsize=(12,8))\n",
    "plot_partregress(endog='bodyfat', exog_i='Neck', exog_others='', data=df_penrose, ax=ax)\n",
    "plt.show()"
   ]
  },
  {
   "cell_type": "markdown",
   "metadata": {
    "id": "A_Y6D7HDdG8g"
   },
   "source": [
    "If we have multiple elements in our regression then we need to use a different plot."
   ]
  },
  {
   "cell_type": "code",
   "execution_count": null,
   "metadata": {
    "colab": {
     "base_uri": "https://localhost:8080/",
     "height": 630
    },
    "executionInfo": {
     "elapsed": 198,
     "status": "ok",
     "timestamp": 1691184135752,
     "user": {
      "displayName": "Aron C",
      "userId": "07834910496055545653"
     },
     "user_tz": 300
    },
    "id": "uqGrGLi4dG8h",
    "outputId": "a6c58f5a-f868-4780-ac3a-fad38d24ece6"
   },
   "outputs": [],
   "source": [
    "# Multiple regression plot\n",
    "from statsmodels.graphics.regressionplots import plot_partregress_grid\n",
    "fig = plt.figure(figsize=(8, 6))\n",
    "plot_partregress_grid(model, fig=fig)\n",
    "plt.show()"
   ]
  },
  {
   "cell_type": "markdown",
   "metadata": {
    "id": "jr_dsg5odG8h"
   },
   "source": [
    "Another way to work with regressions and their plots is using the [Seaborn Regression Package](https://seaborn.pydata.org/tutorial/regression.html)"
   ]
  },
  {
   "cell_type": "code",
   "execution_count": null,
   "metadata": {
    "colab": {
     "base_uri": "https://localhost:8080/",
     "height": 522
    },
    "executionInfo": {
     "elapsed": 1492,
     "status": "ok",
     "timestamp": 1691184137240,
     "user": {
      "displayName": "Aron C",
      "userId": "07834910496055545653"
     },
     "user_tz": 300
    },
    "id": "IlFJCSYIdG8h",
    "outputId": "cfcfb017-d103-44ad-ab51-f8804235e41e"
   },
   "outputs": [],
   "source": [
    "# Another way to do simple exploratory plots\n",
    "import seaborn as sns\n",
    "df_test = df_penrose.sample(frac=0.10, replace=False)\n",
    "fig, ax = plt.subplots(1, 4, figsize=(15,5))\n",
    "\n",
    "for i,o in enumerate(observations):\n",
    "    sns.regplot(x=o, y='bodyfat', data=df_test, ax=ax[i])\n",
    "    #g.axes.set_xlim(df_test[o].min()*.95,df_test[o].max()*1.05)\n",
    "\n"
   ]
  },
  {
   "cell_type": "code",
   "execution_count": null,
   "metadata": {
    "colab": {
     "base_uri": "https://localhost:8080/",
     "height": 1000
    },
    "executionInfo": {
     "elapsed": 3388,
     "status": "ok",
     "timestamp": 1691184140623,
     "user": {
      "displayName": "Aron C",
      "userId": "07834910496055545653"
     },
     "user_tz": 300
    },
    "id": "rX7zrPA2qW-I",
    "outputId": "78921c0e-ba8f-4718-badd-e74c85cb8d0b"
   },
   "outputs": [],
   "source": [
    "# As we saw before we can also use the sns pairplot.\n",
    "sns.pairplot(df_penrose[observations])"
   ]
  },
  {
   "cell_type": "markdown",
   "metadata": {
    "id": "odPKrY4idG8h"
   },
   "source": [
    "## Linear Regressions and the Bias v. Variance Tradeoff\n",
    "\n",
    "Another nice simulator to play with is [this one](https://ndirienzo.shinyapps.io/linear_regression_sim/) which is from [Prof. Nicholas DiRienzo](https://ischool.arizona.edu/people/nicholas-dirienzo) from ASU's School of Information"
   ]
  },
  {
   "cell_type": "markdown",
   "metadata": {
    "id": "x1k2EQTJojJy"
   },
   "source": [
    "## Logistic Regression\n",
    "\n",
    "We can also use sklearn to do a quick logistic regression.  Remember that for logistic regression we are testing whether or not something is true, so we need to add a variable to our data.\n",
    "\n",
    "Someone is obese if their body fat is >32% so we'll add a dummy for that!"
   ]
  },
  {
   "cell_type": "code",
   "execution_count": null,
   "metadata": {
    "executionInfo": {
     "elapsed": 6,
     "status": "ok",
     "timestamp": 1691184140623,
     "user": {
      "displayName": "Aron C",
      "userId": "07834910496055545653"
     },
     "user_tz": 300
    },
    "id": "N5AT32qhlwbl"
   },
   "outputs": [],
   "source": [
    "df_penrose['obese'] = df_penrose.apply(lambda x: 1 if x['bodyfat'] > 32 else 0, axis=1)"
   ]
  },
  {
   "cell_type": "code",
   "execution_count": null,
   "metadata": {
    "executionInfo": {
     "elapsed": 7,
     "status": "ok",
     "timestamp": 1691184140624,
     "user": {
      "displayName": "Aron C",
      "userId": "07834910496055545653"
     },
     "user_tz": 300
    },
    "id": "BpMvZ2Kvr7_9"
   },
   "outputs": [],
   "source": [
    "df_penrose['obese'] = df_penrose.apply(lambda x: 1 if x['bodyfat'] > 32 else 0, axis=1)"
   ]
  },
  {
   "cell_type": "code",
   "execution_count": null,
   "metadata": {
    "executionInfo": {
     "elapsed": 6,
     "status": "ok",
     "timestamp": 1691184140624,
     "user": {
      "displayName": "Aron C",
      "userId": "07834910496055545653"
     },
     "user_tz": 300
    },
    "id": "uNTrhlFbr9Kn"
   },
   "outputs": [],
   "source": [
    "# We're going to use sklearn to build us a classifier.\n",
    "\n",
    "from sklearn.linear_model import LogisticRegression\n",
    "from sklearn.model_selection import train_test_split\n",
    "\n",
    "# setup our data for testing and training.\n",
    "\n",
    "X_train, X_test, y_train, y_test = train_test_split(df_penrose[observations],\n",
    "                                                    df_penrose['obese'],\n",
    "                                                    test_size=0.2)\n"
   ]
  },
  {
   "cell_type": "code",
   "execution_count": null,
   "metadata": {
    "colab": {
     "base_uri": "https://localhost:8080/",
     "height": 206
    },
    "executionInfo": {
     "elapsed": 187,
     "status": "ok",
     "timestamp": 1691184140805,
     "user": {
      "displayName": "Aron C",
      "userId": "07834910496055545653"
     },
     "user_tz": 300
    },
    "id": "rR8lwxvVr-7i",
    "outputId": "44e5148a-1bbb-40c6-8ba6-15c9b63d10ac"
   },
   "outputs": [],
   "source": [
    "X_train.head()"
   ]
  },
  {
   "cell_type": "code",
   "execution_count": null,
   "metadata": {
    "executionInfo": {
     "elapsed": 8,
     "status": "ok",
     "timestamp": 1691184140806,
     "user": {
      "displayName": "Aron C",
      "userId": "07834910496055545653"
     },
     "user_tz": 300
    },
    "id": "Jyco4R_KsAjW"
   },
   "outputs": [],
   "source": [
    "# Fit that model!\n",
    "logisticRegr = LogisticRegression(max_iter=100000, class_weight='balanced')\n",
    "model = logisticRegr.fit(X_train, y_train)"
   ]
  },
  {
   "cell_type": "code",
   "execution_count": null,
   "metadata": {
    "colab": {
     "base_uri": "https://localhost:8080/",
     "height": 533
    },
    "executionInfo": {
     "elapsed": 330,
     "status": "ok",
     "timestamp": 1691184294241,
     "user": {
      "displayName": "Aron C",
      "userId": "07834910496055545653"
     },
     "user_tz": 300
    },
    "id": "xyoaKB-xsBwc",
    "outputId": "d607d78a-127b-477c-d54a-aa618a834c47"
   },
   "outputs": [],
   "source": [
    "# Fit and plot!\n",
    "from sklearn.metrics import accuracy_score, ConfusionMatrixDisplay\n",
    "y_pred = model.predict(X_test)\n",
    "print(f\"Accuracy Score is: {accuracy_score(y_test, y_pred)}\")\n",
    "ConfusionMatrixDisplay.from_estimator(model, X_test, y_test,\n",
    "                                        display_labels=logisticRegr.classes_,\n",
    "                                        cmap=plt.cm.Blues, normalize='all')"
   ]
  }
 ],
 "metadata": {
  "colab": {
   "provenance": []
  },
  "kernelspec": {
   "display_name": "Python 3 (ipykernel)",
   "language": "python",
   "name": "python3"
  },
  "language_info": {
   "codemirror_mode": {
    "name": "ipython",
    "version": 3
   },
   "file_extension": ".py",
   "mimetype": "text/x-python",
   "name": "python",
   "nbconvert_exporter": "python",
   "pygments_lexer": "ipython3",
   "version": "3.11.5"
  },
  "vscode": {
   "interpreter": {
    "hash": "aee8b7b246df8f9039afb4144a1f6fd8d2ca17a180786b69acc140d282b71a49"
   }
  }
 },
 "nbformat": 4,
 "nbformat_minor": 4
}
