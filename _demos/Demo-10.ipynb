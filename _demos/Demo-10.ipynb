{
 "cells": [
  {
   "cell_type": "markdown",
   "metadata": {
    "id": "sKeGaVICR5J8"
   },
   "source": [
    "# Demo 09 - Distance Functions and Comparing Entities\n",
    "\n",
    "In this notebook we do a few things with the [NBA Salary Dataset](https://github.com/joshrosson/NBASalaryPredictions) to illustrate working with relationships between variables. Specifically we'll look at distances between *observations* in this dataset and see what we can learn!\n"
   ]
  },
  {
   "cell_type": "code",
   "execution_count": null,
   "metadata": {},
   "outputs": [],
   "source": [
    "# clone the course repository, change to right directory, and import libraries.\n",
    "%cd /content\n",
    "!git clone https://github.com/nmattei/cmps6790.git\n",
    "%cd /content/cmps6790/_demos"
   ]
  },
  {
   "cell_type": "code",
   "execution_count": null,
   "metadata": {
    "colab": {
     "base_uri": "https://localhost:8080/"
    },
    "executionInfo": {
     "elapsed": 9528,
     "status": "ok",
     "timestamp": 1691183980301,
     "user": {
      "displayName": "Aron C",
      "userId": "07834910496055545653"
     },
     "user_tz": 300
    },
    "id": "7-00itW3R5KB",
    "outputId": "c968a97c-e973-4759-935e-8d8c5421fe67"
   },
   "outputs": [],
   "source": [
    "import pandas as pd\n",
    "import numpy as np\n",
    "import matplotlib.pyplot as plt\n",
    "import seaborn as sns\n",
    "plt.style.use('fivethirtyeight')\n",
    "# Make the fonts a little bigger in our graphs.\n",
    "font = {'size'   : 20}\n",
    "plt.rc('font', **font)\n",
    "plt.rcParams['mathtext.fontset'] = 'cm'\n",
    "plt.rcParams['pdf.fonttype'] = 42\n",
    "# Supress scientific notation\n",
    "pd.set_option('display.float_format', lambda x: '%.2f' % x)"
   ]
  },
  {
   "cell_type": "markdown",
   "metadata": {
    "id": "YNpvKAm3R5KE"
   },
   "source": [
    "# Loading the Data and Down Selecting\n",
    "\n",
    "First we'll load the data and focus on just a few attributes to make this more clear."
   ]
  },
  {
   "cell_type": "code",
   "execution_count": null,
   "metadata": {
    "colab": {
     "base_uri": "https://localhost:8080/",
     "height": 949
    },
    "executionInfo": {
     "elapsed": 318,
     "status": "ok",
     "timestamp": 1691183980615,
     "user": {
      "displayName": "Aron C",
      "userId": "07834910496055545653"
     },
     "user_tz": 300
    },
    "id": "PuSfZHFtR5KF",
    "outputId": "0ce0738e-4944-433a-d891-7fce1843a73b"
   },
   "outputs": [],
   "source": [
    "# Load the data\n",
    "# Data from here: https://github.com/joshrosson/NBASalaryPredictions\n",
    "df_nba = pd.read_csv(\"./data/nba_stats.csv\")\n",
    "display(df_nba.head(10))\n",
    "\n",
    "# Always double check your Dtypes\n",
    "df_nba.dtypes"
   ]
  },
  {
   "cell_type": "markdown",
   "metadata": {
    "id": "oxDYd92sR5KF"
   },
   "source": [
    "Is the data for NBA Salary skewed?  Why?"
   ]
  },
  {
   "cell_type": "code",
   "execution_count": null,
   "metadata": {
    "colab": {
     "base_uri": "https://localhost:8080/",
     "height": 362
    },
    "executionInfo": {
     "elapsed": 9,
     "status": "ok",
     "timestamp": 1691183980616,
     "user": {
      "displayName": "Aron C",
      "userId": "07834910496055545653"
     },
     "user_tz": 300
    },
    "id": "SbEzOmD-R5KG",
    "outputId": "27ab643c-89dc-49d9-b9d1-05264e352ea0"
   },
   "outputs": [],
   "source": [
    "# Let's use all the years this time but only a subset of the stats.\n",
    "\n",
    "# Why did I copy this time?\n",
    "df_smallNBA = df_nba[[\"Name\", \"Salary\", \"Season\", \"Pos\", \"Age\", \"MP\", \"PTS\",\"TRB\", \"AST\"]].copy()\n",
    "df_smallNBA.head(10)"
   ]
  },
  {
   "cell_type": "markdown",
   "metadata": {
    "id": "BsGVufW5R5KG"
   },
   "source": [
    "# Find the closest players!\n"
   ]
  },
  {
   "cell_type": "code",
   "execution_count": null,
   "metadata": {
    "colab": {
     "base_uri": "https://localhost:8080/",
     "height": 362
    },
    "executionInfo": {
     "elapsed": 8,
     "status": "ok",
     "timestamp": 1691183980986,
     "user": {
      "displayName": "Aron C",
      "userId": "07834910496055545653"
     },
     "user_tz": 300
    },
    "id": "KnnFb1oYR5KH",
    "outputId": "6a26fb35-ad00-4a46-d8f2-811e5d5783ca"
   },
   "outputs": [],
   "source": [
    "# Get a smaller set, drop NA's and get dummies...\n",
    "df_smallNBA.dropna(inplace=True)\n",
    "df_smallNBA.reset_index(drop=True, inplace=True)\n",
    "df_smallNBA.head(10)"
   ]
  },
  {
   "cell_type": "code",
   "execution_count": null,
   "metadata": {
    "colab": {
     "base_uri": "https://localhost:8080/",
     "height": 1000
    },
    "executionInfo": {
     "elapsed": 41007,
     "status": "ok",
     "timestamp": 1691184021987,
     "user": {
      "displayName": "Aron C",
      "userId": "07834910496055545653"
     },
     "user_tz": 300
    },
    "id": "DCZ-JrG0R5KH",
    "outputId": "93485f75-3cbf-425a-f000-4be4eab41e7c"
   },
   "outputs": [],
   "source": [
    "sns.pairplot(df_smallNBA)"
   ]
  },
  {
   "cell_type": "code",
   "execution_count": null,
   "metadata": {
    "colab": {
     "base_uri": "https://localhost:8080/",
     "height": 410
    },
    "executionInfo": {
     "elapsed": 11,
     "status": "ok",
     "timestamp": 1691184021987,
     "user": {
      "displayName": "Aron C",
      "userId": "07834910496055545653"
     },
     "user_tz": 300
    },
    "id": "odkrZZ4vR5KH",
    "outputId": "548c095f-96ea-44db-de7e-adc9012f43a9"
   },
   "outputs": [],
   "source": [
    "# get dummies -- Why did I remove name? How do we get it back?\n",
    "df_ml = pd.get_dummies(df_smallNBA[[\"Season\", \"Pos\", \"Age\", \"MP\", \"PTS\",\"TRB\", \"AST\"]])\n",
    "display(df_ml.head(10))\n",
    "len(df_ml)"
   ]
  },
  {
   "cell_type": "code",
   "execution_count": null,
   "metadata": {
    "colab": {
     "base_uri": "https://localhost:8080/"
    },
    "executionInfo": {
     "elapsed": 9,
     "status": "ok",
     "timestamp": 1691184021987,
     "user": {
      "displayName": "Aron C",
      "userId": "07834910496055545653"
     },
     "user_tz": 300
    },
    "id": "A3jwYwtkR5KI",
    "outputId": "c7426527-0b26-4913-d447-9aea51c8e8f2"
   },
   "outputs": [],
   "source": [
    "df_ml.Season.value_counts()"
   ]
  },
  {
   "cell_type": "markdown",
   "metadata": {
    "id": "rwxHQrszR5KI"
   },
   "source": [
    "We're going to start using [SKLearn](https://scikit-learn.org/stable/modules/classes.html#sklearn-metrics-metrics) we'll get more into it as we go!"
   ]
  },
  {
   "cell_type": "code",
   "execution_count": null,
   "metadata": {
    "colab": {
     "base_uri": "https://localhost:8080/"
    },
    "executionInfo": {
     "elapsed": 307,
     "status": "ok",
     "timestamp": 1691184022289,
     "user": {
      "displayName": "Aron C",
      "userId": "07834910496055545653"
     },
     "user_tz": 300
    },
    "id": "MA-PpcGJR5KI",
    "outputId": "b27b652d-6f57-4d34-fe50-6561442eef21"
   },
   "outputs": [],
   "source": [
    "# Use SKLEARN to do some distances.\n",
    "from sklearn.metrics import pairwise_distances\n",
    "D = pairwise_distances(df_ml, metric=\"euclidean\")\n",
    "D.shape\n"
   ]
  },
  {
   "cell_type": "code",
   "execution_count": null,
   "metadata": {
    "colab": {
     "base_uri": "https://localhost:8080/",
     "height": 206
    },
    "executionInfo": {
     "elapsed": 28,
     "status": "ok",
     "timestamp": 1691184022290,
     "user": {
      "displayName": "Aron C",
      "userId": "07834910496055545653"
     },
     "user_tz": 300
    },
    "id": "ivap4EaFR5KI",
    "outputId": "26f7f19d-78f4-4f01-f32a-a17bd0da73c1"
   },
   "outputs": [],
   "source": [
    "# Find someone intersting...\n",
    "df_smallNBA[(df_smallNBA['Name'] == 'Anthony Davis')]"
   ]
  },
  {
   "cell_type": "code",
   "execution_count": null,
   "metadata": {
    "colab": {
     "base_uri": "https://localhost:8080/"
    },
    "executionInfo": {
     "elapsed": 27,
     "status": "ok",
     "timestamp": 1691184022291,
     "user": {
      "displayName": "Aron C",
      "userId": "07834910496055545653"
     },
     "user_tz": 300
    },
    "id": "p0FIEnEgR5KJ",
    "outputId": "b389bbd7-86a8-457b-d0f9-f3dca6a84fa6"
   },
   "outputs": [],
   "source": [
    "# So what does this D matrix have inside of it?\n",
    "D"
   ]
  },
  {
   "cell_type": "code",
   "execution_count": null,
   "metadata": {
    "colab": {
     "base_uri": "https://localhost:8080/"
    },
    "executionInfo": {
     "elapsed": 24,
     "status": "ok",
     "timestamp": 1691184022291,
     "user": {
      "displayName": "Aron C",
      "userId": "07834910496055545653"
     },
     "user_tz": 300
    },
    "id": "UgDgjDulR5KJ",
    "outputId": "33673ac7-fff4-4e98-a892-f3e509377f41"
   },
   "outputs": [],
   "source": [
    "# So let's see who was the closest to Davis's 2016 Season\n",
    "D[8416, :].argmin()"
   ]
  },
  {
   "cell_type": "code",
   "execution_count": null,
   "metadata": {
    "executionInfo": {
     "elapsed": 23,
     "status": "ok",
     "timestamp": 1691184022292,
     "user": {
      "displayName": "Aron C",
      "userId": "07834910496055545653"
     },
     "user_tz": 300
    },
    "id": "g7vmJbDKR5KJ"
   },
   "outputs": [],
   "source": [
    "# Wait... that's me... what went wrong here?\n",
    "np.fill_diagonal(D, np.inf)\n",
    "\n",
    "# To fix this we have to fill the diagonal with infs to fill it out"
   ]
  },
  {
   "cell_type": "code",
   "execution_count": null,
   "metadata": {
    "colab": {
     "base_uri": "https://localhost:8080/"
    },
    "executionInfo": {
     "elapsed": 23,
     "status": "ok",
     "timestamp": 1691184022293,
     "user": {
      "displayName": "Aron C",
      "userId": "07834910496055545653"
     },
     "user_tz": 300
    },
    "id": "k9AB239XR5KJ",
    "outputId": "f6ef0930-b966-4e1d-ffeb-e1d02b2ea1ec"
   },
   "outputs": [],
   "source": [
    "D[8416, :].argmin()"
   ]
  },
  {
   "cell_type": "code",
   "execution_count": null,
   "metadata": {
    "colab": {
     "base_uri": "https://localhost:8080/",
     "height": 80
    },
    "executionInfo": {
     "elapsed": 22,
     "status": "ok",
     "timestamp": 1691184022294,
     "user": {
      "displayName": "Aron C",
      "userId": "07834910496055545653"
     },
     "user_tz": 300
    },
    "id": "Vf9pNQ5oR5KJ",
    "outputId": "7bdda383-0fc9-487e-fe2a-92fd9003b364"
   },
   "outputs": [],
   "source": [
    "df_smallNBA.loc[[6805]]\n",
    "\n",
    "# 2012 Kevin love who dis? Explains why Lebron wanted that trade hunh?"
   ]
  },
  {
   "cell_type": "code",
   "execution_count": null,
   "metadata": {
    "colab": {
     "base_uri": "https://localhost:8080/",
     "height": 141
    },
    "executionInfo": {
     "elapsed": 22,
     "status": "ok",
     "timestamp": 1691184022295,
     "user": {
      "displayName": "Aron C",
      "userId": "07834910496055545653"
     },
     "user_tz": 300
    },
    "id": "5GMufbw2R5KJ",
    "outputId": "6bc959a9-78d3-4ab4-90d9-8e08fa153129"
   },
   "outputs": [],
   "source": [
    "df_ml.loc[[8416,6805]]\n"
   ]
  },
  {
   "cell_type": "markdown",
   "metadata": {
    "id": "BJGPWNwVR5KJ"
   },
   "source": [
    "Lots of different distances we could use [SKLearn Distance Functions](https://scikit-learn.org/stable/modules/generated/sklearn.metrics.DistanceMetric.html)"
   ]
  },
  {
   "cell_type": "code",
   "execution_count": null,
   "metadata": {
    "colab": {
     "base_uri": "https://localhost:8080/"
    },
    "executionInfo": {
     "elapsed": 21,
     "status": "ok",
     "timestamp": 1691184022295,
     "user": {
      "displayName": "Aron C",
      "userId": "07834910496055545653"
     },
     "user_tz": 300
    },
    "id": "fdT0y3CqR5KK",
    "outputId": "ccd010a5-1601-40b3-e5ab-984a2c416468"
   },
   "outputs": [],
   "source": [
    "# If we change the distance metric what happens?\n",
    "\n",
    "\n",
    "D = pairwise_distances(df_ml, metric=\"hamming\")\n",
    "np.fill_diagonal(D, np.inf)\n",
    "D[8416, :].argmin()"
   ]
  },
  {
   "cell_type": "code",
   "execution_count": null,
   "metadata": {
    "colab": {
     "base_uri": "https://localhost:8080/",
     "height": 112
    },
    "executionInfo": {
     "elapsed": 18,
     "status": "ok",
     "timestamp": 1691184022296,
     "user": {
      "displayName": "Aron C",
      "userId": "07834910496055545653"
     },
     "user_tz": 300
    },
    "id": "QGBEacUTR5KK",
    "outputId": "da66162e-e20a-4829-972b-ce773b84f05c"
   },
   "outputs": [],
   "source": [
    "df_smallNBA.loc[[8416,8399]]"
   ]
  }
 ],
 "metadata": {
  "colab": {
   "provenance": []
  },
  "kernelspec": {
   "display_name": "Python 3 (ipykernel)",
   "language": "python",
   "name": "python3"
  },
  "language_info": {
   "codemirror_mode": {
    "name": "ipython",
    "version": 3
   },
   "file_extension": ".py",
   "mimetype": "text/x-python",
   "name": "python",
   "nbconvert_exporter": "python",
   "pygments_lexer": "ipython3",
   "version": "3.11.5"
  },
  "vscode": {
   "interpreter": {
    "hash": "aee8b7b246df8f9039afb4144a1f6fd8d2ca17a180786b69acc140d282b71a49"
   }
  }
 },
 "nbformat": 4,
 "nbformat_minor": 4
}
