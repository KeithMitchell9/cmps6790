{
 "cells": [
  {
   "cell_type": "markdown",
   "metadata": {
    "id": "6Hh6r-PIuHaO"
   },
   "source": [
    "# Demo 08 - Probability and Missing Data\n",
    "\n",
    "In this notebook we'll first take a look at what the effect of missing data can be on a classification mode, specifically using the Titanic dataset. Then we'll look at some ways of \"fixing\" that missing data, and the effect it has on the model."
   ]
  },
  {
   "cell_type": "code",
   "execution_count": null,
   "metadata": {},
   "outputs": [],
   "source": [
    "# Only for COLAB!\n",
    "# clone the course repository, change to right directory, and import libraries.\n",
    "%cd /content\n",
    "!git clone https://github.com/nmattei/cmps6790.git\n",
    "%cd /content/cmps6790/_demos"
   ]
  },
  {
   "cell_type": "code",
   "execution_count": null,
   "metadata": {
    "colab": {
     "base_uri": "https://localhost:8080/"
    },
    "executionInfo": {
     "elapsed": 10318,
     "status": "ok",
     "timestamp": 1691246539910,
     "user": {
      "displayName": "Aron C",
      "userId": "07834910496055545653"
     },
     "user_tz": 300
    },
    "id": "TU8u5Y5MuHaT",
    "outputId": "d6a58c4c-4520-4767-89e8-d735afff5a6e"
   },
   "outputs": [],
   "source": [
    "import pandas as pd\n",
    "import numpy as np\n",
    "import matplotlib.pyplot as plt\n",
    "import scipy.stats as stats\n",
    "import seaborn as sns\n",
    "# SKLEARN stuff\n",
    "import sklearn\n",
    "from sklearn.model_selection import train_test_split\n",
    "from sklearn.tree import DecisionTreeClassifier, plot_tree\n",
    "from sklearn import metrics\n",
    "# Load SQLITE\n",
    "import sqlite3\n",
    "plt.style.use('fivethirtyeight')\n",
    "# Make the fonts a little bigger in our graphs.\n",
    "font = {'size'   : 20}\n",
    "plt.rc('font', **font)\n",
    "plt.rcParams['mathtext.fontset'] = 'cm'\n",
    "plt.rcParams['pdf.fonttype'] = 42"
   ]
  },
  {
   "cell_type": "code",
   "execution_count": null,
   "metadata": {
    "colab": {
     "base_uri": "https://localhost:8080/",
     "height": 319
    },
    "executionInfo": {
     "elapsed": 13,
     "status": "ok",
     "timestamp": 1691246539912,
     "user": {
      "displayName": "Aron C",
      "userId": "07834910496055545653"
     },
     "user_tz": 300
    },
    "id": "EqlYnJ5PuHaX",
    "outputId": "dc1d6953-aca9-4181-d2da-71be981f755a"
   },
   "outputs": [],
   "source": [
    "# First let's load up the Titanic dataset and make a decision tree!\n",
    "# We have a full datasheet here: http://campus.lakeforest.edu/frank/FILES/MLFfiles/Bio150/Titanic/TitanicMETA.pdf\n",
    "df_titanic = pd.read_csv(\"./data/titanic.csv\")\n",
    "df_titanic.head(5)"
   ]
  },
  {
   "cell_type": "code",
   "execution_count": null,
   "metadata": {
    "colab": {
     "base_uri": "https://localhost:8080/",
     "height": 206
    },
    "executionInfo": {
     "elapsed": 242,
     "status": "ok",
     "timestamp": 1691246540147,
     "user": {
      "displayName": "Aron C",
      "userId": "07834910496055545653"
     },
     "user_tz": 300
    },
    "id": "16JpVkXPuHaY",
    "outputId": "389c9223-5376-40bf-9ef3-c4f7916a1e48"
   },
   "outputs": [],
   "source": [
    "# We don't need a few of these -- Name, Cabin (why?) and home.dest so let's drop those\n",
    "# body is the body id number, so that is only there for those that died, so let's drop it too, boat is life boat number\n",
    "df_titanic.drop(columns=[\"name\",\"cabin\", \"ticket\",\"body\",\"boat\",\"home.dest\"], inplace=True)\n",
    "df_titanic.head(5)"
   ]
  },
  {
   "cell_type": "code",
   "execution_count": null,
   "metadata": {
    "colab": {
     "base_uri": "https://localhost:8080/",
     "height": 300
    },
    "executionInfo": {
     "elapsed": 238,
     "status": "ok",
     "timestamp": 1691246540376,
     "user": {
      "displayName": "Aron C",
      "userId": "07834910496055545653"
     },
     "user_tz": 300
    },
    "id": "xBZb7VkUuHaZ",
    "outputId": "41dc4744-dea7-4ba9-b8e1-ab9a24809153"
   },
   "outputs": [],
   "source": [
    "df_titanic.describe()"
   ]
  },
  {
   "cell_type": "code",
   "execution_count": null,
   "metadata": {
    "colab": {
     "base_uri": "https://localhost:8080/",
     "height": 206
    },
    "executionInfo": {
     "elapsed": 7,
     "status": "ok",
     "timestamp": 1691246540377,
     "user": {
      "displayName": "Aron C",
      "userId": "07834910496055545653"
     },
     "user_tz": 300
    },
    "id": "fd5PuK9MuHaa",
    "outputId": "248cc572-5301-4cd9-acdc-708707d211f1"
   },
   "outputs": [],
   "source": [
    "# Let's do the easy part first: dummy out sex and embarked, dropna, and go to town.\n",
    "df_ml = df_titanic.dropna()\n",
    "df_ml = pd.get_dummies(df_ml, columns=[\"sex\", \"embarked\"])\n",
    "df_ml.head(5)"
   ]
  },
  {
   "cell_type": "code",
   "execution_count": null,
   "metadata": {
    "executionInfo": {
     "elapsed": 174,
     "status": "ok",
     "timestamp": 1691252825789,
     "user": {
      "displayName": "Aron C",
      "userId": "07834910496055545653"
     },
     "user_tz": 300
    },
    "id": "PGHtJc6AuHaa"
   },
   "outputs": [],
   "source": [
    "# Let's MACHINE LEARN!\n",
    "from sklearn.metrics import accuracy_score, ConfusionMatrixDisplay\n",
    "def fit_and_report(df, features, target):\n",
    "    train, test = train_test_split(df,\n",
    "                               test_size=0.4,\n",
    "                               stratify=df[target])\n",
    "    X_train = train[features]\n",
    "    y_train = train[target]\n",
    "    X_test = test[features]\n",
    "    y_test = test[target]\n",
    "    mod_dt = DecisionTreeClassifier(max_depth = 3, random_state = 1)\n",
    "    mod_dt.fit(X_train,y_train)\n",
    "    prediction=mod_dt.predict(X_test)\n",
    "    ConfusionMatrixDisplay.from_estimator(mod_dt, X_test, y_test,\n",
    "                                          display_labels=mod_dt.classes_,\n",
    "                                          cmap=plt.cm.Blues, normalize='all')\n",
    "    plt.figure(figsize = (15,8))\n",
    "    plot_tree(mod_dt, feature_names = features, class_names={1:\"survived\", 0:\"died\"}, filled = True);\n",
    "\n",
    "    print(f\"The accuracy of the Decision Tree is {metrics.accuracy_score(prediction,y_test):.3f}\")\n",
    "    print(f\"The Precision of the Decision Tree is {metrics.precision_score(prediction,y_test,average='weighted'):.3f}\")\n",
    "    print(f\"The Recall of the Decision Tree is {metrics.recall_score(prediction,y_test,average='weighted'):.3f}\")"
   ]
  },
  {
   "cell_type": "code",
   "execution_count": null,
   "metadata": {
    "colab": {
     "base_uri": "https://localhost:8080/",
     "height": 1000
    },
    "executionInfo": {
     "elapsed": 1915,
     "status": "ok",
     "timestamp": 1691252829236,
     "user": {
      "displayName": "Aron C",
      "userId": "07834910496055545653"
     },
     "user_tz": 300
    },
    "id": "XK_b6yUPuHab",
    "outputId": "dd7e3daf-20db-4972-b8f3-c8c563e4849a"
   },
   "outputs": [],
   "source": [
    "fit_and_report(df_ml,\n",
    "                ['pclass', 'age', 'sibsp', 'parch', 'fare', 'sex_female', 'sex_male', 'embarked_C', 'embarked_Q', 'embarked_S'],\n",
    "                [\"survived\"])\n"
   ]
  },
  {
   "cell_type": "code",
   "execution_count": null,
   "metadata": {
    "colab": {
     "base_uri": "https://localhost:8080/"
    },
    "executionInfo": {
     "elapsed": 158,
     "status": "ok",
     "timestamp": 1691252843572,
     "user": {
      "displayName": "Aron C",
      "userId": "07834910496055545653"
     },
     "user_tz": 300
    },
    "id": "JCqBMFcLuHac",
    "outputId": "511537b4-9d59-486e-cc57-d32bfba0f10b"
   },
   "outputs": [],
   "source": [
    "# So we're doing pretty well... but let's see exactly what data is missing..\n",
    "\n",
    "print(len(df_titanic))\n",
    "\n",
    "print(len(df_titanic.dropna()))\n",
    "\n",
    "print(len(df_titanic) - len(df_titanic.dropna()))\n"
   ]
  },
  {
   "cell_type": "code",
   "execution_count": null,
   "metadata": {
    "colab": {
     "base_uri": "https://localhost:8080/",
     "height": 423
    },
    "executionInfo": {
     "elapsed": 202,
     "status": "ok",
     "timestamp": 1691252846205,
     "user": {
      "displayName": "Aron C",
      "userId": "07834910496055545653"
     },
     "user_tz": 300
    },
    "id": "fwCyziyduHad",
    "outputId": "c8989796-010c-4ec2-a7ee-e63cbbaae874"
   },
   "outputs": [],
   "source": [
    "# But what are these features? What's missing? Is it important?\n",
    "df_titanic[df_titanic.isnull().any(axis=1)]"
   ]
  },
  {
   "cell_type": "code",
   "execution_count": null,
   "metadata": {
    "colab": {
     "base_uri": "https://localhost:8080/",
     "height": 300
    },
    "executionInfo": {
     "elapsed": 150,
     "status": "ok",
     "timestamp": 1691252849636,
     "user": {
      "displayName": "Aron C",
      "userId": "07834910496055545653"
     },
     "user_tz": 300
    },
    "id": "hV6Vnem1uHad",
    "outputId": "54ef929f-1ad6-496b-b5f3-242e524356c7"
   },
   "outputs": [],
   "source": [
    "# So what kinds of folks are we dropping here?\n",
    "df_titanic[df_titanic.isnull().any(axis=1)].describe()"
   ]
  },
  {
   "cell_type": "code",
   "execution_count": null,
   "metadata": {
    "colab": {
     "base_uri": "https://localhost:8080/"
    },
    "executionInfo": {
     "elapsed": 2,
     "status": "ok",
     "timestamp": 1691252850131,
     "user": {
      "displayName": "Aron C",
      "userId": "07834910496055545653"
     },
     "user_tz": 300
    },
    "id": "q_Edcj0kuHad",
    "outputId": "ffa20bca-2107-4767-f5cb-fbadd5960faa"
   },
   "outputs": [],
   "source": [
    "# Where are they from?\n",
    "\n",
    "print(df_titanic[df_titanic.isnull().any(axis=1)].embarked.value_counts())\n",
    "print(df_titanic[df_titanic.isnull().any(axis=1)].pclass.value_counts())"
   ]
  },
  {
   "cell_type": "code",
   "execution_count": null,
   "metadata": {
    "colab": {
     "base_uri": "https://localhost:8080/",
     "height": 262
    },
    "executionInfo": {
     "elapsed": 184,
     "status": "ok",
     "timestamp": 1691252852047,
     "user": {
      "displayName": "Aron C",
      "userId": "07834910496055545653"
     },
     "user_tz": 300
    },
    "id": "YFZ2n1U3uHae",
    "outputId": "7f8f9382-fb6d-4d49-c86f-ee13102c413d"
   },
   "outputs": [],
   "source": [
    "# So it looks like we're missing a ton of south hampton folks, that are in third class...\n",
    "# Let's impute with the mean for the moment and see how our results change\n",
    "\n",
    "df_ml_impute = df_titanic.fillna(df_titanic.mean())\n",
    "df_ml_impute.head(5)"
   ]
  },
  {
   "cell_type": "code",
   "execution_count": null,
   "metadata": {
    "colab": {
     "base_uri": "https://localhost:8080/"
    },
    "executionInfo": {
     "elapsed": 131,
     "status": "ok",
     "timestamp": 1691252854966,
     "user": {
      "displayName": "Aron C",
      "userId": "07834910496055545653"
     },
     "user_tz": 300
    },
    "id": "Z8WixIG0uHae",
    "outputId": "7b5ecdaf-cb0c-474d-8e14-7f9472505d93"
   },
   "outputs": [],
   "source": [
    "df_ml_impute.dtypes"
   ]
  },
  {
   "cell_type": "code",
   "execution_count": null,
   "metadata": {
    "colab": {
     "base_uri": "https://localhost:8080/",
     "height": 300
    },
    "executionInfo": {
     "elapsed": 162,
     "status": "ok",
     "timestamp": 1691252856517,
     "user": {
      "displayName": "Aron C",
      "userId": "07834910496055545653"
     },
     "user_tz": 300
    },
    "id": "rYkURLTfuHae",
    "outputId": "8cc236be-15aa-4458-c502-f3e2867bbc11"
   },
   "outputs": [],
   "source": [
    "df_ml_impute.describe()"
   ]
  },
  {
   "cell_type": "code",
   "execution_count": null,
   "metadata": {
    "colab": {
     "base_uri": "https://localhost:8080/",
     "height": 130
    },
    "executionInfo": {
     "elapsed": 257,
     "status": "ok",
     "timestamp": 1691252857700,
     "user": {
      "displayName": "Aron C",
      "userId": "07834910496055545653"
     },
     "user_tz": 300
    },
    "id": "mQMrGz4EuHaf",
    "outputId": "91d20c5e-fa04-4bbf-8c29-70576003facb"
   },
   "outputs": [],
   "source": [
    "# Okay, so now how many are we missing?\n",
    "print(len(df_ml_impute) - len(df_ml_impute.dropna()))\n",
    "\n",
    "# So we still have 2 missing\n",
    "display(df_ml_impute[df_ml_impute.isnull().any(axis=1)])"
   ]
  },
  {
   "cell_type": "code",
   "execution_count": null,
   "metadata": {
    "colab": {
     "base_uri": "https://localhost:8080/",
     "height": 1000
    },
    "executionInfo": {
     "elapsed": 1365,
     "status": "ok",
     "timestamp": 1691252859878,
     "user": {
      "displayName": "Aron C",
      "userId": "07834910496055545653"
     },
     "user_tz": 300
    },
    "id": "H2zwE4pHuHaf",
    "outputId": "dff33e11-3316-45e6-ec41-b7603391daf7"
   },
   "outputs": [],
   "source": [
    "# Let Machine Learn again!\n",
    "df_ml_impute = pd.get_dummies(df_ml_impute, columns=[\"sex\", \"embarked\"])\n",
    "fit_and_report(df_ml_impute,\n",
    "                ['pclass', 'age', 'sibsp', 'parch', 'fare', 'sex_female', 'sex_male', 'embarked_C', 'embarked_Q', 'embarked_S'],\n",
    "                [\"survived\"])"
   ]
  },
  {
   "cell_type": "code",
   "execution_count": null,
   "metadata": {
    "colab": {
     "base_uri": "https://localhost:8080/"
    },
    "executionInfo": {
     "elapsed": 6,
     "status": "ok",
     "timestamp": 1691252859879,
     "user": {
      "displayName": "Aron C",
      "userId": "07834910496055545653"
     },
     "user_tz": 300
    },
    "id": "c3JmQCT8uHaf",
    "outputId": "ffc3feeb-d013-4452-e681-9d570884a18a"
   },
   "outputs": [],
   "source": [
    "df_titanic[\"age\"].mean()"
   ]
  },
  {
   "cell_type": "code",
   "execution_count": null,
   "metadata": {
    "colab": {
     "base_uri": "https://localhost:8080/"
    },
    "executionInfo": {
     "elapsed": 234,
     "status": "ok",
     "timestamp": 1691252860794,
     "user": {
      "displayName": "Aron C",
      "userId": "07834910496055545653"
     },
     "user_tz": 300
    },
    "id": "VqVyJR0CuHaf",
    "outputId": "c2a6806a-d71b-4aba-ab52-cae5fb02dba5"
   },
   "outputs": [],
   "source": [
    "df_titanic[\"age\"].median()"
   ]
  },
  {
   "cell_type": "code",
   "execution_count": null,
   "metadata": {
    "colab": {
     "base_uri": "https://localhost:8080/",
     "height": 1000
    },
    "executionInfo": {
     "elapsed": 15605,
     "status": "ok",
     "timestamp": 1691252878061,
     "user": {
      "displayName": "Aron C",
      "userId": "07834910496055545653"
     },
     "user_tz": 300
    },
    "id": "3dkVEvIiuHaf",
    "outputId": "41654c4e-83b1-4e13-931c-3b17b68c5a8d"
   },
   "outputs": [],
   "source": [
    "sns.pairplot(df_titanic)"
   ]
  },
  {
   "cell_type": "code",
   "execution_count": null,
   "metadata": {
    "colab": {
     "base_uri": "https://localhost:8080/",
     "height": 356
    },
    "executionInfo": {
     "elapsed": 7,
     "status": "ok",
     "timestamp": 1691252878062,
     "user": {
      "displayName": "Aron C",
      "userId": "07834910496055545653"
     },
     "user_tz": 300
    },
    "id": "purA0jIVuHag",
    "outputId": "82d84e9d-0424-48c1-f6e1-54836bc2f4f6"
   },
   "outputs": [],
   "source": [
    "df_titanic.groupby(\"sibsp\").mean()"
   ]
  },
  {
   "cell_type": "markdown",
   "metadata": {
    "id": "1SnLs5QyuHah"
   },
   "source": [
    "## Part 2: The old Notebook\n",
    "\n",
    "\n",
    "**Note to Nick/Aron**: This notebook is still very TBD -- not sure if we want to focus more on missing data (i.e., not interpreting results correctly) or fuzzywuzzy? Or maybe something else...\n",
    "\n",
    "\n",
    "This first part is a copy of the missing data notebooks first...\n",
    "\n",
    "\n",
    "In this notebook we will look at the effects missing data can have on conclusions you can draw from data.  We will also go over some practical implementations for linear regressions in Python"
   ]
  },
  {
   "cell_type": "markdown",
   "metadata": {
    "id": "Gt5dtB8vuHah"
   },
   "source": [
    "For this work we will be using data from: Generalized body composition prediction equation for men using simple measurement techniques\", K.W. Penrose, A.G. Nelson, A.G. Fisher, FACSM, Human Performance research Center, Brigham Young University, Provo, Utah 84602 as listed in Medicine and Science in Sports and Exercise, vol. 17, no. 2, April 1985, p. 189.\n",
    "\n",
    "[Data availabe here.](http://staff.pubhealth.ku.dk/~tag/Teaching/share/data/Bodyfat.html)"
   ]
  },
  {
   "cell_type": "code",
   "execution_count": null,
   "metadata": {
    "colab": {
     "base_uri": "https://localhost:8080/",
     "height": 224
    },
    "executionInfo": {
     "elapsed": 189,
     "status": "ok",
     "timestamp": 1691252907120,
     "user": {
      "displayName": "Aron C",
      "userId": "07834910496055545653"
     },
     "user_tz": 300
    },
    "id": "Ei5i7UkLuHai",
    "outputId": "8eee81bc-203c-4afb-9699-b8c808787780"
   },
   "outputs": [],
   "source": [
    "# Load the Penrose Data\n",
    "df_penrose = pd.read_csv(\"./data/bodyfat.csv\")\n",
    "\n",
    "display(df_penrose.head())\n",
    "# observations = ['Neck', 'Chest', 'Abdomen', 'Hip', 'Thigh', 'Knee', 'Ankle', 'Biceps', 'Forearm', 'Wrist']\n",
    "observations = ['Age', 'Neck', 'Forearm', 'Wrist']\n",
    "\n",
    "len(df_penrose)"
   ]
  },
  {
   "cell_type": "code",
   "execution_count": null,
   "metadata": {
    "colab": {
     "base_uri": "https://localhost:8080/",
     "height": 467
    },
    "executionInfo": {
     "elapsed": 919,
     "status": "ok",
     "timestamp": 1691252908835,
     "user": {
      "displayName": "Aron C",
      "userId": "07834910496055545653"
     },
     "user_tz": 300
    },
    "id": "xeWhp9QHuHai",
    "outputId": "b2a0f318-cc02-4cbc-c4c7-67d8678b4e3d"
   },
   "outputs": [],
   "source": [
    "# Let's do some really basic scatter plotting...\n",
    "\n",
    "fig, ax = plt.subplots(1, 4, figsize=(15,5))\n",
    "\n",
    "for i,o in enumerate(observations):\n",
    "    df_penrose.plot.scatter(x=o, y='bodyfat', ax=ax[i])"
   ]
  },
  {
   "cell_type": "markdown",
   "metadata": {
    "id": "BpNsWC3ZuHai"
   },
   "source": [
    "Let's say we want to look at some linear regressions of single variables to see what is going on!  So let's plot some regression lines.  Note that there are at least a few different ways -- [linregress](https://docs.scipy.org/doc/scipy/reference/generated/scipy.stats.linregress.html), [polyfit](https://docs.scipy.org/doc/numpy/reference/generated/numpy.polyfit.html), and [statsmodels](https://www.statsmodels.org/stable/index.html).\n",
    "\n",
    "Here's a good article about it [Data science with Python: 8 ways to do linear regression and measure their speed](https://www.freecodecamp.org/news/data-science-with-python-8-ways-to-do-linear-regression-and-measure-their-speed-b5577d75f8b/)."
   ]
  },
  {
   "cell_type": "code",
   "execution_count": null,
   "metadata": {
    "colab": {
     "base_uri": "https://localhost:8080/",
     "height": 583
    },
    "executionInfo": {
     "elapsed": 3915,
     "status": "ok",
     "timestamp": 1691252942457,
     "user": {
      "displayName": "Aron C",
      "userId": "07834910496055545653"
     },
     "user_tz": 300
    },
    "id": "4lAq3yb9uHaj",
    "outputId": "e07d7912-1069-4c9a-eeb0-32a4d7c8baa1"
   },
   "outputs": [],
   "source": [
    "# Let's do a basic Linear Regression on a Single Variable.\n",
    "# Note that linregress p-value is whether or not the slope is 0, not if the correlation is significant.\n",
    "fig, ax = plt.subplots(1, 4, figsize=(15,5))\n",
    "\n",
    "for i,o in enumerate(observations):\n",
    "    slope, intercept, r_value, p_value, std_err = stats.linregress(df_penrose[o],\n",
    "                                                                   df_penrose['bodyfat'])\n",
    "\n",
    "    # Pack these into a nice title\n",
    "    diag_str = \"p-value =\" + str(round(p_value, 3)) + \"\\n\" + \"r-value =\" + str(round(r_value, 3)) + \"\\nstd err. =\" + str(round(std_err, 3))\n",
    "    df_penrose.plot.scatter(x=o, y='bodyfat', title=diag_str, ax=ax[i])\n",
    "\n",
    "    # Make points and line\n",
    "    pts = np.linspace(df_penrose[o].min(), df_penrose[o].max(), 500)\n",
    "    line = slope * pts + intercept\n",
    "    ax[i].plot(pts, line, lw=1, color='red')\n"
   ]
  },
  {
   "cell_type": "code",
   "execution_count": null,
   "metadata": {
    "colab": {
     "base_uri": "https://localhost:8080/",
     "height": 467
    },
    "executionInfo": {
     "elapsed": 1180,
     "status": "ok",
     "timestamp": 1691252915103,
     "user": {
      "displayName": "Aron C",
      "userId": "07834910496055545653"
     },
     "user_tz": 300
    },
    "id": "mxtQWkk4uHaj",
    "outputId": "dcc5f38e-5693-48a4-c336-c076b8a258c1"
   },
   "outputs": [],
   "source": [
    "# We could also use the polyfit function\n",
    "\n",
    "# Let's try to fit a linear model with PolyFit.\n",
    "\n",
    "fig, ax = plt.subplots(1, 4, figsize=(15,5))\n",
    "\n",
    "for i,o in enumerate(observations):\n",
    "    # Fit our curve\n",
    "    x1, intercept = np.polyfit(df_penrose[o],df_penrose['bodyfat'], 1)\n",
    "\n",
    "    # Plot regular points\n",
    "    df_penrose.plot.scatter(x=o, y='bodyfat', ax=ax[i])\n",
    "\n",
    "    # Plot curve\n",
    "    pts = np.linspace(df_penrose[o].min(), df_penrose[o].max(), 500)\n",
    "    line = x1 * pts + intercept\n",
    "    ax[i].plot(pts, line, lw=1, ls='-', color='red')"
   ]
  },
  {
   "cell_type": "code",
   "execution_count": null,
   "metadata": {
    "colab": {
     "base_uri": "https://localhost:8080/",
     "height": 467
    },
    "executionInfo": {
     "elapsed": 1205,
     "status": "ok",
     "timestamp": 1691252916510,
     "user": {
      "displayName": "Aron C",
      "userId": "07834910496055545653"
     },
     "user_tz": 300
    },
    "id": "Ld73U_1NuHaj",
    "outputId": "7ec25773-df0f-457e-dd7a-a17c15462462"
   },
   "outputs": [],
   "source": [
    "# Let's try fitting a degree 2 polynomial with polyfit.\n",
    "\n",
    "fig, ax = plt.subplots(1, 4, figsize=(15,5))\n",
    "\n",
    "for i,o in enumerate(observations):\n",
    "\n",
    "    # Fit the polynomial.\n",
    "    x2, x1, intercept = np.polyfit(df_penrose[o],df_penrose['bodyfat'], 2)\n",
    "\n",
    "    # Plot our points.\n",
    "    df_penrose.plot.scatter(x=o, y='bodyfat', ax=ax[i])\n",
    "\n",
    "    # Plot the Regression Line..\n",
    "    pts = np.linspace(df_penrose[o].min(), df_penrose[o].max(), 500)\n",
    "    line = x2 * pts**2 + x1 * pts + intercept\n",
    "    ax[i].plot(pts, line, lw=1, ls='-', color='red')"
   ]
  },
  {
   "cell_type": "code",
   "execution_count": null,
   "metadata": {
    "colab": {
     "base_uri": "https://localhost:8080/",
     "height": 467
    },
    "executionInfo": {
     "elapsed": 1654,
     "status": "ok",
     "timestamp": 1691252954958,
     "user": {
      "displayName": "Aron C",
      "userId": "07834910496055545653"
     },
     "user_tz": 300
    },
    "id": "tBosZzfyuHaj",
    "outputId": "101b0927-9d07-4970-f264-1133af3ed2d0"
   },
   "outputs": [],
   "source": [
    "# Let's try fitting a degree 5 polynomial with polyfit.\n",
    "\n",
    "fig, ax = plt.subplots(1, 4, figsize=(15,5))\n",
    "\n",
    "for i,o in enumerate(observations):\n",
    "\n",
    "    # Fit the polynomial.\n",
    "    x5, x4, x3, x2, x1, intercept = np.polyfit(df_penrose[o],df_penrose['bodyfat'], 5)\n",
    "\n",
    "    # Plot our points.\n",
    "    df_penrose.plot.scatter(x=o, y='bodyfat', ax=ax[i])\n",
    "\n",
    "    # Plot the Regression Line..\n",
    "    pts = np.linspace(df_penrose[o].min(), df_penrose[o].max(), 500)\n",
    "    line = x5 * pts**5 + x4 * pts**4 + x3 * pts**3 + x2 * pts**2 + x1 * pts + intercept\n",
    "    ax[i].plot(pts, line, lw=1, ls='-', color='red')"
   ]
  },
  {
   "cell_type": "markdown",
   "metadata": {
    "id": "R1uMaxZIuHak"
   },
   "source": [
    "### A More Complicated example with Statsmodels.\n",
    "\n",
    "Statsmodels (you'll likely need to install it) gives a much more R-like interface to linear modeling.  You can read [more about it here](https://www.statsmodels.org/stable/index.html)."
   ]
  },
  {
   "cell_type": "code",
   "execution_count": null,
   "metadata": {
    "executionInfo": {
     "elapsed": 1154,
     "status": "ok",
     "timestamp": 1691252960085,
     "user": {
      "displayName": "Aron C",
      "userId": "07834910496055545653"
     },
     "user_tz": 300
    },
    "id": "pwZDjmQKuHak"
   },
   "outputs": [],
   "source": [
    "import statsmodels.api as sm\n",
    "df_ind = df_penrose[['Neck', 'Wrist']]\n",
    "df_target = df_penrose['bodyfat']"
   ]
  },
  {
   "cell_type": "code",
   "execution_count": null,
   "metadata": {
    "colab": {
     "base_uri": "https://localhost:8080/",
     "height": 466
    },
    "executionInfo": {
     "elapsed": 193,
     "status": "ok",
     "timestamp": 1691252960442,
     "user": {
      "displayName": "Aron C",
      "userId": "07834910496055545653"
     },
     "user_tz": 300
    },
    "id": "xQuRujc-uHak",
    "outputId": "4a992217-b189-43ae-97a8-7bc2f2b11525"
   },
   "outputs": [],
   "source": [
    "X = df_ind\n",
    "y = df_target\n",
    "\n",
    "# Note the difference in argument order\n",
    "# Call: endog, then exog (dependent, indepenednt)\n",
    "model = sm.OLS(y, X).fit()\n",
    "predictions = model.predict(X) # make the predictions by the model\n",
    "# Print out the statistics\n",
    "model.summary()\n",
    "#fig, ax = plt.subplots(figsize=(12,8))\n",
    "#fig = sm.graphics.plot_partregress(endog=\"bodyfat\", exog_i=['Abdomen', 'Neck'], exog_others='', data=df_penrose)"
   ]
  },
  {
   "cell_type": "markdown",
   "metadata": {
    "id": "ZpLRmE6LuHal"
   },
   "source": [
    "We can also use the [single regressor plot](https://tedboy.github.io/statsmodels_doc/generated/statsmodels.graphics.api.plot_partregress.html#statsmodels.graphics.api.plot_partregress)."
   ]
  },
  {
   "cell_type": "code",
   "execution_count": null,
   "metadata": {
    "colab": {
     "base_uri": "https://localhost:8080/",
     "height": 815
    },
    "executionInfo": {
     "elapsed": 1942,
     "status": "ok",
     "timestamp": 1691252964209,
     "user": {
      "displayName": "Aron C",
      "userId": "07834910496055545653"
     },
     "user_tz": 300
    },
    "id": "9sWAtI7AuHaq",
    "outputId": "fc3301a1-ad08-4a1a-d64d-bc9884e7688e"
   },
   "outputs": [],
   "source": [
    "from statsmodels.graphics.regressionplots import plot_partregress\n",
    "fig, ax = plt.subplots(figsize=(12,8))\n",
    "plot_partregress(endog='bodyfat', exog_i='Neck', exog_others='', data=df_penrose, ax=ax)\n",
    "plt.show()"
   ]
  },
  {
   "cell_type": "markdown",
   "metadata": {
    "id": "O-olqF33uHar"
   },
   "source": [
    "If we have multiple elements in our regression then we need to use a different plot."
   ]
  },
  {
   "cell_type": "code",
   "execution_count": null,
   "metadata": {
    "colab": {
     "base_uri": "https://localhost:8080/",
     "height": 630
    },
    "executionInfo": {
     "elapsed": 476,
     "status": "ok",
     "timestamp": 1691252964962,
     "user": {
      "displayName": "Aron C",
      "userId": "07834910496055545653"
     },
     "user_tz": 300
    },
    "id": "-tGC4vZYuHar",
    "outputId": "e085e53f-5685-48ea-8548-5f3a0f241d8f"
   },
   "outputs": [],
   "source": [
    "# Multiple regression plot\n",
    "from statsmodels.graphics.regressionplots import plot_partregress_grid\n",
    "fig = plt.figure(figsize=(8, 6))\n",
    "plot_partregress_grid(model, fig=fig)\n",
    "plt.show()"
   ]
  },
  {
   "cell_type": "markdown",
   "metadata": {
    "id": "M4xLpXU9uHar"
   },
   "source": [
    "Another way to work with regressions and their plots is using the [Seaborn Regression Package](https://seaborn.pydata.org/tutorial/regression.html)"
   ]
  },
  {
   "cell_type": "code",
   "execution_count": null,
   "metadata": {
    "colab": {
     "base_uri": "https://localhost:8080/",
     "height": 467
    },
    "executionInfo": {
     "elapsed": 1613,
     "status": "ok",
     "timestamp": 1691252969868,
     "user": {
      "displayName": "Aron C",
      "userId": "07834910496055545653"
     },
     "user_tz": 300
    },
    "id": "LZOIv4pmuHas",
    "outputId": "4b052486-334b-4e8f-89e4-c6acfa90b4fc"
   },
   "outputs": [],
   "source": [
    "# Another way to do simple exploratory plots\n",
    "import seaborn as sns\n",
    "df_test = df_penrose.sample(frac=0.10, replace=False)\n",
    "fig, ax = plt.subplots(1, 4, figsize=(15,5))\n",
    "\n",
    "for i,o in enumerate(observations):\n",
    "    sns.regplot(x=o, y='bodyfat', data=df_test, ax=ax[i])\n",
    "    #g.axes.set_xlim(df_test[o].min()*.95,df_test[o].max()*1.05)"
   ]
  },
  {
   "cell_type": "markdown",
   "metadata": {
    "id": "N997ZgFpuHas"
   },
   "source": [
    "Another nice simulator to play with is [this one](https://ndirienzo.shinyapps.io/linear_regression_sim/) which is from [Prof. Nicholas DiRienzo](https://ischool.arizona.edu/people/nicholas-dirienzo) from ASU's School of Information"
   ]
  },
  {
   "cell_type": "markdown",
   "metadata": {
    "id": "q_V4gdaUuHat"
   },
   "source": [
    "## Logistic Regression\n",
    "\n",
    "We can use sklearn to do a quick logistic regression.  Remember that for logistic regression we are testing whether or not something is true, so we need to add a variable to our data.\n",
    "\n",
    "Someone is obese if their body fat is >32% so we'll add a dummy for that!"
   ]
  },
  {
   "cell_type": "code",
   "execution_count": null,
   "metadata": {
    "executionInfo": {
     "elapsed": 166,
     "status": "ok",
     "timestamp": 1691252973274,
     "user": {
      "displayName": "Aron C",
      "userId": "07834910496055545653"
     },
     "user_tz": 300
    },
    "id": "S3qQlhFMuHat"
   },
   "outputs": [],
   "source": [
    "df_penrose['obese'] = df_penrose.apply(lambda x: 1 if x['bodyfat'] > 32 else 0, axis=1)"
   ]
  },
  {
   "cell_type": "code",
   "execution_count": null,
   "metadata": {
    "colab": {
     "base_uri": "https://localhost:8080/",
     "height": 206
    },
    "executionInfo": {
     "elapsed": 171,
     "status": "ok",
     "timestamp": 1691252974811,
     "user": {
      "displayName": "Aron C",
      "userId": "07834910496055545653"
     },
     "user_tz": 300
    },
    "id": "K_vX9x7NuHat",
    "outputId": "ef45ea8e-0d86-4270-de52-584c63e6488f"
   },
   "outputs": [],
   "source": [
    "df_penrose.head(5)"
   ]
  },
  {
   "cell_type": "code",
   "execution_count": null,
   "metadata": {
    "executionInfo": {
     "elapsed": 3,
     "status": "ok",
     "timestamp": 1691252975675,
     "user": {
      "displayName": "Aron C",
      "userId": "07834910496055545653"
     },
     "user_tz": 300
    },
    "id": "k_VJ35RFuHau"
   },
   "outputs": [],
   "source": [
    "# We're going to use sklearn to build us a classifier.\n",
    "\n",
    "from sklearn.linear_model import LogisticRegression\n",
    "from sklearn.model_selection import train_test_split\n",
    "\n",
    "# setup our data for testing and training.\n",
    "\n",
    "X_train, X_test, y_train, y_test = train_test_split(df_penrose[observations],\n",
    "                                                    df_penrose['obese'],\n",
    "                                                    test_size=0.2)\n"
   ]
  },
  {
   "cell_type": "code",
   "execution_count": null,
   "metadata": {
    "colab": {
     "base_uri": "https://localhost:8080/",
     "height": 362
    },
    "executionInfo": {
     "elapsed": 5,
     "status": "ok",
     "timestamp": 1691252976631,
     "user": {
      "displayName": "Aron C",
      "userId": "07834910496055545653"
     },
     "user_tz": 300
    },
    "id": "FFnclK-YuHau",
    "outputId": "5c435580-27f6-4bb3-ef7b-5ee7214e0eb6"
   },
   "outputs": [],
   "source": [
    "X_train[:10]"
   ]
  },
  {
   "cell_type": "code",
   "execution_count": null,
   "metadata": {
    "executionInfo": {
     "elapsed": 145,
     "status": "ok",
     "timestamp": 1691252982449,
     "user": {
      "displayName": "Aron C",
      "userId": "07834910496055545653"
     },
     "user_tz": 300
    },
    "id": "fi291Ni2uHau"
   },
   "outputs": [],
   "source": [
    "# Fit that model!\n",
    "logisticRegr = LogisticRegression(max_iter=100000, class_weight='balanced')\n",
    "model = logisticRegr.fit(X_train, y_train)"
   ]
  },
  {
   "cell_type": "code",
   "execution_count": null,
   "metadata": {
    "colab": {
     "base_uri": "https://localhost:8080/",
     "height": 533
    },
    "executionInfo": {
     "elapsed": 1274,
     "status": "ok",
     "timestamp": 1691253032441,
     "user": {
      "displayName": "Aron C",
      "userId": "07834910496055545653"
     },
     "user_tz": 300
    },
    "id": "-w7RCgNFuHau",
    "outputId": "394783df-81f5-427f-9f4f-ea358631dd41"
   },
   "outputs": [],
   "source": [
    "# Fit and plot!\n",
    "y_pred = model.predict(X_test)\n",
    "print(f\"Accuracy Score is: {accuracy_score(y_test, y_pred)}\")\n",
    "ConfusionMatrixDisplay.from_estimator(model, X_test, y_test,\n",
    "                                          display_labels=model.classes_,\n",
    "                                          cmap=plt.cm.Blues, normalize='all')\n"
   ]
  },
  {
   "cell_type": "markdown",
   "metadata": {
    "id": "hqwRrLKWuHav"
   },
   "source": [
    "# Now back to Missing Data!!\n",
    "\n",
    "What happens if we start to remove parts of the data -- is the relationship still as strong?\n",
    "\n",
    "We can use the [pandas sample command](https://pandas.pydata.org/pandas-docs/stable/reference/api/pandas.DataFrame.sample.html) to remove some of the dataframe.\n",
    "\n",
    "Note that here we are just asking the question, if we took some of the data out randomly, do we still get the same result?"
   ]
  },
  {
   "cell_type": "code",
   "execution_count": null,
   "metadata": {
    "colab": {
     "base_uri": "https://localhost:8080/",
     "height": 562
    },
    "executionInfo": {
     "elapsed": 1791,
     "status": "ok",
     "timestamp": 1691253040182,
     "user": {
      "displayName": "Aron C",
      "userId": "07834910496055545653"
     },
     "user_tz": 300
    },
    "id": "xhTdhBiKuHav",
    "outputId": "69d2eae3-92ca-4471-9ba5-e7bf7c2a8851"
   },
   "outputs": [],
   "source": [
    "# Let's do a basic Linear Regression on a Single Variable.\n",
    "# Note that linregress p-value for the null-hyp that slope = 0.\n",
    "df_test = df_penrose.sample(frac=0.2, replace=False)\n",
    "\n",
    "fig, ax = plt.subplots(1, 4, figsize=(15,5))\n",
    "for i,o in enumerate(observations):\n",
    "    slope, intercept, r_value, p_value, std_err = stats.linregress(df_test[o],\n",
    "                                                                   df_test['bodyfat'])\n",
    "\n",
    "    # Pack these into a nice title\n",
    "    diag_str = \"p-value =\" + str(round(p_value, 7)) + \"\\n\" + \"r-value =\" + str(round(r_value, 7)) + \"\\nstd err. =\" + str(round(std_err, 7))\n",
    "    df_test.plot.scatter(x=o, y='bodyfat', title=diag_str, ax=ax[i])\n",
    "\n",
    "    # Make points and line\n",
    "    pts = np.linspace(df_test[o].min(), df_test[o].max(), 500)\n",
    "    line = slope * pts + intercept\n",
    "    ax[i].plot(pts, line, lw=1, color='red')"
   ]
  },
  {
   "cell_type": "markdown",
   "metadata": {
    "id": "ucL9AWrHuHav"
   },
   "source": [
    "If we want to determine if these correlations are significant under the missing data then we need to run bootstrap samples and see what happens.\n",
    "\n",
    "Nick -- modify this to drop part of the data then resample from the dropped part!"
   ]
  },
  {
   "cell_type": "code",
   "execution_count": null,
   "metadata": {
    "colab": {
     "base_uri": "https://localhost:8080/",
     "height": 537
    },
    "executionInfo": {
     "elapsed": 3467,
     "status": "ok",
     "timestamp": 1691253046013,
     "user": {
      "displayName": "Aron C",
      "userId": "07834910496055545653"
     },
     "user_tz": 300
    },
    "id": "Ob9Ntsx_uHaw",
    "outputId": "32e3cbf6-b263-4a8c-f862-71d42aab5135"
   },
   "outputs": [],
   "source": [
    "results = {o:[] for o in observations}\n",
    "bootstrap_samples = 1000\n",
    "fraction = 0.20\n",
    "\n",
    "for i,o in enumerate(observations):\n",
    "    for t in range(bootstrap_samples):\n",
    "        df_test = df_penrose.sample(frac=fraction, replace=False)\n",
    "        slope, intercept, r_value, p_value, std_err = stats.linregress(df_test[o],df_test['bodyfat'])\n",
    "        #r,p = stats.pearsonr(df_test[o], df_test['bodyfat'])\n",
    "        results[o].append(p_value)\n",
    "\n",
    "rs = pd.DataFrame(results)\n",
    "ax = rs.boxplot()\n",
    "ax.set_ylim([-0.01,0.30])\n",
    "ax.set_title(f\"p-value of 1 variable regression over {bootstrap_samples} iterations\")\n",
    "ax.set_ylabel(\"p-value\")\n",
    "ax.set_xlabel(\"Body Part\")\n",
    "ax.axhline(y=0.05, lw=2, color='red')\n",
    "plt.show()"
   ]
  },
  {
   "cell_type": "markdown",
   "metadata": {
    "id": "_wX9O8BxuHaw"
   },
   "source": [
    "As we can see above as we run more and more samples and plot the p-values"
   ]
  },
  {
   "cell_type": "markdown",
   "metadata": {
    "id": "LyqP8xJjuHaw"
   },
   "source": [
    "# 11 - Probability and Simulation\n",
    "\n",
    "In this notebook we look at some fun ways to do sampling and test some of the basics of probability just for giggles."
   ]
  },
  {
   "cell_type": "markdown",
   "metadata": {
    "id": "QAr8BH08uHax"
   },
   "source": [
    "## Probability and Code!\n",
    "\n",
    "Note we're using [Numpy's probability functions](https://numpy.org/doc/stable/reference/random/index.html), you could also use [Python's](https://docs.python.org/3/library/random.html)"
   ]
  },
  {
   "cell_type": "code",
   "execution_count": null,
   "metadata": {
    "colab": {
     "base_uri": "https://localhost:8080/"
    },
    "executionInfo": {
     "elapsed": 1629,
     "status": "ok",
     "timestamp": 1691253066736,
     "user": {
      "displayName": "Aron C",
      "userId": "07834910496055545653"
     },
     "user_tz": 300
    },
    "id": "2AuCEKc7uHax",
    "outputId": "69605829-d6b4-43c0-bbbd-d493190170b6"
   },
   "outputs": [],
   "source": [
    "# Let's make a probability distribution:\n",
    "outcomes = list(range(1,7))\n",
    "outcomes"
   ]
  },
  {
   "cell_type": "code",
   "execution_count": null,
   "metadata": {
    "colab": {
     "base_uri": "https://localhost:8080/"
    },
    "executionInfo": {
     "elapsed": 2,
     "status": "ok",
     "timestamp": 1691253067322,
     "user": {
      "displayName": "Aron C",
      "userId": "07834910496055545653"
     },
     "user_tz": 300
    },
    "id": "62xcaChDuHax",
    "outputId": "236ed5a5-d0de-47ce-fabe-5a2f8a259569"
   },
   "outputs": [],
   "source": [
    "#Simulate an outcome..\n",
    "np.random.choice(outcomes)"
   ]
  },
  {
   "cell_type": "code",
   "execution_count": null,
   "metadata": {
    "colab": {
     "base_uri": "https://localhost:8080/"
    },
    "executionInfo": {
     "elapsed": 14,
     "status": "ok",
     "timestamp": 1691253068040,
     "user": {
      "displayName": "Aron C",
      "userId": "07834910496055545653"
     },
     "user_tz": 300
    },
    "id": "4HL3HDjAuHay",
    "outputId": "0a72d8a3-c694-448d-d07e-cf79282e03fd"
   },
   "outputs": [],
   "source": [
    "# Do it a lot...\n",
    "np.random.choice(outcomes, 20)"
   ]
  },
  {
   "cell_type": "code",
   "execution_count": null,
   "metadata": {
    "colab": {
     "base_uri": "https://localhost:8080/",
     "height": 467
    },
    "executionInfo": {
     "elapsed": 227,
     "status": "ok",
     "timestamp": 1691253068255,
     "user": {
      "displayName": "Aron C",
      "userId": "07834910496055545653"
     },
     "user_tz": 300
    },
    "id": "JN1FLmFvuHay",
    "outputId": "1e18ddfa-ebd8-48fc-bfef-579e58d552f3"
   },
   "outputs": [],
   "source": [
    "# Graph it!\n",
    "results = pd.DataFrame(np.random.choice(outcomes, 1000))\n",
    "results.plot.hist(bins=np.arange(0.5,7.5, 1))"
   ]
  },
  {
   "cell_type": "code",
   "execution_count": null,
   "metadata": {
    "colab": {
     "base_uri": "https://localhost:8080/",
     "height": 467
    },
    "executionInfo": {
     "elapsed": 11,
     "status": "ok",
     "timestamp": 1691253068256,
     "user": {
      "displayName": "Aron C",
      "userId": "07834910496055545653"
     },
     "user_tz": 300
    },
    "id": "E0CMTNT7uHay",
    "outputId": "22114995-489e-473c-e1ac-5df4c4ef39a1"
   },
   "outputs": [],
   "source": [
    "# Do it with a biased coin..\n",
    "b = 1.0 / 7.0\n",
    "b1 = 2.0 / 7.0\n",
    "results = pd.DataFrame(np.random.choice(outcomes, 1000, p=[b, b, b1, b, b, b]))\n",
    "results.plot.hist(bins=np.arange(0.5,7.5, 1))"
   ]
  },
  {
   "cell_type": "code",
   "execution_count": null,
   "metadata": {
    "colab": {
     "base_uri": "https://localhost:8080/",
     "height": 206
    },
    "executionInfo": {
     "elapsed": 4,
     "status": "ok",
     "timestamp": 1691253068405,
     "user": {
      "displayName": "Aron C",
      "userId": "07834910496055545653"
     },
     "user_tz": 300
    },
    "id": "zJKkD5icuHay",
    "outputId": "02075087-1576-44b4-a5e7-291355fd1d1a"
   },
   "outputs": [],
   "source": [
    "# Do it for multiple events!\n",
    "die1 = np.random.choice(outcomes, 10000)\n",
    "die2 = np.random.choice(outcomes, 10000)\n",
    "results = pd.DataFrame({'Die1': die1, 'Die2':die2})\n",
    "results.head()"
   ]
  },
  {
   "cell_type": "code",
   "execution_count": null,
   "metadata": {
    "colab": {
     "base_uri": "https://localhost:8080/",
     "height": 483
    },
    "executionInfo": {
     "elapsed": 772,
     "status": "ok",
     "timestamp": 1691253072643,
     "user": {
      "displayName": "Aron C",
      "userId": "07834910496055545653"
     },
     "user_tz": 300
    },
    "id": "jRf0lkfZuHaz",
    "outputId": "44101af4-64d0-46f1-ebc9-616ba973cc78"
   },
   "outputs": [],
   "source": [
    "# Need to add them up...\n",
    "plt.figure(figsize = (12,5))\n",
    "results['sum'] = results[\"Die1\"] + results[\"Die2\"]\n",
    "results['sum'].plot.hist(bins=np.arange(1.5, 13.5, 1), density=True)"
   ]
  },
  {
   "cell_type": "code",
   "execution_count": null,
   "metadata": {
    "colab": {
     "base_uri": "https://localhost:8080/"
    },
    "executionInfo": {
     "elapsed": 493,
     "status": "ok",
     "timestamp": 1691253073133,
     "user": {
      "displayName": "Aron C",
      "userId": "07834910496055545653"
     },
     "user_tz": 300
    },
    "id": "gMdaHjAruHaz",
    "outputId": "4328c5e7-d146-4b18-e10c-53ce87753945"
   },
   "outputs": [],
   "source": [
    "# Default is with replacement but we can do without replacement..\n",
    "people = ['Winona', 'Xanthippe', 'Yvonne', 'Zelda']\n",
    "np.random.choice(people, 3, replace=False)"
   ]
  },
  {
   "cell_type": "markdown",
   "metadata": {
    "id": "KbWHJ3aauHaz"
   },
   "source": [
    "### One thing we may want to do in a stats model is ....\n",
    "\n",
    "See if a particular distribution is the same as some known distribution. To do this we typically use the [Chi Squared test](https://docs.scipy.org/doc/scipy/reference/generated/scipy.stats.chisquare.html) if we known the underlying distribution.\n",
    "\n",
    "Here we know that rolling two dice and summing them **should** give us a normal distribution so we can use a more complex [normal test](https://docs.scipy.org/doc/scipy/reference/generated/scipy.stats.normaltest.html) from Pearson (of correlation coefficient fame) to check...\n",
    "\n",
    "**Returns**\n",
    "\n",
    "statistic : float or array\n",
    "s^2 + k^2, where s is the z-score returned by skewtest and k is the z-score returned by kurtosistest.\n",
    "\n",
    "pvalue: float or array\n",
    "A 2-sided chi squared probability for the hypothesis test."
   ]
  },
  {
   "cell_type": "code",
   "execution_count": null,
   "metadata": {
    "colab": {
     "base_uri": "https://localhost:8080/",
     "height": 420
    },
    "executionInfo": {
     "elapsed": 5,
     "status": "error",
     "timestamp": 1691253074287,
     "user": {
      "displayName": "Aron C",
      "userId": "07834910496055545653"
     },
     "user_tz": 300
    },
    "id": "_wbTRKbguHaz",
    "outputId": "535d84d4-cecd-4eeb-9723-1dcf9f33f46d"
   },
   "outputs": [],
   "source": [
    "# See if one die is really a uniform distribution.\n",
    "#\n",
    "# Note that we need: f_obsarray_like\n",
    "#                    Observed frequencies in each category.\n",
    "#                    f_exparray_like, optional\n",
    "#Expected frequencies in each category. By default the categories are assumed to be equally likely.\n",
    "#\n",
    "\n",
    "from scipy import stats\n",
    "chisq, p = stats.chisquare(results[\"Die1\"].value_counts(), [1./6, 1./6, 1./6, 1./6, 1./6, 1./6])\n",
    "print(\"ChiSq = {} and p = {}\".format(chisq,p))"
   ]
  },
  {
   "cell_type": "code",
   "execution_count": null,
   "metadata": {
    "colab": {
     "base_uri": "https://localhost:8080/"
    },
    "executionInfo": {
     "elapsed": 216,
     "status": "ok",
     "timestamp": 1691253086604,
     "user": {
      "displayName": "Aron C",
      "userId": "07834910496055545653"
     },
     "user_tz": 300
    },
    "id": "XnzZN_eiuHa0",
    "outputId": "eb47e772-5ace-4246-f026-ad5c74266a06"
   },
   "outputs": [],
   "source": [
    "# See if the sum is normal..\n",
    "\n",
    "from scipy import stats\n",
    "k2, p = stats.normaltest(results[\"sum\"])\n",
    "print(\"K2 = {} and p = {}\".format(k2,p))"
   ]
  },
  {
   "cell_type": "markdown",
   "metadata": {
    "id": "l-xUB1DGuHa0"
   },
   "source": [
    "What could things like this be used for when building statistical models? [Hint!](http://data8.org/materials-sp18/lec/lec16PDF.pdf)"
   ]
  },
  {
   "cell_type": "markdown",
   "metadata": {
    "id": "Q-s4mIPguHa1"
   },
   "source": [
    "## Looking at Two Variables.\n",
    "\n",
    "Let's roll two dice a bunch of times and see the resutls.\n"
   ]
  },
  {
   "cell_type": "code",
   "execution_count": null,
   "metadata": {
    "executionInfo": {
     "elapsed": 496,
     "status": "ok",
     "timestamp": 1691253099407,
     "user": {
      "displayName": "Aron C",
      "userId": "07834910496055545653"
     },
     "user_tz": 300
    },
    "id": "YO7vudVZuHa1"
   },
   "outputs": [],
   "source": [
    "die1 = np.random.choice(outcomes, 100)\n",
    "die2 = np.random.choice(outcomes, 100)\n",
    "results = pd.DataFrame({'Die1': die1, 'Die2':die2})"
   ]
  },
  {
   "cell_type": "code",
   "execution_count": null,
   "metadata": {
    "colab": {
     "base_uri": "https://localhost:8080/",
     "height": 268
    },
    "executionInfo": {
     "elapsed": 4,
     "status": "ok",
     "timestamp": 1691253099605,
     "user": {
      "displayName": "Aron C",
      "userId": "07834910496055545653"
     },
     "user_tz": 300
    },
    "id": "lCLjxeMHuHa2",
    "outputId": "fda0e20f-a9ab-4a57-8929-ac2dc4b2a3d6"
   },
   "outputs": [],
   "source": [
    "counts = pd.crosstab(results['Die1'], results['Die2'])\n",
    "counts"
   ]
  },
  {
   "cell_type": "code",
   "execution_count": null,
   "metadata": {
    "colab": {
     "base_uri": "https://localhost:8080/",
     "height": 268
    },
    "executionInfo": {
     "elapsed": 5,
     "status": "ok",
     "timestamp": 1691253100935,
     "user": {
      "displayName": "Aron C",
      "userId": "07834910496055545653"
     },
     "user_tz": 300
    },
    "id": "l9li96dBuHa2",
    "outputId": "06cd8df8-bca2-4426-8087-107205ebf52f"
   },
   "outputs": [],
   "source": [
    "joint = pd.crosstab(results['Die1'], results['Die2'], normalize=True)\n",
    "joint"
   ]
  },
  {
   "cell_type": "code",
   "execution_count": null,
   "metadata": {
    "colab": {
     "base_uri": "https://localhost:8080/"
    },
    "executionInfo": {
     "elapsed": 4,
     "status": "ok",
     "timestamp": 1691253102522,
     "user": {
      "displayName": "Aron C",
      "userId": "07834910496055545653"
     },
     "user_tz": 300
    },
    "id": "Dc5NftOouHa3",
    "outputId": "cb4eccff-40af-452b-feac-5f4bdd3f667f"
   },
   "outputs": [],
   "source": [
    "# Now we can roll this up for either die to see it's distribution\n",
    "joint.sum(axis=0)"
   ]
  },
  {
   "cell_type": "code",
   "execution_count": null,
   "metadata": {
    "colab": {
     "base_uri": "https://localhost:8080/",
     "height": 300
    },
    "executionInfo": {
     "elapsed": 19,
     "status": "ok",
     "timestamp": 1691253104158,
     "user": {
      "displayName": "Aron C",
      "userId": "07834910496055545653"
     },
     "user_tz": 300
    },
    "id": "QtU1kodPuHa3",
    "outputId": "2907d41f-b861-4b8b-c643-7b05145b8985"
   },
   "outputs": [],
   "source": [
    "# Can also get marginals directly.\n",
    "marginals = pd.crosstab(results['Die1'], results['Die2'], normalize=True, margins=True)\n",
    "marginals"
   ]
  },
  {
   "cell_type": "code",
   "execution_count": null,
   "metadata": {
    "colab": {
     "base_uri": "https://localhost:8080/",
     "height": 268
    },
    "executionInfo": {
     "elapsed": 18,
     "status": "ok",
     "timestamp": 1691253104158,
     "user": {
      "displayName": "Aron C",
      "userId": "07834910496055545653"
     },
     "user_tz": 300
    },
    "id": "JlW1KkUQuHa3",
    "outputId": "e856118d-0952-46eb-d903-9b0628384ac0"
   },
   "outputs": [],
   "source": [
    "# Finally, if we want conditional distributions we have to do a bit of work. Let's try to work out\n",
    "# P(Die 1 is a 6 | Die 2 is a 5)\n",
    "\n",
    "counts = pd.crosstab(results['Die1'], results['Die2'])\n",
    "counts"
   ]
  },
  {
   "cell_type": "code",
   "execution_count": null,
   "metadata": {
    "colab": {
     "base_uri": "https://localhost:8080/"
    },
    "executionInfo": {
     "elapsed": 18,
     "status": "ok",
     "timestamp": 1691253104159,
     "user": {
      "displayName": "Aron C",
      "userId": "07834910496055545653"
     },
     "user_tz": 300
    },
    "id": "rAfb3JZwuHa3",
    "outputId": "df5cf89c-6630-40ca-9043-9978abbe9657"
   },
   "outputs": [],
   "source": [
    "# We need to get the (Die 2 is a 5 row) and then look at the distribution there..\n",
    "\n",
    "counts[5] / counts[5].sum()"
   ]
  },
  {
   "cell_type": "markdown",
   "metadata": {
    "id": "AV6NyGENuHa3"
   },
   "source": [
    "## Using Simulation to Answer Probability Questions.\n",
    "\n",
    "In CMPS 2170 we figured out closed form formulas for a set of mutually independent Bernoilli Trials.\n",
    "\n",
    "* Bernoulli Trial: an experiment with two possible outcomes\n",
    "* E.g., flip a coin results in two possible outcomes: head (𝐻) and tail (𝑇)\n",
    "* Independent Bernoulli Trials: a sequence of Bernoulli trails that are mutually independent\n",
    "\n",
    "* Example: What is the probability of the sequence HHHTT for a coin flip sequence with $p$ for H and $1-p$ for T?\n",
    "  * $p^3(1-p)^2$.\n",
    "\n",
    "Recall: The probability of exactly $k$ successes in $n$ independent Bernoulli trials, with probability of success $p$ and probability of failure $q = 1 − p$, is $C(n,k)p^kq^{n-k}$ where $C(n,k)$ is $n$ choose $k$."
   ]
  },
  {
   "cell_type": "code",
   "execution_count": null,
   "metadata": {
    "colab": {
     "base_uri": "https://localhost:8080/"
    },
    "executionInfo": {
     "elapsed": 4,
     "status": "ok",
     "timestamp": 1691253111394,
     "user": {
      "displayName": "Aron C",
      "userId": "07834910496055545653"
     },
     "user_tz": 300
    },
    "id": "VjkGCUbhuHa4",
    "outputId": "b606c1ae-cbc5-466d-ed1b-7c2ae94567a1"
   },
   "outputs": [],
   "source": [
    "# Setup a biased coin and flip it a bunch..\n",
    "coin_results = np.random.choice([\"Heads\", \"Tails\"], 100, p=[0.75, 0.25])\n",
    "coin_results"
   ]
  },
  {
   "cell_type": "markdown",
   "metadata": {
    "id": "DFQ-DuituHa4"
   },
   "source": [
    "## A More complex Question..\n",
    "\n",
    "* What is the probability of getting 60 or more heads if I flip 100 coins?\n",
    "* Approximation through simulation:\n",
    "  1. Figure out how to do one experiment (i.e., flip 100 coins).\n",
    "  2. Run the experiment a bunch of times.\n",
    "  3. Find the fraction of times where number of heads >= 60."
   ]
  },
  {
   "cell_type": "code",
   "execution_count": null,
   "metadata": {
    "colab": {
     "base_uri": "https://localhost:8080/"
    },
    "executionInfo": {
     "elapsed": 4,
     "status": "ok",
     "timestamp": 1691253113673,
     "user": {
      "displayName": "Aron C",
      "userId": "07834910496055545653"
     },
     "user_tz": 300
    },
    "id": "Viett23kuHa4",
    "outputId": "db1fce8f-6352-4c8d-e0e2-1a3f30170ae1"
   },
   "outputs": [],
   "source": [
    "# Flip 100 coins and count heads...\n",
    "coin_results = np.random.choice([\"Heads\", \"Tails\"], 100, p=[0.75, 0.25])\n",
    "print(coin_results == 'Heads')\n",
    "print(np.count_nonzero(coin_results == 'Heads'))\n"
   ]
  },
  {
   "cell_type": "code",
   "execution_count": null,
   "metadata": {
    "executionInfo": {
     "elapsed": 467,
     "status": "ok",
     "timestamp": 1691253114138,
     "user": {
      "displayName": "Aron C",
      "userId": "07834910496055545653"
     },
     "user_tz": 300
    },
    "id": "wUgdQADKuHa5"
   },
   "outputs": [],
   "source": [
    "# Wrap it up and do it a bunch...\n",
    "# Note we're using Numpy here for broadcasting -- numpy arrays are imuteable so\n",
    "# it's a tad more akaward in places..\n",
    "n_reps = 10000\n",
    "\n",
    "def exp():\n",
    "    coin_results = np.random.choice([\"Heads\", \"Tails\"], 100, p=[0.50, 0.50])\n",
    "    return np.count_nonzero(coin_results == 'Heads')\n",
    "\n",
    "head_counts = np.array([])\n",
    "for i in range(n_reps):\n",
    "    head_counts = np.append(head_counts, exp())"
   ]
  },
  {
   "cell_type": "code",
   "execution_count": null,
   "metadata": {
    "colab": {
     "base_uri": "https://localhost:8080/"
    },
    "executionInfo": {
     "elapsed": 60,
     "status": "ok",
     "timestamp": 1691253114139,
     "user": {
      "displayName": "Aron C",
      "userId": "07834910496055545653"
     },
     "user_tz": 300
    },
    "id": "xzwoqL2wuHa5",
    "outputId": "3ce724b3-8c4e-494e-954b-00327086b844"
   },
   "outputs": [],
   "source": [
    "# Figure it out...\n",
    "print(np.count_nonzero(head_counts >= 60))\n",
    "print(np.count_nonzero(head_counts >= 60) / n_reps)"
   ]
  },
  {
   "cell_type": "markdown",
   "metadata": {
    "id": "IM_Lb3XYuHa5"
   },
   "source": [
    "If we work out the math we need at least 60 H so we have to add up quite a few things...\n",
    "$\\sum^{100}_{k=60} C(100, k)p^kq^n-k$"
   ]
  },
  {
   "cell_type": "code",
   "execution_count": null,
   "metadata": {
    "colab": {
     "base_uri": "https://localhost:8080/",
     "height": 479
    },
    "executionInfo": {
     "elapsed": 57,
     "status": "ok",
     "timestamp": 1691253114139,
     "user": {
      "displayName": "Aron C",
      "userId": "07834910496055545653"
     },
     "user_tz": 300
    },
    "id": "F_JlUvd9uHa5",
    "outputId": "aa86a70f-5425-4ccd-b5b0-4c502e64e14c"
   },
   "outputs": [],
   "source": [
    "# Using simiulation we can also look at the trials\n",
    "n_reps = 1000\n",
    "\n",
    "head_counts = np.array([])\n",
    "for i in range(n_reps):\n",
    "    head_counts = np.append(head_counts, exp())\n",
    "\n",
    "results = pd.DataFrame(head_counts)\n",
    "ax = results.plot.hist()\n",
    "plt.xlim(20,70)\n",
    "plt.axvline(np.mean(head_counts), color='red')\n",
    "plt.title(f\"Mean: {np.mean(head_counts)}\")\n",
    "plt.show()"
   ]
  },
  {
   "cell_type": "markdown",
   "metadata": {
    "id": "UWE85OCYuHa6"
   },
   "source": [
    "## Settle the Monty Hall Thing..."
   ]
  },
  {
   "cell_type": "code",
   "execution_count": null,
   "metadata": {
    "colab": {
     "base_uri": "https://localhost:8080/",
     "height": 54
    },
    "executionInfo": {
     "elapsed": 55,
     "status": "ok",
     "timestamp": 1691253114139,
     "user": {
      "displayName": "Aron C",
      "userId": "07834910496055545653"
     },
     "user_tz": 300
    },
    "id": "45ztzgA0uHa6",
    "outputId": "536d970f-235e-4190-e4b0-172dfeabe52f"
   },
   "outputs": [],
   "source": [
    "def simulate_monty_hall():\n",
    "    behind_picked_door = np.random.choice(['Car', 'Goat 1', 'Goat 2'])\n",
    "\n",
    "    if behind_picked_door == 'Car':\n",
    "        winning_strategy = 'Stay'\n",
    "    else:\n",
    "        winning_strategy = 'Switch'\n",
    "\n",
    "    print(behind_picked_door, 'was behind the door. Winning strategy:', winning_strategy)\n",
    "    return winning_strategy\n",
    "simulate_monty_hall()"
   ]
  },
  {
   "cell_type": "code",
   "execution_count": null,
   "metadata": {
    "id": "ipQSVfQduHa6",
    "scrolled": true
   },
   "outputs": [],
   "source": [
    "# Run it a bunch...\n",
    "n_repetitions = 10000\n",
    "\n",
    "winning_strategies = np.array([])\n",
    "for i in np.arange(n_repetitions):\n",
    "    winning_strategy = simulate_monty_hall()\n",
    "    winning_strategies = np.append(winning_strategies, winning_strategy)\n"
   ]
  },
  {
   "cell_type": "code",
   "execution_count": null,
   "metadata": {
    "colab": {
     "base_uri": "https://localhost:8080/"
    },
    "executionInfo": {
     "elapsed": 141,
     "status": "ok",
     "timestamp": 1691253127108,
     "user": {
      "displayName": "Aron C",
      "userId": "07834910496055545653"
     },
     "user_tz": 300
    },
    "id": "8i_tAVxfuHa6",
    "outputId": "082c320a-8702-4a32-e7e9-cd6c0aa9a724"
   },
   "outputs": [],
   "source": [
    "np.count_nonzero(winning_strategies == 'Switch') / n_repetitions"
   ]
  },
  {
   "cell_type": "code",
   "execution_count": null,
   "metadata": {
    "colab": {
     "base_uri": "https://localhost:8080/"
    },
    "executionInfo": {
     "elapsed": 71,
     "status": "ok",
     "timestamp": 1691253127108,
     "user": {
      "displayName": "Aron C",
      "userId": "07834910496055545653"
     },
     "user_tz": 300
    },
    "id": "u6TcHAmKuHa7",
    "outputId": "f380c27e-a8ff-4928-e52c-517c2dcc1186"
   },
   "outputs": [],
   "source": [
    "np.count_nonzero(winning_strategies == 'Stay') / n_repetitions"
   ]
  },
  {
   "cell_type": "code",
   "execution_count": null,
   "metadata": {},
   "outputs": [],
   "source": []
  },
  {
   "cell_type": "code",
   "execution_count": null,
   "metadata": {},
   "outputs": [],
   "source": []
  },
  {
   "cell_type": "code",
   "execution_count": null,
   "metadata": {},
   "outputs": [],
   "source": []
  }
 ],
 "metadata": {
  "colab": {
   "provenance": [],
   "toc_visible": true
  },
  "kernelspec": {
   "display_name": "Python 3 (ipykernel)",
   "language": "python",
   "name": "python3"
  },
  "language_info": {
   "codemirror_mode": {
    "name": "ipython",
    "version": 3
   },
   "file_extension": ".py",
   "mimetype": "text/x-python",
   "name": "python",
   "nbconvert_exporter": "python",
   "pygments_lexer": "ipython3",
   "version": "3.11.5"
  },
  "vscode": {
   "interpreter": {
    "hash": "aee8b7b246df8f9039afb4144a1f6fd8d2ca17a180786b69acc140d282b71a49"
   }
  }
 },
 "nbformat": 4,
 "nbformat_minor": 4
}
