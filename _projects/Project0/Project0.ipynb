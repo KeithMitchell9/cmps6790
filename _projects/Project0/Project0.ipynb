{
 "cells": [
  {
   "cell_type": "markdown",
   "metadata": {},
   "source": [
    "# CMPS6790 - Project0\n",
    "\n",
    "This assignment is intended to ensure that you are able to edit and submit Jupyter Notebooks. \n",
    "\n",
    "The goal is to write a function to count the frequency of different characters in a given string. For example: character_frequency('google') should return a `dict`: {'g': 2, 'o': 2, 'l': 1, 'e': 1} and then you should add some code to display some summary statistics about some data that you bring in!\n",
    "\n",
    "There are many tutorials on the web that can show you how to use the Python data structures. Quite a few examples at: https://docs.python.org/3/tutorial/datastructures.html\n",
    "\n",
    "If you have any trouble with this at all (and we are sure at least some of you will), don't worry and stop by our office hours.\n",
    "\n",
    "You should edit the function definition below, make sure to press 'Shift + Enter' to execute it, and then execute the two function calls to check that the output is correct."
   ]
  },
  {
   "cell_type": "code",
   "execution_count": 25,
   "metadata": {},
   "outputs": [],
   "source": [
    "def character_frequency(s):\n",
    "    ret = dict()\n",
    "    ## You should modify this function!\n",
    "    for char in s:\n",
    "        # Skip spaces\n",
    "        if char == ' ':\n",
    "            continue\n",
    "        # If the character is already in the dictionary, increment its count\n",
    "        if char in ret:\n",
    "            ret[char] += 1\n",
    "        else:\n",
    "            # If the character is not in the dictionary, add it with a count of 1\n",
    "            ret[char] = 1\n",
    "    return ret"
   ]
  },
  {
   "cell_type": "code",
   "execution_count": 26,
   "metadata": {},
   "outputs": [
    {
     "data": {
      "text/plain": [
       "{'g': 2, 'o': 2, 'l': 1, 'e': 1}"
      ]
     },
     "execution_count": 26,
     "metadata": {},
     "output_type": "execute_result"
    }
   ],
   "source": [
    "character_frequency('google')"
   ]
  },
  {
   "cell_type": "code",
   "execution_count": 27,
   "metadata": {},
   "outputs": [
    {
     "data": {
      "text/plain": [
       "{'T': 1,\n",
       " 'h': 2,\n",
       " 'i': 6,\n",
       " 's': 7,\n",
       " 'a': 5,\n",
       " 'g': 1,\n",
       " 'n': 6,\n",
       " 'm': 2,\n",
       " 'e': 10,\n",
       " 't': 10,\n",
       " 'd': 4,\n",
       " 'o': 6,\n",
       " 'u': 4,\n",
       " 'r': 3,\n",
       " 'y': 2,\n",
       " 'b': 3,\n",
       " 'l': 1,\n",
       " 'J': 1,\n",
       " 'p': 1,\n",
       " 'N': 1,\n",
       " 'k': 1,\n",
       " '.': 1}"
      ]
     },
     "execution_count": 27,
     "metadata": {},
     "output_type": "execute_result"
    }
   ],
   "source": [
    "character_frequency('This assignment is intended to ensure that you are able to edit and submit Jupyter Notebooks.')"
   ]
  },
  {
   "cell_type": "markdown",
   "metadata": {},
   "source": [
    "Now in the cell below you should create two string variables and inside them put a different quotes (at least 10 words long) from a favorite book, movie, tv show, or any other media."
   ]
  },
  {
   "cell_type": "code",
   "execution_count": 28,
   "metadata": {},
   "outputs": [],
   "source": [
    "s1 = 'Even the smallest person can change the course of the future'\n",
    "s2 = 'So do all who live to see such times. But that is not for them to decide. All we have to decide is what to do with the time that is given to us'"
   ]
  },
  {
   "cell_type": "markdown",
   "metadata": {},
   "source": [
    "For each of the above quotes add code below to print out the character frequency and then give a set of summary statistics for each one, specifically the letter(s) that occur the fewest number of times in each string, the letter(s) that occur the most times in each string, and the average count over both strings for all the letters. You should display this data neatly."
   ]
  },
  {
   "cell_type": "code",
   "execution_count": 36,
   "metadata": {},
   "outputs": [],
   "source": [
    "def summary_statistics(s):\n",
    "    freq = character_frequency(s)\n",
    "    \n",
    "    # Calculate the most and least common characters\n",
    "    min_num = min(freq.values())\n",
    "    max_num = max(freq.values())\n",
    "    least_common = [char for char, count in freq.items() if count == min_num]\n",
    "    most_common = [char for char, count in freq.items() if count == max_num]\n",
    "    \n",
    "    # Calculate the average frequency\n",
    "    avg_count = sum(freq.values()) / len(freq)\n",
    "    \n",
    "    # Display the character frequency and summary statistics\n",
    "    print(f\"Character Frequencies for '{s}': {freq}\\n\")\n",
    "    print(f\"Summary Statistics:\")\n",
    "    \n",
    "    print(f\"  Least Common Character(s): {', '.join(least_common)} with {min_num} occurrence(s)\")\n",
    "    print(f\"  Most Common Character(s): {', '.join(most_common)} with {max_num} occurrence(s)\")\n",
    "    print(f\"  Average Count: {avg_count:.2f}\\n\\n\")"
   ]
  },
  {
   "cell_type": "code",
   "execution_count": 37,
   "metadata": {},
   "outputs": [
    {
     "name": "stdout",
     "output_type": "stream",
     "text": [
      "Character Frequencies for 'Even the smallest person can change the course of the future': {'E': 1, 'v': 1, 'e': 9, 'n': 4, 't': 5, 'h': 4, 's': 4, 'm': 1, 'a': 3, 'l': 2, 'p': 1, 'r': 3, 'o': 3, 'c': 3, 'g': 1, 'u': 3, 'f': 2}\n",
      "\n",
      "Summary Statistics:\n",
      "  Least Common Character(s): E, v, m, p, g with 1 occurrence(s)\n",
      "  Most Common Character(s): e with 9 occurrence(s)\n",
      "  Average Count: 2.94\n",
      "\n",
      "\n",
      "Character Frequencies for 'So do all who live to see such times. But that is not for them to decide. All we have to decide is what to do with the time that is given to us': {'S': 1, 'o': 11, 'd': 6, 'a': 5, 'l': 5, 'w': 4, 'h': 9, 'i': 10, 'v': 3, 'e': 14, 't': 17, 's': 7, 'u': 3, 'c': 3, 'm': 3, '.': 2, 'B': 1, 'n': 2, 'f': 1, 'r': 1, 'A': 1, 'g': 1}\n",
      "\n",
      "Summary Statistics:\n",
      "  Least Common Character(s): S, B, f, r, A, g with 1 occurrence(s)\n",
      "  Most Common Character(s): t with 17 occurrence(s)\n",
      "  Average Count: 5.00\n",
      "\n",
      "\n"
     ]
    }
   ],
   "source": [
    "summary_statistics(s1)\n",
    "summary_statistics(s2)"
   ]
  }
 ],
 "metadata": {
  "kernelspec": {
   "display_name": "Python 3 (ipykernel)",
   "language": "python",
   "name": "python3"
  },
  "language_info": {
   "codemirror_mode": {
    "name": "ipython",
    "version": 3
   },
   "file_extension": ".py",
   "mimetype": "text/x-python",
   "name": "python",
   "nbconvert_exporter": "python",
   "pygments_lexer": "ipython3",
   "version": "3.11.6"
  }
 },
 "nbformat": 4,
 "nbformat_minor": 4
}
