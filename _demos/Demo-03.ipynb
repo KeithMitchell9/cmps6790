{
 "cells": [
  {
   "cell_type": "markdown",
   "metadata": {
    "id": "ihgPK7LWrOG8"
   },
   "source": [
    "# Demo 03: Summary Stats and Graphs\n",
    "\n",
    "In this demo we'll go over how to do basic summary stats in Pandas. This will help us do more Exploratory Data Analysis (EDA) on our data"
   ]
  },
  {
   "cell_type": "code",
   "execution_count": null,
   "metadata": {},
   "outputs": [],
   "source": [
    "# COLAB Code Only!\n",
    "# clone the course repository, change to right directory, and import libraries.\n",
    "%cd /content\n",
    "!git clone https://github.com/nmattei/cmps6790.git\n",
    "%cd /content/cmps6790/_demos"
   ]
  },
  {
   "cell_type": "code",
   "execution_count": null,
   "metadata": {
    "colab": {
     "base_uri": "https://localhost:8080/"
    },
    "executionInfo": {
     "elapsed": 7432,
     "status": "ok",
     "timestamp": 1691183152002,
     "user": {
      "displayName": "Aron C",
      "userId": "07834910496055545653"
     },
     "user_tz": 300
    },
    "id": "WdlGyrgPlV4Q",
    "outputId": "b3c27e3c-3df2-45a1-f085-a11464b631a4"
   },
   "outputs": [],
   "source": [
    "import pandas as pd\n",
    "import numpy as np\n",
    "import matplotlib.pyplot as plt\n",
    "import seaborn as sns\n",
    "plt.style.use('fivethirtyeight')\n",
    "# Make the fonts a little bigger in our graphs.\n",
    "font = {'size'   : 20}\n",
    "plt.rc('font', **font)\n",
    "plt.rcParams['mathtext.fontset'] = 'cm'\n",
    "plt.rcParams['pdf.fonttype'] = 42"
   ]
  },
  {
   "cell_type": "markdown",
   "metadata": {
    "id": "EQGlYUjylUV0"
   },
   "source": [
    "The cell below loads up a few libraries and does some initialization.  In this notebook we'll do a few basic data manipulations and see the Pandas formatting for the first time and make some simple graphs.\n"
   ]
  },
  {
   "cell_type": "markdown",
   "metadata": {
    "id": "06EqHCQElUV5"
   },
   "source": [
    "## Working with some real data and Pandas!\n",
    "\n",
    "Opening and reading CSV files is very easy with Pandas [Read CSV Documentation](https://pandas.pydata.org/pandas-docs/stable/reference/api/pandas.read_csv.html)\n",
    "\n",
    "In general the [Pandas Documentation](https://pandas.pydata.org/docs/) is very good and you should spend some time getting to know it. You can also use the cheatsheets that we have posted on the [course webpage](https://nmattei.github.io/cmps3160/).\n",
    "\n",
    "Last class we only worked with the salaries dataset, this time let's work with some more data including stats!"
   ]
  },
  {
   "cell_type": "code",
   "execution_count": null,
   "metadata": {
    "colab": {
     "base_uri": "https://localhost:8080/",
     "height": 235
    },
    "executionInfo": {
     "elapsed": 247,
     "status": "ok",
     "timestamp": 1691183152228,
     "user": {
      "displayName": "Aron C",
      "userId": "07834910496055545653"
     },
     "user_tz": 300
    },
    "id": "RbTTqwVnlUV6",
    "outputId": "02470a55-ce00-4956-8061-2d1b3663b945"
   },
   "outputs": [],
   "source": [
    "# Open the NBA Salaries file.\n",
    "\n",
    "df_nba = pd.read_csv(\"./data/nba_stats.csv\")\n",
    "df_nba.head()"
   ]
  },
  {
   "cell_type": "markdown",
   "metadata": {
    "id": "ctiEqge3sytQ"
   },
   "source": [
    "This dataset has so much to look at! For example.. we can see what the league average salary in a given year is"
   ]
  },
  {
   "cell_type": "code",
   "execution_count": null,
   "metadata": {
    "colab": {
     "base_uri": "https://localhost:8080/"
    },
    "executionInfo": {
     "elapsed": 227,
     "status": "ok",
     "timestamp": 1691183152451,
     "user": {
      "displayName": "Aron C",
      "userId": "07834910496055545653"
     },
     "user_tz": 300
    },
    "id": "xgNShWrRlUV6",
    "outputId": "c43794f6-9e22-4636-d1f7-0f20cf0e4b4d"
   },
   "outputs": [],
   "source": [
    "# Display gives us a basic table.  Note that we can index and slice this in many different ways.\n",
    "df_nba[(df_nba[\"Season\"] == 1998)][\"Salary\"]"
   ]
  },
  {
   "cell_type": "code",
   "execution_count": null,
   "metadata": {
    "colab": {
     "base_uri": "https://localhost:8080/"
    },
    "executionInfo": {
     "elapsed": 15,
     "status": "ok",
     "timestamp": 1691183152451,
     "user": {
      "displayName": "Aron C",
      "userId": "07834910496055545653"
     },
     "user_tz": 300
    },
    "id": "QEXzRTbynH9f",
    "outputId": "2eb566c7-0edb-40d2-861e-255469898a0c"
   },
   "outputs": [],
   "source": [
    "# What is the type of the above? What do we want?\n",
    "type(df_nba[(df_nba[\"Season\"] == 1998)][\"Salary\"])"
   ]
  },
  {
   "cell_type": "code",
   "execution_count": null,
   "metadata": {
    "colab": {
     "base_uri": "https://localhost:8080/"
    },
    "executionInfo": {
     "elapsed": 12,
     "status": "ok",
     "timestamp": 1691183152452,
     "user": {
      "displayName": "Aron C",
      "userId": "07834910496055545653"
     },
     "user_tz": 300
    },
    "id": "XSA7jIeN0t44",
    "outputId": "8e299f01-70ae-4212-8821-eebcc8c0dcca"
   },
   "outputs": [],
   "source": [
    "# What if we want the mean?\n",
    "df_nba[(df_nba[\"Season\"] == 1998)][\"Salary\"].mean()"
   ]
  },
  {
   "cell_type": "code",
   "execution_count": null,
   "metadata": {
    "colab": {
     "base_uri": "https://localhost:8080/"
    },
    "executionInfo": {
     "elapsed": 10,
     "status": "ok",
     "timestamp": 1691183152452,
     "user": {
      "displayName": "Aron C",
      "userId": "07834910496055545653"
     },
     "user_tz": 300
    },
    "id": "o1GiQYOi0yMo",
    "outputId": "b0364c50-3ba4-404b-f685-6ad5c6cf7467"
   },
   "outputs": [],
   "source": [
    "# Pandas has support for lots of functions, use the autocomplete to see\n",
    "df_nba[(df_nba[\"Season\"] == 1998)][\"Salary\"].describe()"
   ]
  },
  {
   "cell_type": "code",
   "execution_count": null,
   "metadata": {
    "colab": {
     "base_uri": "https://localhost:8080/"
    },
    "executionInfo": {
     "elapsed": 191,
     "status": "ok",
     "timestamp": 1691183152637,
     "user": {
      "displayName": "Aron C",
      "userId": "07834910496055545653"
     },
     "user_tz": 300
    },
    "id": "2V-nAEoU1J-u",
    "outputId": "b5be983a-6d98-4ae2-c850-cba7c7b28b4b"
   },
   "outputs": [],
   "source": [
    "# Careful, Pandas will let you do things maybe you shouldn't some times...\n",
    "df_nba[(df_nba[\"Season\"] == 1998)].mean()"
   ]
  },
  {
   "cell_type": "code",
   "execution_count": null,
   "metadata": {
    "colab": {
     "base_uri": "https://localhost:8080/",
     "height": 423
    },
    "executionInfo": {
     "elapsed": 12,
     "status": "ok",
     "timestamp": 1691183152637,
     "user": {
      "displayName": "Aron C",
      "userId": "07834910496055545653"
     },
     "user_tz": 300
    },
    "id": "0Z9uHmXiqzSr",
    "outputId": "f39b2a74-7c8f-4809-b22e-61f17bf9b5f0"
   },
   "outputs": [],
   "source": [
    "# We can also see just some stats if we want to, check the average rebounds and\n",
    "# salary for 35 year olds.\n",
    "\n",
    "df_nba[(df_nba[\"Age\"] == 35)][[\"Name\", \"TRB\",\"ORB\",\"DRB\"]]"
   ]
  },
  {
   "cell_type": "code",
   "execution_count": null,
   "metadata": {
    "colab": {
     "base_uri": "https://localhost:8080/"
    },
    "executionInfo": {
     "elapsed": 11,
     "status": "ok",
     "timestamp": 1691183152638,
     "user": {
      "displayName": "Aron C",
      "userId": "07834910496055545653"
     },
     "user_tz": 300
    },
    "id": "G-n_K7Bi1jjS",
    "outputId": "49eb19b5-3fe2-4da2-d7aa-8ae0fa657b10"
   },
   "outputs": [],
   "source": [
    "df_nba[(df_nba[\"Age\"] == 35)][[\"TRB\",\"ORB\",\"DRB\"]].mean()"
   ]
  },
  {
   "cell_type": "code",
   "execution_count": null,
   "metadata": {
    "colab": {
     "base_uri": "https://localhost:8080/",
     "height": 476
    },
    "executionInfo": {
     "elapsed": 797,
     "status": "ok",
     "timestamp": 1691183153429,
     "user": {
      "displayName": "Aron C",
      "userId": "07834910496055545653"
     },
     "user_tz": 300
    },
    "id": "_z-KlGe41yLd",
    "outputId": "f083c174-4299-4ae8-f07c-0198d9c621b9"
   },
   "outputs": [],
   "source": [
    "# We can also make fun histograms\n",
    "df_nba['Age'].hist()"
   ]
  },
  {
   "cell_type": "code",
   "execution_count": null,
   "metadata": {
    "colab": {
     "base_uri": "https://localhost:8080/",
     "height": 502
    },
    "executionInfo": {
     "elapsed": 890,
     "status": "ok",
     "timestamp": 1691183154315,
     "user": {
      "displayName": "Aron C",
      "userId": "07834910496055545653"
     },
     "user_tz": 300
    },
    "id": "P4tPqwDR3n1u",
    "outputId": "c0fe3a73-b837-4b61-c7ee-ff8dbd94a631"
   },
   "outputs": [],
   "source": [
    "# But we can slice for Season.. sometimes it's good to have boxplots per year.\n",
    "df_nba[(df_nba[\"Season\"] == 1998)].boxplot(column=[\"Age\",\"Salary\"], showmeans=True)"
   ]
  },
  {
   "cell_type": "code",
   "execution_count": null,
   "metadata": {
    "colab": {
     "base_uri": "https://localhost:8080/",
     "height": 479
    },
    "executionInfo": {
     "elapsed": 725,
     "status": "ok",
     "timestamp": 1691183155037,
     "user": {
      "displayName": "Aron C",
      "userId": "07834910496055545653"
     },
     "user_tz": 300
    },
    "id": "lAPBacAN39Dh",
    "outputId": "35170574-d649-42d6-e116-210f52eaddb1"
   },
   "outputs": [],
   "source": [
    "# These are on very different scales, we'll come back to this!\n",
    "\n",
    "df_nba[(df_nba[\"Season\"] == 1998)].boxplot(column=[\"ORB\",\"DRB\"], showmeans=True)"
   ]
  },
  {
   "cell_type": "code",
   "execution_count": null,
   "metadata": {
    "colab": {
     "base_uri": "https://localhost:8080/",
     "height": 526
    },
    "executionInfo": {
     "elapsed": 2562,
     "status": "ok",
     "timestamp": 1691183157595,
     "user": {
      "displayName": "Aron C",
      "userId": "07834910496055545653"
     },
     "user_tz": 300
    },
    "id": "FV0SZ57G4D8K",
    "outputId": "1b01bc40-bb04-4610-c77f-1d649a8c172a"
   },
   "outputs": [],
   "source": [
    "# Very fancy.. though apparently there is a bug in matplotlib? https://github.com/matplotlib/matplotlib/issues/16353\n",
    "df_nba[[\"Season\",\"Salary\"]].boxplot(column=\"Salary\", by=\"Season\", showmeans=True)"
   ]
  },
  {
   "cell_type": "code",
   "execution_count": null,
   "metadata": {
    "executionInfo": {
     "elapsed": 351,
     "status": "ok",
     "timestamp": 1691183157942,
     "user": {
      "displayName": "Aron C",
      "userId": "07834910496055545653"
     },
     "user_tz": 300
    },
    "id": "lYeK6Gi0PWSy"
   },
   "outputs": [],
   "source": [
    "# how can we make this prettier?\n",
    "df_nba.boxplot?"
   ]
  },
  {
   "cell_type": "code",
   "execution_count": null,
   "metadata": {
    "colab": {
     "base_uri": "https://localhost:8080/",
     "height": 1000
    },
    "executionInfo": {
     "elapsed": 2724,
     "status": "ok",
     "timestamp": 1691183160665,
     "user": {
      "displayName": "Aron C",
      "userId": "07834910496055545653"
     },
     "user_tz": 300
    },
    "id": "KTEdcf6MNBiN",
    "outputId": "0e1c2539-7136-4717-df21-8e5aa006d9a3"
   },
   "outputs": [],
   "source": [
    "df_nba[[\"Season\",\"Salary\"]].dropna().boxplot(column=\"Salary\", by=\"Season\", figsize=(20,9), showmeans=True)\n",
    "plt.xticks(rotation=90)"
   ]
  },
  {
   "cell_type": "code",
   "execution_count": null,
   "metadata": {
    "colab": {
     "base_uri": "https://localhost:8080/"
    },
    "executionInfo": {
     "elapsed": 13,
     "status": "ok",
     "timestamp": 1691183160666,
     "user": {
      "displayName": "Aron C",
      "userId": "07834910496055545653"
     },
     "user_tz": 300
    },
    "id": "exgZ7LysSilR",
    "outputId": "79e29cfc-bf29-403c-b658-4b6c244c8b12"
   },
   "outputs": [],
   "source": [
    "salary_1995 = df_nba[df_nba['Season']==1995]['Salary']\n",
    "salary_1996 = df_nba[df_nba['Season']==1996]['Salary']\n",
    "print('average salary in 1995=%.2f and in 1996=%.2f, a difference of %.2f' % (\n",
    "                                                      salary_1995.mean(),\n",
    "                                                      salary_1996.mean(),\n",
    "                                                      salary_1996.mean()-salary_1995.mean()))"
   ]
  },
  {
   "cell_type": "code",
   "execution_count": null,
   "metadata": {
    "colab": {
     "base_uri": "https://localhost:8080/"
    },
    "executionInfo": {
     "elapsed": 181,
     "status": "ok",
     "timestamp": 1691183160838,
     "user": {
      "displayName": "Aron C",
      "userId": "07834910496055545653"
     },
     "user_tz": 300
    },
    "id": "E4j__I1TsJRh",
    "outputId": "8c0239ae-4467-485e-a23f-89b8ec00004b"
   },
   "outputs": [],
   "source": [
    "def f2c(f):\n",
    "  # Format float value as currency for pretty printing.\n",
    "  return '${0:,.2f}'.format(f)\n",
    "\n",
    "print('average salary in 1995=%s and in 1996=%s, a difference of %s' % (f2c(salary_1995.mean()),\n",
    "                                                                        f2c(salary_1996.mean()),\n",
    "                                                                        f2c(salary_1996.mean()-salary_1995.mean())))"
   ]
  },
  {
   "cell_type": "code",
   "execution_count": null,
   "metadata": {
    "colab": {
     "base_uri": "https://localhost:8080/"
    },
    "executionInfo": {
     "elapsed": 5,
     "status": "ok",
     "timestamp": 1691183160839,
     "user": {
      "displayName": "Aron C",
      "userId": "07834910496055545653"
     },
     "user_tz": 300
    },
    "id": "WcsoCn7wpnK7",
    "outputId": "88d9f457-c402-45d2-bda7-06eed919e162"
   },
   "outputs": [],
   "source": [
    "# let's repeat using the median and see the difference...\n",
    "print('average salary in 1995=%s and in 1996=%s, a difference of %s' % (f2c(salary_1995.median()),\n",
    "                                                                        f2c(salary_1996.median()),\n",
    "                                                                        f2c(salary_1996.median()-salary_1995.median())))"
   ]
  },
  {
   "cell_type": "markdown",
   "metadata": {
    "id": "4Dy_1zpquJxd"
   },
   "source": [
    "<br><br><br>\n",
    "\n",
    "Means and medians are handy for politicians...\n",
    "\n",
    "<br>\n",
    "\n",
    "**\"The average American family will get a \\$4,000 tax cut\"**\n",
    "[source](https://americansfortaxfairness.org/promise-will-middle-class-tax-cut/)\n",
    "\n",
    "<img width=800 src=\"https://americansfortaxfairness.org/wp-content/uploads/P2F5-3.png\">"
   ]
  },
  {
   "cell_type": "markdown",
   "metadata": {
    "id": "3EDpIsGby9LG"
   },
   "source": [
    "<br><br><br>\n",
    "\n",
    "### A mathemetician, engineer, and accountant are interviewing for a job...\n",
    "\n",
    "First question: What is 2+2?\n",
    "\n",
    "**Engineer:** pulls out a slide rule, shuffles it back and forth, and finally announces, “It lies between 3.98 and 4.02”.\n",
    "\n",
    "**Mathemetician:** “In two hours I can demonstrate it equals 4 with the following short proof.”\n",
    "\n",
    "**Accountant:** looks at the business owner, then gets out of his chair, checks to see if anyone is listening at the door and pulls the drapes. Then he returns to the business owner, leans across the desk and says in a low voice, “What would you like it to be?”"
   ]
  }
 ],
 "metadata": {
  "colab": {
   "provenance": []
  },
  "kernelspec": {
   "display_name": "Python 3 (ipykernel)",
   "language": "python",
   "name": "python3"
  },
  "language_info": {
   "codemirror_mode": {
    "name": "ipython",
    "version": 3
   },
   "file_extension": ".py",
   "mimetype": "text/x-python",
   "name": "python",
   "nbconvert_exporter": "python",
   "pygments_lexer": "ipython3",
   "version": "3.11.5"
  },
  "vscode": {
   "interpreter": {
    "hash": "aee8b7b246df8f9039afb4144a1f6fd8d2ca17a180786b69acc140d282b71a49"
   }
  }
 },
 "nbformat": 4,
 "nbformat_minor": 4
}
