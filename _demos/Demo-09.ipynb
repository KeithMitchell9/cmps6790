{
 "cells": [
  {
   "cell_type": "markdown",
   "metadata": {
    "id": "L7UIBar3R5jz"
   },
   "source": [
    "# Demo 09 - Transforming and Comparing Data\n",
    "\n",
    "In this notebook we do a few things with the [NBA Salary Dataset](https://github.com/joshrosson/NBASalaryPredictions) to illustrate working on relationships between variables as well as transforming a few of those variables using the standard methods in Pandas.\n"
   ]
  },
  {
   "cell_type": "code",
   "execution_count": null,
   "metadata": {},
   "outputs": [],
   "source": [
    "## COLAB cell Only!\n",
    "# clone the course repository, change to right directory, and import libraries.\n",
    "%cd /content\n",
    "!git clone https://github.com/nmattei/cmps6790.git\n",
    "%cd /content/cmps6790/_demos"
   ]
  },
  {
   "cell_type": "code",
   "execution_count": null,
   "metadata": {
    "colab": {
     "base_uri": "https://localhost:8080/"
    },
    "executionInfo": {
     "elapsed": 9187,
     "status": "ok",
     "timestamp": 1691183819927,
     "user": {
      "displayName": "Aron C",
      "userId": "07834910496055545653"
     },
     "user_tz": 300
    },
    "id": "-Lp1KOamR5j4",
    "outputId": "7f093a1d-3b8c-4fd6-a3b6-72e6ad4cb830"
   },
   "outputs": [],
   "source": [
    "import pandas as pd\n",
    "import numpy as np\n",
    "import matplotlib.pyplot as plt\n",
    "import seaborn as sns\n",
    "plt.style.use('fivethirtyeight')\n",
    "# Make the fonts a little bigger in our graphs.\n",
    "font = {'size'   : 20}\n",
    "plt.rc('font', **font)\n",
    "plt.rcParams['mathtext.fontset'] = 'cm'\n",
    "plt.rcParams['pdf.fonttype'] = 42\n",
    "# Supress scientific notation\n",
    "pd.set_option('display.float_format', lambda x: '%.2f' % x)"
   ]
  },
  {
   "cell_type": "markdown",
   "metadata": {
    "id": "3sjsk2RgR5j8"
   },
   "source": [
    "## Loading the Data and Checking Skew\n",
    "\n",
    "First up we need to open up this data and get it loaded. You'll see there are lots of different stats in different columns."
   ]
  },
  {
   "cell_type": "code",
   "execution_count": null,
   "metadata": {
    "colab": {
     "base_uri": "https://localhost:8080/",
     "height": 949
    },
    "executionInfo": {
     "elapsed": 13,
     "status": "ok",
     "timestamp": 1691183819928,
     "user": {
      "displayName": "Aron C",
      "userId": "07834910496055545653"
     },
     "user_tz": 300
    },
    "id": "8YLfMCQFR5j8",
    "outputId": "ecbedf74-6565-48b6-f7d8-49b2bea54597"
   },
   "outputs": [],
   "source": [
    "# Load the data\n",
    "# Data from here: https://github.com/joshrosson/NBASalaryPredictions\n",
    "df_nba = pd.read_csv(\"./data/nba_stats.csv\")\n",
    "display(df_nba.head(10))\n",
    "\n",
    "# Always double check your Dtypes\n",
    "df_nba.dtypes"
   ]
  },
  {
   "cell_type": "code",
   "execution_count": null,
   "metadata": {
    "colab": {
     "base_uri": "https://localhost:8080/",
     "height": 362
    },
    "executionInfo": {
     "elapsed": 10,
     "status": "ok",
     "timestamp": 1691183819929,
     "user": {
      "displayName": "Aron C",
      "userId": "07834910496055545653"
     },
     "user_tz": 300
    },
    "id": "vSUxnkUYR5j9",
    "outputId": "8f4b00a6-2850-47c7-8c7d-74ef1319b0bd"
   },
   "outputs": [],
   "source": [
    "# There's a lot here, let's work only with the 2017 data since that is the most recent\n",
    "df_2017nba = df_nba[(df_nba[\"Season\"] == 2017)][[\"Name\", \"Salary\", \"Pos\", \"Age\", \"MP\", \"PTS\",\"TRB\", \"AST\"]]\n",
    "df_2017nba.head(10)"
   ]
  },
  {
   "cell_type": "markdown",
   "metadata": {
    "id": "qMndz4npR5j-"
   },
   "source": [
    "The First thing we might want to do (and we've seen before) is just applying a function to a column, or even making a new column as the output of such a function. Let's make a column that's the average of the counting stats (Points, Rebounds, and Assists) for each player."
   ]
  },
  {
   "cell_type": "code",
   "execution_count": null,
   "metadata": {
    "colab": {
     "base_uri": "https://localhost:8080/"
    },
    "executionInfo": {
     "elapsed": 18,
     "status": "ok",
     "timestamp": 1691183820842,
     "user": {
      "displayName": "Aron C",
      "userId": "07834910496055545653"
     },
     "user_tz": 300
    },
    "id": "32QQ0CSnR5j_",
    "outputId": "8e16f6bd-b4e3-44df-ac84-105e77a466a4"
   },
   "outputs": [],
   "source": [
    "(df_2017nba[\"PTS\"] + df_2017nba[\"TRB\"] + df_2017nba[\"AST\"]) / 3.0"
   ]
  },
  {
   "cell_type": "code",
   "execution_count": null,
   "metadata": {
    "colab": {
     "base_uri": "https://localhost:8080/",
     "height": 423
    },
    "executionInfo": {
     "elapsed": 15,
     "status": "ok",
     "timestamp": 1691183820843,
     "user": {
      "displayName": "Aron C",
      "userId": "07834910496055545653"
     },
     "user_tz": 300
    },
    "id": "xbgIDtn1R5kA",
    "outputId": "cf94db2d-0013-4555-acc9-0b6505e89244"
   },
   "outputs": [],
   "source": [
    "# Tricky, is this is error? Why not?\n",
    "df_2017nba[\"AvgCount\"] = (df_2017nba[\"PTS\"] + df_2017nba[\"TRB\"] + df_2017nba[\"AST\"]) / 3.0\n",
    "df_2017nba"
   ]
  },
  {
   "cell_type": "markdown",
   "metadata": {
    "id": "VScQ6SvLR5kB"
   },
   "source": [
    "Let's turn back to the question of Skew... is the salary data skewed for these players?\n",
    "\n",
    "I'm going to use Seaborn functions, just for fun. First up is the [histplot](https://seaborn.pydata.org/generated/seaborn.histplot.html)"
   ]
  },
  {
   "cell_type": "code",
   "execution_count": null,
   "metadata": {
    "colab": {
     "base_uri": "https://localhost:8080/",
     "height": 515
    },
    "executionInfo": {
     "elapsed": 707,
     "status": "ok",
     "timestamp": 1691183821538,
     "user": {
      "displayName": "Aron C",
      "userId": "07834910496055545653"
     },
     "user_tz": 300
    },
    "id": "dAC3KC0JR5kC",
    "outputId": "afe77774-f811-4fd1-9288-a71322044eef"
   },
   "outputs": [],
   "source": [
    "# First, let's visualize the salary data.\n",
    "sns.histplot(df_2017nba[\"Salary\"]**0.1)"
   ]
  },
  {
   "cell_type": "markdown",
   "metadata": {
    "id": "zQiqfdwER5kC"
   },
   "source": [
    "Is this data skewed? If so, which direction is it skewed? What does this tell us about the Mean and the Median?"
   ]
  },
  {
   "cell_type": "code",
   "execution_count": null,
   "metadata": {
    "colab": {
     "base_uri": "https://localhost:8080/"
    },
    "executionInfo": {
     "elapsed": 8,
     "status": "ok",
     "timestamp": 1691183821539,
     "user": {
      "displayName": "Aron C",
      "userId": "07834910496055545653"
     },
     "user_tz": 300
    },
    "id": "F2rAJBGBR5kC",
    "outputId": "4b1599d1-25e2-4f2f-e3a1-ae2295ad8bb3"
   },
   "outputs": [],
   "source": [
    "df_2017nba[\"Salary\"].describe()"
   ]
  },
  {
   "cell_type": "markdown",
   "metadata": {
    "id": "un1l2sRLR5kD"
   },
   "source": [
    "We learned about the ladder of powers to transform the data.\n",
    "\n",
    "$$ x(\\lambda) = \\begin{cases} x^\\lambda & \\lambda > 0 \\\\  \\log(x) & \\lambda = 0 \\\\ -x^\\lambda & \\lambda < 0 \\end{cases} $$\n",
    "\n",
    "$\\lambda = 1$ corresponds to no transformation at all. As we decrease $\\lambda$, the distribution becomes more left-skewed (which is useful if the original distribution was right-skewed).\n",
    "\n",
    "But what do these functions look like?"
   ]
  },
  {
   "cell_type": "code",
   "execution_count": null,
   "metadata": {
    "colab": {
     "base_uri": "https://localhost:8080/",
     "height": 476
    },
    "executionInfo": {
     "elapsed": 1462,
     "status": "ok",
     "timestamp": 1691183822995,
     "user": {
      "displayName": "Aron C",
      "userId": "07834910496055545653"
     },
     "user_tz": 300
    },
    "id": "bYODhNa1R5kD",
    "outputId": "be0e7bfe-ca0c-4e56-83a6-2cc045f703a8"
   },
   "outputs": [],
   "source": [
    "# Transformation functions..\n",
    "x = np.linspace(0.0001, 200, 50)\n",
    "plt.plot(x**1.5, label=\"$x^{1.5}$\")\n",
    "plt.plot(x**1, label=\"f(x)\")\n",
    "plt.plot(np.log(x), label=\"log(x)\")\n",
    "plt.plot(-x**0.2, label=\"$x^{0.2}$\")\n",
    "plt.legend(loc='best')\n"
   ]
  },
  {
   "cell_type": "code",
   "execution_count": null,
   "metadata": {
    "colab": {
     "base_uri": "https://localhost:8080/",
     "height": 1000
    },
    "executionInfo": {
     "elapsed": 3012,
     "status": "ok",
     "timestamp": 1691183826001,
     "user": {
      "displayName": "Aron C",
      "userId": "07834910496055545653"
     },
     "user_tz": 300
    },
    "id": "CZ-PvfxsR5kD",
    "outputId": "98bb12fd-22bd-42c6-e14c-d913ba1f810f"
   },
   "outputs": [],
   "source": [
    "# Apply a few functions...\n",
    "sns.histplot(df_2017nba['Salary']**2)\n",
    "plt.show()\n",
    "\n",
    "sns.histplot(df_2017nba['Salary']**0.2)\n",
    "plt.show()\n",
    "\n",
    "sns.histplot(np.log(df_2017nba['Salary']))\n",
    "plt.show()\n"
   ]
  },
  {
   "cell_type": "markdown",
   "metadata": {
    "id": "GLA0rma1R5kE"
   },
   "source": [
    "## Why Do We Unskew our data?\n",
    "\n",
    "Having very skewed data can make it hard to see what relationships may exist in our data. But for now let's investigage the relationship between Salary and how many points players scores.\n"
   ]
  },
  {
   "cell_type": "code",
   "execution_count": null,
   "metadata": {
    "colab": {
     "base_uri": "https://localhost:8080/",
     "height": 547
    },
    "executionInfo": {
     "elapsed": 5795,
     "status": "ok",
     "timestamp": 1691183831790,
     "user": {
      "displayName": "Aron C",
      "userId": "07834910496055545653"
     },
     "user_tz": 300
    },
    "id": "WMB3oNXkR5kE",
    "outputId": "d930d5d2-24c1-48d6-efa7-79c3806adb7b"
   },
   "outputs": [],
   "source": [
    "# Uskewing the data can help us to see relationships.\n",
    "# Try 2, 1, 0.2\n",
    "\n",
    "# We'll use subplots to make this easier just for fun...\n",
    "fig, ax = plt.subplots(1, 4, figsize=(15,5))\n",
    "\n",
    "#df_nba.plot.scatter(x=(df_nba['Salary']**2.0), y=df_nba['PTS'], ax=ax[0])\n",
    "\n",
    "ax[0].scatter((df_2017nba['Salary']**2.0), df_2017nba['PTS'])\n",
    "ax[0].title.set_text(\"Squared Salary\")\n",
    "ax[1].scatter((df_2017nba['Salary']**1.0), df_2017nba['PTS'])\n",
    "ax[1].title.set_text(\"No Transform\")\n",
    "ax[2].scatter((np.log(df_2017nba['Salary'])), df_2017nba['PTS'])\n",
    "ax[2].title.set_text(\"Log Transform\")\n",
    "ax[3].scatter((df_2017nba['Salary']**0.2), df_2017nba['PTS'])\n",
    "ax[3].title.set_text(\"x^0.2 Salary\")"
   ]
  },
  {
   "cell_type": "markdown",
   "metadata": {
    "id": "XUIhxb0UR5kF"
   },
   "source": [
    "## Relationships and Transformations\n",
    "\n",
    "We've seen how it's possible to unskew our data, let's do a little more EDA to see what relationships might exist in our data.\n",
    "\n",
    "To do this we can first look at the correlations between the various columns."
   ]
  },
  {
   "cell_type": "code",
   "execution_count": null,
   "metadata": {
    "colab": {
     "base_uri": "https://localhost:8080/",
     "height": 362
    },
    "executionInfo": {
     "elapsed": 29,
     "status": "ok",
     "timestamp": 1691183831791,
     "user": {
      "displayName": "Aron C",
      "userId": "07834910496055545653"
     },
     "user_tz": 300
    },
    "id": "P-ug-HCTR5kF",
    "outputId": "45520145-1830-457a-b218-5d556a0dea37"
   },
   "outputs": [],
   "source": [
    "df_2017nba.head(10)"
   ]
  },
  {
   "cell_type": "code",
   "execution_count": null,
   "metadata": {
    "colab": {
     "base_uri": "https://localhost:8080/",
     "height": 324
    },
    "executionInfo": {
     "elapsed": 29,
     "status": "ok",
     "timestamp": 1691183831792,
     "user": {
      "displayName": "Aron C",
      "userId": "07834910496055545653"
     },
     "user_tz": 300
    },
    "id": "f2rZ05lIR5kF",
    "outputId": "fe23429e-83ee-4af4-8d5c-131b5e7bb559"
   },
   "outputs": [],
   "source": [
    "# Let's look at the correlations...\n",
    "df_2017nba[[\"Salary\", \"Age\", \"MP\", \"PTS\", \"TRB\", \"AST\"]].corr()"
   ]
  },
  {
   "cell_type": "code",
   "execution_count": null,
   "metadata": {
    "colab": {
     "base_uri": "https://localhost:8080/",
     "height": 559
    },
    "executionInfo": {
     "elapsed": 322,
     "status": "ok",
     "timestamp": 1691183832090,
     "user": {
      "displayName": "Aron C",
      "userId": "07834910496055545653"
     },
     "user_tz": 300
    },
    "id": "9xyK7gIWR5kF",
    "outputId": "a85a6770-41fa-4bd3-d73a-68d30e8d6998"
   },
   "outputs": [],
   "source": [
    "# Compute Some Cross Correlations...\n",
    "plt.figure(figsize = (16,5))\n",
    "sns.heatmap(df_2017nba[[\"Salary\", \"Age\", \"MP\", \"PTS\", \"TRB\", \"AST\"]].corr(), vmin=-1, vmax=1, cmap=sns.diverging_palette(20, 220, as_cmap=True))"
   ]
  },
  {
   "cell_type": "code",
   "execution_count": null,
   "metadata": {
    "colab": {
     "base_uri": "https://localhost:8080/",
     "height": 1000
    },
    "executionInfo": {
     "elapsed": 32577,
     "status": "ok",
     "timestamp": 1691183864663,
     "user": {
      "displayName": "Aron C",
      "userId": "07834910496055545653"
     },
     "user_tz": 300
    },
    "id": "0W3nBocxR5kG",
    "outputId": "55892c97-920b-4513-ddd6-ffb7762ab03b"
   },
   "outputs": [],
   "source": [
    "# Or do some really crazy Seaborn stuff.\n",
    "sns.pairplot(df_2017nba)"
   ]
  },
  {
   "cell_type": "markdown",
   "metadata": {
    "id": "GnlSpzyRR5kG"
   },
   "source": [
    "### Let's apply the three transforms: P-Score, Z-Score, Normalizing, and making a variable discrete.\n",
    "\n",
    "We'll do these in order with just a few examples. Let's start with percentile scoring with the Pandas [rank method](https://pandas.pydata.org/docs/reference/api/pandas.DataFrame.rank.html)."
   ]
  },
  {
   "cell_type": "code",
   "execution_count": null,
   "metadata": {
    "colab": {
     "base_uri": "https://localhost:8080/",
     "height": 423
    },
    "executionInfo": {
     "elapsed": 23,
     "status": "ok",
     "timestamp": 1691183864664,
     "user": {
      "displayName": "Aron C",
      "userId": "07834910496055545653"
     },
     "user_tz": 300
    },
    "id": "abVfLwatR5kG",
    "outputId": "7663b6e1-efb1-4aca-ac0c-ada9da7a6223"
   },
   "outputs": [],
   "source": [
    "# Turn Minutes played into percentile ranks.\n",
    "df_2017nba[\"MP Pct\"] = df_2017nba[[\"MP\"]].rank(pct=True)\n",
    "df_2017nba.sort_values(by=\"MP Pct\")"
   ]
  },
  {
   "cell_type": "markdown",
   "metadata": {
    "id": "bce3va3WR5kG"
   },
   "source": [
    "We could standardize the hard way (How?) but we can also do it the easy way using [Scipy Stats](https://docs.scipy.org/doc/scipy/reference/generated/scipy.stats.zscore.html)"
   ]
  },
  {
   "cell_type": "code",
   "execution_count": null,
   "metadata": {
    "colab": {
     "base_uri": "https://localhost:8080/",
     "height": 423
    },
    "executionInfo": {
     "elapsed": 301,
     "status": "ok",
     "timestamp": 1691183897233,
     "user": {
      "displayName": "Aron C",
      "userId": "07834910496055545653"
     },
     "user_tz": 300
    },
    "id": "VNodznddR5kH",
    "outputId": "41b0bb7d-b236-4f08-c167-e68ed07be065"
   },
   "outputs": [],
   "source": [
    "import scipy.stats as stats\n",
    "df_2017nba[\"Std MP\"] = stats.zscore(df_2017nba[\"MP\"])\n",
    "df_2017nba"
   ]
  },
  {
   "cell_type": "code",
   "execution_count": null,
   "metadata": {
    "executionInfo": {
     "elapsed": 3,
     "status": "ok",
     "timestamp": 1691183897519,
     "user": {
      "displayName": "Aron C",
      "userId": "07834910496055545653"
     },
     "user_tz": 300
    },
    "id": "70BvXHGXR5kH"
   },
   "outputs": [],
   "source": [
    "# Z-standardize and replot.\n",
    "df_2017nba['std_salary'] = (df_2017nba['Salary'] - df_2017nba['Salary'].mean()) / df_2017nba['Salary'].std()\n",
    "df_2017nba['std_pts'] = (df_2017nba['PTS'] - df_2017nba['PTS'].mean()) / df_2017nba['PTS'].std()"
   ]
  },
  {
   "cell_type": "code",
   "execution_count": null,
   "metadata": {
    "colab": {
     "base_uri": "https://localhost:8080/",
     "height": 978
    },
    "executionInfo": {
     "elapsed": 619,
     "status": "ok",
     "timestamp": 1691183898136,
     "user": {
      "displayName": "Aron C",
      "userId": "07834910496055545653"
     },
     "user_tz": 300
    },
    "id": "nUWwtdcHR5kH",
    "outputId": "48580052-805a-43a9-bba1-9a3f8a12d04d"
   },
   "outputs": [],
   "source": [
    "# Plot Salary v. Assists..\n",
    "# Can see a bit more distribution and units are interpretable!\n",
    "df_2017nba.plot.scatter(x='Salary', y='PTS')\n",
    "df_2017nba.plot.scatter(x='std_salary', y='std_pts')\n",
    "plt.show()"
   ]
  },
  {
   "cell_type": "markdown",
   "metadata": {
    "id": "ARFDJx9uR5kH"
   },
   "source": [
    "In the next demo we'll learn a bit more about these, why they're important, and what they can be used for. For now let's finish up with turning Position into a one-hot encoded variable."
   ]
  },
  {
   "cell_type": "code",
   "execution_count": null,
   "metadata": {
    "colab": {
     "base_uri": "https://localhost:8080/",
     "height": 423
    },
    "executionInfo": {
     "elapsed": 7,
     "status": "ok",
     "timestamp": 1691183898136,
     "user": {
      "displayName": "Aron C",
      "userId": "07834910496055545653"
     },
     "user_tz": 300
    },
    "id": "ldfBD19DR5kH",
    "outputId": "24e5c492-e500-49de-fc5b-8f371fa4e4b2"
   },
   "outputs": [],
   "source": [
    "# get dummies\n",
    "df_ml = pd.get_dummies(df_2017nba[['Pos', 'Salary', 'PTS', 'TRB']])\n",
    "df_ml"
   ]
  },
  {
   "cell_type": "code",
   "execution_count": null,
   "metadata": {},
   "outputs": [],
   "source": []
  }
 ],
 "metadata": {
  "colab": {
   "provenance": []
  },
  "kernelspec": {
   "display_name": "Python 3 (ipykernel)",
   "language": "python",
   "name": "python3"
  },
  "language_info": {
   "codemirror_mode": {
    "name": "ipython",
    "version": 3
   },
   "file_extension": ".py",
   "mimetype": "text/x-python",
   "name": "python",
   "nbconvert_exporter": "python",
   "pygments_lexer": "ipython3",
   "version": "3.11.5"
  },
  "vscode": {
   "interpreter": {
    "hash": "aee8b7b246df8f9039afb4144a1f6fd8d2ca17a180786b69acc140d282b71a49"
   }
  }
 },
 "nbformat": 4,
 "nbformat_minor": 4
}
